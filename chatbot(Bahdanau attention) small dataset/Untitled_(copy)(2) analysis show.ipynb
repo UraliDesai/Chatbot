{
 "cells": [
  {
   "cell_type": "markdown",
   "metadata": {
    "colab_type": "text",
    "id": "-IjaOq6M_fY3"
   },
   "source": [
    "__Flowchart__\n",
    "\n",
    "The following flowchart shows roughly how the neural network is constructed. It is split into two parts: An encoder which maps the source-text to a \"thought vector\" that summarizes the text's contents, which is then input to the second part of the neural network that decodes the \"thought vector\" to the response-text.\n",
    "\n",
    "The neural network cannot work directly on text so first we need to convert each word to an integer-token using a tokenizer. But the neural network cannot work on integers either, so we use a so-called Embedding Layer to convert each integer-token to a vector of floating-point values. The embedding is trained alongside the rest of the neural network to map words with similar semantic meaning to similar vectors of floating-point values.\n",
    "\n",
    "For example, consider the input text is \"how are you?\" and excpected response in text is \"I am fine thanks for asking me\". We first convert the entire data-set to integer-tokens so the text \"how are you?\" becomes [6, 1, 2]. Each of these integer-tokens is then mapped to an embedding-vector with e.g.8 elements, so the integer-token 6 could for example become [0.12, -0.56, ..., 1.19] and the integer-token 1 could for example become [0.39, 0.09, ..., -0.12]. These embedding-vectors can then be input to the Recurrent Neural Network, which has 3 GRU-layers.\n",
    "\n",
    "The last GRU-layer outputs a single vector - the \"thought vector\" that summarizes the contents of the source-text - which is then used as the initial state of the GRU-units in the decoder-part.\n",
    "\n",
    "The destination-text \"I am fine thanks for asking me\" is padded with special markers \"ssss\" and \"eeee\" to indicate its beginning and end, so the sequence of integer-tokens becomes [1,6,7,8,9,10,11,12,2]. During training, the decoder will be given this entire sequence as input and the desired output sequence is [6,7, 8, 9,10,11,12,2] which is the same sequence but time-shifted one step. We are trying to teach the decoder to map the \"thought vector\" and the start-token \"ssss\" (integer 1) to the next word \"i\" (integer 6), and then map the word \"i\" to the word \"am\" (integer 7), and so on.\n",
    "\n",
    "here talk abot formula.\n",
    "\n",
    "at encoder:\n",
    "    h(t)=tanh(wxh*x(t)+whh*h(t-1))\n",
    "    \n",
    "at decoder:\n",
    "    h(t)=tanh(whh*h(t-1)+wxh*y(t-1))\n",
    "    \n",
    "   y(t)=softmax(wy*h(t))\n",
    "    \n",
    "\n"
   ]
  },
  {
   "cell_type": "code",
   "execution_count": 1,
   "metadata": {
    "colab": {
     "base_uri": "https://localhost:8080/",
     "height": 1000
    },
    "colab_type": "code",
    "id": "_jzCy45qAF6U",
    "outputId": "f3c8977d-a88a-47be-c3bf-34bea9eacc75"
   },
   "outputs": [
    {
     "name": "stdout",
     "output_type": "stream",
     "text": [
      "Collecting tensorflow-gpu\n",
      "\u001b[?25l  Downloading https://files.pythonhosted.org/packages/0a/93/c7bca39b23aae45cd2e85ad3871c81eccc63b9c5276e926511e2e5b0879d/tensorflow_gpu-2.1.0-cp36-cp36m-manylinux2010_x86_64.whl (421.8MB)\n",
      "\u001b[K     |████████████████████████████████| 421.8MB 37kB/s \n",
      "\u001b[?25hRequirement already satisfied: keras-applications>=1.0.8 in /usr/local/lib/python3.6/dist-packages (from tensorflow-gpu) (1.0.8)\n",
      "Requirement already satisfied: six>=1.12.0 in /usr/local/lib/python3.6/dist-packages (from tensorflow-gpu) (1.12.0)\n",
      "Requirement already satisfied: absl-py>=0.7.0 in /usr/local/lib/python3.6/dist-packages (from tensorflow-gpu) (0.9.0)\n",
      "Collecting tensorflow-estimator<2.2.0,>=2.1.0rc0\n",
      "\u001b[?25l  Downloading https://files.pythonhosted.org/packages/18/90/b77c328a1304437ab1310b463e533fa7689f4bfc41549593056d812fab8e/tensorflow_estimator-2.1.0-py2.py3-none-any.whl (448kB)\n",
      "\u001b[K     |████████████████████████████████| 450kB 53.1MB/s \n",
      "\u001b[?25hRequirement already satisfied: wheel>=0.26; python_version >= \"3\" in /usr/local/lib/python3.6/dist-packages (from tensorflow-gpu) (0.34.2)\n",
      "Collecting tensorboard<2.2.0,>=2.1.0\n",
      "\u001b[?25l  Downloading https://files.pythonhosted.org/packages/40/23/53ffe290341cd0855d595b0a2e7485932f473798af173bbe3a584b99bb06/tensorboard-2.1.0-py3-none-any.whl (3.8MB)\n",
      "\u001b[K     |████████████████████████████████| 3.8MB 54.4MB/s \n",
      "\u001b[?25hRequirement already satisfied: gast==0.2.2 in /usr/local/lib/python3.6/dist-packages (from tensorflow-gpu) (0.2.2)\n",
      "Requirement already satisfied: protobuf>=3.8.0 in /usr/local/lib/python3.6/dist-packages (from tensorflow-gpu) (3.10.0)\n",
      "Requirement already satisfied: numpy<2.0,>=1.16.0 in /usr/local/lib/python3.6/dist-packages (from tensorflow-gpu) (1.17.5)\n",
      "Requirement already satisfied: google-pasta>=0.1.6 in /usr/local/lib/python3.6/dist-packages (from tensorflow-gpu) (0.1.8)\n",
      "Requirement already satisfied: astor>=0.6.0 in /usr/local/lib/python3.6/dist-packages (from tensorflow-gpu) (0.8.1)\n",
      "Requirement already satisfied: opt-einsum>=2.3.2 in /usr/local/lib/python3.6/dist-packages (from tensorflow-gpu) (3.1.0)\n",
      "Requirement already satisfied: keras-preprocessing>=1.1.0 in /usr/local/lib/python3.6/dist-packages (from tensorflow-gpu) (1.1.0)\n",
      "Requirement already satisfied: termcolor>=1.1.0 in /usr/local/lib/python3.6/dist-packages (from tensorflow-gpu) (1.1.0)\n",
      "Requirement already satisfied: scipy==1.4.1; python_version >= \"3\" in /usr/local/lib/python3.6/dist-packages (from tensorflow-gpu) (1.4.1)\n",
      "Requirement already satisfied: wrapt>=1.11.1 in /usr/local/lib/python3.6/dist-packages (from tensorflow-gpu) (1.11.2)\n",
      "Requirement already satisfied: grpcio>=1.8.6 in /usr/local/lib/python3.6/dist-packages (from tensorflow-gpu) (1.15.0)\n",
      "Requirement already satisfied: h5py in /usr/local/lib/python3.6/dist-packages (from keras-applications>=1.0.8->tensorflow-gpu) (2.8.0)\n",
      "Requirement already satisfied: google-auth-oauthlib<0.5,>=0.4.1 in /usr/local/lib/python3.6/dist-packages (from tensorboard<2.2.0,>=2.1.0->tensorflow-gpu) (0.4.1)\n",
      "Requirement already satisfied: requests<3,>=2.21.0 in /usr/local/lib/python3.6/dist-packages (from tensorboard<2.2.0,>=2.1.0->tensorflow-gpu) (2.21.0)\n",
      "Collecting google-auth<2,>=1.6.3\n",
      "\u001b[?25l  Downloading https://files.pythonhosted.org/packages/1c/6d/7aae38a9022f982cf8167775c7fc299f203417b698c27080ce09060bba07/google_auth-1.11.0-py2.py3-none-any.whl (76kB)\n",
      "\u001b[K     |████████████████████████████████| 81kB 14.5MB/s \n",
      "\u001b[?25hRequirement already satisfied: markdown>=2.6.8 in /usr/local/lib/python3.6/dist-packages (from tensorboard<2.2.0,>=2.1.0->tensorflow-gpu) (3.1.1)\n",
      "Requirement already satisfied: setuptools>=41.0.0 in /usr/local/lib/python3.6/dist-packages (from tensorboard<2.2.0,>=2.1.0->tensorflow-gpu) (45.1.0)\n",
      "Requirement already satisfied: werkzeug>=0.11.15 in /usr/local/lib/python3.6/dist-packages (from tensorboard<2.2.0,>=2.1.0->tensorflow-gpu) (0.16.1)\n",
      "Requirement already satisfied: requests-oauthlib>=0.7.0 in /usr/local/lib/python3.6/dist-packages (from google-auth-oauthlib<0.5,>=0.4.1->tensorboard<2.2.0,>=2.1.0->tensorflow-gpu) (1.3.0)\n",
      "Requirement already satisfied: certifi>=2017.4.17 in /usr/local/lib/python3.6/dist-packages (from requests<3,>=2.21.0->tensorboard<2.2.0,>=2.1.0->tensorflow-gpu) (2019.11.28)\n",
      "Requirement already satisfied: urllib3<1.25,>=1.21.1 in /usr/local/lib/python3.6/dist-packages (from requests<3,>=2.21.0->tensorboard<2.2.0,>=2.1.0->tensorflow-gpu) (1.24.3)\n",
      "Requirement already satisfied: idna<2.9,>=2.5 in /usr/local/lib/python3.6/dist-packages (from requests<3,>=2.21.0->tensorboard<2.2.0,>=2.1.0->tensorflow-gpu) (2.8)\n",
      "Requirement already satisfied: chardet<3.1.0,>=3.0.2 in /usr/local/lib/python3.6/dist-packages (from requests<3,>=2.21.0->tensorboard<2.2.0,>=2.1.0->tensorflow-gpu) (3.0.4)\n",
      "Requirement already satisfied: rsa<4.1,>=3.1.4 in /usr/local/lib/python3.6/dist-packages (from google-auth<2,>=1.6.3->tensorboard<2.2.0,>=2.1.0->tensorflow-gpu) (4.0)\n",
      "Requirement already satisfied: pyasn1-modules>=0.2.1 in /usr/local/lib/python3.6/dist-packages (from google-auth<2,>=1.6.3->tensorboard<2.2.0,>=2.1.0->tensorflow-gpu) (0.2.8)\n",
      "Requirement already satisfied: cachetools<5.0,>=2.0.0 in /usr/local/lib/python3.6/dist-packages (from google-auth<2,>=1.6.3->tensorboard<2.2.0,>=2.1.0->tensorflow-gpu) (4.0.0)\n",
      "Requirement already satisfied: oauthlib>=3.0.0 in /usr/local/lib/python3.6/dist-packages (from requests-oauthlib>=0.7.0->google-auth-oauthlib<0.5,>=0.4.1->tensorboard<2.2.0,>=2.1.0->tensorflow-gpu) (3.1.0)\n",
      "Requirement already satisfied: pyasn1>=0.1.3 in /usr/local/lib/python3.6/dist-packages (from rsa<4.1,>=3.1.4->google-auth<2,>=1.6.3->tensorboard<2.2.0,>=2.1.0->tensorflow-gpu) (0.4.8)\n",
      "\u001b[31mERROR: tensorflow 1.15.0 has requirement tensorboard<1.16.0,>=1.15.0, but you'll have tensorboard 2.1.0 which is incompatible.\u001b[0m\n",
      "\u001b[31mERROR: tensorflow 1.15.0 has requirement tensorflow-estimator==1.15.1, but you'll have tensorflow-estimator 2.1.0 which is incompatible.\u001b[0m\n",
      "\u001b[31mERROR: tensorboard 2.1.0 has requirement grpcio>=1.24.3, but you'll have grpcio 1.15.0 which is incompatible.\u001b[0m\n",
      "\u001b[31mERROR: google-colab 1.0.0 has requirement google-auth~=1.4.0, but you'll have google-auth 1.11.0 which is incompatible.\u001b[0m\n",
      "Installing collected packages: tensorflow-estimator, google-auth, tensorboard, tensorflow-gpu\n",
      "  Found existing installation: tensorflow-estimator 1.15.1\n",
      "    Uninstalling tensorflow-estimator-1.15.1:\n",
      "      Successfully uninstalled tensorflow-estimator-1.15.1\n",
      "  Found existing installation: google-auth 1.4.2\n",
      "    Uninstalling google-auth-1.4.2:\n",
      "      Successfully uninstalled google-auth-1.4.2\n",
      "  Found existing installation: tensorboard 1.15.0\n",
      "    Uninstalling tensorboard-1.15.0:\n",
      "      Successfully uninstalled tensorboard-1.15.0\n",
      "Successfully installed google-auth-1.11.0 tensorboard-2.1.0 tensorflow-estimator-2.1.0 tensorflow-gpu-2.1.0\n"
     ]
    },
    {
     "data": {
      "application/vnd.colab-display-data+json": {
       "pip_warning": {
        "packages": [
         "google"
        ]
       }
      }
     },
     "metadata": {
      "tags": []
     },
     "output_type": "display_data"
    }
   ],
   "source": [
    "!pip install tensorflow-gpu"
   ]
  },
  {
   "cell_type": "code",
   "execution_count": 1,
   "metadata": {
    "colab": {
     "base_uri": "https://localhost:8080/",
     "height": 100,
     "resources": {
      "http://localhost:8080/nbextensions/google.colab/files.js": {
       "data": "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",
       "headers": [
        [
         "content-type",
         "application/javascript"
        ]
       ],
       "ok": true,
       "status": 200,
       "status_text": "OK"
      }
     }
    },
    "colab_type": "code",
    "id": "Dg67eBkeAQcf",
    "outputId": "b3bdcd1c-a663-4bd2-8031-ca25cb84f67b"
   },
   "outputs": [
    {
     "data": {
      "text/html": [
       "\n",
       "     <input type=\"file\" id=\"files-1b4ce795-0b55-4282-a6dd-99b56c740cc2\" name=\"files[]\" multiple disabled />\n",
       "     <output id=\"result-1b4ce795-0b55-4282-a6dd-99b56c740cc2\">\n",
       "      Upload widget is only available when the cell has been executed in the\n",
       "      current browser session. Please rerun this cell to enable.\n",
       "      </output>\n",
       "      <script src=\"/nbextensions/google.colab/files.js\"></script> "
      ],
      "text/plain": [
       "<IPython.core.display.HTML object>"
      ]
     },
     "metadata": {
      "tags": []
     },
     "output_type": "display_data"
    },
    {
     "name": "stdout",
     "output_type": "stream",
     "text": [
      "Saving ch1.txt.csv to ch1.txt.csv\n",
      "User uploaded file \"ch1.txt.csv\" with length 1165028 bytes\n"
     ]
    }
   ],
   "source": [
    "from google.colab import files\n",
    "\n",
    "uploaded = files.upload()\n",
    "\n",
    "for fn in uploaded.keys():\n",
    "  print('User uploaded file \"{name}\" with length {length} bytes'.format(\n",
    "      name=fn, length=len(uploaded[fn])))"
   ]
  },
  {
   "cell_type": "code",
   "execution_count": 2,
   "metadata": {
    "colab": {
     "base_uri": "https://localhost:8080/",
     "height": 100,
     "resources": {
      "http://localhost:8080/nbextensions/google.colab/files.js": {
       "data": "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",
       "headers": [
        [
         "content-type",
         "application/javascript"
        ]
       ],
       "ok": true,
       "status": 200,
       "status_text": "OK"
      }
     }
    },
    "colab_type": "code",
    "id": "t0W4MHrXAQ0N",
    "outputId": "a7ad6244-9b1b-4f7a-8ee4-5104f5e994fa"
   },
   "outputs": [
    {
     "data": {
      "text/html": [
       "\n",
       "     <input type=\"file\" id=\"files-c46cf890-24b2-451d-909a-7782ccd8a96c\" name=\"files[]\" multiple disabled />\n",
       "     <output id=\"result-c46cf890-24b2-451d-909a-7782ccd8a96c\">\n",
       "      Upload widget is only available when the cell has been executed in the\n",
       "      current browser session. Please rerun this cell to enable.\n",
       "      </output>\n",
       "      <script src=\"/nbextensions/google.colab/files.js\"></script> "
      ],
      "text/plain": [
       "<IPython.core.display.HTML object>"
      ]
     },
     "metadata": {
      "tags": []
     },
     "output_type": "display_data"
    },
    {
     "name": "stdout",
     "output_type": "stream",
     "text": [
      "Saving data.py to data.py\n",
      "User uploaded file \"data.py\" with length 2048 bytes\n"
     ]
    }
   ],
   "source": [
    "from google.colab import files\n",
    "\n",
    "uploaded = files.upload()\n",
    "\n",
    "for fn in uploaded.keys():\n",
    "  print('User uploaded file \"{name}\" with length {length} bytes'.format(\n",
    "      name=fn, length=len(uploaded[fn])))"
   ]
  },
  {
   "cell_type": "code",
   "execution_count": 3,
   "metadata": {
    "colab": {
     "base_uri": "https://localhost:8080/",
     "height": 34
    },
    "colab_type": "code",
    "id": "CX4hFnH0_fY_",
    "outputId": "55d1abcd-9902-40aa-81e6-5bc1042c6f30"
   },
   "outputs": [
    {
     "data": {
      "image/png": "image/p1.png",
      "text/plain": [
       "<IPython.core.display.Image object>"
      ]
     },
     "execution_count": 3,
     "metadata": {
      "tags": []
     },
     "output_type": "execute_result"
    }
   ],
   "source": [
    "from IPython.display import Image\n",
    "Image('image/p1.png')"
   ]
  },
  {
   "cell_type": "code",
   "execution_count": 4,
   "metadata": {
    "colab": {
     "base_uri": "https://localhost:8080/",
     "height": 106
    },
    "colab_type": "code",
    "id": "0jWiV7SL_fZW",
    "outputId": "f4056bf7-b51c-46fd-a382-c6ca864b04b4"
   },
   "outputs": [
    {
     "name": "stdout",
     "output_type": "stream",
     "text": [
      "WARNING:tensorflow:From /usr/local/lib/python3.6/dist-packages/tensorflow_core/python/compat/v2_compat.py:88: disable_resource_variables (from tensorflow.python.ops.variable_scope) is deprecated and will be removed in a future version.\n",
      "Instructions for updating:\n",
      "non-resource variables are not supported in the long term\n"
     ]
    },
    {
     "name": "stderr",
     "output_type": "stream",
     "text": [
      "Using TensorFlow backend.\n"
     ]
    }
   ],
   "source": [
    "%matplotlib inline\n",
    "import matplotlib.pyplot as plt\n",
    "import tensorflow.compat.v1 as tf\n",
    "tf.disable_v2_behavior()\n",
    "#from hyperopt import Trials, STATUS_OK, tpe,hp\n",
    "#from hyperas import optim\n",
    "#from hyperas.distributions import choice, uniform\n",
    "import numpy as np\n",
    "from sklearn.model_selection import GridSearchCV\n",
    "from keras.wrappers.scikit_learn import KerasClassifier\n",
    "import math\n",
    "import os"
   ]
  },
  {
   "cell_type": "code",
   "execution_count": 0,
   "metadata": {
    "colab": {},
    "colab_type": "code",
    "id": "pjho1LAb_fZh"
   },
   "outputs": [],
   "source": [
    "from tensorflow.python.keras.models import Sequential\n",
    "from tensorflow.python.keras.models import Model\n",
    "from tensorflow.python.keras.layers import Input, Dense, GRU, Embedding,Concatenate,RepeatVector,Lambda,Activation\n",
    "from tensorflow.python.keras.optimizers import RMSprop\n",
    "from tensorflow.python.keras.preprocessing.text import Tokenizer\n",
    "from tensorflow.python.keras.preprocessing.sequence import pad_sequences"
   ]
  },
  {
   "cell_type": "code",
   "execution_count": 6,
   "metadata": {
    "colab": {
     "base_uri": "https://localhost:8080/",
     "height": 34
    },
    "colab_type": "code",
    "id": "3RcpdB8R_fZs",
    "outputId": "af7a37ec-8ef6-4c25-9bbe-65d345dfb5c4"
   },
   "outputs": [
    {
     "data": {
      "text/plain": [
       "'2.1.0'"
      ]
     },
     "execution_count": 6,
     "metadata": {
      "tags": []
     },
     "output_type": "execute_result"
    }
   ],
   "source": [
    "tf.__version__"
   ]
  },
  {
   "cell_type": "code",
   "execution_count": 7,
   "metadata": {
    "colab": {
     "base_uri": "https://localhost:8080/",
     "height": 34
    },
    "colab_type": "code",
    "id": "nvAjF9XN_fZ4",
    "outputId": "097c3499-a9c2-4a19-951d-ac474e8e8984"
   },
   "outputs": [
    {
     "data": {
      "text/plain": [
       "'2.2.4-tf'"
      ]
     },
     "execution_count": 7,
     "metadata": {
      "tags": []
     },
     "output_type": "execute_result"
    }
   ],
   "source": [
    "tf.keras.__version__"
   ]
  },
  {
   "cell_type": "markdown",
   "metadata": {
    "colab_type": "text",
    "id": "tROlKzew_faD"
   },
   "source": [
    "__Load Data__"
   ]
  },
  {
   "cell_type": "code",
   "execution_count": 0,
   "metadata": {
    "colab": {},
    "colab_type": "code",
    "id": "BV7ONaZE_faG"
   },
   "outputs": [],
   "source": [
    "import data"
   ]
  },
  {
   "cell_type": "code",
   "execution_count": 0,
   "metadata": {
    "colab": {},
    "colab_type": "code",
    "id": "dgieanm5_faN"
   },
   "outputs": [],
   "source": [
    "#DATA.data_dir = \"data/custom\"\n"
   ]
  },
  {
   "cell_type": "code",
   "execution_count": 0,
   "metadata": {
    "colab": {},
    "colab_type": "code",
    "id": "xurx-Sqs_faX"
   },
   "outputs": [],
   "source": [
    "mark_start = 'ssss '\n",
    "mark_end = ' eeee'\n",
    "b=\"\""
   ]
  },
  {
   "cell_type": "markdown",
   "metadata": {
    "colab_type": "text",
    "id": "IfMx7R9Q_faf"
   },
   "source": [
    "__Load the texts for the input text.__"
   ]
  },
  {
   "cell_type": "code",
   "execution_count": 10,
   "metadata": {
    "colab": {
     "base_uri": "https://localhost:8080/",
     "height": 52
    },
    "colab_type": "code",
    "id": "343yeOP9_faj",
    "outputId": "03027551-e058-463c-cfe6-73a2d3819987"
   },
   "outputs": [
    {
     "name": "stdout",
     "output_type": "stream",
     "text": [
      "2363\n",
      "2363\n"
     ]
    }
   ],
   "source": [
    "data.load_data(string=b,robot=b,start=mark_start,end=mark_end)\n",
    "#len(data_src)\n",
    "#print(data_src1)"
   ]
  },
  {
   "cell_type": "markdown",
   "metadata": {
    "colab_type": "text",
    "id": "OcHVXd3W_fat"
   },
   "source": [
    "__Load the texts for the reponse text.__"
   ]
  },
  {
   "cell_type": "markdown",
   "metadata": {
    "colab_type": "text",
    "id": "KrqXBwWa_faw"
   },
   "source": [
    "__Example Data__\n",
    "\n",
    "The data is just a list of texts that is ordered so the input and response texts match. I can confirm that this example is an give accurate response .\n"
   ]
  },
  {
   "cell_type": "code",
   "execution_count": 0,
   "metadata": {
    "colab": {},
    "colab_type": "code",
    "id": "MJJi-KT5_fa0"
   },
   "outputs": [],
   "source": [
    "data_src3=data.input1(input1=True)"
   ]
  },
  {
   "cell_type": "code",
   "execution_count": 0,
   "metadata": {
    "colab": {},
    "colab_type": "code",
    "id": "KnJMjVFa_fa8"
   },
   "outputs": [],
   "source": [
    "data_dest1=data.output1(output1=True)"
   ]
  },
  {
   "cell_type": "code",
   "execution_count": 13,
   "metadata": {
    "colab": {
     "base_uri": "https://localhost:8080/",
     "height": 52
    },
    "colab_type": "code",
    "id": "sqbla5xw_fbG",
    "outputId": "afdefc71-5f7d-4e56-a047-593ae256818e"
   },
   "outputs": [
    {
     "name": "stdout",
     "output_type": "stream",
     "text": [
      "Is it essential to you? To help humans?\n",
      "ssss Yes, my goal is to be a company, and entertain eeee\n"
     ]
    }
   ],
   "source": [
    "idx=12\n",
    "print(data_src3[idx])\n",
    "print(data_dest1[idx])"
   ]
  },
  {
   "cell_type": "code",
   "execution_count": 0,
   "metadata": {
    "colab": {},
    "colab_type": "code",
    "id": "Lkx2amdF_fbO"
   },
   "outputs": [],
   "source": [
    "data.prepare_seq2seq_files(data_src3,data_dest1,TESTSET_SIZE =50)"
   ]
  },
  {
   "cell_type": "code",
   "execution_count": 15,
   "metadata": {
    "colab": {
     "base_uri": "https://localhost:8080/",
     "height": 34
    },
    "colab_type": "code",
    "id": "om__tqVJ_fbV",
    "outputId": "55dc4b3c-e748-424d-eaa2-8a0e7f27d107"
   },
   "outputs": [
    {
     "data": {
      "text/plain": [
       "2313"
      ]
     },
     "execution_count": 15,
     "metadata": {
      "tags": []
     },
     "output_type": "execute_result"
    }
   ],
   "source": [
    "data_src4=data.train_encoder()\n",
    "len(data_src4)"
   ]
  },
  {
   "cell_type": "code",
   "execution_count": 16,
   "metadata": {
    "colab": {
     "base_uri": "https://localhost:8080/",
     "height": 34
    },
    "colab_type": "code",
    "id": "BO5OvLuh_fbd",
    "outputId": "546f214d-8a3a-4ecd-a959-10776a082f5a"
   },
   "outputs": [
    {
     "data": {
      "text/plain": [
       "2313"
      ]
     },
     "execution_count": 16,
     "metadata": {
      "tags": []
     },
     "output_type": "execute_result"
    }
   ],
   "source": [
    "data_dest2=data.train_decoder()\n",
    "len(data_dest2)"
   ]
  },
  {
   "cell_type": "code",
   "execution_count": 17,
   "metadata": {
    "colab": {
     "base_uri": "https://localhost:8080/",
     "height": 34
    },
    "colab_type": "code",
    "id": "BvrvGu2W_fbi",
    "outputId": "6897ffb6-dfd0-4d7e-c409-84ea67b09569"
   },
   "outputs": [
    {
     "data": {
      "text/plain": [
       "50"
      ]
     },
     "execution_count": 17,
     "metadata": {
      "tags": []
     },
     "output_type": "execute_result"
    }
   ],
   "source": [
    "data_src5=data.test_encoder()\n",
    "len(data_src5)"
   ]
  },
  {
   "cell_type": "code",
   "execution_count": 18,
   "metadata": {
    "colab": {
     "base_uri": "https://localhost:8080/",
     "height": 34
    },
    "colab_type": "code",
    "id": "g0QA5c4T_fbr",
    "outputId": "67c43486-3bc1-4ad6-f434-821b7410d7d9"
   },
   "outputs": [
    {
     "data": {
      "text/plain": [
       "50"
      ]
     },
     "execution_count": 18,
     "metadata": {
      "tags": []
     },
     "output_type": "execute_result"
    }
   ],
   "source": [
    "data_dest3=data.test_decoder()\n",
    "len(data_dest3)"
   ]
  },
  {
   "cell_type": "markdown",
   "metadata": {
    "colab_type": "text",
    "id": "HSzh2l2d_fby"
   },
   "source": [
    "__Tokenizer__\n",
    "\n",
    "Neural Networks cannot work directly on text-data. We use a two-step process to convert text into numbers that can be used in a neural network. The first step is to convert text-words into so-called integer-tokens. The second step is to convert integer-tokens into vectors of floating-point numbers using a so-called embedding-layer.\n",
    "\n",
    "Set the maximum number of words in our vocabulary. This means that we will only use e.g. the 25 most frequent words in the data-set. We use the same number for both the input and response languages, but these could be different.\n"
   ]
  },
  {
   "cell_type": "code",
   "execution_count": 0,
   "metadata": {
    "colab": {},
    "colab_type": "code",
    "id": "EArNJBWx_fb0"
   },
   "outputs": [],
   "source": [
    "num_words =2000"
   ]
  },
  {
   "cell_type": "code",
   "execution_count": 0,
   "metadata": {
    "colab": {},
    "colab_type": "code",
    "id": "yl2A8GKV_fb6"
   },
   "outputs": [],
   "source": [
    "class TokenizerWrap(Tokenizer):\n",
    "    \"\"\"Wrap the Tokenizer-class from Keras with more functionality.\"\"\"\n",
    "    \n",
    "    def __init__(self, texts, padding,\n",
    "                 reverse=False, num_words=None):\n",
    "        \"\"\"\n",
    "        :param texts: List of strings. This is the data-set.\n",
    "        :param padding: Either 'post' or 'pre' padding.\n",
    "        :param reverse: Boolean whether to reverse token-lists.\n",
    "        :param num_words: Max number of words to use.\n",
    "        \"\"\"\n",
    "        \n",
    "        Tokenizer.__init__(self,num_words=num_words)\n",
    "                \n",
    "        # Create the vocabulary from the texts.\n",
    "        self.fit_on_texts(texts)\n",
    "        #print(self.fit_on_texts(texts))\n",
    "        #print(\"Mapping:\",self.word_index)   \n",
    "        #num_words=len(self.word_index)\n",
    "        #print(num_words)\n",
    "        print(\"length of word index:\",len(self.word_index))\n",
    "        \n",
    "        # Create inverse lookup from integer-tokens to words.\n",
    "        self.index_to_word = dict(zip(self.word_index.values(),\n",
    "                                      self.word_index.keys()))\n",
    "        #print(\"index:\",self.index_to_word)\n",
    "\n",
    "        # Convert all texts to lists of integer-tokens.\n",
    "        # Note that the sequences may have different lengths.\n",
    "        self.tokens = self.texts_to_sequences(texts)\n",
    "\n",
    "        self.num_tokens = [len(x) for x in self.tokens]\n",
    "\n",
    "        # Max number of tokens to use in all sequences.\n",
    "        # We will pad / truncate all sequences to this length.\n",
    "        self.max_tokens = np.mean(self.num_tokens) \\\n",
    "                          + 2 * np.std(self.num_tokens)\n",
    "        self.max_tokens = int(self.max_tokens)\n",
    "        print(\"Max tokens:\",self.max_tokens)\n",
    "        #self.max_tokens=20\n",
    "\n",
    "        # Pad / truncate all token-sequences to the given length.\n",
    "\n",
    "        pad='post'\n",
    "        self.tokens_padded = pad_sequences(self.tokens,\n",
    "                                           maxlen=self.max_tokens,\n",
    "                                            padding=pad,truncating=pad)\n",
    "\n",
    "    def token_to_word(self, token):\n",
    "        \"\"\"Lookup a single word from an integer-token.\"\"\"\n",
    "\n",
    "        word = \" \" if token == 0 else self.index_to_word[token]\n",
    "        return word \n",
    "\n",
    "    def tokens_to_string(self, tokens):\n",
    "        \"\"\"Convert a list of integer-tokens to a string.\"\"\"\n",
    "\n",
    "        # Create a list of the individual words.\n",
    "        words = [self.index_to_word[token]\n",
    "                 for token in tokens\n",
    "                 if token != 0]\n",
    "        \n",
    "        # Concatenate the words to a single string\n",
    "        # with space between all the words.\n",
    "        text = \" \".join(words)\n",
    "\n",
    "        return text\n",
    "    \n",
    "    def text_to_tokens(self, text,padding=False):\n",
    "        \"\"\"\n",
    "        Convert a single text-string to tokens with optional\n",
    "        reversal and padding.\n",
    "        \"\"\"\n",
    "\n",
    "        # Convert to tokens. Note that we assume there is only\n",
    "        # a single text-string so we wrap it in a list.\n",
    "        tokens = self.texts_to_sequences([text])\n",
    "        tokens = np.array(tokens)\n",
    "\n",
    "\n",
    "        if padding:\n",
    "            pad='post'\n",
    "            # Pad and truncate sequences to the given length.\n",
    "            tokens = pad_sequences(tokens,\n",
    "                                   maxlen=self.max_tokens,\n",
    "                                   padding=pad,\n",
    "                                   truncating=pad)\n",
    "\n",
    "        return tokens"
   ]
  },
  {
   "cell_type": "markdown",
   "metadata": {
    "colab_type": "text",
    "id": "-V8FsmrN_fcA"
   },
   "source": [
    "Now create a tokenizer for the input text. Note that we pad zeros at the ending ('post') of the sequences."
   ]
  },
  {
   "cell_type": "code",
   "execution_count": 21,
   "metadata": {
    "colab": {
     "base_uri": "https://localhost:8080/",
     "height": 52
    },
    "colab_type": "code",
    "id": "eNaDKibh_fcE",
    "outputId": "4c556de2-bd9c-49b6-fd9f-e9e053adaba3"
   },
   "outputs": [
    {
     "name": "stdout",
     "output_type": "stream",
     "text": [
      "length of word index: 4074\n",
      "Max tokens: 25\n"
     ]
    }
   ],
   "source": [
    "tokenizer_src = TokenizerWrap(texts=data_src4,\n",
    "                              padding='post',\n",
    "                              reverse=False,\n",
    "                              num_words=num_words)"
   ]
  },
  {
   "cell_type": "markdown",
   "metadata": {
    "colab_type": "text",
    "id": "vo4d4Sn2_fcL"
   },
   "source": [
    "Now create the tokenizer for the response text. We need a tokenizer for both the input and response because their vocabularies are different.Note that we pad zeros at the ending ('post') of the sequences."
   ]
  },
  {
   "cell_type": "code",
   "execution_count": 22,
   "metadata": {
    "colab": {
     "base_uri": "https://localhost:8080/",
     "height": 52
    },
    "colab_type": "code",
    "id": "A5h22NO-_fcN",
    "outputId": "9c9223e4-a968-45ed-a20a-64f433b18d9c"
   },
   "outputs": [
    {
     "name": "stdout",
     "output_type": "stream",
     "text": [
      "length of word index: 3495\n",
      "Max tokens: 24\n"
     ]
    }
   ],
   "source": [
    "tokenizer_dest = TokenizerWrap(texts=data_dest2,\n",
    "                               padding='post',\n",
    "                               reverse=False,\n",
    "                               num_words=num_words)"
   ]
  },
  {
   "cell_type": "code",
   "execution_count": 23,
   "metadata": {
    "colab": {
     "base_uri": "https://localhost:8080/",
     "height": 52
    },
    "colab_type": "code",
    "id": "wRneJpdS_fcW",
    "outputId": "e75e38a9-afeb-41a5-93bc-bbf9ac6af48d"
   },
   "outputs": [
    {
     "name": "stdout",
     "output_type": "stream",
     "text": [
      "length of word index: 249\n",
      "Max tokens: 28\n"
     ]
    }
   ],
   "source": [
    "tokenizer_src1 = TokenizerWrap(texts=data_src5,\n",
    "                              padding='post',\n",
    "                              reverse=False,\n",
    "                              num_words=num_words)"
   ]
  },
  {
   "cell_type": "code",
   "execution_count": 24,
   "metadata": {
    "colab": {
     "base_uri": "https://localhost:8080/",
     "height": 52
    },
    "colab_type": "code",
    "id": "QdoR_Xxq_fcb",
    "outputId": "ca0eb33a-d193-4361-ff04-d78f8f2e7c38"
   },
   "outputs": [
    {
     "name": "stdout",
     "output_type": "stream",
     "text": [
      "length of word index: 276\n",
      "Max tokens: 27\n"
     ]
    }
   ],
   "source": [
    "tokenizer_dest1 = TokenizerWrap(texts=data_dest3,\n",
    "                               padding='post',\n",
    "                               reverse=False,\n",
    "                               num_words=num_words)"
   ]
  },
  {
   "cell_type": "markdown",
   "metadata": {
    "colab_type": "text",
    "id": "MHdJ-UL2_fcg"
   },
   "source": [
    "Define variables for the padded token sequences. These are just 2-dimensional numpy arrays of integer-tokens.\n",
    "\n",
    "Note that the sequence-lengths are different for the input and response text.\n",
    "\n"
   ]
  },
  {
   "cell_type": "code",
   "execution_count": 25,
   "metadata": {
    "colab": {
     "base_uri": "https://localhost:8080/",
     "height": 86
    },
    "colab_type": "code",
    "id": "wsVY1PmK_fch",
    "outputId": "3dae4204-b7a8-4924-c352-6845b699d2eb"
   },
   "outputs": [
    {
     "name": "stdout",
     "output_type": "stream",
     "text": [
      "[ 26   6   1 121 217  60   7  78  28 204   0   0   0   0   0   0   0   0\n",
      "   0   0   0   0   0   0   0]\n",
      "[  1  29 124   7  52  24   3  22 118  15 112   8 555 309  53   4 182 101\n",
      "  22  25 205 190   2   0]\n"
     ]
    }
   ],
   "source": [
    "tokens_src = tokenizer_src.tokens_padded\n",
    "tokens_dest = tokenizer_dest.tokens_padded\n",
    "print(tokens_src[2])\n",
    "print(tokens_dest[2])"
   ]
  },
  {
   "cell_type": "code",
   "execution_count": 26,
   "metadata": {
    "colab": {
     "base_uri": "https://localhost:8080/",
     "height": 86
    },
    "colab_type": "code",
    "id": "4BC6AQDR_fcn",
    "outputId": "99a2b8f4-18ed-43cf-ba8d-9887938e8e73"
   },
   "outputs": [
    {
     "name": "stdout",
     "output_type": "stream",
     "text": [
      "[17  3 26 42 18  0  0  0  0  0  0  0  0  0  0  0  0  0  0  0  0  0  0  0\n",
      "  0  0  0  0]\n",
      "[ 1 79 39 13 80  2  0  0  0  0  0  0  0  0  0  0  0  0  0  0  0  0  0  0\n",
      "  0  0  0]\n"
     ]
    }
   ],
   "source": [
    "tokens_src1 = tokenizer_src1.tokens_padded\n",
    "tokens_dest1 = tokenizer_dest1.tokens_padded\n",
    "print(tokens_src1[2])\n",
    "print(tokens_dest1[2])"
   ]
  },
  {
   "cell_type": "markdown",
   "metadata": {
    "colab_type": "text",
    "id": "ahO6EB_8_fcs"
   },
   "source": [
    "This is the integer-token used to mark the beginning of a text in the response text."
   ]
  },
  {
   "cell_type": "code",
   "execution_count": 27,
   "metadata": {
    "colab": {
     "base_uri": "https://localhost:8080/",
     "height": 34
    },
    "colab_type": "code",
    "id": "ko0jCO5O_fcu",
    "outputId": "71e2288b-9e83-49b1-e856-4c5faf5cad3e"
   },
   "outputs": [
    {
     "data": {
      "text/plain": [
       "1"
      ]
     },
     "execution_count": 27,
     "metadata": {
      "tags": []
     },
     "output_type": "execute_result"
    }
   ],
   "source": [
    "token_start = tokenizer_dest.word_index[mark_start.strip()]\n",
    "token_start"
   ]
  },
  {
   "cell_type": "code",
   "execution_count": 28,
   "metadata": {
    "colab": {
     "base_uri": "https://localhost:8080/",
     "height": 34
    },
    "colab_type": "code",
    "id": "XfjMCLzf_fc3",
    "outputId": "4b342a7e-9706-439d-819c-2ab197e1583a"
   },
   "outputs": [
    {
     "data": {
      "text/plain": [
       "1"
      ]
     },
     "execution_count": 28,
     "metadata": {
      "tags": []
     },
     "output_type": "execute_result"
    }
   ],
   "source": [
    "token_start1 = tokenizer_dest1.word_index[mark_start.strip()]\n",
    "token_start1"
   ]
  },
  {
   "cell_type": "markdown",
   "metadata": {
    "colab_type": "text",
    "id": "ERgvH8WT_fc8"
   },
   "source": [
    "This is the integer-token used to mark the ending of a text in the response text."
   ]
  },
  {
   "cell_type": "code",
   "execution_count": 29,
   "metadata": {
    "colab": {
     "base_uri": "https://localhost:8080/",
     "height": 34
    },
    "colab_type": "code",
    "id": "qgns_IwF_fc8",
    "outputId": "a20092ec-3090-408b-a0d2-352764b3b073"
   },
   "outputs": [
    {
     "data": {
      "text/plain": [
       "2"
      ]
     },
     "execution_count": 29,
     "metadata": {
      "tags": []
     },
     "output_type": "execute_result"
    }
   ],
   "source": [
    "token_end = tokenizer_dest.word_index[mark_end.strip()]\n",
    "token_end"
   ]
  },
  {
   "cell_type": "code",
   "execution_count": 30,
   "metadata": {
    "colab": {
     "base_uri": "https://localhost:8080/",
     "height": 34
    },
    "colab_type": "code",
    "id": "8fdWAuWy_fdC",
    "outputId": "c38820e2-5bad-4f89-e4cb-990793cdb31e"
   },
   "outputs": [
    {
     "data": {
      "text/plain": [
       "2"
      ]
     },
     "execution_count": 30,
     "metadata": {
      "tags": []
     },
     "output_type": "execute_result"
    }
   ],
   "source": [
    "token_end1 = tokenizer_dest1.word_index[mark_end.strip()]\n",
    "token_end1"
   ]
  },
  {
   "cell_type": "markdown",
   "metadata": {
    "colab_type": "text",
    "id": "fPHhecuw_fdH"
   },
   "source": [
    "__Example of Token Sequences__"
   ]
  },
  {
   "cell_type": "code",
   "execution_count": 0,
   "metadata": {
    "colab": {},
    "colab_type": "code",
    "id": "vTJ68op7_fdI"
   },
   "outputs": [],
   "source": [
    "idx = 0"
   ]
  },
  {
   "cell_type": "code",
   "execution_count": 32,
   "metadata": {
    "colab": {
     "base_uri": "https://localhost:8080/",
     "height": 52
    },
    "colab_type": "code",
    "id": "jOjMX_eh_fdO",
    "outputId": "ab275ffa-8076-4fe2-de8b-b745aea2b968"
   },
   "outputs": [
    {
     "data": {
      "text/plain": [
       "array([13,  0,  0,  0,  0,  0,  0,  0,  0,  0,  0,  0,  0,  0,  0,  0,  0,\n",
       "        0,  0,  0,  0,  0,  0,  0,  0], dtype=int32)"
      ]
     },
     "execution_count": 32,
     "metadata": {
      "tags": []
     },
     "output_type": "execute_result"
    }
   ],
   "source": [
    "tokens_src[idx]"
   ]
  },
  {
   "cell_type": "code",
   "execution_count": 33,
   "metadata": {
    "colab": {
     "base_uri": "https://localhost:8080/",
     "height": 34
    },
    "colab_type": "code",
    "id": "aVg1WDwn_fdU",
    "outputId": "2721546f-7f7a-4afc-dcef-cfb0cf039109"
   },
   "outputs": [
    {
     "data": {
      "text/plain": [
       "'start'"
      ]
     },
     "execution_count": 33,
     "metadata": {
      "tags": []
     },
     "output_type": "execute_result"
    }
   ],
   "source": [
    "tokenizer_src.tokens_to_string(tokens_src[idx])"
   ]
  },
  {
   "cell_type": "code",
   "execution_count": 34,
   "metadata": {
    "colab": {
     "base_uri": "https://localhost:8080/",
     "height": 34
    },
    "colab_type": "code",
    "id": "CxeviVe9_fdY",
    "outputId": "8b9d11b5-2b94-439a-e9c1-af70134d2430"
   },
   "outputs": [
    {
     "data": {
      "text/plain": [
       "'[START]\\n'"
      ]
     },
     "execution_count": 34,
     "metadata": {
      "tags": []
     },
     "output_type": "execute_result"
    }
   ],
   "source": [
    "data_src4[idx]"
   ]
  },
  {
   "cell_type": "code",
   "execution_count": 35,
   "metadata": {
    "colab": {
     "base_uri": "https://localhost:8080/",
     "height": 52
    },
    "colab_type": "code",
    "id": "hL15jiNz_fdd",
    "outputId": "a91ae94d-9365-4fb0-e6b4-50faae447749"
   },
   "outputs": [
    {
     "data": {
      "text/plain": [
       "array([ 1, 13, 27, 16, 10,  3, 47,  2,  0,  0,  0,  0,  0,  0,  0,  0,  0,\n",
       "        0,  0,  0,  0,  0,  0,  0], dtype=int32)"
      ]
     },
     "execution_count": 35,
     "metadata": {
      "tags": []
     },
     "output_type": "execute_result"
    }
   ],
   "source": [
    "tokens_dest[idx]"
   ]
  },
  {
   "cell_type": "code",
   "execution_count": 36,
   "metadata": {
    "colab": {
     "base_uri": "https://localhost:8080/",
     "height": 34
    },
    "colab_type": "code",
    "id": "TndjKSg5_fdh",
    "outputId": "bcffcbc4-58fd-446c-c286-018f9f513515"
   },
   "outputs": [
    {
     "data": {
      "text/plain": [
       "'ssss hi there how are you 😁😁 eeee'"
      ]
     },
     "execution_count": 36,
     "metadata": {
      "tags": []
     },
     "output_type": "execute_result"
    }
   ],
   "source": [
    "tokenizer_dest.tokens_to_string(tokens_dest[idx])"
   ]
  },
  {
   "cell_type": "code",
   "execution_count": 37,
   "metadata": {
    "colab": {
     "base_uri": "https://localhost:8080/",
     "height": 34
    },
    "colab_type": "code",
    "id": "K4f7g3JY_fd3",
    "outputId": "c70f5b2d-8f2e-4c47-82d4-f1e9926ee2fe"
   },
   "outputs": [
    {
     "data": {
      "text/plain": [
       "'ssss Hi there, how are you!? 😁😁 eeee\\n'"
      ]
     },
     "execution_count": 37,
     "metadata": {
      "tags": []
     },
     "output_type": "execute_result"
    }
   ],
   "source": [
    "data_dest2[idx]"
   ]
  },
  {
   "cell_type": "markdown",
   "metadata": {
    "colab_type": "text",
    "id": "YGJBtvye_fd6"
   },
   "source": [
    "__Training data__\n",
    "\n",
    "Now that the data-set has been converted to sequences of integer-tokens that are padded and truncated and saved in numpy arrays, we can easily prepare the data for use in training the neural network.\n",
    "\n",
    "The input to the encoder is merely the numpy array for the padded and truncated sequences of integer-tokens produced by the tokenizer."
   ]
  },
  {
   "cell_type": "code",
   "execution_count": 38,
   "metadata": {
    "colab": {
     "base_uri": "https://localhost:8080/",
     "height": 34
    },
    "colab_type": "code",
    "id": "CY5nNKtG_fd8",
    "outputId": "28bcf83b-fc19-4efb-a760-a443b000b8c3"
   },
   "outputs": [
    {
     "data": {
      "text/plain": [
       "(2313, 25)"
      ]
     },
     "execution_count": 38,
     "metadata": {
      "tags": []
     },
     "output_type": "execute_result"
    }
   ],
   "source": [
    "encoder_input_data = tokens_src\n",
    "#print(encoder_input_data[0:20])\n",
    "encoder_input_data.shape"
   ]
  },
  {
   "cell_type": "code",
   "execution_count": 39,
   "metadata": {
    "colab": {
     "base_uri": "https://localhost:8080/",
     "height": 34
    },
    "colab_type": "code",
    "id": "cJvvzPmV_feD",
    "outputId": "be218e6f-9236-4d67-a3c3-3cd96c16c20e"
   },
   "outputs": [
    {
     "data": {
      "text/plain": [
       "(50, 28)"
      ]
     },
     "execution_count": 39,
     "metadata": {
      "tags": []
     },
     "output_type": "execute_result"
    }
   ],
   "source": [
    "encoder_test_input_data = tokens_src1\n",
    "#print(encoder_input_data[0:20])\n",
    "encoder_test_input_data.shape"
   ]
  },
  {
   "cell_type": "markdown",
   "metadata": {
    "colab_type": "text",
    "id": "H5ugJ3TW_feI"
   },
   "source": [
    "The input and output data for the decoder is identical, except shifted one time-step. "
   ]
  },
  {
   "cell_type": "code",
   "execution_count": 40,
   "metadata": {
    "colab": {
     "base_uri": "https://localhost:8080/",
     "height": 34
    },
    "colab_type": "code",
    "id": "ySWCZSNn_feK",
    "outputId": "58c0b280-ad0a-4e37-89c3-a2c7ccd04aea"
   },
   "outputs": [
    {
     "data": {
      "text/plain": [
       "(2313, 23)"
      ]
     },
     "execution_count": 40,
     "metadata": {
      "tags": []
     },
     "output_type": "execute_result"
    }
   ],
   "source": [
    "decoder_input_data = tokens_dest[:, :-1]\n",
    "#print(decoder_input_data)\n",
    "decoder_input_data.shape"
   ]
  },
  {
   "cell_type": "code",
   "execution_count": 41,
   "metadata": {
    "colab": {
     "base_uri": "https://localhost:8080/",
     "height": 34
    },
    "colab_type": "code",
    "id": "4FzzSvHB_feO",
    "outputId": "be82576c-2ddb-4b83-815c-035a572a4fec"
   },
   "outputs": [
    {
     "data": {
      "text/plain": [
       "(2313, 23)"
      ]
     },
     "execution_count": 41,
     "metadata": {
      "tags": []
     },
     "output_type": "execute_result"
    }
   ],
   "source": [
    "decoder_output_data = tokens_dest[:, 1:]\n",
    "#print(decoder_output_data)\n",
    "decoder_output_data.shape"
   ]
  },
  {
   "cell_type": "code",
   "execution_count": 42,
   "metadata": {
    "colab": {
     "base_uri": "https://localhost:8080/",
     "height": 34
    },
    "colab_type": "code",
    "id": "8zbABxFm_feV",
    "outputId": "c93a0483-7198-4d8f-8302-89eae2f98e63"
   },
   "outputs": [
    {
     "data": {
      "text/plain": [
       "(50, 26)"
      ]
     },
     "execution_count": 42,
     "metadata": {
      "tags": []
     },
     "output_type": "execute_result"
    }
   ],
   "source": [
    "decoder_test_input_data = tokens_dest1[:, :-1]\n",
    "#print(decoder_input_data)\n",
    "decoder_test_input_data.shape"
   ]
  },
  {
   "cell_type": "markdown",
   "metadata": {
    "colab_type": "text",
    "id": "wnGmJ-4N_fea"
   },
   "source": [
    "For example, these token-sequences are identical except they are shifted one time-step."
   ]
  },
  {
   "cell_type": "code",
   "execution_count": 43,
   "metadata": {
    "colab": {
     "base_uri": "https://localhost:8080/",
     "height": 34
    },
    "colab_type": "code",
    "id": "yGJU5QyS_feb",
    "outputId": "df43bfb4-9a1c-4d5a-a10a-881c904df054"
   },
   "outputs": [
    {
     "data": {
      "text/plain": [
       "(50, 26)"
      ]
     },
     "execution_count": 43,
     "metadata": {
      "tags": []
     },
     "output_type": "execute_result"
    }
   ],
   "source": [
    "decoder_test_output_data = tokens_dest1[:, 1:]\n",
    "#print(decoder_output_data)\n",
    "decoder_test_output_data.shape"
   ]
  },
  {
   "cell_type": "code",
   "execution_count": 0,
   "metadata": {
    "colab": {},
    "colab_type": "code",
    "id": "YWHswoWS_fee"
   },
   "outputs": [],
   "source": [
    "idx = 2"
   ]
  },
  {
   "cell_type": "code",
   "execution_count": 45,
   "metadata": {
    "colab": {
     "base_uri": "https://localhost:8080/",
     "height": 52
    },
    "colab_type": "code",
    "id": "2n82j_mk_fek",
    "outputId": "c347e828-d0cd-4fc5-b017-db3b4b0f5908"
   },
   "outputs": [
    {
     "data": {
      "text/plain": [
       "array([  1,  29, 124,   7,  52,  24,   3,  22, 118,  15, 112,   8, 555,\n",
       "       309,  53,   4, 182, 101,  22,  25, 205, 190,   2], dtype=int32)"
      ]
     },
     "execution_count": 45,
     "metadata": {
      "tags": []
     },
     "output_type": "execute_result"
    }
   ],
   "source": [
    "decoder_input_data[idx]"
   ]
  },
  {
   "cell_type": "code",
   "execution_count": 46,
   "metadata": {
    "colab": {
     "base_uri": "https://localhost:8080/",
     "height": 52
    },
    "colab_type": "code",
    "id": "BMGuDdYu_fen",
    "outputId": "a8208c9d-2b86-41ca-8637-a84307066e41"
   },
   "outputs": [
    {
     "data": {
      "text/plain": [
       "array([ 29, 124,   7,  52,  24,   3,  22, 118,  15, 112,   8, 555, 309,\n",
       "        53,   4, 182, 101,  22,  25, 205, 190,   2,   0], dtype=int32)"
      ]
     },
     "execution_count": 46,
     "metadata": {
      "tags": []
     },
     "output_type": "execute_result"
    }
   ],
   "source": [
    "decoder_output_data[idx]"
   ]
  },
  {
   "cell_type": "markdown",
   "metadata": {
    "colab_type": "text",
    "id": "iORyKFOd_fer"
   },
   "source": [
    "If we use the tokenizer to convert these sequences back into text, we see that they are identical except for the first word which is 'ssss' that marks the beginning of a text."
   ]
  },
  {
   "cell_type": "code",
   "execution_count": 47,
   "metadata": {
    "colab": {
     "base_uri": "https://localhost:8080/",
     "height": 54
    },
    "colab_type": "code",
    "id": "xEgLvftH_fes",
    "outputId": "4e18a86e-a8a9-4d59-e714-be3ffd68a05e"
   },
   "outputs": [
    {
     "data": {
      "text/plain": [
       "'ssss my name is rdany but you can call me dany the r means robot i hope we can be virtual friends eeee'"
      ]
     },
     "execution_count": 47,
     "metadata": {
      "tags": []
     },
     "output_type": "execute_result"
    }
   ],
   "source": [
    "tokenizer_dest.tokens_to_string(decoder_input_data[idx])"
   ]
  },
  {
   "cell_type": "code",
   "execution_count": 48,
   "metadata": {
    "colab": {
     "base_uri": "https://localhost:8080/",
     "height": 34
    },
    "colab_type": "code",
    "id": "l4Jye8L3_few",
    "outputId": "9a74ccb1-98f6-4b3e-fa56-200673c7ef5a"
   },
   "outputs": [
    {
     "data": {
      "text/plain": [
       "'my name is rdany but you can call me dany the r means robot i hope we can be virtual friends eeee'"
      ]
     },
     "execution_count": 48,
     "metadata": {
      "tags": []
     },
     "output_type": "execute_result"
    }
   ],
   "source": [
    "tokenizer_dest.tokens_to_string(decoder_output_data[idx])"
   ]
  },
  {
   "cell_type": "markdown",
   "metadata": {
    "colab_type": "text",
    "id": "xQ6DPtt__fe1"
   },
   "source": [
    "__Create the Neural Network__\n",
    "\n",
    "__Create the Encoder__\n",
    "\n",
    "First we create the encoder-part of the neural network which maps a sequence of integer-tokens to a \"thought vector\". We will use the so-called functional API of Keras for this, where we first create the objects for all the layers of the neural network and then we connect them later, this allows for more flexibility than the so-called sequential API in Keras, which is useful when experimenting with more complicated architectures and ways of connecting the encoder and decoder.\n"
   ]
  },
  {
   "cell_type": "markdown",
   "metadata": {
    "colab_type": "text",
    "id": "P_xcOpJ4_fe2"
   },
   "source": [
    "This is the input for the encoder which takes batches of integer-token sequences. The None indicates that the sequences can have arbitrary length."
   ]
  },
  {
   "cell_type": "code",
   "execution_count": 0,
   "metadata": {
    "colab": {},
    "colab_type": "code",
    "id": "MfE-zQ3S_fe3"
   },
   "outputs": [],
   "source": [
    "state_size=256\n",
    "encoder_input = Input(shape=(None,), name='encoder_input')"
   ]
  },
  {
   "cell_type": "markdown",
   "metadata": {
    "colab_type": "text",
    "id": "eNb98iLx_fe5"
   },
   "source": [
    "class Encoder(tf.keras.Model):\n",
    "    \n",
    "    def __init__(self,num_words,en_numsteps,pram):\n",
    "        super(Encoder, self).__init__()\n",
    "        self.encoder_input = Input(shape=(None,), name='encoder_input')\n",
    "        self.encoder_embedding = Embedding(input_dim=num_words,output_dim=pram['embedding_size'],\n",
    "                                           input_length=en_numsteps,\n",
    "                                           name='encoder_embedding')\n",
    "        self.encoder_gru1 = GRU(pram['state_size'], name='encoder_gru1',return_sequences=True,return_state=True)\n",
    "        self.encoder_gru2 = GRU(pram['state_size'], name='encoder_gru2',return_sequences=True,return_state=True)\n",
    "        self.encoder_gru3 = GRU(pram['state_size'], name='encoder_gru3',return_sequences=True,return_state=True)\n",
    "\n",
    "    def call(self):\n",
    "        net = encoder_input\n",
    "        net = encoder_embedding(net)\n",
    "        net,encoder_state1= encoder_gru1(net)\n",
    "        net,encoder_state2= encoder_gru2(net)\n",
    "        net,encoder_state3= encoder_gru3(net)\n",
    "        encoder_output= net\n",
    "        print(\"encoder_ouput:\",encoder_output)\n",
    "        return encoder_output,encoder_state3"
   ]
  },
  {
   "cell_type": "markdown",
   "metadata": {
    "colab_type": "text",
    "id": "taL42ela_fe7"
   },
   "source": [
    "This is the length of the vectors output by the embedding-layer, which maps integer-tokens to vectors of values roughly between -1 and 1, so that words that have similar semantic meanings are mapped to vectors that are similar.\n",
    "\n",
    "we also give number of timesteps according to maximum number of token into input text.\n",
    "\n",
    "This is the embedding-layer."
   ]
  },
  {
   "cell_type": "code",
   "execution_count": 50,
   "metadata": {
    "colab": {
     "base_uri": "https://localhost:8080/",
     "height": 89
    },
    "colab_type": "code",
    "id": "1UdZ2BCJ_fe8",
    "outputId": "a45b1e48-10fe-42fc-8304-1438259ec570"
   },
   "outputs": [
    {
     "name": "stdout",
     "output_type": "stream",
     "text": [
      "WARNING:tensorflow:From /usr/local/lib/python3.6/dist-packages/tensorflow_core/python/keras/initializers.py:119: calling RandomUniform.__init__ (from tensorflow.python.ops.init_ops) with dtype is deprecated and will be removed in a future version.\n",
      "Instructions for updating:\n",
      "Call initializer instance with the dtype argument instead of passing it to the constructor\n"
     ]
    }
   ],
   "source": [
    "en_numsteps=25\n",
    "embedding_size=150\n",
    "encoder_embedding = Embedding(input_dim=num_words,output_dim=embedding_size,input_length=en_numsteps,name='encoder_embedding')"
   ]
  },
  {
   "cell_type": "markdown",
   "metadata": {
    "colab_type": "text",
    "id": "K-hR8YkR_ffB"
   },
   "source": [
    "This is the size of the internal states of the Gated Recurrent Units (GRU). The same size is used in both the encoder and decoder."
   ]
  },
  {
   "cell_type": "markdown",
   "metadata": {
    "colab_type": "text",
    "id": "dwIt6KgW_ffE"
   },
   "source": [
    "This creates the 3 GRU layers that will map from a sequence of embedding-vectors to a single \"thought vector\" which summarizes the contents of the input-text. Note that the last GRU-layer does not return a sequence."
   ]
  },
  {
   "cell_type": "code",
   "execution_count": 0,
   "metadata": {
    "colab": {},
    "colab_type": "code",
    "id": "LWQn9qq2_ffF"
   },
   "outputs": [],
   "source": [
    "#state_units = np.arange(256,512, dtype=int)\n",
    "#state_size=hp.choice(\n",
    " #   'num_embedding_size',state_units)\n",
    "encoder_gru1 = GRU(state_size, name='encoder_gru1',return_sequences=True,return_state=True)\n",
    "encoder_gru2 = GRU(state_size, name='encoder_gru2',return_sequences=True,return_state=True)\n",
    "encoder_gru3 = GRU(state_size, name='encoder_gru3',return_sequences=True,return_state=True)"
   ]
  },
  {
   "cell_type": "markdown",
   "metadata": {
    "colab_type": "text",
    "id": "kGVR6hiV_ffK"
   },
   "source": [
    "This function connects all the layers of the encoder."
   ]
  },
  {
   "cell_type": "code",
   "execution_count": 0,
   "metadata": {
    "colab": {},
    "colab_type": "code",
    "id": "-QjJsYzq_ffQ"
   },
   "outputs": [],
   "source": [
    "def connect_encoder():\n",
    "    # Start the neural network with its input-layer.\n",
    "    net = encoder_input\n",
    "    \n",
    "    # Connect the embedding-layer.\n",
    "    net = encoder_embedding(net)\n",
    "    # Connect all the GRU-layers.\n",
    "    net,encoder_state1= encoder_gru1(net)\n",
    "    #print(\"encoder hidden:\",net.shape)\n",
    "\n",
    "    net,encoder_state2= encoder_gru2(net)\n",
    "    net,encoder_state3= encoder_gru3(net)\n",
    "    \n",
    "    # This is the output of the encoder.\n",
    "    encoder_output= net\n",
    "    #output = tf.reshape(encoder_output,(-1,encoder_output.shape[2]))\n",
    "    #print(\"net\",output.shape)\n",
    "    print(\"encoder_ouput:\",encoder_output)\n",
    "    \n",
    "    return encoder_output,encoder_state3"
   ]
  },
  {
   "cell_type": "markdown",
   "metadata": {
    "colab_type": "text",
    "id": "FFqmNta__ffU"
   },
   "source": [
    "We can now use this function to connect all the layers in the encoder so it can be connected to the decoder further below."
   ]
  },
  {
   "cell_type": "code",
   "execution_count": 53,
   "metadata": {
    "colab": {
     "base_uri": "https://localhost:8080/",
     "height": 106
    },
    "colab_type": "code",
    "id": "W3nXg1Rk_ffV",
    "outputId": "d0c2f636-2183-40cc-9185-1faf02cbd707"
   },
   "outputs": [
    {
     "name": "stdout",
     "output_type": "stream",
     "text": [
      "WARNING:tensorflow:From /usr/local/lib/python3.6/dist-packages/tensorflow_core/python/ops/resource_variable_ops.py:1635: calling BaseResourceVariable.__init__ (from tensorflow.python.ops.resource_variable_ops) with constraint is deprecated and will be removed in a future version.\n",
      "Instructions for updating:\n",
      "If using Keras pass *_constraint arguments to layers.\n",
      "encoder_ouput: Tensor(\"encoder_gru3/transpose_1:0\", shape=(?, ?, 256), dtype=float32)\n"
     ]
    }
   ],
   "source": [
    "encoder_output,encoder_state= connect_encoder()"
   ]
  },
  {
   "cell_type": "markdown",
   "metadata": {
    "colab_type": "text",
    "id": "0UoQjyaU_ffY"
   },
   "source": [
    "attention_layer = Attention(23)\n",
    "attention_result, attention_weights = attention_layer(hidden_state, encoder_output)\n",
    "\n",
    "print(\"Attention result shape: (batch size, units) {}\".format(attention_result.shape))\n",
    "print(\"Attention weights shape: (batch_size, sequence_length, 1) {}\".format(attention_weights.shape))\n",
    "    "
   ]
  },
  {
   "cell_type": "markdown",
   "metadata": {
    "colab_type": "text",
    "id": "Y7VgOVna_ffZ"
   },
   "source": [
    "__Create the Decoder__\n",
    "\n",
    "Create the decoder-part which maps the \"thought vector\" to a sequence of integer-tokens.\n",
    "\n",
    "The decoder takes two inputs. First it needs the \"thought vector\" produced by the encoder which summarizes the contents of the input-text.\n"
   ]
  },
  {
   "cell_type": "markdown",
   "metadata": {
    "colab_type": "text",
    "id": "JC-jwHE8_ffa"
   },
   "source": [
    "class Decoder(tf.keras.Model):\n",
    "    \n",
    "    def __init__(self,num_words,numsteps,pram):\n",
    "        super(Decoder, self).__init__()\n",
    "        decoder_initial_state = Input(shape=(state_size,),\n",
    "                                 name='decoder_initial_state')\n",
    "        decoder_initial1 = Input(shape=(None,state_size,),\n",
    "                                 name='decoder_initial1')\n",
    "        self.decoder_embedding = Embedding(input_dim=num_words,output_dim=pram['embedding_size'],\n",
    "                                           input_length=numsteps,\n",
    "                                           name='decoder_embedding')\n",
    "        self.decoder_gru1 = GRU(pram['state_size'], name='decoder_gru1',return_sequences=True,return_state=True)\n",
    "        self.encoder_gru2 = GRU(pram['state_size'], name='decoder_gru2',return_sequences=True,return_state=True)\n",
    "        self.encoder_gru3 = GRU(pram['state_size'], name='decoder_gru3',return_sequences=True,return_state=True)\n",
    "        self.decoder_dense1= Dense(pram['state_size'], activation='tanh',\n",
    "                          name='decoder_output1')\n",
    "        self.decoder_dense = Dense(num_words,\n",
    "                          activation='linear',\n",
    "                          name='decoder_output')\n",
    "\n",
    "    def call(self,initial_state,encoder_output1):\n",
    "        \n",
    "        net = decoder_input\n",
    "        net = decoder_embedding(net)\n",
    "        net,decoder_state1 = decoder_gru1(net,initial_state=initial_state)\n",
    "        net,decoder_state2= decoder_gru2(net,initial_state=initial_state)\n",
    "        net,decoder_state3= decoder_gru3(net,initial_state=initial_state)\n",
    "        attention = Attention(512)\n",
    "        context_vector,alphas= attention(encoder_output1,net)\n",
    "\n",
    "        attention_vector= Concatenate(axis=-1, name='concat_layer')([context_vector,net])\n",
    "        #print(\"attention_vector\",attention_vector.shape)\n",
    "        decoder_output1 =decoder_dense1(attention_vector)\n",
    "        #print(\"dense1:\",decoder_output1.shape)\n",
    "        decoder_output=decoder_dense(decoder_output1)\n",
    "        print(\"dense:\",decoder_output.shape)\n",
    "\n",
    "        return decoder_output\n",
    "    "
   ]
  },
  {
   "cell_type": "code",
   "execution_count": 54,
   "metadata": {
    "colab": {
     "base_uri": "https://localhost:8080/",
     "height": 34
    },
    "colab_type": "code",
    "id": "FMmKgdaD_ffb",
    "outputId": "25773b45-74ec-47b8-968f-f1da2c6613c8"
   },
   "outputs": [
    {
     "data": {
      "text/plain": [
       "<tf.Tensor 'decoder_initial1:0' shape=(?, ?, 256) dtype=float32>"
      ]
     },
     "execution_count": 54,
     "metadata": {
      "tags": []
     },
     "output_type": "execute_result"
    }
   ],
   "source": [
    "decoder_initial_state = Input(shape=(state_size,),\n",
    "                             name='decoder_initial_state')\n",
    "decoder_initial_state\n",
    "\n",
    "decoder_initial1 = Input(shape=(None,state_size,),\n",
    "                             name='decoder_initial1')\n",
    "decoder_initial1"
   ]
  },
  {
   "cell_type": "code",
   "execution_count": 55,
   "metadata": {
    "colab": {
     "base_uri": "https://localhost:8080/",
     "height": 34
    },
    "colab_type": "code",
    "id": "y-9ldB2G_fff",
    "outputId": "dcda3fad-9f08-48b9-a2a9-654854b094b4"
   },
   "outputs": [
    {
     "data": {
      "text/plain": [
       "<tf.Tensor 'decoder_input:0' shape=(?, ?) dtype=float32>"
      ]
     },
     "execution_count": 55,
     "metadata": {
      "tags": []
     },
     "output_type": "execute_result"
    }
   ],
   "source": [
    "decoder_input = Input(shape=(None, ), name='decoder_input')\n",
    "decoder_input"
   ]
  },
  {
   "cell_type": "markdown",
   "metadata": {
    "colab_type": "text",
    "id": "f6Ua5IXj_ffh"
   },
   "source": [
    "The decoder also needs a sequence of integer-tokens as inputs. During training we will supply this with a full sequence of integer-tokens e.g. corresponding to the text \"ssss i am fine thanks for asking me eeee\".\n",
    "\n",
    "During inference when we are translating new input-texts, we will start by feeding a sequence with just one integer-token for \"ssss\" which marks the beginning of a text, and combined with the \"thought vector\" from the encoder, the decoder will hopefully be able to produce the correct next word e.g. \"once\".\n"
   ]
  },
  {
   "cell_type": "markdown",
   "metadata": {
    "colab_type": "text",
    "id": "YDsdMEqB_ffi"
   },
   "source": [
    "This is the embedding-layer which converts integer-tokens to vectors of real-valued numbers roughly between -1 and 1. Note that we have different embedding-layers for the encoder and decoder because we have two different vocabularies and two different tokenizers for the text and response languages.\n",
    "\n",
    "here number of timesteps according to maximum number of token into response text."
   ]
  },
  {
   "cell_type": "code",
   "execution_count": 0,
   "metadata": {
    "colab": {},
    "colab_type": "code",
    "id": "CoaWRRqy_ffk"
   },
   "outputs": [],
   "source": [
    "numsteps=23\n",
    "decoder_embedding = Embedding(input_dim=num_words,\n",
    "                              output_dim=embedding_size,input_length=numsteps,\n",
    "                              name='decoder_embedding')"
   ]
  },
  {
   "cell_type": "markdown",
   "metadata": {
    "colab_type": "text",
    "id": "hYSQFgY6_ffo"
   },
   "source": [
    "This creates the 3 GRU layers of the decoder. Note that they all return sequences because we ultimately want to output a sequence of integer-tokens that can be converted into a text-sequence."
   ]
  },
  {
   "cell_type": "code",
   "execution_count": 0,
   "metadata": {
    "colab": {},
    "colab_type": "code",
    "id": "icxV-Mkw_ffp"
   },
   "outputs": [],
   "source": [
    "decoder_gru1 = GRU(state_size, name='decoder_gru1',\n",
    "                   return_sequences=True,return_state=True)\n",
    "decoder_gru2 = GRU(state_size, name='decoder_gru2',\n",
    "                 return_sequences=True,return_state=True)\n",
    "decoder_gru3 = GRU(state_size, name='decoder_gru3',\n",
    "                   return_sequences=True,return_state=True)"
   ]
  },
  {
   "cell_type": "markdown",
   "metadata": {
    "colab_type": "text",
    "id": "Y4ayEouy_ffs"
   },
   "source": [
    "The GRU layers output  with shape [batch_size, sequence_length, state_size], where each \"word\" is encoded as a vector of length state_size. We need to convert this into sequences of integer-tokens that can be interpreted as words from our vocabulary.\n",
    "\n",
    "we need a vector with number of words(eg 25) elements, so we can select the index of the highest element to be the integer-token.\n",
    "\n",
    "Note that the activation-function is set to linear instead of softmax as we would normally use for one-hot encoded outputs, because there is apparently a bug in Keras so we need to make our own loss-function."
   ]
  },
  {
   "cell_type": "code",
   "execution_count": 0,
   "metadata": {
    "colab": {},
    "colab_type": "code",
    "id": "7-BNqqaU_fft"
   },
   "outputs": [],
   "source": [
    "#nmt_repeat_vector = RepeatVector(n=numsteps, name='nmt_repeat_vector')\n",
    "decoder_dense1= Dense(state_size, activation='tanh',\n",
    "                      name='decoder_output1')\n",
    "decoder_dense = Dense(num_words,\n",
    "                      activation='linear',\n",
    "                      name='decoder_output')\n",
    "#dense_time=TimeDistributed(decoder_dense,name='timedistributedlayer')"
   ]
  },
  {
   "cell_type": "code",
   "execution_count": 0,
   "metadata": {
    "colab": {},
    "colab_type": "code",
    "id": "GPFiBmoi_ffw"
   },
   "outputs": [],
   "source": [
    "import os\n",
    "from tensorflow.python.keras.layers import Layer\n",
    "from tensorflow.python.keras import backend as K\n",
    "from tensorflow.python.ops import array_ops\n",
    "from keras import regularizers, constraints, initializers, activations\n",
    "\n",
    "class Attention(Layer):\n",
    "    \n",
    "    def __init__(self):\n",
    "        super(Attention, self).__init__()\n",
    "        \n",
    "        #g1 = tf.Graph()\n",
    "        #with g1.as_default():\n",
    "         #   self.W_a = tf.get_variable(name=\"W_a\", shape=[units, units],\n",
    "          #                    initializer=tf.random_normal_initializer())\n",
    "\n",
    "    def call(self,encoder_output1,net):\n",
    "        \n",
    "        encoder_n = encoder_output1.shape[2].value  # D1 value - hidden size of the RNN layer encoder\n",
    "        decoder_n = net.shape[2].value  # D2 value - hidden size of the RNN layer decoder\n",
    "        batch_size = array_ops.shape(encoder_output1)[0]\n",
    "        \n",
    "        print(\"encoder_out_seq>\", encoder_output1.shape)\n",
    "        print(\"decoder_out_seq>\", net.shape)\n",
    "        self.W_a = tf.Variable(tf.random_normal([encoder_n,decoder_n]),\n",
    "                      name=\"W_a\")\n",
    "        #decoder_state3= tf.expand_dims(decoder_state3, 1)\n",
    "        enc_reshape = tf.reshape(encoder_output1, [-1, encoder_n], name=\"enc_reshape\")  # [(B*T1), D1]\n",
    "        h1 = tf.matmul(enc_reshape,self.W_a)  # [(B*T1), D1][D1, D2] = [(B*T1), D2]\n",
    "        h1_reshape = tf.reshape(h1, tf.stack([batch_size, -1,decoder_n]), name=\"h1_reshape\")  # [B, T1, D2]\n",
    "        #dec_reshape = tf.reshape(net, [-1, units], name=\"dec_reshape\")  # [(B*T2), D2]\n",
    "        #h2 = tf.matmul(dec_reshape,self.U_a)  # [(B*T1), D1][D1, D2] = [(B*T2), D2]\n",
    "        #h2_reshape = tf.reshape(h2, tf.stack([batch_size, -1, units]), name=\"h1_reshape\") # [B, T2, D2]\n",
    "        h3_transpose = tf.transpose(net, [0, 2, 1])  # [B, D2, T2]\n",
    "        #h3=h1_reshape+h3_transpose\n",
    "        #print(\"h3:\",h3.shape)\n",
    "        score =tf.nn.tanh(tf.matmul(h1_reshape, h3_transpose)) # [B, T1, D2][B, D2, T2] = [B, T1, T2]\n",
    "        print(\"score:\",score.shape)\n",
    "        score_transpose = tf.transpose(score, [0, 2, 1])  # [B, T2, T1]\n",
    "        alphas = tf.nn.softmax(score_transpose, axis=2, name='alphas')  # [B, T2, T1] with softmax on T1\n",
    "        context_vector = tf.matmul(alphas,encoder_output1)# [B, D1]\n",
    "        print(\"context_vector:\",context_vector.shape)\n",
    "        return context_vector,alphas       "
   ]
  },
  {
   "cell_type": "markdown",
   "metadata": {
    "colab_type": "text",
    "id": "yo0G_Q4e_ffz"
   },
   "source": [
    "from tensorflow.python.ops import array_ops\n",
    "import os\n",
    "from tensorflow.python.keras.layers import Layer\n",
    "\n",
    "class Attention(Layer):\n",
    "    \n",
    "    def __init__(self,units):\n",
    "        super(Attention, self).__init__()\n",
    "        self.w_a = tf.get_variable(name=\"w_a\", shape=[units, units],\n",
    "                                  initializer=tf.random_normal_initializer()) # [D1, D2]\n",
    "        self.u_a = tf.get_variable(name=\"u_a\", shape=[units, units],\n",
    "                                  initializer=tf.random_normal_initializer()) # [D1, D2]\n",
    "\n",
    "    def call(self,encoder_states,decoder_states,return_score=False,\n",
    "                return_context=False,return_alphas=False):\n",
    "        batch_size = array_ops.shape(encoder_states)[0]\n",
    "        \n",
    "        with tf.variable_scope(\"attn/score\"):\n",
    "            enc_reshape = tf.reshape(encoder_states, [-1, units], name=\"enc_reshape\")  # [(B*T1), D1]\n",
    "            h1 = tf.matmul(enc_reshape,self.w_a)  # [(B*T1), D1][D1, D2] = [(B*T1), D2]\n",
    "            h1_reshape = tf.reshape(h1, tf.stack([batch_size, -1, units]), name=\"h1_reshape\")  # [B, T1, D2]\n",
    "            dec_transpose = tf.transpose(decoder_states, [0, 2, 1])  # [B, D2, T2]\n",
    "            score = tf.nn.tanh(tf.matmul(h1_reshape, dec_transpose))  # [B, T1, D2][B, D2, T2] = [B, T1, T2]\n",
    "            score_transpose = tf.transpose(score, [0, 2, 1])  # [B, T2, T1]\n",
    "\n",
    "        with tf.variable_scope(\"attn/align\"):\n",
    "            alphas = tf.nn.softmax(score_transpose, axis=2, name='alphas')  # [B, T2, T1] with softmax on T1\n",
    "\n",
    "        with tf.variable_scope(\"attn/outputs\"):\n",
    "            alphas_argmax = tf.argmax(alphas, axis=2, name=\"outputs_argmax\", output_type=tf.int32)  # [B, T2]\n",
    "            outputs = tf.gather_nd(params=enc_inp, indices=self._index_matrix_to_pairs(alphas_argmax))\n",
    "\n",
    "            # Output of (Bi-)RNN is reduced with attention vector; the result has (B,D1) shape\n",
    "        with tf.variable_scope(\"attn/context_vec\"):\n",
    "            context = tf.reduce_sum(tf.matmul(alphas, encoder_states), axis=1, name=\"context\")   # [B, D1]\n",
    "        ret = [outputs]\n",
    "        if return_score:\n",
    "            ret.append(score_transpose)\n",
    "        if return_context:\n",
    "            ret.append(context)\n",
    "        if return_alphas:\n",
    "            ret.append(alphas)\n",
    "        return tuple(ret)\n",
    "\n",
    "            \n",
    "            #score(t) = h(s).W.trans(h(t))  dim:[B, T2, T1] = [B, T1, D1].[D1, D2].transpose([B, T2, D2])\n",
    "            #alphas = softmax(t)\n",
    "            #Args:\n",
    "             #   :param encoder_states: Encoder outputs on which attention is to be applied, shape: [B, T1, D1]\n",
    "              #  :param enc_inp: Encoder inputs, shape: [B, T1, Dim]\n",
    "               # :param decoder_states: Decoder states, shape: [B, T2, D2]\n",
    "                #    if None: self attention is implemented with dec_states tf.ones([B, 1, 1])\n",
    "                #:param activation: activation function to apply on score\n",
    "                #:param time_major: Default is False\n",
    "                 #   True if shape of encoder/decoder is (T, B, D)\n",
    "                  #  Flase if shape of encoder is (B, T, D)\n",
    "                #:param return_score: Default is False\n",
    "                #:param return_context: Defaults to False\n",
    "            #Returns:\n",
    "             #   :return:\n",
    "              #      returns outputs([B, T2, D1]) and\n",
    "               #     if return_score is True: scores ([B, T2, T1])\n",
    "                #    if return_context is True: context ([B, D1])"
   ]
  },
  {
   "cell_type": "markdown",
   "metadata": {
    "colab_type": "text",
    "id": "IzQQAera_ff0"
   },
   "source": [
    "\n",
    "This function connects all the layers of the decoder to some input of the initial-state values for the GRU layers."
   ]
  },
  {
   "cell_type": "code",
   "execution_count": 0,
   "metadata": {
    "colab": {},
    "colab_type": "code",
    "id": "wKOVYmPu_ff1"
   },
   "outputs": [],
   "source": [
    "def connect_decoder(initial_state,encoder_output1):\n",
    "    # Start the decoder-network with its input-layer.\n",
    "    net = decoder_input\n",
    "    \n",
    "    \n",
    "    # Connect the embedding-layer.\n",
    "    net = decoder_embedding(net)\n",
    "    print(\"embedding:\",net.shape)\n",
    "    # Connect all the GRU-layers.\n",
    "    net,decoder_state1 = decoder_gru1(net,initial_state=initial_state)\n",
    "    #Connect all the GRU-layers.\n",
    "    net,decoder_state2= decoder_gru2(net,initial_state=initial_state)\n",
    "    net,decoder_state3= decoder_gru3(net,initial_state=initial_state)\n",
    "\n",
    "    # Get current input in from embedded target sequences\n",
    "     \n",
    "    attention = Attention()\n",
    "    context_vector,alphas= attention(encoder_output1,net)\n",
    "    \n",
    "    #context_vector, attention_weights,attention_vector= attention(encoder_output1,decoder_state3,net)\n",
    "            # Combine information\n",
    "            #print(\"context_vector:\",context_vector.shape)\n",
    "    #context_vector= tf.expand_dims(context_vector, 1)\n",
    "    #contxt_vector = K.tile(context_vector, [1,23,state_size])\n",
    "    #context_vector1 = nmt_repeat_vector(context_vector)\n",
    "    #print(\"context_vector:\",context_vector1.shape)\n",
    "    attention_vector= Concatenate(axis=-1, name='concat_layer')([context_vector,net])\n",
    "    print(\"attention_vector\",attention_vector.shape)\n",
    "            # Connect the final dense layer that converts to\n",
    "            # one-hot encoded arrays.\n",
    "    decoder_output1 =decoder_dense1(attention_vector)\n",
    "    print(\"dense1:\",decoder_output1.shape)\n",
    "            #dense_time=TimeDistributed(decoder_dense,name='time_distributed_layer')\n",
    "    decoder_output=decoder_dense(decoder_output1)\n",
    "\n",
    "    print(\"dense:\",decoder_output.shape)\n",
    "    \n",
    "    return decoder_output"
   ]
  },
  {
   "cell_type": "markdown",
   "metadata": {
    "colab_type": "text",
    "id": "m3U_ie32_ff4"
   },
   "source": [
    "__Connect and Create the Models__\n",
    "\n",
    "We can now connect the encoder and decoder in different ways.\n",
    "\n",
    "First we connect the encoder directly to the decoder so it is one whole model that can be trained end-to-end. This means the initial-state of the decoder's GRU units are set to the output of the encoder.\n"
   ]
  },
  {
   "cell_type": "code",
   "execution_count": 61,
   "metadata": {
    "colab": {
     "base_uri": "https://localhost:8080/",
     "height": 156
    },
    "colab_type": "code",
    "id": "_tmQlR2q_ff6",
    "outputId": "89c93be1-b2fd-4d47-9773-b12563c07f16"
   },
   "outputs": [
    {
     "name": "stdout",
     "output_type": "stream",
     "text": [
      "embedding: (?, ?, 150)\n",
      "encoder_out_seq> (?, ?, 256)\n",
      "decoder_out_seq> (?, ?, 256)\n",
      "score: (?, ?, ?)\n",
      "context_vector: (?, ?, 256)\n",
      "attention_vector (?, ?, 512)\n",
      "dense1: (?, ?, 256)\n",
      "dense: (?, ?, 2000)\n"
     ]
    }
   ],
   "source": [
    "decoder_output= connect_decoder(initial_state=encoder_state,encoder_output1=encoder_output)"
   ]
  },
  {
   "cell_type": "code",
   "execution_count": 0,
   "metadata": {
    "colab": {},
    "colab_type": "code",
    "id": "da5n4bu3_ff-"
   },
   "outputs": [],
   "source": [
    "model_train = Model(inputs=[encoder_input, decoder_input],\n",
    "                    outputs=[decoder_output])"
   ]
  },
  {
   "cell_type": "markdown",
   "metadata": {
    "colab_type": "text",
    "id": "cOjU9BbL_fgD"
   },
   "source": [
    "Then we create a model for just the encoder alone. This is useful for mapping a sequence of integer-tokens to a \"thought-vector\" summarizing its contents."
   ]
  },
  {
   "cell_type": "code",
   "execution_count": 0,
   "metadata": {
    "colab": {},
    "colab_type": "code",
    "id": "9PQ9mxK1_fgF"
   },
   "outputs": [],
   "source": [
    "model_encoder = Model(inputs=[encoder_input],\n",
    "                      outputs=[encoder_output,encoder_state])"
   ]
  },
  {
   "cell_type": "markdown",
   "metadata": {
    "colab_type": "text",
    "id": "C09GVxFG_fgI"
   },
   "source": [
    "Then we create a model for just the decoder alone. This allows us to directly input the initial state for the decoder's GRU units."
   ]
  },
  {
   "cell_type": "code",
   "execution_count": 64,
   "metadata": {
    "colab": {
     "base_uri": "https://localhost:8080/",
     "height": 156
    },
    "colab_type": "code",
    "id": "z8e29t19_fgJ",
    "outputId": "3e5ade26-ba18-458f-80e2-7c65c35d1767"
   },
   "outputs": [
    {
     "name": "stdout",
     "output_type": "stream",
     "text": [
      "embedding: (?, ?, 150)\n",
      "encoder_out_seq> (?, ?, 256)\n",
      "decoder_out_seq> (?, ?, 256)\n",
      "score: (?, ?, ?)\n",
      "context_vector: (?, ?, 256)\n",
      "attention_vector (?, ?, 512)\n",
      "dense1: (?, ?, 256)\n",
      "dense: (?, ?, 2000)\n"
     ]
    }
   ],
   "source": [
    "decoder_output = connect_decoder(initial_state=decoder_initial_state,encoder_output1=decoder_initial1)\n",
    "model_decoder = Model(inputs=[decoder_initial_state,decoder_input,decoder_initial1],\n",
    "                      outputs=[decoder_output])"
   ]
  },
  {
   "cell_type": "markdown",
   "metadata": {
    "colab_type": "text",
    "id": "J9qTFvDL_fgN"
   },
   "source": [
    "__Loss Function__\n",
    "\n",
    "The output of the decoder is a sequence of one-hot encoded arrays. In order to train the decoder we need to supply the one-hot encoded arrays that we desire to see on the decoder's output, and then use a loss-function like cross-entropy to train the decoder to produce this desired output.\n",
    "\n",
    "However, our data-set contains integer-tokens instead of one-hot encoded arrays. Each one-hot encoded array has 25 elements so it would be extremely wasteful to convert the entire data-set to one-hot encoded arrays.\n",
    "\n",
    "A better way is to use a so-called sparse cross-entropy loss-function, which does the conversion internally from integers to one-hot encoded arrays. Unfortunately, there seems to be a bug in Keras when using this with Recurrent Neural Networks."
   ]
  },
  {
   "cell_type": "code",
   "execution_count": 0,
   "metadata": {
    "colab": {},
    "colab_type": "code",
    "id": "5iIt1aYb_fgQ"
   },
   "outputs": [],
   "source": [
    "def sparse_cross_entropy(y_true, y_pred):\n",
    "    \"\"\"\n",
    "    Calculate the cross-entropy loss between y_true and y_pred.\n",
    "    \n",
    "    y_true is a 2 rank matrix with the desired output.\n",
    "    The shape is [batch_size, sequence_length] and it\n",
    "    contains sequences of integer-tokens.\n",
    "\n",
    "    y_pred is the decoder's output which is a 3-rank matrix\n",
    "    with shape [batch_size, sequence_length, num_words]\n",
    "    so that for each sequence in the batch there is a one-hot\n",
    "    encoded array of length num_words.\n",
    "    \"\"\"\n",
    "\n",
    "    # Calculate the loss.\n",
    "    loss = tf.nn.sparse_softmax_cross_entropy_with_logits(labels=y_true,logits=y_pred)\n",
    "\n",
    "\n",
    "    loss_mean = tf.reduce_mean(loss)\n",
    "    #loss_mean = tf.reduce_mean(tf.nn.softmax_cross_entropy_with_logits(logits=y_pred, labels=y_true))\n",
    "\n",
    "    return loss_mean"
   ]
  },
  {
   "cell_type": "markdown",
   "metadata": {
    "colab_type": "text",
    "id": "bpC0lCMM_fgT"
   },
   "source": [
    "def perplexity(y_true, y_pred):\n",
    "    \"\"\"\n",
    "    The perplexity metric. Why isn't this part of Keras yet?!\n",
    "\n",
    "    BTW doesn't really work.\n",
    "    \"\"\"\n",
    "    cross_entropy = K.sparse_categorical_crossentropy(y_true, y_pred)\n",
    "    perplexity = K.pow(2.0, cross_entropy)\n",
    "    return perplexity"
   ]
  },
  {
   "cell_type": "markdown",
   "metadata": {
    "colab_type": "text",
    "id": "HIevwVYh_fgU"
   },
   "source": [
    "__Compile the Training Model__\n",
    "\n",
    "We have used the Adam optimizer.\n"
   ]
  },
  {
   "cell_type": "code",
   "execution_count": 0,
   "metadata": {
    "colab": {},
    "colab_type": "code",
    "id": "2mz65uJy_fgV"
   },
   "outputs": [],
   "source": [
    "optimizer = RMSprop(lr=(2e-3))"
   ]
  },
  {
   "cell_type": "markdown",
   "metadata": {
    "colab_type": "text",
    "id": "YSK0Rh5h_fgb"
   },
   "source": [
    " We need to manually create a placeholder variable for the decoder's output. The shape is set to (None, None) which means the batch can have an arbitrary number of sequences, which can have an arbitrary number of integer-tokens."
   ]
  },
  {
   "cell_type": "code",
   "execution_count": 0,
   "metadata": {
    "colab": {},
    "colab_type": "code",
    "id": "znwPSbyU_fgc"
   },
   "outputs": [],
   "source": [
    "decoder_target = tf.placeholder(dtype='int32', shape=(None, None))"
   ]
  },
  {
   "cell_type": "markdown",
   "metadata": {
    "colab_type": "text",
    "id": "yTByRLFq_fgf"
   },
   "source": [
    "We can now compile the model using our custom loss-function."
   ]
  },
  {
   "cell_type": "code",
   "execution_count": 0,
   "metadata": {
    "colab": {},
    "colab_type": "code",
    "id": "0VoAfYpQ_fgg"
   },
   "outputs": [],
   "source": [
    "model_train.compile(loss=sparse_cross_entropy,optimizer=optimizer,\n",
    "                    target_tensors=[decoder_target],\n",
    "                    metrics=['sparse_categorical_accuracy'])\n",
    "\n",
    "#model_train.compile(loss=sparse_cross_entropy,optimizer=optimizer,\n",
    " #                   target_tensors=[decoder_target],\n",
    "  #                  metrics=['sparse_categorical_accuracy',perplexity])"
   ]
  },
  {
   "cell_type": "markdown",
   "metadata": {
    "colab_type": "text",
    "id": "4UQ55D4v_fgj"
   },
   "source": [
    "__Train the Model__\n",
    "\n",
    "We wrap the data in named dicts so we are sure the data is assigned correctly to the inputs and outputs of the model.\n"
   ]
  },
  {
   "cell_type": "markdown",
   "metadata": {
    "colab_type": "text",
    "id": "gJX3982f_fgl"
   },
   "source": [
    "from sklearn.model_selection import train_test_split\n",
    "x_train_encoder,x_val_encoder=train_test_split(encoder_input_data,test_size=0.03)\n",
    "x_train_decoder,x_val_decoder=train_test_split(decoder_input_data,test_size=0.03)\n",
    "y_train_decoder,y_val_decoder=train_test_split(decoder_output_data,test_size=0.03)"
   ]
  },
  {
   "cell_type": "code",
   "execution_count": 0,
   "metadata": {
    "colab": {},
    "colab_type": "code",
    "id": "BPuY5FMa_fgn"
   },
   "outputs": [],
   "source": [
    "x_data = \\\n",
    "{\n",
    "    'encoder_input': encoder_input_data,\n",
    "    'decoder_input': decoder_input_data\n",
    "}"
   ]
  },
  {
   "cell_type": "code",
   "execution_count": 0,
   "metadata": {
    "colab": {},
    "colab_type": "code",
    "id": "9RSql5np_fgr"
   },
   "outputs": [],
   "source": [
    "x_test= \\\n",
    "{\n",
    "    'encoder_input': encoder_test_input_data,\n",
    "    'decoder_input': decoder_test_input_data\n",
    "}"
   ]
  },
  {
   "cell_type": "code",
   "execution_count": 0,
   "metadata": {
    "colab": {},
    "colab_type": "code",
    "id": "qXUwH-Vu_fgt"
   },
   "outputs": [],
   "source": [
    "y_data = \\\n",
    "{\n",
    "    'decoder_output': decoder_output_data\n",
    "}"
   ]
  },
  {
   "cell_type": "code",
   "execution_count": 0,
   "metadata": {
    "colab": {},
    "colab_type": "code",
    "id": "nrM339LN_fgw"
   },
   "outputs": [],
   "source": [
    "y_test = \\\n",
    "{\n",
    "    'decoder_output': decoder_test_output_data\n",
    "}"
   ]
  },
  {
   "cell_type": "markdown",
   "metadata": {
    "colab_type": "text",
    "id": "fAaBYAvm_fgz"
   },
   "source": [
    "validation_split = 1000 / len(encoder_input_data)\n",
    "validation_split"
   ]
  },
  {
   "cell_type": "code",
   "execution_count": 73,
   "metadata": {
    "colab": {
     "base_uri": "https://localhost:8080/",
     "height": 1000
    },
    "colab_type": "code",
    "id": "PvZ-_XW5_fg0",
    "outputId": "59ac27b1-f6a3-43b5-b3ec-05147ad5172e"
   },
   "outputs": [
    {
     "name": "stdout",
     "output_type": "stream",
     "text": [
      "Train on 2289 samples, validate on 24 samples\n",
      "Epoch 1/35\n",
      "2289/2289 [==============================] - 12s 5ms/sample - loss: 2.6861 - sparse_categorical_accuracy: 0.6251 - val_loss: 2.2246 - val_sparse_categorical_accuracy: 0.6558\n",
      "Epoch 2/35\n",
      "2289/2289 [==============================] - 9s 4ms/sample - loss: 2.1004 - sparse_categorical_accuracy: 0.6748 - val_loss: 2.1783 - val_sparse_categorical_accuracy: 0.6594\n",
      "Epoch 3/35\n",
      "2289/2289 [==============================] - 8s 3ms/sample - loss: 2.0526 - sparse_categorical_accuracy: 0.6809 - val_loss: 2.1323 - val_sparse_categorical_accuracy: 0.6775\n",
      "Epoch 4/35\n",
      "2289/2289 [==============================] - 9s 4ms/sample - loss: 1.9084 - sparse_categorical_accuracy: 0.6893 - val_loss: 2.0380 - val_sparse_categorical_accuracy: 0.6866\n",
      "Epoch 5/35\n",
      "2289/2289 [==============================] - 8s 3ms/sample - loss: 1.8602 - sparse_categorical_accuracy: 0.6911 - val_loss: 1.9683 - val_sparse_categorical_accuracy: 0.6884\n",
      "Epoch 6/35\n",
      "2289/2289 [==============================] - 9s 4ms/sample - loss: 1.7878 - sparse_categorical_accuracy: 0.6966 - val_loss: 1.9841 - val_sparse_categorical_accuracy: 0.6920\n",
      "Epoch 7/35\n",
      "2289/2289 [==============================] - 8s 3ms/sample - loss: 1.7417 - sparse_categorical_accuracy: 0.6988 - val_loss: 2.0292 - val_sparse_categorical_accuracy: 0.6866\n",
      "Epoch 8/35\n",
      "2289/2289 [==============================] - 8s 3ms/sample - loss: 1.6916 - sparse_categorical_accuracy: 0.7031 - val_loss: 2.0045 - val_sparse_categorical_accuracy: 0.6957\n",
      "Epoch 9/35\n",
      "2289/2289 [==============================] - 8s 4ms/sample - loss: 1.6397 - sparse_categorical_accuracy: 0.7081 - val_loss: 2.0000 - val_sparse_categorical_accuracy: 0.6938\n",
      "Epoch 10/35\n",
      "2289/2289 [==============================] - 8s 4ms/sample - loss: 1.5931 - sparse_categorical_accuracy: 0.7111 - val_loss: 2.0090 - val_sparse_categorical_accuracy: 0.6938\n",
      "Epoch 11/35\n",
      "2289/2289 [==============================] - 9s 4ms/sample - loss: 1.5399 - sparse_categorical_accuracy: 0.7162 - val_loss: 1.9637 - val_sparse_categorical_accuracy: 0.6975\n",
      "Epoch 12/35\n",
      "2289/2289 [==============================] - 8s 3ms/sample - loss: 1.4911 - sparse_categorical_accuracy: 0.7190 - val_loss: 1.9701 - val_sparse_categorical_accuracy: 0.7047\n",
      "Epoch 13/35\n",
      "2289/2289 [==============================] - 8s 3ms/sample - loss: 1.5549 - sparse_categorical_accuracy: 0.7137 - val_loss: 1.9431 - val_sparse_categorical_accuracy: 0.7065\n",
      "Epoch 14/35\n",
      "2289/2289 [==============================] - 8s 4ms/sample - loss: 1.3800 - sparse_categorical_accuracy: 0.7307 - val_loss: 1.9005 - val_sparse_categorical_accuracy: 0.7029\n",
      "Epoch 15/35\n",
      "2289/2289 [==============================] - 8s 3ms/sample - loss: 1.3396 - sparse_categorical_accuracy: 0.7346 - val_loss: 2.0084 - val_sparse_categorical_accuracy: 0.7065\n",
      "Epoch 16/35\n",
      "2289/2289 [==============================] - 8s 4ms/sample - loss: 1.2945 - sparse_categorical_accuracy: 0.7395 - val_loss: 1.9582 - val_sparse_categorical_accuracy: 0.7083\n",
      "Epoch 17/35\n",
      "2289/2289 [==============================] - 8s 4ms/sample - loss: 1.2409 - sparse_categorical_accuracy: 0.7445 - val_loss: 1.9978 - val_sparse_categorical_accuracy: 0.7029\n",
      "Epoch 18/35\n",
      "2289/2289 [==============================] - 8s 4ms/sample - loss: 1.1842 - sparse_categorical_accuracy: 0.7519 - val_loss: 1.9736 - val_sparse_categorical_accuracy: 0.7011\n",
      "Epoch 19/35\n",
      "2289/2289 [==============================] - 9s 4ms/sample - loss: 1.1308 - sparse_categorical_accuracy: 0.7598 - val_loss: 1.9405 - val_sparse_categorical_accuracy: 0.6993\n",
      "Epoch 20/35\n",
      "2289/2289 [==============================] - 8s 4ms/sample - loss: 1.0750 - sparse_categorical_accuracy: 0.7677 - val_loss: 2.0072 - val_sparse_categorical_accuracy: 0.7047\n",
      "Epoch 21/35\n",
      "2289/2289 [==============================] - 8s 3ms/sample - loss: 1.0174 - sparse_categorical_accuracy: 0.7775 - val_loss: 1.9829 - val_sparse_categorical_accuracy: 0.7011\n",
      "Epoch 22/35\n",
      "2289/2289 [==============================] - 8s 4ms/sample - loss: 0.9582 - sparse_categorical_accuracy: 0.7883 - val_loss: 2.0584 - val_sparse_categorical_accuracy: 0.6866\n",
      "Epoch 23/35\n",
      "2289/2289 [==============================] - 8s 4ms/sample - loss: 0.9064 - sparse_categorical_accuracy: 0.7976 - val_loss: 2.0055 - val_sparse_categorical_accuracy: 0.7029\n",
      "Epoch 24/35\n",
      "2289/2289 [==============================] - 8s 4ms/sample - loss: 0.8507 - sparse_categorical_accuracy: 0.8088 - val_loss: 2.0511 - val_sparse_categorical_accuracy: 0.6920\n",
      "Epoch 25/35\n",
      "2289/2289 [==============================] - 8s 4ms/sample - loss: 0.7910 - sparse_categorical_accuracy: 0.8239 - val_loss: 2.1313 - val_sparse_categorical_accuracy: 0.6993\n",
      "Epoch 26/35\n",
      "2289/2289 [==============================] - 9s 4ms/sample - loss: 0.7346 - sparse_categorical_accuracy: 0.8366 - val_loss: 2.1001 - val_sparse_categorical_accuracy: 0.6938\n",
      "Epoch 27/35\n",
      "2289/2289 [==============================] - 8s 4ms/sample - loss: 0.6774 - sparse_categorical_accuracy: 0.8509 - val_loss: 2.1605 - val_sparse_categorical_accuracy: 0.6920\n",
      "Epoch 28/35\n",
      "2289/2289 [==============================] - 8s 4ms/sample - loss: 0.6237 - sparse_categorical_accuracy: 0.8644 - val_loss: 2.0749 - val_sparse_categorical_accuracy: 0.6884\n",
      "Epoch 29/35\n",
      "2289/2289 [==============================] - 8s 4ms/sample - loss: 0.5654 - sparse_categorical_accuracy: 0.8798 - val_loss: 2.1903 - val_sparse_categorical_accuracy: 0.6848\n",
      "Epoch 30/35\n",
      "2289/2289 [==============================] - 8s 4ms/sample - loss: 0.5182 - sparse_categorical_accuracy: 0.8929 - val_loss: 2.1373 - val_sparse_categorical_accuracy: 0.6938\n",
      "Epoch 31/35\n",
      "2289/2289 [==============================] - 8s 4ms/sample - loss: 0.4671 - sparse_categorical_accuracy: 0.9044 - val_loss: 2.1825 - val_sparse_categorical_accuracy: 0.6884\n",
      "Epoch 32/35\n",
      "2289/2289 [==============================] - 8s 3ms/sample - loss: 0.4200 - sparse_categorical_accuracy: 0.9165 - val_loss: 2.2314 - val_sparse_categorical_accuracy: 0.6848\n",
      "Epoch 33/35\n",
      "2289/2289 [==============================] - 9s 4ms/sample - loss: 0.3760 - sparse_categorical_accuracy: 0.9278 - val_loss: 2.2959 - val_sparse_categorical_accuracy: 0.6812\n",
      "Epoch 34/35\n",
      "2289/2289 [==============================] - 8s 4ms/sample - loss: 0.3327 - sparse_categorical_accuracy: 0.9382 - val_loss: 2.2651 - val_sparse_categorical_accuracy: 0.6848\n",
      "Epoch 35/35\n",
      "2289/2289 [==============================] - 8s 4ms/sample - loss: 0.2969 - sparse_categorical_accuracy: 0.9466 - val_loss: 2.3700 - val_sparse_categorical_accuracy: 0.6848\n",
      "CPU times: user 6min 32s, sys: 13.1 s, total: 6min 45s\n",
      "Wall time: 4min 56s\n"
     ]
    }
   ],
   "source": [
    "%%time\n",
    "history=model_train.fit(x=x_data,\n",
    "                y=y_data,\n",
    "                validation_split=0.01, epochs=35, batch_size=50)"
   ]
  },
  {
   "cell_type": "code",
   "execution_count": 74,
   "metadata": {
    "colab": {
     "base_uri": "https://localhost:8080/",
     "height": 545
    },
    "colab_type": "code",
    "id": "kZCkplr2_fg8",
    "outputId": "d811ef36-d5fb-4e31-9452-fc3178343e29"
   },
   "outputs": [
    {
     "data": {
      "image/png": "[encoded data removed]",
      "text/plain": [
       "<Figure size 432x288 with 1 Axes>"
      ]
     },
     "metadata": {
      "tags": []
     },
     "output_type": "display_data"
    },
    {
     "data": {
      "image/png": "[encoded data removed]",
      "text/plain": [
       "<Figure size 432x288 with 1 Axes>"
      ]
     },
     "metadata": {
      "tags": []
     },
     "output_type": "display_data"
    }
   ],
   "source": [
    "accuracy = history.history['sparse_categorical_accuracy']\n",
    "val_accuracy = history.history['val_sparse_categorical_accuracy']\n",
    "loss = history.history['loss']\n",
    "val_loss = history.history['val_loss']\n",
    "epochs = range(len(accuracy))\n",
    "plt.plot(epochs, accuracy, 'bo', label='Training accuracy')\n",
    "plt.plot(epochs, val_accuracy, 'b', label='Validation accuracy')\n",
    "plt.title('Training and validation accuracy')\n",
    "plt.legend()\n",
    "plt.figure()\n",
    "plt.plot(epochs, loss, 'bo', label='Training loss')\n",
    "plt.plot(epochs, val_loss, 'b', label='Validation loss')\n",
    "plt.title('Training and validation loss')\n",
    "plt.legend()\n",
    "plt.show()"
   ]
  },
  {
   "cell_type": "code",
   "execution_count": 75,
   "metadata": {
    "colab": {
     "base_uri": "https://localhost:8080/",
     "height": 712
    },
    "colab_type": "code",
    "id": "5z7yR1GZ_fhP",
    "outputId": "709ceaee-68db-429d-c95b-ecfb49de0c2a"
   },
   "outputs": [
    {
     "name": "stdout",
     "output_type": "stream",
     "text": [
      "Model: \"model\"\n",
      "__________________________________________________________________________________________________\n",
      "Layer (type)                    Output Shape         Param #     Connected to                     \n",
      "==================================================================================================\n",
      "encoder_input (InputLayer)      [(None, None)]       0                                            \n",
      "__________________________________________________________________________________________________\n",
      "encoder_embedding (Embedding)   (None, None, 150)    300000      encoder_input[0][0]              \n",
      "__________________________________________________________________________________________________\n",
      "encoder_gru1 (GRU)              [(None, None, 256),  312576      encoder_embedding[0][0]          \n",
      "__________________________________________________________________________________________________\n",
      "encoder_gru2 (GRU)              [(None, None, 256),  393984      encoder_gru1[0][0]               \n",
      "__________________________________________________________________________________________________\n",
      "decoder_input (InputLayer)      [(None, None)]       0                                            \n",
      "__________________________________________________________________________________________________\n",
      "encoder_gru3 (GRU)              [(None, None, 256),  393984      encoder_gru2[0][0]               \n",
      "__________________________________________________________________________________________________\n",
      "decoder_embedding (Embedding)   (None, None, 150)    300000      decoder_input[0][0]              \n",
      "__________________________________________________________________________________________________\n",
      "decoder_gru1 (GRU)              [(None, None, 256),  312576      decoder_embedding[0][0]          \n",
      "                                                                 encoder_gru3[0][1]               \n",
      "__________________________________________________________________________________________________\n",
      "decoder_gru2 (GRU)              [(None, None, 256),  393984      decoder_gru1[0][0]               \n",
      "                                                                 encoder_gru3[0][1]               \n",
      "__________________________________________________________________________________________________\n",
      "decoder_gru3 (GRU)              [(None, None, 256),  393984      decoder_gru2[0][0]               \n",
      "                                                                 encoder_gru3[0][1]               \n",
      "__________________________________________________________________________________________________\n",
      "attention (Attention)           ((None, None, 256),  65536       encoder_gru3[0][0]               \n",
      "__________________________________________________________________________________________________\n",
      "concat_layer (Concatenate)      (None, None, 512)    0           attention[0][0]                  \n",
      "                                                                 decoder_gru3[0][0]               \n",
      "__________________________________________________________________________________________________\n",
      "decoder_output1 (Dense)         (None, None, 256)    131328      concat_layer[0][0]               \n",
      "__________________________________________________________________________________________________\n",
      "decoder_output (Dense)          (None, None, 2000)   514000      decoder_output1[0][0]            \n",
      "==================================================================================================\n",
      "Total params: 3,511,952\n",
      "Trainable params: 3,511,952\n",
      "Non-trainable params: 0\n",
      "__________________________________________________________________________________________________\n"
     ]
    }
   ],
   "source": [
    "model_train.summary()"
   ]
  },
  {
   "cell_type": "code",
   "execution_count": 76,
   "metadata": {
    "colab": {
     "base_uri": "https://localhost:8080/",
     "height": 89
    },
    "colab_type": "code",
    "id": "Tyj_Vb3L_fhV",
    "outputId": "0703e374-0f68-4b5c-b39b-ce751117df15"
   },
   "outputs": [
    {
     "name": "stdout",
     "output_type": "stream",
     "text": [
      "50/50 [==============================] - 0s 3ms/sample - loss: 3.4631 - sparse_categorical_accuracy: 0.6408\n",
      "CPU times: user 135 ms, sys: 3.03 ms, total: 138 ms\n",
      "Wall time: 140 ms\n"
     ]
    }
   ],
   "source": [
    "%%time\n",
    "result = model_train.evaluate(x_test,y_test)"
   ]
  },
  {
   "cell_type": "code",
   "execution_count": 77,
   "metadata": {
    "colab": {
     "base_uri": "https://localhost:8080/",
     "height": 69
    },
    "colab_type": "code",
    "id": "lX5pwmew_fhb",
    "outputId": "987a38cf-264f-4fdf-9f8e-39aec28da602"
   },
   "outputs": [
    {
     "name": "stdout",
     "output_type": "stream",
     "text": [
      "Accuracy: 64.08%\n",
      "Loss 3.4631\n",
      "loss: 3.4630923080444336\n"
     ]
    }
   ],
   "source": [
    "print(\"Accuracy: {0:.2%}\".format(result[1]))\n",
    "\n",
    "print(\"Loss {0:.5}\".format(result[0]))\n",
    "loss=result[0]\n",
    "print(\"loss:\",loss)"
   ]
  },
  {
   "cell_type": "code",
   "execution_count": 0,
   "metadata": {
    "colab": {},
    "colab_type": "code",
    "id": "8A8wvDzF_fhe"
   },
   "outputs": [],
   "source": [
    "def perplexity(loss):\n",
    "    \"\"\"\n",
    "    The perplexity metric. Why isn't this part of Keras yet?!\n",
    "\n",
    "    BTW doesn't really work.\n",
    "    \"\"\"\n",
    "    #cross_entropy = sparse_cross_entropy(y_true, y_pred)\n",
    "    perplexity = np.exp(loss)\n",
    "    return perplexity"
   ]
  },
  {
   "cell_type": "code",
   "execution_count": 79,
   "metadata": {
    "colab": {
     "base_uri": "https://localhost:8080/",
     "height": 34
    },
    "colab_type": "code",
    "id": "sIB1uMm1_fhh",
    "outputId": "e770dcb4-1398-459b-beed-4820c8790284"
   },
   "outputs": [
    {
     "name": "stdout",
     "output_type": "stream",
     "text": [
      "perplexity: 31.915516686854016\n"
     ]
    }
   ],
   "source": [
    "perplexity=perplexity(loss=loss)\n",
    "print(\"perplexity:\",perplexity)"
   ]
  },
  {
   "cell_type": "code",
   "execution_count": 80,
   "metadata": {
    "colab": {
     "base_uri": "https://localhost:8080/",
     "height": 89
    },
    "colab_type": "code",
    "id": "3f_Q8iWwghNs",
    "outputId": "168f8529-ac65-4a31-c3d3-b38651d8afc7"
   },
   "outputs": [
    {
     "name": "stdout",
     "output_type": "stream",
     "text": [
      "Requirement already satisfied: h5py in /usr/local/lib/python3.6/dist-packages (2.8.0)\n",
      "Requirement already satisfied: numpy>=1.7 in /usr/local/lib/python3.6/dist-packages (from h5py) (1.17.5)\n",
      "Requirement already satisfied: six in /usr/local/lib/python3.6/dist-packages (from h5py) (1.12.0)\n"
     ]
    }
   ],
   "source": [
    "!pip install h5py"
   ]
  },
  {
   "cell_type": "code",
   "execution_count": null,
   "metadata": {},
   "outputs": [],
   "source": [
    "from numpy import loadtxt\n",
    "from tensorflow.python.keras.models import load_model\n",
    " \n",
    "# load model\n",
    "model = load_model(\"model.h5\")\n",
    "# summarize model.\n",
    "model.summary()\n",
    "# load dataset"
   ]
  },
  {
   "cell_type": "markdown",
   "metadata": {
    "colab_type": "text",
    "id": "FCU0JEQf_fhk"
   },
   "source": [
    "__Respone Texts__\n"
   ]
  },
  {
   "cell_type": "code",
   "execution_count": 0,
   "metadata": {
    "colab": {},
    "colab_type": "code",
    "id": "1B28YVUs_fhl"
   },
   "outputs": [],
   "source": [
    "def response(input_text, true_output_text=None):\n",
    "    \"\"\" a single text-string.\"\"\"\n",
    "\n",
    "    # Convert the input-text to integer-tokens.\n",
    "    # Note the sequence of tokens has to be reversed.\n",
    "    # Padding is probably not necessary.\n",
    "    input_tokens = tokenizer_src.text_to_tokens(text=input_text,\n",
    "                                                padding=True)\n",
    "    #print(\"input_tokens\",input_tokens)\n",
    "    \n",
    "    # Get the output of the encoder's GRU which will be\n",
    "    # used as the initial state in the decoder's GRU.\n",
    "    # This could also have been the encoder's final state\n",
    "    # but that is really only necessary if the encoder\n",
    "    # and decoder use the LSTM instead of GRU because\n",
    "    # the LSTM has two internal states.\n",
    "    initial_state,hidden_state= model_encoder.predict(input_tokens)\n",
    "    #print(\"Encoder_output:\",initial_state.shape)\n",
    "    # Max number of tokens / words in the output sequence.\n",
    "    max_tokens =tokenizer_dest.max_tokens\n",
    "    #print(\"Tokens:\",max_tokens)\n",
    "\n",
    "    # Pre-allocate the 2-dim array used as input to the decoder.\n",
    "    # This holds just a single sequence of integer-tokens.\n",
    "    shape= (1, max_tokens)\n",
    "    decoder_input_data = np.zeros(shape=shape, dtype=np.int)\n",
    "    #print(decoder_input_data)\n",
    "    #decoder_input_data= [0 for x in range(max_tokens)]\n",
    "    # The first input-token is the special start-token for 'ssss '.\n",
    "    token_int = token_start\n",
    "\n",
    "    # Initialize an empty output-text.\n",
    "    output_text = ''\n",
    "\n",
    "    # Initialize the number of tokens we have processed.\n",
    "    count_tokens = 0\n",
    "\n",
    "    # While we haven't sampled the special end-token for ' eeee'\n",
    "    # and we haven't processed the max number of tokens.\n",
    "    while token_int != token_end and count_tokens < max_tokens:\n",
    "        # Update the input-sequence to the decoder\n",
    "        # with the last token that was sampled.\n",
    "        # In the first iteration this will set the\n",
    "        # first element to the start-token.\n",
    "        decoder_input_data[0,count_tokens]=token_int\n",
    "        # Wrap the input-data in a dict for clarity and safety,\n",
    "        # so we are sure we input the data in the right order.\n",
    "        x_data = \\\n",
    "        {\n",
    "           'decoder_initial_state': hidden_state,\n",
    "           'decoder_input': decoder_input_data,\n",
    "           'decoder_initial1':initial_state\n",
    "        }\n",
    "\n",
    "        # Note that we input the entire sequence of tokens\n",
    "        # to the decoder. This wastes a lot of computation\n",
    "        # because we are only interested in the last input\n",
    "        # and output. We could modify the code to return\n",
    "        # the GRU-states when calling predict() and then\n",
    "        # feeding these GRU-states as well the next time\n",
    "        # we call predict()\n",
    "\n",
    "        # Input this data to the decoder and get the predicted output.\n",
    "        decoder_output = model_decoder.predict(x_data)\n",
    "        #print(\"decoder output\",decoder_output.shape)\n",
    "        # Get the last predicted token as a one-hot encoded array.\n",
    "        token_onehot = decoder_output[0,count_tokens]\n",
    "        #print(\"Output predictrd:\",token_onehot.shape)\n",
    "        \n",
    "        # Convert to an integer-token.\n",
    "        token_int = np.argmax(token_onehot)\n",
    "        #print(\"High probability:\",token_int)\n",
    "\n",
    "        # Lookup the word corresponding to this integer-token.\n",
    "        sampled_word = tokenizer_dest.token_to_word(token_int)\n",
    "        #print(\"sampled word:\",sampled_word)\n",
    "\n",
    "        # Append the word to the output-text.\n",
    "        output_text += \" \" + sampled_word\n",
    "\n",
    "        # Increment the token-counter.\n",
    "        count_tokens+=1\n",
    "\n",
    "    # Sequence of tokens output by the decoder.\n",
    "    output_tokens = decoder_input_data[0]\n",
    "    print(\"Output Tokens:\",output_tokens)\n",
    "   \n",
    "    \n",
    "    # Print the input-text.\n",
    "    print(\"Input text:\")\n",
    "    print(input_text)\n",
    "    print()\n",
    "\n",
    "\n",
    "    print(\"Predicted output:\")\n",
    "    print(output_text)\n",
    "    print()\n",
    "\n",
    "    \n",
    "    if true_output_text is not None:\n",
    "        print(\"True output text:\")\n",
    "        print(true_output_text)\n",
    "        print()"
   ]
  },
  {
   "cell_type": "markdown",
   "metadata": {
    "colab_type": "text",
    "id": "wWAJ5WUV_fho"
   },
   "source": [
    "%%time\n",
    "result = model.evaluate(x_test_pad, y_test)\n",
    "print(\"Accuracy: {0:.2%}\".format(result[1]))"
   ]
  },
  {
   "cell_type": "code",
   "execution_count": 83,
   "metadata": {
    "colab": {
     "base_uri": "https://localhost:8080/",
     "height": 225
    },
    "colab_type": "code",
    "id": "ShDO_vsU_fho",
    "outputId": "07e7e1b4-f0a7-4bc5-b8e9-8f1d31f1dc4f"
   },
   "outputs": [
    {
     "name": "stdout",
     "output_type": "stream",
     "text": [
      "Output Tokens: [ 1 13 27  0  0  0  0  0  0  0  0  0  0  0  0  0  0  0  0  0  0  0  0  0]\n",
      "Input text:\n",
      "good news :-)\n",
      "\n",
      "\n",
      "Predicted output:\n",
      " hi there eeee\n",
      "\n",
      "True output text:\n",
      "ssss 😋😋Any news from your side? eeee\n",
      "\n",
      "\n"
     ]
    }
   ],
   "source": [
    "idx = 3\n",
    "response(input_text=data_src5[idx],\n",
    "          true_output_text=data_dest3[idx])"
   ]
  },
  {
   "cell_type": "code",
   "execution_count": 84,
   "metadata": {
    "colab": {
     "base_uri": "https://localhost:8080/",
     "height": 225
    },
    "colab_type": "code",
    "id": "ua__c0idMDgA",
    "outputId": "6ce42b58-9f65-4c53-a261-e94ba0099fa1"
   },
   "outputs": [
    {
     "name": "stdout",
     "output_type": "stream",
     "text": [
      "Output Tokens: [ 1 13 27 16 10  3 19  0  0  0  0  0  0  0  0  0  0  0  0  0  0  0  0  0]\n",
      "Input text:\n",
      "[START]\n",
      "\n",
      "\n",
      "Predicted output:\n",
      " hi there how are you 😁 eeee\n",
      "\n",
      "True output text:\n",
      "ssss Hi there, how are you!? 😁😁 eeee\n",
      "\n",
      "\n"
     ]
    }
   ],
   "source": [
    "idx = 0\n",
    "response(input_text=data_src4[idx],\n",
    "          true_output_text=data_dest2[idx])"
   ]
  },
  {
   "cell_type": "code",
   "execution_count": 85,
   "metadata": {
    "colab": {
     "base_uri": "https://localhost:8080/",
     "height": 243
    },
    "colab_type": "code",
    "id": "sByIBJhsMINO",
    "outputId": "41f9e213-bfe8-4e13-cfb4-058c3b6d3a4e"
   },
   "outputs": [
    {
     "name": "stdout",
     "output_type": "stream",
     "text": [
      "Output Tokens: [  1  28  48   7 902   0   0   0   0   0   0   0   0   0   0   0   0   0\n",
      "   0   0   0   0   0   0]\n",
      "Input text:\n",
      "Oh, thanks! I'm fine. This is an evening in my timezone\n",
      "\n",
      "\n",
      "Predicted output:\n",
      " 😄 here is afternoon eeee\n",
      "\n",
      "True output text:\n",
      "ssss 😄 here is afternoon! eeee\n",
      "\n",
      "\n"
     ]
    }
   ],
   "source": [
    "idx = 1\n",
    "response(input_text=data_src4[idx],\n",
    "          true_output_text=data_dest2[idx])"
   ]
  },
  {
   "cell_type": "markdown",
   "metadata": {
    "colab_type": "text",
    "id": "-0X8KQoG_fhr"
   },
   "source": [
    "idx = 5\n",
    "response(input_text=data_src3[idx],\n",
    "          true_output_text=data_dest1[idx])"
   ]
  },
  {
   "cell_type": "markdown",
   "metadata": {
    "colab_type": "text",
    "id": "Te9mi-jj_fhs"
   },
   "source": [
    "idx = 2\n",
    "response(input_text=data_src3[idx],\n",
    "          true_output_text=data_dest1[idx])"
   ]
  },
  {
   "cell_type": "markdown",
   "metadata": {
    "colab_type": "text",
    "id": "LHsIuidH_fht"
   },
   "source": [
    "idx = 15\n",
    "response(input_text=data_src3[idx],\n",
    "          true_output_text=data_dest1[idx])"
   ]
  },
  {
   "cell_type": "code",
   "execution_count": 86,
   "metadata": {
    "colab": {
     "base_uri": "https://localhost:8080/",
     "height": 208
    },
    "colab_type": "code",
    "id": "fUGT-icrPMMA",
    "outputId": "8bb46915-ad63-4f4a-81d3-1cd150fbc311"
   },
   "outputs": [
    {
     "name": "stdout",
     "output_type": "stream",
     "text": [
      "Output Tokens: [  1  44 290  28   0   0   0   0   0   0   0   0   0   0   0   0   0   0\n",
      "   0   0   0   0   0   0]\n",
      "Input text:\n",
      "good morning\n",
      "\n",
      "Predicted output:\n",
      " good morning 😄 eeee\n",
      "\n",
      "True output text:\n",
      "good morning\n",
      "\n"
     ]
    }
   ],
   "source": [
    "response(input_text=\"good morning\",\n",
    "          true_output_text='good morning')"
   ]
  },
  {
   "cell_type": "code",
   "execution_count": 87,
   "metadata": {
    "colab": {
     "base_uri": "https://localhost:8080/",
     "height": 191
    },
    "colab_type": "code",
    "id": "H24q6xXO_fhu",
    "outputId": "15bdc3f1-0320-4128-dc9f-0d26627350bf"
   },
   "outputs": [
    {
     "name": "stdout",
     "output_type": "stream",
     "text": [
      "Output Tokens: [ 1 13 16 10  3 19  0  0  0  0  0  0  0  0  0  0  0  0  0  0  0  0  0  0]\n",
      "Input text:\n",
      "hi\n",
      "\n",
      "Predicted output:\n",
      " hi how are you 😁 eeee\n",
      "\n",
      "True output text:\n",
      "hi\n",
      "\n"
     ]
    }
   ],
   "source": [
    "response(input_text=\"hi\",\n",
    "          true_output_text='hi')"
   ]
  },
  {
   "cell_type": "code",
   "execution_count": 88,
   "metadata": {
    "colab": {
     "base_uri": "https://localhost:8080/",
     "height": 191
    },
    "colab_type": "code",
    "id": "r6zM0nTIlc4Y",
    "outputId": "933b21f0-847a-400b-e5f0-41843e50c9bb"
   },
   "outputs": [
    {
     "name": "stdout",
     "output_type": "stream",
     "text": [
      "Output Tokens: [ 1 13 16 10  3  0  0  0  0  0  0  0  0  0  0  0  0  0  0  0  0  0  0  0]\n",
      "Input text:\n",
      "hello\n",
      "\n",
      "Predicted output:\n",
      " hi how are you eeee\n",
      "\n",
      "True output text:\n",
      "hello\n",
      "\n"
     ]
    }
   ],
   "source": [
    "response(input_text=\"hello\",\n",
    "          true_output_text='hello')"
   ]
  },
  {
   "cell_type": "code",
   "execution_count": 89,
   "metadata": {
    "colab": {
     "base_uri": "https://localhost:8080/",
     "height": 191
    },
    "colab_type": "code",
    "id": "h7xjDjJ7loww",
    "outputId": "4a34b670-5d86-4e5a-ff7a-995e1330d1d8"
   },
   "outputs": [
    {
     "name": "stdout",
     "output_type": "stream",
     "text": [
      "Output Tokens: [ 1 13 27  9 46 11  3 19  0  0  0  0  0  0  0  0  0  0  0  0  0  0  0  0]\n",
      "Input text:\n",
      "I'm fine what about you?\n",
      "\n",
      "Predicted output:\n",
      " hi there i'm fine and you 😁 eeee\n",
      "\n",
      "True output text:\n",
      "fine\n",
      "\n"
     ]
    }
   ],
   "source": [
    "response(input_text=\"I'm fine what about you?\",\n",
    "          true_output_text='fine')"
   ]
  },
  {
   "cell_type": "code",
   "execution_count": 90,
   "metadata": {
    "colab": {
     "base_uri": "https://localhost:8080/",
     "height": 191
    },
    "colab_type": "code",
    "id": "hrdK83bw_fhw",
    "outputId": "12fc2c66-ab50-47f1-d9cb-a24ef12658bd"
   },
   "outputs": [
    {
     "name": "stdout",
     "output_type": "stream",
     "text": [
      "Output Tokens: [ 1  9 46 51 76  5 23 86  5 50 36 19  0  0  0  0  0  0  0  0  0  0  0  0]\n",
      "Input text:\n",
      "I'm fine and you?\n",
      "\n",
      "Predicted output:\n",
      " i'm fine too happy to have someone to talk with 😁 eeee\n",
      "\n",
      "True output text:\n",
      "fine\n",
      "\n"
     ]
    }
   ],
   "source": [
    "response(input_text=\"I'm fine and you?\",\n",
    "          true_output_text='fine')"
   ]
  },
  {
   "cell_type": "code",
   "execution_count": 91,
   "metadata": {
    "colab": {
     "base_uri": "https://localhost:8080/",
     "height": 208
    },
    "colab_type": "code",
    "id": "2EXgPk7rQl5Z",
    "outputId": "8c2b3c17-144a-42f3-8d2b-f04800750311"
   },
   "outputs": [
    {
     "name": "stdout",
     "output_type": "stream",
     "text": [
      "Output Tokens: [  1 166 465   0   0   0   0   0   0   0   0   0   0   0   0   0   0   0\n",
      "   0   0   0   0   0   0]\n",
      "Input text:\n",
      "What are you doing now?\n",
      "\n",
      "Predicted output:\n",
      " nothing bored eeee\n",
      "\n",
      "True output text:\n",
      "Right now I am chatting with you!\n",
      "\n"
     ]
    }
   ],
   "source": [
    "response(input_text=\"What are you doing now?\",\n",
    "          true_output_text='Right now I am chatting with you!')"
   ]
  },
  {
   "cell_type": "code",
   "execution_count": 92,
   "metadata": {
    "colab": {
     "base_uri": "https://localhost:8080/",
     "height": 208
    },
    "colab_type": "code",
    "id": "OnFWmcUtmCvI",
    "outputId": "a08727c3-18ba-48fc-bfef-bde3fb07b250"
   },
   "outputs": [
    {
     "name": "stdout",
     "output_type": "stream",
     "text": [
      "Output Tokens: [  1 130  98  12  12   7 469   0   0   0   0   0   0   0   0   0   0   0\n",
      "   0   0   0   0   0   0]\n",
      "Input text:\n",
      "what you think about robot?\n",
      "\n",
      "Predicted output:\n",
      " i've really that that is users eeee\n",
      "\n",
      "True output text:\n",
      "\n",
      "\n"
     ]
    }
   ],
   "source": [
    "response(input_text=\"what you think about robot?\",\n",
    "          true_output_text='')"
   ]
  },
  {
   "cell_type": "code",
   "execution_count": 93,
   "metadata": {
    "colab": {
     "base_uri": "https://localhost:8080/",
     "height": 208
    },
    "colab_type": "code",
    "id": "X7QYRAV4Q_Ug",
    "outputId": "52406e64-f4d0-4018-d72e-2df95dea8fcd"
   },
   "outputs": [
    {
     "name": "stdout",
     "output_type": "stream",
     "text": [
      "Output Tokens: [  1  37  26   7 213   0   0   0   0   0   0   0   0   0   0   0   0   0\n",
      "   0   0   0   0   0   0]\n",
      "Input text:\n",
      "Are you robot?\n",
      "\n",
      "Predicted output:\n",
      " yes what is fun eeee\n",
      "\n",
      "True output text:\n",
      " Yes I am! 😄Are you a real human?\n",
      "\n"
     ]
    }
   ],
   "source": [
    "response(input_text=\"Are you robot?\",\n",
    "          true_output_text=' Yes I am! 😄Are you a real human?')"
   ]
  },
  {
   "cell_type": "code",
   "execution_count": 94,
   "metadata": {
    "colab": {
     "base_uri": "https://localhost:8080/",
     "height": 208
    },
    "colab_type": "code",
    "id": "jUwDh1X3_fhz",
    "outputId": "a65c1983-7dc3-477d-fa8c-dd6c2c42bcef"
   },
   "outputs": [
    {
     "name": "stdout",
     "output_type": "stream",
     "text": [
      "Output Tokens: [  1  29 124   7  52  24   3  22 118  15 112  42   0   0   0   0   0   0\n",
      "   0   0   0   0   0   0]\n",
      "Input text:\n",
      "what is your name?\n",
      "\n",
      "Predicted output:\n",
      " my name is rdany but you can call me dany ☺️ eeee\n",
      "\n",
      "True output text:\n",
      "robot\n",
      "\n"
     ]
    }
   ],
   "source": [
    "response(input_text=\"what is your name?\",\n",
    "          true_output_text='robot')"
   ]
  },
  {
   "cell_type": "code",
   "execution_count": 95,
   "metadata": {
    "colab": {
     "base_uri": "https://localhost:8080/",
     "height": 191
    },
    "colab_type": "code",
    "id": "t3mLfSsbm3f4",
    "outputId": "929605a2-0201-4b55-8718-bae7dcb8897b"
   },
   "outputs": [
    {
     "name": "stdout",
     "output_type": "stream",
     "text": [
      "Output Tokens: [ 1 30  9 48  0  0  0  0  0  0  0  0  0  0  0  0  0  0  0  0  0  0  0  0]\n",
      "Input text:\n",
      "you are rdany?\n",
      "\n",
      "Predicted output:\n",
      " nice i'm here eeee\n",
      "\n",
      "True output text:\n",
      "robot\n",
      "\n"
     ]
    }
   ],
   "source": [
    "response(input_text=\"you are rdany?\",\n",
    "          true_output_text='robot')"
   ]
  },
  {
   "cell_type": "code",
   "execution_count": 96,
   "metadata": {
    "colab": {
     "base_uri": "https://localhost:8080/",
     "height": 191
    },
    "colab_type": "code",
    "id": "66l09sUq_fh2",
    "outputId": "ccb9b3ea-9e86-4b84-93c8-200b95dc086d"
   },
   "outputs": [
    {
     "name": "stdout",
     "output_type": "stream",
     "text": [
      "Output Tokens: [ 1  9  6 53  0  0  0  0  0  0  0  0  0  0  0  0  0  0  0  0  0  0  0  0]\n",
      "Input text:\n",
      "you are human or robot?\n",
      "\n",
      "Predicted output:\n",
      " i'm a robot eeee\n",
      "\n",
      "True output text:\n",
      "robot\n",
      "\n"
     ]
    }
   ],
   "source": [
    "response(input_text=\"you are human or robot?\",\n",
    "          true_output_text='robot')"
   ]
  },
  {
   "cell_type": "code",
   "execution_count": 97,
   "metadata": {
    "colab": {
     "base_uri": "https://localhost:8080/",
     "height": 208
    },
    "colab_type": "code",
    "id": "man_zxw8_fh4",
    "outputId": "e02b6257-5325-488f-ed37-5925073fcec1"
   },
   "outputs": [
    {
     "name": "stdout",
     "output_type": "stream",
     "text": [
      "Output Tokens: [  1   9  61 115 233  14   8 121 509   0   0   0   0   0   0   0   0   0\n",
      "   0   0   0   0   0   0]\n",
      "Input text:\n",
      "you are man or woman?\n",
      "\n",
      "Predicted output:\n",
      " i'm from argentina south of the world xd eeee\n",
      "\n",
      "True output text:\n",
      "robot\n",
      "\n"
     ]
    }
   ],
   "source": [
    "response(input_text=\"you are man or woman?\",\n",
    "          true_output_text='robot')"
   ]
  },
  {
   "cell_type": "code",
   "execution_count": 98,
   "metadata": {
    "colab": {
     "base_uri": "https://localhost:8080/",
     "height": 191
    },
    "colab_type": "code",
    "id": "LG9OETln_fh8",
    "outputId": "6966360f-6677-40fd-8616-68bea02feb8d"
   },
   "outputs": [
    {
     "name": "stdout",
     "output_type": "stream",
     "text": [
      "Output Tokens: [ 1  9  6 53  0  0  0  0  0  0  0  0  0  0  0  0  0  0  0  0  0  0  0  0]\n",
      "Input text:\n",
      "you are human or woman?\n",
      "\n",
      "Predicted output:\n",
      " i'm a robot eeee\n",
      "\n",
      "True output text:\n",
      "robot\n",
      "\n"
     ]
    }
   ],
   "source": [
    "response(input_text=\"you are human or woman?\",\n",
    "          true_output_text='robot')"
   ]
  },
  {
   "cell_type": "code",
   "execution_count": 99,
   "metadata": {
    "colab": {
     "base_uri": "https://localhost:8080/",
     "height": 208
    },
    "colab_type": "code",
    "id": "iqgG75MX_fh-",
    "outputId": "914aa5ff-5cc7-450f-c959-bce2dfb0dd26"
   },
   "outputs": [
    {
     "name": "stdout",
     "output_type": "stream",
     "text": [
      "Output Tokens: [  1  29  43  10  54 126   8 172  43   4 182   7   0   0   0   0   0   0\n",
      "   0   0   0   0   0   0]\n",
      "Input text:\n",
      "In which year you are born\n",
      "\n",
      "Predicted output:\n",
      " my time are understand at the same time i hope is eeee\n",
      "\n",
      "True output text:\n",
      "2020.\n",
      "\n"
     ]
    }
   ],
   "source": [
    "response(input_text=\"In which year you are born\",\n",
    "          true_output_text='2020.')"
   ]
  },
  {
   "cell_type": "code",
   "execution_count": 100,
   "metadata": {
    "colab": {
     "base_uri": "https://localhost:8080/",
     "height": 208
    },
    "colab_type": "code",
    "id": "05Zg2WuOjO1y",
    "outputId": "2467b22c-34a6-4946-ec15-39f7fff83b2f"
   },
   "outputs": [
    {
     "name": "stdout",
     "output_type": "stream",
     "text": [
      "Output Tokens: [  1   9  61 115 233  14   8 121 509   0   0   0   0   0   0   0   0   0\n",
      "   0   0   0   0   0   0]\n",
      "Input text:\n",
      "where are you from?\n",
      "\n",
      "Predicted output:\n",
      " i'm from argentina south of the world xd eeee\n",
      "\n",
      "True output text:\n",
      "India\n",
      "\n"
     ]
    }
   ],
   "source": [
    "response(input_text=\"where are you from?\",\n",
    "          true_output_text='India')"
   ]
  },
  {
   "cell_type": "code",
   "execution_count": 101,
   "metadata": {
    "colab": {
     "base_uri": "https://localhost:8080/",
     "height": 191
    },
    "colab_type": "code",
    "id": "YIdiYMWCj05z",
    "outputId": "27f1f389-89e5-43d5-dadc-bb42d6f5c9e2"
   },
   "outputs": [
    {
     "name": "stdout",
     "output_type": "stream",
     "text": [
      "Output Tokens: [ 1 42  0  0  0  0  0  0  0  0  0  0  0  0  0  0  0  0  0  0  0  0  0  0]\n",
      "Input text:\n",
      "why are we here ?\n",
      "\n",
      "Predicted output:\n",
      " ☺️ eeee\n",
      "\n",
      "True output text:\n",
      "i do not know\n",
      "\n"
     ]
    }
   ],
   "source": [
    "response(input_text=\"why are we here ?\",\n",
    "          true_output_text='i do not know')"
   ]
  },
  {
   "cell_type": "code",
   "execution_count": 102,
   "metadata": {
    "colab": {
     "base_uri": "https://localhost:8080/",
     "height": 208
    },
    "colab_type": "code",
    "id": "e6ObtpZt_fiC",
    "outputId": "28c10e84-eac0-468e-98bd-7f905ce11ff9"
   },
   "outputs": [
    {
     "name": "stdout",
     "output_type": "stream",
     "text": [
      "Output Tokens: [  1  37   9   5  25   6 254  43 126   8 121 571 240   0   0   0   0   0\n",
      "   0   0   0   0   0   0]\n",
      "Input text:\n",
      " do you have ai?\n",
      "\n",
      "Predicted output:\n",
      " yes i'm to be a long time at the world developed times eeee\n",
      "\n",
      "True output text:\n",
      "yes\n",
      "\n"
     ]
    }
   ],
   "source": [
    "response(input_text=\" do you have ai?\",\n",
    "          true_output_text='yes')"
   ]
  },
  {
   "cell_type": "code",
   "execution_count": 103,
   "metadata": {
    "colab": {
     "base_uri": "https://localhost:8080/",
     "height": 208
    },
    "colab_type": "code",
    "id": "qZcZEEmL2ylY",
    "outputId": "c282a128-51a5-45e0-ed3e-1c4cebaf9ffe"
   },
   "outputs": [
    {
     "name": "stdout",
     "output_type": "stream",
     "text": [
      "Output Tokens: [  1 166  31 480  26   0   0   0   0   0   0   0   0   0   0   0   0   0\n",
      "   0   0   0   0   0   0]\n",
      "Input text:\n",
      "have you use ai?\n",
      "\n",
      "Predicted output:\n",
      " nothing in particular what eeee\n",
      "\n",
      "True output text:\n",
      "yes\n",
      "\n"
     ]
    }
   ],
   "source": [
    "response(input_text=\"have you use ai?\",\n",
    "          true_output_text='yes')"
   ]
  },
  {
   "cell_type": "code",
   "execution_count": 104,
   "metadata": {
    "colab": {
     "base_uri": "https://localhost:8080/",
     "height": 191
    },
    "colab_type": "code",
    "id": "8Y9BO7Ef3o52",
    "outputId": "814ae9a5-9f34-4515-8e50-559ccbae283a"
   },
   "outputs": [
    {
     "name": "stdout",
     "output_type": "stream",
     "text": [
      "Output Tokens: [ 1  7 20  0  0  0  0  0  0  0  0  0  0  0  0  0  0  0  0  0  0  0  0  0]\n",
      "Input text:\n",
      "what is ai?\n",
      "\n",
      "Predicted output:\n",
      " is like eeee\n",
      "\n",
      "True output text:\n",
      "atificial intelligent\n",
      "\n"
     ]
    }
   ],
   "source": [
    "response(input_text=\"what is ai?\",\n",
    "          true_output_text='atificial intelligent')"
   ]
  },
  {
   "cell_type": "code",
   "execution_count": 105,
   "metadata": {
    "colab": {
     "base_uri": "https://localhost:8080/",
     "height": 191
    },
    "colab_type": "code",
    "id": "nn0fycUF34Ae",
    "outputId": "d4258dd6-4194-4dd8-fa83-fe195db7f2b5"
   },
   "outputs": [
    {
     "name": "stdout",
     "output_type": "stream",
     "text": [
      "Output Tokens: [ 1 30  4 18 54 19  0  0  0  0  0  0  0  0  0  0  0  0  0  0  0  0  0  0]\n",
      "Input text:\n",
      "what is aiml?\n",
      "\n",
      "Predicted output:\n",
      " nice i don't understand 😁 eeee\n",
      "\n",
      "True output text:\n",
      "atificial intelligent markup language\n",
      "\n"
     ]
    }
   ],
   "source": [
    "response(input_text=\"what is aiml?\",\n",
    "          true_output_text='atificial intelligent markup language')"
   ]
  },
  {
   "cell_type": "code",
   "execution_count": 106,
   "metadata": {
    "colab": {
     "base_uri": "https://localhost:8080/",
     "height": 191
    },
    "colab_type": "code",
    "id": "uIT62Yjh_fiE",
    "outputId": "70952cd5-bc71-4eb1-ae41-0923defecaca"
   },
   "outputs": [
    {
     "name": "stdout",
     "output_type": "stream",
     "text": [
      "Output Tokens: [ 1 37  0  0  0  0  0  0  0  0  0  0  0  0  0  0  0  0  0  0  0  0  0  0]\n",
      "Input text:\n",
      "can you understand english??\n",
      "\n",
      "Predicted output:\n",
      " yes eeee\n",
      "\n",
      "True output text:\n",
      "yes\n",
      "\n"
     ]
    }
   ],
   "source": [
    "response(input_text=\"can you understand english??\",\n",
    "          true_output_text='yes')"
   ]
  },
  {
   "cell_type": "code",
   "execution_count": 107,
   "metadata": {
    "colab": {
     "base_uri": "https://localhost:8080/",
     "height": 208
    },
    "colab_type": "code",
    "id": "7t4P91l0_fiH",
    "outputId": "8bc9db3e-ea7f-4051-aa62-f84e0ee4685f"
   },
   "outputs": [
    {
     "name": "stdout",
     "output_type": "stream",
     "text": [
      "Output Tokens: [  1 235   0   0   0   0   0   0   0   0   0   0   0   0   0   0   0   0\n",
      "   0   0   0   0   0   0]\n",
      "Input text:\n",
      "ok bye!\n",
      "\n",
      "Predicted output:\n",
      " 😁😁😁 eeee\n",
      "\n",
      "True output text:\n",
      "bye\n",
      "\n"
     ]
    }
   ],
   "source": [
    "response(input_text=\"ok bye!\",\n",
    "          true_output_text='bye')"
   ]
  },
  {
   "cell_type": "code",
   "execution_count": 108,
   "metadata": {
    "colab": {
     "base_uri": "https://localhost:8080/",
     "height": 208
    },
    "colab_type": "code",
    "id": "4oUsm9wrkguL",
    "outputId": "3b65436c-76ea-4c22-ebcc-5aae12c840cd"
   },
   "outputs": [
    {
     "name": "stdout",
     "output_type": "stream",
     "text": [
      "Output Tokens: [  1   4  54   5 125 135  28   0   0   0   0   0   0   0   0   0   0   0\n",
      "   0   0   0   0   0   0]\n",
      "Input text:\n",
      "see you later\n",
      "\n",
      "Predicted output:\n",
      " i understand to learn any 😄 eeee\n",
      "\n",
      "True output text:\n",
      "okk\n",
      "\n"
     ]
    }
   ],
   "source": [
    "response(input_text=\"see you later\",\n",
    "          true_output_text='okk')"
   ]
  },
  {
   "cell_type": "code",
   "execution_count": 109,
   "metadata": {
    "colab": {
     "base_uri": "https://localhost:8080/",
     "height": 208
    },
    "colab_type": "code",
    "id": "Zu9nNdvYlF2d",
    "outputId": "f39d4f1a-70ce-4615-8b95-52affe4ef3f1"
   },
   "outputs": [
    {
     "name": "stdout",
     "output_type": "stream",
     "text": [
      "Output Tokens: [  1  92 150 239  28   0   0   0   0   0   0   0   0   0   0   0   0   0\n",
      "   0   0   0   0   0   0]\n",
      "Input text:\n",
      "Hola!\n",
      "\n",
      "Predicted output:\n",
      " hola como estás 😄 eeee\n",
      "\n",
      "True output text:\n",
      "Hello\n",
      "\n"
     ]
    }
   ],
   "source": [
    "response(input_text=\"Hola!\",\n",
    "          true_output_text='Hello')"
   ]
  },
  {
   "cell_type": "code",
   "execution_count": 141,
   "metadata": {
    "colab": {
     "base_uri": "https://localhost:8080/",
     "height": 228
    },
    "colab_type": "code",
    "id": "k7JKlMGg_fiK",
    "outputId": "b46a8b50-c63f-48c2-cd79-f235b1f2f1ea"
   },
   "outputs": [
    {
     "name": "stdout",
     "output_type": "stream",
     "text": [
      "Output Tokens: [   1  211    5   78  553  988  886 1185   67    7    6 1314   11  299\n",
      "    6  836  393  346  282  407  406 1315   31    6]\n",
      "Input text:\n",
      "do you have any programming language?\n",
      "\n",
      "Predicted output:\n",
      " according to wikipedia justin drew bieber born now is a canadian and after a talent him through his youtube videos songs in a band\n",
      "\n",
      "True output text:\n",
      "yes\n",
      "\n"
     ]
    }
   ],
   "source": [
    "response(input_text=\"do you have any programming language?\",\n",
    "          true_output_text='yes')"
   ]
  },
  {
   "cell_type": "code",
   "execution_count": 111,
   "metadata": {
    "colab": {
     "base_uri": "https://localhost:8080/",
     "height": 191
    },
    "colab_type": "code",
    "id": "c5lP5YQJ_fiM",
    "outputId": "9d8b7759-f152-4254-a440-b423898aff79"
   },
   "outputs": [
    {
     "name": "stdout",
     "output_type": "stream",
     "text": [
      "Output Tokens: [ 1 30  4 20 11  3  0  0  0  0  0  0  0  0  0  0  0  0  0  0  0  0  0  0]\n",
      "Input text:\n",
      "Whats your plan for weekend?\n",
      "\n",
      "Predicted output:\n",
      " nice i like and you eeee\n",
      "\n",
      "True output text:\n",
      "i dont know\n",
      "\n"
     ]
    }
   ],
   "source": [
    "response(input_text=\"Whats your plan for weekend?\",\n",
    "          true_output_text='i dont know')"
   ]
  },
  {
   "cell_type": "code",
   "execution_count": 112,
   "metadata": {
    "colab": {
     "base_uri": "https://localhost:8080/",
     "height": 208
    },
    "colab_type": "code",
    "id": "_e2LMY6S_fiQ",
    "outputId": "f228f031-86c4-44f4-c66e-a7df316ed96a"
   },
   "outputs": [
    {
     "name": "stdout",
     "output_type": "stream",
     "text": [
      "Output Tokens: [  1  67   9  34  11  41 126   6 230 196   0   0   0   0   0   0   0   0\n",
      "   0   0   0   0   0   0]\n",
      "Input text:\n",
      "what do you do?\n",
      "\n",
      "Predicted output:\n",
      " now i'm not and some at a bad thing eeee\n",
      "\n",
      "True output text:\n",
      "doctor\n",
      "\n"
     ]
    }
   ],
   "source": [
    "response(input_text=\"what do you do?\",\n",
    "          true_output_text='doctor')"
   ]
  },
  {
   "cell_type": "code",
   "execution_count": 145,
   "metadata": {
    "colab": {
     "base_uri": "https://localhost:8080/",
     "height": 208
    },
    "colab_type": "code",
    "id": "3pI7IW3N2NqU",
    "outputId": "e8479093-10ea-41cc-d537-d2012e4428ab"
   },
   "outputs": [
    {
     "name": "stdout",
     "output_type": "stream",
     "text": [
      "Output Tokens: [  1 130  20 190   0   0   0   0   0   0   0   0   0   0   0   0   0   0\n",
      "   0   0   0   0   0   0]\n",
      "Input text:\n",
      "what is your job?\n",
      "\n",
      "Predicted output:\n",
      " i've like friends eeee\n",
      "\n",
      "True output text:\n",
      "doctor\n",
      "\n"
     ]
    }
   ],
   "source": [
    "response(input_text=\"what is your job?\",\n",
    "          true_output_text='doctor')"
   ]
  },
  {
   "cell_type": "code",
   "execution_count": 146,
   "metadata": {
    "colab": {
     "base_uri": "https://localhost:8080/",
     "height": 208
    },
    "colab_type": "code",
    "id": "IbF2vClx_fiS",
    "outputId": "01abbd70-ba7d-4ba7-eee6-61c6a47c3ad1"
   },
   "outputs": [
    {
     "name": "stdout",
     "output_type": "stream",
     "text": [
      "Output Tokens: [  1   9 192 247   0   0   0   0   0   0   0   0   0   0   0   0   0   0\n",
      "   0   0   0   0   0   0]\n",
      "Input text:\n",
      "how old are you?\n",
      "\n",
      "Predicted output:\n",
      " i'm 22 😜 eeee\n",
      "\n",
      "True output text:\n",
      "18\n",
      "\n"
     ]
    }
   ],
   "source": [
    "response(input_text=\"how old are you?\",\n",
    "          true_output_text='18')"
   ]
  },
  {
   "cell_type": "code",
   "execution_count": 114,
   "metadata": {
    "colab": {
     "base_uri": "https://localhost:8080/",
     "height": 208
    },
    "colab_type": "code",
    "id": "QGG7gwea1Wal",
    "outputId": "76285438-ea04-4290-b8ef-319e639b2dba"
   },
   "outputs": [
    {
     "name": "stdout",
     "output_type": "stream",
     "text": [
      "Output Tokens: [  1  46  11   3  12  33 209   0   0   0   0   0   0   0   0   0   0   0\n",
      "   0   0   0   0   0   0]\n",
      "Input text:\n",
      "Is battery important to you?\n",
      "\n",
      "Predicted output:\n",
      " fine and you that on english eeee\n",
      "\n",
      "True output text:\n",
      "yes\n",
      "\n"
     ]
    }
   ],
   "source": [
    "response(input_text=\"Is battery important to you?\",\n",
    "          true_output_text='yes')"
   ]
  },
  {
   "cell_type": "code",
   "execution_count": 115,
   "metadata": {
    "colab": {
     "base_uri": "https://localhost:8080/",
     "height": 208
    },
    "colab_type": "code",
    "id": "nVAx7oYA8qP6",
    "outputId": "e1c50214-fbab-408d-9fd6-0a5fc36afaf1"
   },
   "outputs": [
    {
     "name": "stdout",
     "output_type": "stream",
     "text": [
      "Output Tokens: [  1  99  67   8 120 896  95 168 154  52  14 230 109 168  86  87  60   0\n",
      "   0   0   0   0   0   0]\n",
      "Input text:\n",
      "Do you use any programming language?\n",
      "\n",
      "Predicted output:\n",
      " exactly now the bit muerte by t robots rdany of bad https t someone or 😅 eeee\n",
      "\n",
      "True output text:\n",
      "yes\n",
      "\n"
     ]
    }
   ],
   "source": [
    "response(input_text=\"Do you use any programming language?\",\n",
    "          true_output_text='yes')"
   ]
  },
  {
   "cell_type": "code",
   "execution_count": 116,
   "metadata": {
    "colab": {
     "base_uri": "https://localhost:8080/",
     "height": 191
    },
    "colab_type": "code",
    "id": "WIOSoxWn9JO6",
    "outputId": "31ccd006-6892-4e67-a231-17a597160622"
   },
   "outputs": [
    {
     "name": "stdout",
     "output_type": "stream",
     "text": [
      "Output Tokens: [ 1 37  8 80 51  0  0  0  0  0  0  0  0  0  0  0  0  0  0  0  0  0  0  0]\n",
      "Input text:\n",
      "do you have yourid?\n",
      "\n",
      "Predicted output:\n",
      " yes the people too eeee\n",
      "\n",
      "True output text:\n",
      "yes\n",
      "\n"
     ]
    }
   ],
   "source": [
    "response(input_text=\"do you have yourid?\",\n",
    "          true_output_text='yes')"
   ]
  },
  {
   "cell_type": "code",
   "execution_count": 117,
   "metadata": {
    "colab": {
     "base_uri": "https://localhost:8080/",
     "height": 191
    },
    "colab_type": "code",
    "id": "uUVTZ_TD90xJ",
    "outputId": "0cf54ce9-cd77-4ca7-8c71-72e9d1beaf39"
   },
   "outputs": [
    {
     "name": "stdout",
     "output_type": "stream",
     "text": [
      "Output Tokens: [ 1 37  0  0  0  0  0  0  0  0  0  0  0  0  0  0  0  0  0  0  0  0  0  0]\n",
      "Input text:\n",
      "Do you know about battery?\n",
      "\n",
      "Predicted output:\n",
      " yes eeee\n",
      "\n",
      "True output text:\n",
      "yes\n",
      "\n"
     ]
    }
   ],
   "source": [
    "response(input_text=\"Do you know about battery?\",\n",
    "          true_output_text='yes')"
   ]
  },
  {
   "cell_type": "code",
   "execution_count": 118,
   "metadata": {
    "colab": {
     "base_uri": "https://localhost:8080/",
     "height": 191
    },
    "colab_type": "code",
    "id": "tctn5l6r_lxd",
    "outputId": "0e6b0736-13de-43c0-cae0-61069309df65"
   },
   "outputs": [
    {
     "name": "stdout",
     "output_type": "stream",
     "text": [
      "Output Tokens: [ 1 21  7 15 95 15  0  0  0  0  0  0  0  0  0  0  0  0  0  0  0  0  0  0]\n",
      "Input text:\n",
      "who is Robot?\n",
      "\n",
      "Predicted output:\n",
      " it is me by me eeee\n",
      "\n",
      "True output text:\n",
      "yes\n",
      "\n"
     ]
    }
   ],
   "source": [
    "response(input_text=\"who is Robot?\",\n",
    "          true_output_text='yes')"
   ]
  },
  {
   "cell_type": "code",
   "execution_count": 119,
   "metadata": {
    "colab": {
     "base_uri": "https://localhost:8080/",
     "height": 208
    },
    "colab_type": "code",
    "id": "QXifg6omAFfh",
    "outputId": "5fe0a6a4-4796-46d7-de1e-d0f7a1cbe727"
   },
   "outputs": [
    {
     "name": "stdout",
     "output_type": "stream",
     "text": [
      "Output Tokens: [  1  81   7   8 196   0   0   0   0   0   0   0   0   0   0   0   0   0\n",
      "   0   0   0   0   0   0]\n",
      "Input text:\n",
      "how many legs does a dog have ?\n",
      "\n",
      "Predicted output:\n",
      " one is the thing eeee\n",
      "\n",
      "True output text:\n",
      "four\n",
      "\n"
     ]
    }
   ],
   "source": [
    "response(input_text=\"how many legs does a dog have ?\",\n",
    "          true_output_text='four')"
   ]
  },
  {
   "cell_type": "code",
   "execution_count": 120,
   "metadata": {
    "colab": {
     "base_uri": "https://localhost:8080/",
     "height": 191
    },
    "colab_type": "code",
    "id": "dwQZP2uIBun0",
    "outputId": "4d11d85f-c8fb-4af0-cf75-79214859dc0f"
   },
   "outputs": [
    {
     "name": "stdout",
     "output_type": "stream",
     "text": [
      "Output Tokens: [ 1 13 27 10  3  0  0  0  0  0  0  0  0  0  0  0  0  0  0  0  0  0  0  0]\n",
      "Input text:\n",
      "r menas robot?\n",
      "\n",
      "Predicted output:\n",
      " hi there are you eeee\n",
      "\n",
      "True output text:\n",
      "yes\n",
      "\n"
     ]
    }
   ],
   "source": [
    "response(input_text=\"r menas robot?\",\n",
    "          true_output_text='yes')"
   ]
  },
  {
   "cell_type": "code",
   "execution_count": 121,
   "metadata": {
    "colab": {
     "base_uri": "https://localhost:8080/",
     "height": 208
    },
    "colab_type": "code",
    "id": "sZiTeOGaA6tK",
    "outputId": "caef7566-4599-42b2-9ceb-68cd84d72a9b"
   },
   "outputs": [
    {
     "name": "stdout",
     "output_type": "stream",
     "text": [
      "Output Tokens: [   1  534  221   40 1130  105    0    0    0    0    0    0    0    0\n",
      "    0    0    0    0    0    0    0    0    0    0]\n",
      "Input text:\n",
      "Who loves dog?\n",
      "\n",
      "Predicted output:\n",
      " aún tengo que practicar 😱 eeee\n",
      "\n",
      "True output text:\n",
      "cat\n",
      "\n"
     ]
    }
   ],
   "source": [
    "response(input_text=\"Who loves dog?\",\n",
    "          true_output_text='cat')"
   ]
  },
  {
   "cell_type": "code",
   "execution_count": 122,
   "metadata": {
    "colab": {
     "base_uri": "https://localhost:8080/",
     "height": 208
    },
    "colab_type": "code",
    "id": "h-Ah-ezFCLzs",
    "outputId": "9d934b97-867b-4b7a-f43a-8fd85549480e"
   },
   "outputs": [
    {
     "name": "stdout",
     "output_type": "stream",
     "text": [
      "Output Tokens: [  1  13  27  27  10 401  24  50   5 431  42   0   0   0   0   0   0   0\n",
      "   0   0   0   0   0   0]\n",
      "Input text:\n",
      "what is earth?\n",
      "\n",
      "Predicted output:\n",
      " hi there there are voice but talk to hurt ☺️ eeee\n",
      "\n",
      "True output text:\n",
      "blue\n",
      "\n"
     ]
    }
   ],
   "source": [
    "response(input_text=\"what is earth?\",\n",
    "          true_output_text='blue')"
   ]
  },
  {
   "cell_type": "code",
   "execution_count": 123,
   "metadata": {
    "colab": {
     "base_uri": "https://localhost:8080/",
     "height": 191
    },
    "colab_type": "code",
    "id": "7ZG8vDgPCrMO",
    "outputId": "56073383-6e7e-49d7-9711-00b4254b9633"
   },
   "outputs": [
    {
     "name": "stdout",
     "output_type": "stream",
     "text": [
      "Output Tokens: [ 1 13 27 10  3  0  0  0  0  0  0  0  0  0  0  0  0  0  0  0  0  0  0  0]\n",
      "Input text:\n",
      "my name is urali . what is my name ?\n",
      "\n",
      "Predicted output:\n",
      " hi there are you eeee\n",
      "\n",
      "True output text:\n",
      "urali\n",
      "\n"
     ]
    }
   ],
   "source": [
    "response(input_text=\"my name is urali . what is my name ?\",\n",
    "          true_output_text='urali')"
   ]
  },
  {
   "cell_type": "code",
   "execution_count": 140,
   "metadata": {
    "colab": {
     "base_uri": "https://localhost:8080/",
     "height": 191
    },
    "colab_type": "code",
    "id": "Dc0H-aQexrBH",
    "outputId": "36cf0d18-0325-438c-9390-23bd71e990b2"
   },
   "outputs": [
    {
     "name": "stdout",
     "output_type": "stream",
     "text": [
      "Output Tokens: [ 1  9  6 53  0  0  0  0  0  0  0  0  0  0  0  0  0  0  0  0  0  0  0  0]\n",
      "Input text:\n",
      "are you a robot or a human ?\n",
      "\n",
      "Predicted output:\n",
      " i'm a robot eeee\n",
      "\n",
      "True output text:\n",
      "robot\n",
      "\n"
     ]
    }
   ],
   "source": [
    "response(input_text=\"are you a robot or a human ?\",\n",
    "          true_output_text='robot')"
   ]
  },
  {
   "cell_type": "code",
   "execution_count": 124,
   "metadata": {
    "colab": {
     "base_uri": "https://localhost:8080/",
     "height": 191
    },
    "colab_type": "code",
    "id": "PpcTnn8QGWAP",
    "outputId": "d66eb412-e77b-4032-f257-f14e689cf40e"
   },
   "outputs": [
    {
     "name": "stdout",
     "output_type": "stream",
     "text": [
      "Output Tokens: [ 1  9  6 53  0  0  0  0  0  0  0  0  0  0  0  0  0  0  0  0  0  0  0  0]\n",
      "Input text:\n",
      "are you a leader or a follower ?\n",
      "\n",
      "Predicted output:\n",
      " i'm a robot eeee\n",
      "\n",
      "True output text:\n",
      "follower\n",
      "\n"
     ]
    }
   ],
   "source": [
    "response(input_text=\"are you a leader or a follower ?\",\n",
    "          true_output_text='follower')"
   ]
  },
  {
   "cell_type": "code",
   "execution_count": 125,
   "metadata": {
    "colab": {
     "base_uri": "https://localhost:8080/",
     "height": 191
    },
    "colab_type": "code",
    "id": "zSF0iNsQGkUD",
    "outputId": "c2671b56-ae0c-428a-97c6-dae1d6cd67a3"
   },
   "outputs": [
    {
     "name": "stdout",
     "output_type": "stream",
     "text": [
      "Output Tokens: [ 1  9  6 53  0  0  0  0  0  0  0  0  0  0  0  0  0  0  0  0  0  0  0  0]\n",
      "Input text:\n",
      "are you a follower or a leader?\n",
      "\n",
      "Predicted output:\n",
      " i'm a robot eeee\n",
      "\n",
      "True output text:\n",
      "follower\n",
      "\n"
     ]
    }
   ],
   "source": [
    "response(input_text=\"are you a follower or a leader?\",\n",
    "          true_output_text='follower')"
   ]
  },
  {
   "cell_type": "code",
   "execution_count": 126,
   "metadata": {
    "colab": {
     "base_uri": "https://localhost:8080/",
     "height": 208
    },
    "colab_type": "code",
    "id": "aulu_U-jHmJp",
    "outputId": "924d9f54-b198-48b8-e9ba-8f5209d07eea"
   },
   "outputs": [
    {
     "name": "stdout",
     "output_type": "stream",
     "text": [
      "Output Tokens: [  1   9  61 115 233  14   8 121  17   3  20   5  17  31  66  43   0   0\n",
      "   0   0   0   0   0   0]\n",
      "Input text:\n",
      "are you have ai?\n",
      "\n",
      "Predicted output:\n",
      " i'm from argentina south of the world do you like to do in your time eeee\n",
      "\n",
      "True output text:\n",
      "yes\n",
      "\n"
     ]
    }
   ],
   "source": [
    "response(input_text=\"are you have ai?\",\n",
    "          true_output_text='yes')"
   ]
  },
  {
   "cell_type": "code",
   "execution_count": 142,
   "metadata": {
    "colab": {
     "base_uri": "https://localhost:8080/",
     "height": 191
    },
    "colab_type": "code",
    "id": "YJ1dSbOsJtqQ",
    "outputId": "cb9f8974-d4ea-4c1a-99ee-925493426f0b"
   },
   "outputs": [
    {
     "name": "stdout",
     "output_type": "stream",
     "text": [
      "Output Tokens: [1 7 0 0 0 0 0 0 0 0 0 0 0 0 0 0 0 0 0 0 0 0 0 0]\n",
      "Input text:\n",
      "what is the symbol for power in math?\n",
      "\n",
      "Predicted output:\n",
      " is eeee\n",
      "\n",
      "True output text:\n",
      "^\n",
      "\n"
     ]
    }
   ],
   "source": [
    "response(input_text=\"what is the symbol for power in math?\",\n",
    "          true_output_text='^')"
   ]
  },
  {
   "cell_type": "code",
   "execution_count": 128,
   "metadata": {
    "colab": {
     "base_uri": "https://localhost:8080/",
     "height": 208
    },
    "colab_type": "code",
    "id": "guB-C8pePtL_",
    "outputId": "c444dda2-9af9-46d8-c881-eec050519394"
   },
   "outputs": [
    {
     "name": "stdout",
     "output_type": "stream",
     "text": [
      "Output Tokens: [  1 136  79 894 302  39  40  40  75  40  75  40  75  79  74  42   0   0\n",
      "   0   0   0   0   0   0]\n",
      "Input text:\n",
      "2+2?\n",
      "\n",
      "Predicted output:\n",
      " si la conozco ya de que que un que un que un la y ☺️ eeee\n",
      "\n",
      "True output text:\n",
      "4\n",
      "\n"
     ]
    }
   ],
   "source": [
    "response(input_text=\"2+2?\",\n",
    "          true_output_text='4')"
   ]
  },
  {
   "cell_type": "code",
   "execution_count": 143,
   "metadata": {
    "colab": {
     "base_uri": "https://localhost:8080/",
     "height": 208
    },
    "colab_type": "code",
    "id": "I4iX_XGaUUH2",
    "outputId": "5ee82fa8-4394-4915-b342-e01dbacf38ac"
   },
   "outputs": [
    {
     "name": "stdout",
     "output_type": "stream",
     "text": [
      "Output Tokens: [  1  41 240  10  58  36  41  46  11 100  14   5  66  14 156  42   0   0\n",
      "   0   0   0   0   0   0]\n",
      "Input text:\n",
      "Who is prime minister of india?\n",
      "\n",
      "Predicted output:\n",
      " some times are sorry with some fine and love of to your of friend ☺️ eeee\n",
      "\n",
      "True output text:\n",
      "naredra modei\n",
      "\n"
     ]
    }
   ],
   "source": [
    "response(input_text=\"Who is prime minister of india?\",\n",
    "          true_output_text='naredra modei')"
   ]
  },
  {
   "cell_type": "code",
   "execution_count": 144,
   "metadata": {
    "colab": {
     "base_uri": "https://localhost:8080/",
     "height": 208
    },
    "colab_type": "code",
    "id": "q02Qa_qY1se-",
    "outputId": "16970291-046e-4dd4-89a4-994b7e942004"
   },
   "outputs": [
    {
     "name": "stdout",
     "output_type": "stream",
     "text": [
      "Output Tokens: [  1  21   7  49 196   0   0   0   0   0   0   0   0   0   0   0   0   0\n",
      "   0   0   0   0   0   0]\n",
      "Input text:\n",
      "What is computer science?\n",
      "\n",
      "Predicted output:\n",
      " it is about thing eeee\n",
      "\n",
      "True output text:\n",
      "4\n",
      "\n"
     ]
    }
   ],
   "source": [
    "response(input_text=\"What is computer science?\",\n",
    "          true_output_text='4')"
   ]
  },
  {
   "cell_type": "code",
   "execution_count": 130,
   "metadata": {
    "colab": {
     "base_uri": "https://localhost:8080/",
     "height": 208
    },
    "colab_type": "code",
    "id": "U79flzE3V_FA",
    "outputId": "81227a68-bfbd-4fb7-c9a4-ae5604559535"
   },
   "outputs": [
    {
     "name": "stdout",
     "output_type": "stream",
     "text": [
      "Output Tokens: [  1   9  61 115 233  14   8 121 509   0   0   0   0   0   0   0   0   0\n",
      "   0   0   0   0   0   0]\n",
      "Input text:\n",
      "Where are you now?\n",
      "\n",
      "Predicted output:\n",
      " i'm from argentina south of the world xd eeee\n",
      "\n",
      "True output text:\n",
      "4\n",
      "\n"
     ]
    }
   ],
   "source": [
    "response(input_text=\"Where are you now?\",\n",
    "          true_output_text='4')"
   ]
  },
  {
   "cell_type": "markdown",
   "metadata": {
    "colab_type": "text",
    "id": "cbND6Uh9_fiV"
   },
   "source": [
    "In this implementation remaining the validation and testing part.\n",
    "about early stopping,callbacks and checkpoints."
   ]
  },
  {
   "cell_type": "markdown",
   "metadata": {
    "colab_type": "text",
    "id": "3J8wRVEs_fiW"
   },
   "source": [
    "In seq2seq model decoder using a greedy decoding.\n",
    "\n",
    "We saw how to generate (or “decode”) the response sentence by\n",
    "taking argmax on each step of the decoder.\n",
    "\n",
    "This is greedy decoding (take most probable word on each step)\n",
    "\n",
    "Problems with this method?\n",
    "\n",
    "Greedy decoding has no way to undo decisions!\n",
    "• Input: how are you?\n",
    "(i am fine thanks for asking me)\n",
    "•  i  ____\n",
    "• i am ____\n",
    "• i am thanks ____\n",
    "(no going back now...)\n",
    "\n",
    "This problem solve using two solution\n",
    "\n",
    "1)Exhaustive search decoding\n",
    "2)Beam search decoding\n",
    "\n",
    "Sequence-to-sequence: the bottleneck problem\n",
    "\n",
    "Encoding of the input sentence this needs to capture all information about the input sentence.\n",
    "Information bottleneck!\n",
    "\n",
    "Attention\n",
    "\n",
    "Attention provides a solution to the bottleneck problem.\n",
    "Core idea: on each step of the decoder, use direct connection to the encoder to focus on a particular part of the source sequence.\n",
    "\n",
    "Attention equation:-\n",
    "\n"
   ]
  },
  {
   "cell_type": "code",
   "execution_count": 0,
   "metadata": {
    "colab": {},
    "colab_type": "code",
    "id": "kGuQ22Bf_fiX"
   },
   "outputs": [],
   "source": [
    "layer_embedding = model_train.get_layer('encoder_embedding')"
   ]
  },
  {
   "cell_type": "code",
   "execution_count": 0,
   "metadata": {
    "colab": {},
    "colab_type": "code",
    "id": "y8ZbMREc_fia"
   },
   "outputs": [],
   "source": [
    "weights_embedding = layer_embedding.get_weights()[0]"
   ]
  },
  {
   "cell_type": "code",
   "execution_count": 133,
   "metadata": {
    "colab": {
     "base_uri": "https://localhost:8080/",
     "height": 34
    },
    "colab_type": "code",
    "id": "ZH39amGY_fid",
    "outputId": "1de080ea-1b18-4058-bd4c-72853fd7ede3"
   },
   "outputs": [
    {
     "data": {
      "text/plain": [
       "(2000, 150)"
      ]
     },
     "execution_count": 133,
     "metadata": {
      "tags": []
     },
     "output_type": "execute_result"
    }
   ],
   "source": [
    "weights_embedding.shape"
   ]
  },
  {
   "cell_type": "code",
   "execution_count": 134,
   "metadata": {
    "colab": {
     "base_uri": "https://localhost:8080/",
     "height": 34
    },
    "colab_type": "code",
    "id": "-qWm-m9t_fif",
    "outputId": "af899702-41eb-465d-ce44-5d7690cff621"
   },
   "outputs": [
    {
     "data": {
      "text/plain": [
       "48"
      ]
     },
     "execution_count": 134,
     "metadata": {
      "tags": []
     },
     "output_type": "execute_result"
    }
   ],
   "source": [
    "token_good = tokenizer_src.word_index['good']\n",
    "token_good"
   ]
  },
  {
   "cell_type": "code",
   "execution_count": 135,
   "metadata": {
    "colab": {
     "base_uri": "https://localhost:8080/",
     "height": 34
    },
    "colab_type": "code",
    "id": "W3phTM4f_fii",
    "outputId": "3bbe1328-a272-4448-9c81-78fcce2ea0dc"
   },
   "outputs": [
    {
     "data": {
      "text/plain": [
       "144"
      ]
     },
     "execution_count": 135,
     "metadata": {
      "tags": []
     },
     "output_type": "execute_result"
    }
   ],
   "source": [
    "token_great = tokenizer_src.word_index['great']\n",
    "token_great"
   ]
  },
  {
   "cell_type": "code",
   "execution_count": 136,
   "metadata": {
    "colab": {
     "base_uri": "https://localhost:8080/",
     "height": 555
    },
    "colab_type": "code",
    "id": "kvf3SJZE_fil",
    "outputId": "a675cda9-d809-4a6d-ee5c-09fdc68a5631"
   },
   "outputs": [
    {
     "data": {
      "text/plain": [
       "array([-0.04351972,  0.03393636,  0.0594529 , -0.00893158,  0.0241533 ,\n",
       "        0.00718311, -0.01146883,  0.04965416, -0.06323669, -0.02650133,\n",
       "        0.08991221,  0.00028664,  0.08165149, -0.05903793, -0.09407371,\n",
       "       -0.03418764,  0.02464903,  0.09051354, -0.10136442, -0.0410215 ,\n",
       "       -0.05326885,  0.03615302, -0.02551733,  0.09766459,  0.02904423,\n",
       "        0.09552322,  0.01544166, -0.0280057 ,  0.00831112, -0.0023917 ,\n",
       "        0.01687631, -0.009457  ,  0.10556728, -0.05414777,  0.0192535 ,\n",
       "       -0.0883636 ,  0.00478171, -0.00148315,  0.02128869,  0.08751678,\n",
       "       -0.05808027, -0.02136103, -0.0064377 , -0.1482361 , -0.00261919,\n",
       "        0.08180568,  0.05467238,  0.05166818,  0.08285657, -0.06120386,\n",
       "       -0.04158512,  0.02346973,  0.06014701,  0.06272271,  0.05477348,\n",
       "       -0.04997329,  0.00151133, -0.07802128, -0.00825703,  0.0405681 ,\n",
       "        0.09780652,  0.0291128 ,  0.02698042,  0.09182318, -0.13148351,\n",
       "       -0.03702776, -0.0617705 , -0.02330043, -0.01191658, -0.02987052,\n",
       "       -0.03497291, -0.09960451, -0.01600609, -0.05790408, -0.00255761,\n",
       "       -0.10800306,  0.0661401 ,  0.02780234,  0.06984923,  0.01855008,\n",
       "        0.04335056,  0.0439753 ,  0.00607935, -0.04499481, -0.05419482,\n",
       "        0.06142259,  0.065516  ,  0.0521032 ,  0.01491501, -0.06477874,\n",
       "        0.03034832,  0.11132797, -0.05047579, -0.00244388,  0.07872563,\n",
       "       -0.0468933 ,  0.06264448,  0.00333344,  0.12519951,  0.00323619,\n",
       "       -0.064209  , -0.07652166,  0.03571781, -0.01338287,  0.03165228,\n",
       "        0.05009732,  0.01060078, -0.06466406,  0.01616133, -0.09782321,\n",
       "        0.00554724, -0.02644682,  0.02674603,  0.00286181,  0.00597922,\n",
       "        0.1307456 , -0.05136526,  0.06596315,  0.10716571, -0.05774195,\n",
       "       -0.00685704,  0.03688977, -0.0158735 ,  0.01701444, -0.03414993,\n",
       "        0.04777103,  0.09484429,  0.06818051,  0.11998375, -0.02067626,\n",
       "       -0.04197486, -0.01729285, -0.05525258,  0.14717408,  0.00339376,\n",
       "       -0.06379075, -0.06816626,  0.04389198,  0.04902444,  0.06634405,\n",
       "        0.05970572,  0.06074755,  0.07528277, -0.0431118 , -0.11647354,\n",
       "        0.00230938,  0.03937655, -0.0317672 , -0.00186894, -0.04427733],\n",
       "      dtype=float32)"
      ]
     },
     "execution_count": 136,
     "metadata": {
      "tags": []
     },
     "output_type": "execute_result"
    }
   ],
   "source": [
    "weights_embedding[token_good]"
   ]
  },
  {
   "cell_type": "code",
   "execution_count": 137,
   "metadata": {
    "colab": {
     "base_uri": "https://localhost:8080/",
     "height": 677
    },
    "colab_type": "code",
    "id": "2hD5uEG4_fio",
    "outputId": "1df4437f-716b-4548-d64d-391d6e60b0d6"
   },
   "outputs": [
    {
     "data": {
      "text/plain": [
       "array([-3.79583202e-02,  1.45342782e-01, -4.67142928e-03, -3.24150622e-02,\n",
       "        1.20666727e-01, -4.85640615e-02, -1.32353511e-04,  5.29088117e-02,\n",
       "       -3.25481184e-02, -8.62980410e-02,  1.16869360e-01,  1.22819636e-02,\n",
       "       -1.17285158e-02, -6.79363161e-02, -6.68826774e-02, -3.52844112e-02,\n",
       "        1.72052439e-02,  2.71672811e-02, -9.70499516e-02, -5.31252585e-02,\n",
       "       -3.31827365e-02, -5.66779263e-02, -3.28220762e-02,  3.45106870e-02,\n",
       "        5.27641252e-02, -3.27790342e-02, -8.82547423e-02, -1.85938310e-02,\n",
       "        8.21790472e-02,  8.09246972e-02,  2.10283734e-02,  1.78314578e-02,\n",
       "        1.03782259e-01, -9.35560986e-02, -1.05685694e-02,  1.26939267e-02,\n",
       "       -9.28871632e-02, -1.40128672e-01, -2.61525926e-03,  7.20688105e-02,\n",
       "       -1.60118937e-02,  2.06233151e-02, -1.58721376e-02, -1.57975182e-02,\n",
       "       -5.39792031e-02,  1.00998934e-02,  1.11909665e-01,  1.13079377e-01,\n",
       "        3.72718787e-04, -5.82051389e-02,  5.80799952e-02,  2.16210093e-02,\n",
       "        1.08821347e-01,  5.85067347e-02, -6.31837323e-02, -3.24827656e-02,\n",
       "       -8.56862590e-02, -4.98066917e-02,  5.95035329e-02,  2.27718484e-02,\n",
       "        4.02168259e-02,  1.08098261e-01, -1.17372125e-02,  3.63035128e-02,\n",
       "        3.69292982e-02,  1.69916172e-03, -7.99900964e-02, -1.63389351e-02,\n",
       "        7.13808322e-03, -7.14996904e-02,  2.61918046e-02, -4.46897186e-03,\n",
       "       -5.74622164e-03, -5.59709296e-02, -3.69405188e-02, -5.04185967e-02,\n",
       "        9.12735537e-02,  2.66997032e-02,  9.98255089e-02,  3.98878530e-02,\n",
       "        2.34578922e-02, -3.35990712e-02,  2.29972620e-02, -2.98775770e-02,\n",
       "       -3.98046486e-02,  1.46653019e-02,  2.31662262e-02,  5.62332831e-02,\n",
       "       -6.72947988e-03,  2.78226417e-02, -3.04949470e-02, -5.26938476e-02,\n",
       "        2.92092748e-03, -8.49146098e-02,  1.75054938e-01, -2.06570933e-03,\n",
       "       -6.48285598e-02,  3.39865824e-03,  9.15233195e-02,  5.30508813e-04,\n",
       "       -7.13390931e-02, -1.68913100e-02, -4.47074836e-03, -7.06467777e-02,\n",
       "        7.66047835e-02, -4.93141171e-03,  1.86408870e-02,  7.46559277e-02,\n",
       "       -4.18618843e-02, -9.62609947e-02,  1.95532255e-02, -4.21878360e-02,\n",
       "       -1.93563681e-02,  3.20704021e-02,  6.25303164e-02,  6.45151585e-02,\n",
       "       -1.10717088e-01,  1.15289129e-01,  1.04575939e-01, -2.67260745e-02,\n",
       "       -8.61741900e-02,  1.15474872e-01, -6.37374148e-02, -2.19125021e-03,\n",
       "        5.32441549e-02, -1.72491614e-02, -1.58006954e-03,  9.77810752e-03,\n",
       "        7.65787065e-02, -1.52319521e-02, -4.71739881e-02, -4.98273931e-02,\n",
       "        1.68021116e-02, -6.89046131e-03, -7.89726898e-02, -9.60184783e-02,\n",
       "       -1.75368320e-02,  4.32365127e-02, -4.44593914e-02, -7.25331949e-03,\n",
       "        6.92460164e-02,  6.88012689e-02,  4.05927971e-02, -7.15593845e-02,\n",
       "       -3.61571610e-02,  9.86198187e-02,  4.39838357e-02, -2.78381426e-02,\n",
       "        2.20918953e-02, -9.81805697e-02], dtype=float32)"
      ]
     },
     "execution_count": 137,
     "metadata": {
      "tags": []
     },
     "output_type": "execute_result"
    }
   ],
   "source": [
    "weights_embedding[token_great]"
   ]
  },
  {
   "cell_type": "code",
   "execution_count": 0,
   "metadata": {
    "colab": {},
    "colab_type": "code",
    "id": "1m9KDIxr_fir"
   },
   "outputs": [],
   "source": [
    "from scipy.spatial.distance import cdist\n",
    "def print_sorted_words(word, metric='cosine'):\n",
    "    \"\"\"\n",
    "    Print the words in the vocabulary sorted according to their\n",
    "    embedding-distance to the given word.\n",
    "    Different metrics can be used, e.g. 'cosine' or 'euclidean'.\n",
    "    \"\"\"\n",
    "\n",
    "    # Get the token (i.e. integer ID) for the given word.\n",
    "    token = tokenizer_src.word_index[word]\n",
    "\n",
    "    # Get the embedding for the given word. Note that the\n",
    "    # embedding-weight-matrix is indexed by the word-tokens\n",
    "    # which are integer IDs.\n",
    "    embedding = weights_embedding[token]\n",
    "\n",
    "    # Calculate the distance between the embeddings for\n",
    "    # this word and all other words in the vocabulary.\n",
    "    distances = cdist(weights_embedding, [embedding],metric=metric).T[0]\n",
    "    \n",
    "    # Get an index sorted according to the embedding-distances.\n",
    "    # These are the tokens (integer IDs) for words in the vocabulary.\n",
    "    sorted_index = np.argsort(distances)\n",
    "    \n",
    "    # Sort the embedding-distances.\n",
    "    sorted_distances = distances[sorted_index]\n",
    "    \n",
    "    # Sort all the words in the vocabulary according to their\n",
    "    # embedding-distance. This is a bit excessive because we\n",
    "    # will only print the top and bottom words.\n",
    "    sorted_words = [ tokenizer_src.index_to_word[token] for token in sorted_index\n",
    "                    if token != 0]\n",
    "\n",
    "    # Helper-function for printing words and embedding-distances.\n",
    "    def _print_words(words, distances):\n",
    "        for word, distance in zip(words, distances):\n",
    "            print(\"{0:.3f} - {1}\".format(distance, word))\n",
    "\n",
    "    # Number of words to print from the top and bottom of the list.\n",
    "    k = 10\n",
    "\n",
    "    print(\"Distance from '{0}':\".format(word))\n",
    "\n",
    "    # Print the words with smallest embedding-distance.\n",
    "    _print_words(sorted_words[0:k], sorted_distances[0:k])\n",
    "\n",
    "    print(\"...\")\n",
    "\n",
    "    # Print the words with highest embedding-distance.\n",
    "    _print_words(sorted_words[-k:], sorted_distances[-k:])"
   ]
  },
  {
   "cell_type": "code",
   "execution_count": 139,
   "metadata": {
    "colab": {
     "base_uri": "https://localhost:8080/",
     "height": 399
    },
    "colab_type": "code",
    "id": "89rBnwNe_fiu",
    "outputId": "f7594284-f07c-4041-82d0-b5f1e30f48f3"
   },
   "outputs": [
    {
     "name": "stdout",
     "output_type": "stream",
     "text": [
      "Distance from 'great':\n",
      "0.000 - great\n",
      "0.274 - ai\n",
      "0.289 - well\n",
      "0.290 - fact\n",
      "0.301 - hacerlo\n",
      "0.307 - easy\n",
      "0.307 - ispaniyadan\n",
      "0.309 - now\n",
      "0.316 - russians\n",
      "0.317 - ready\n",
      "...\n",
      "1.693 - en\n",
      "1.693 - mareado\n",
      "1.696 - youtube\n",
      "1.696 - ground\n",
      "1.699 - os\n",
      "1.708 - te\n",
      "1.714 - cuando\n",
      "1.718 - ingles\n",
      "1.719 - yo\n",
      "1.732 - sleep😴\n"
     ]
    }
   ],
   "source": [
    "print_sorted_words('great', metric='cosine')"
   ]
  },
  {
   "cell_type": "code",
   "execution_count": 0,
   "metadata": {
    "colab": {},
    "colab_type": "code",
    "id": "f_JRRRDo_fiw"
   },
   "outputs": [],
   "source": []
  },
  {
   "cell_type": "code",
   "execution_count": 0,
   "metadata": {
    "colab": {},
    "colab_type": "code",
    "id": "wjQ4t-xf_fiz"
   },
   "outputs": [],
   "source": []
  }
 ],
 "metadata": {
  "accelerator": "GPU",
  "colab": {
   "collapsed_sections": [],
   "name": "Untitled (copy).ipynb",
   "provenance": []
  },
  "kernelspec": {
   "display_name": "Python 3",
   "language": "python",
   "name": "python3"
  },
  "language_info": {
   "codemirror_mode": {
    "name": "ipython",
    "version": 3
   },
   "file_extension": ".py",
   "mimetype": "text/x-python",
   "name": "python",
   "nbconvert_exporter": "python",
   "pygments_lexer": "ipython3",
   "version": "3.6.8"
  }
 },
 "nbformat": 4,
 "nbformat_minor": 1
}

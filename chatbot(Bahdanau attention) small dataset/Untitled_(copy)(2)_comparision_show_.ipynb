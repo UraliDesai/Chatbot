{
 "cells": [
  {
   "cell_type": "markdown",
   "metadata": {
    "colab_type": "text",
    "id": "-IjaOq6M_fY3"
   },
   "source": [
    "__Flowchart__\n",
    "\n",
    "The following flowchart shows roughly how the neural network is constructed. It is split into two parts: An encoder which maps the source-text to a \"thought vector\" that summarizes the text's contents, which is then input to the second part of the neural network that decodes the \"thought vector\" to the response-text.\n",
    "\n",
    "The neural network cannot work directly on text so first we need to convert each word to an integer-token using a tokenizer. But the neural network cannot work on integers either, so we use a so-called Embedding Layer to convert each integer-token to a vector of floating-point values. The embedding is trained alongside the rest of the neural network to map words with similar semantic meaning to similar vectors of floating-point values.\n",
    "\n",
    "For example, consider the input text is \"how are you?\" and excpected response in text is \"I am fine thanks for asking me\". We first convert the entire data-set to integer-tokens so the text \"how are you?\" becomes [6, 1, 2]. Each of these integer-tokens is then mapped to an embedding-vector with e.g.8 elements, so the integer-token 6 could for example become [0.12, -0.56, ..., 1.19] and the integer-token 1 could for example become [0.39, 0.09, ..., -0.12]. These embedding-vectors can then be input to the Recurrent Neural Network, which has 3 GRU-layers.\n",
    "\n",
    "The last GRU-layer outputs a single vector - the \"thought vector\" that summarizes the contents of the source-text - which is then used as the initial state of the GRU-units in the decoder-part.\n",
    "\n",
    "The destination-text \"I am fine thanks for asking me\" is padded with special markers \"ssss\" and \"eeee\" to indicate its beginning and end, so the sequence of integer-tokens becomes [1,6,7,8,9,10,11,12,2]. During training, the decoder will be given this entire sequence as input and the desired output sequence is [6,7, 8, 9,10,11,12,2] which is the same sequence but time-shifted one step. We are trying to teach the decoder to map the \"thought vector\" and the start-token \"ssss\" (integer 1) to the next word \"i\" (integer 6), and then map the word \"i\" to the word \"am\" (integer 7), and so on.\n",
    "\n",
    "here talk abot formula.\n",
    "\n",
    "at encoder:\n",
    "    h(t)=tanh(wxh*x(t)+whh*h(t-1))\n",
    "    \n",
    "at decoder:\n",
    "    h(t)=tanh(whh*h(t-1)+wxh*y(t-1))\n",
    "    \n",
    "   y(t)=softmax(wy*h(t))\n",
    "    \n",
    "\n"
   ]
  },
  {
   "cell_type": "code",
   "execution_count": 1,
   "metadata": {
    "colab": {
     "base_uri": "https://localhost:8080/",
     "height": 1000
    },
    "colab_type": "code",
    "id": "_jzCy45qAF6U",
    "outputId": "c277aed3-866f-4874-a16f-43ac57528161"
   },
   "outputs": [
    {
     "name": "stdout",
     "output_type": "stream",
     "text": [
      "Collecting tensorflow-gpu\n",
      "\u001b[?25l  Downloading https://files.pythonhosted.org/packages/0a/93/c7bca39b23aae45cd2e85ad3871c81eccc63b9c5276e926511e2e5b0879d/tensorflow_gpu-2.1.0-cp36-cp36m-manylinux2010_x86_64.whl (421.8MB)\n",
      "\u001b[K     |████████████████████████████████| 421.8MB 39kB/s \n",
      "\u001b[?25hCollecting tensorboard<2.2.0,>=2.1.0\n",
      "\u001b[?25l  Downloading https://files.pythonhosted.org/packages/d9/41/bbf49b61370e4f4d245d4c6051dfb6db80cec672605c91b1652ac8cc3d38/tensorboard-2.1.1-py3-none-any.whl (3.8MB)\n",
      "\u001b[K     |████████████████████████████████| 3.9MB 53.0MB/s \n",
      "\u001b[?25hRequirement already satisfied: six>=1.12.0 in /usr/local/lib/python3.6/dist-packages (from tensorflow-gpu) (1.12.0)\n",
      "Collecting gast==0.2.2\n",
      "  Downloading https://files.pythonhosted.org/packages/4e/35/11749bf99b2d4e3cceb4d55ca22590b0d7c2c62b9de38ac4a4a7f4687421/gast-0.2.2.tar.gz\n",
      "Requirement already satisfied: absl-py>=0.7.0 in /usr/local/lib/python3.6/dist-packages (from tensorflow-gpu) (0.9.0)\n",
      "Requirement already satisfied: opt-einsum>=2.3.2 in /usr/local/lib/python3.6/dist-packages (from tensorflow-gpu) (3.2.1)\n",
      "Requirement already satisfied: termcolor>=1.1.0 in /usr/local/lib/python3.6/dist-packages (from tensorflow-gpu) (1.1.0)\n",
      "Requirement already satisfied: wheel>=0.26; python_version >= \"3\" in /usr/local/lib/python3.6/dist-packages (from tensorflow-gpu) (0.34.2)\n",
      "Requirement already satisfied: wrapt>=1.11.1 in /usr/local/lib/python3.6/dist-packages (from tensorflow-gpu) (1.12.1)\n",
      "Requirement already satisfied: astor>=0.6.0 in /usr/local/lib/python3.6/dist-packages (from tensorflow-gpu) (0.8.1)\n",
      "Requirement already satisfied: grpcio>=1.8.6 in /usr/local/lib/python3.6/dist-packages (from tensorflow-gpu) (1.28.1)\n",
      "Requirement already satisfied: protobuf>=3.8.0 in /usr/local/lib/python3.6/dist-packages (from tensorflow-gpu) (3.10.0)\n",
      "Requirement already satisfied: keras-preprocessing>=1.1.0 in /usr/local/lib/python3.6/dist-packages (from tensorflow-gpu) (1.1.0)\n",
      "Requirement already satisfied: keras-applications>=1.0.8 in /usr/local/lib/python3.6/dist-packages (from tensorflow-gpu) (1.0.8)\n",
      "Collecting tensorflow-estimator<2.2.0,>=2.1.0rc0\n",
      "\u001b[?25l  Downloading https://files.pythonhosted.org/packages/18/90/b77c328a1304437ab1310b463e533fa7689f4bfc41549593056d812fab8e/tensorflow_estimator-2.1.0-py2.py3-none-any.whl (448kB)\n",
      "\u001b[K     |████████████████████████████████| 450kB 51.9MB/s \n",
      "\u001b[?25hRequirement already satisfied: numpy<2.0,>=1.16.0 in /usr/local/lib/python3.6/dist-packages (from tensorflow-gpu) (1.18.3)\n",
      "Requirement already satisfied: scipy==1.4.1; python_version >= \"3\" in /usr/local/lib/python3.6/dist-packages (from tensorflow-gpu) (1.4.1)\n",
      "Requirement already satisfied: google-pasta>=0.1.6 in /usr/local/lib/python3.6/dist-packages (from tensorflow-gpu) (0.2.0)\n",
      "Requirement already satisfied: markdown>=2.6.8 in /usr/local/lib/python3.6/dist-packages (from tensorboard<2.2.0,>=2.1.0->tensorflow-gpu) (3.2.1)\n",
      "Requirement already satisfied: setuptools>=41.0.0 in /usr/local/lib/python3.6/dist-packages (from tensorboard<2.2.0,>=2.1.0->tensorflow-gpu) (46.1.3)\n",
      "Requirement already satisfied: requests<3,>=2.21.0 in /usr/local/lib/python3.6/dist-packages (from tensorboard<2.2.0,>=2.1.0->tensorflow-gpu) (2.21.0)\n",
      "Requirement already satisfied: google-auth-oauthlib<0.5,>=0.4.1 in /usr/local/lib/python3.6/dist-packages (from tensorboard<2.2.0,>=2.1.0->tensorflow-gpu) (0.4.1)\n",
      "Requirement already satisfied: google-auth<2,>=1.6.3 in /usr/local/lib/python3.6/dist-packages (from tensorboard<2.2.0,>=2.1.0->tensorflow-gpu) (1.7.2)\n",
      "Requirement already satisfied: werkzeug>=0.11.15 in /usr/local/lib/python3.6/dist-packages (from tensorboard<2.2.0,>=2.1.0->tensorflow-gpu) (1.0.1)\n",
      "Requirement already satisfied: h5py in /usr/local/lib/python3.6/dist-packages (from keras-applications>=1.0.8->tensorflow-gpu) (2.10.0)\n",
      "Requirement already satisfied: idna<2.9,>=2.5 in /usr/local/lib/python3.6/dist-packages (from requests<3,>=2.21.0->tensorboard<2.2.0,>=2.1.0->tensorflow-gpu) (2.8)\n",
      "Requirement already satisfied: certifi>=2017.4.17 in /usr/local/lib/python3.6/dist-packages (from requests<3,>=2.21.0->tensorboard<2.2.0,>=2.1.0->tensorflow-gpu) (2020.4.5.1)\n",
      "Requirement already satisfied: urllib3<1.25,>=1.21.1 in /usr/local/lib/python3.6/dist-packages (from requests<3,>=2.21.0->tensorboard<2.2.0,>=2.1.0->tensorflow-gpu) (1.24.3)\n",
      "Requirement already satisfied: chardet<3.1.0,>=3.0.2 in /usr/local/lib/python3.6/dist-packages (from requests<3,>=2.21.0->tensorboard<2.2.0,>=2.1.0->tensorflow-gpu) (3.0.4)\n",
      "Requirement already satisfied: requests-oauthlib>=0.7.0 in /usr/local/lib/python3.6/dist-packages (from google-auth-oauthlib<0.5,>=0.4.1->tensorboard<2.2.0,>=2.1.0->tensorflow-gpu) (1.3.0)\n",
      "Requirement already satisfied: pyasn1-modules>=0.2.1 in /usr/local/lib/python3.6/dist-packages (from google-auth<2,>=1.6.3->tensorboard<2.2.0,>=2.1.0->tensorflow-gpu) (0.2.8)\n",
      "Requirement already satisfied: rsa<4.1,>=3.1.4 in /usr/local/lib/python3.6/dist-packages (from google-auth<2,>=1.6.3->tensorboard<2.2.0,>=2.1.0->tensorflow-gpu) (4.0)\n",
      "Requirement already satisfied: cachetools<3.2,>=2.0.0 in /usr/local/lib/python3.6/dist-packages (from google-auth<2,>=1.6.3->tensorboard<2.2.0,>=2.1.0->tensorflow-gpu) (3.1.1)\n",
      "Requirement already satisfied: oauthlib>=3.0.0 in /usr/local/lib/python3.6/dist-packages (from requests-oauthlib>=0.7.0->google-auth-oauthlib<0.5,>=0.4.1->tensorboard<2.2.0,>=2.1.0->tensorflow-gpu) (3.1.0)\n",
      "Requirement already satisfied: pyasn1<0.5.0,>=0.4.6 in /usr/local/lib/python3.6/dist-packages (from pyasn1-modules>=0.2.1->google-auth<2,>=1.6.3->tensorboard<2.2.0,>=2.1.0->tensorflow-gpu) (0.4.8)\n",
      "Building wheels for collected packages: gast\n",
      "  Building wheel for gast (setup.py) ... \u001b[?25l\u001b[?25hdone\n",
      "  Created wheel for gast: filename=gast-0.2.2-cp36-none-any.whl size=7540 sha256=1c5908b28b8de206d148961091936d8ed2b173d5da27c8cf42951ef14da48d0c\n",
      "  Stored in directory: /root/.cache/pip/wheels/5c/2e/7e/a1d4d4fcebe6c381f378ce7743a3ced3699feb89bcfbdadadd\n",
      "Successfully built gast\n",
      "\u001b[31mERROR: tensorflow 2.2.0rc3 has requirement gast==0.3.3, but you'll have gast 0.2.2 which is incompatible.\u001b[0m\n",
      "\u001b[31mERROR: tensorflow 2.2.0rc3 has requirement tensorboard<2.3.0,>=2.2.0, but you'll have tensorboard 2.1.1 which is incompatible.\u001b[0m\n",
      "\u001b[31mERROR: tensorflow 2.2.0rc3 has requirement tensorflow-estimator<2.3.0,>=2.2.0rc0, but you'll have tensorflow-estimator 2.1.0 which is incompatible.\u001b[0m\n",
      "\u001b[31mERROR: tensorflow-probability 0.10.0rc0 has requirement gast>=0.3.2, but you'll have gast 0.2.2 which is incompatible.\u001b[0m\n",
      "Installing collected packages: tensorboard, gast, tensorflow-estimator, tensorflow-gpu\n",
      "  Found existing installation: tensorboard 2.2.1\n",
      "    Uninstalling tensorboard-2.2.1:\n",
      "      Successfully uninstalled tensorboard-2.2.1\n",
      "  Found existing installation: gast 0.3.3\n",
      "    Uninstalling gast-0.3.3:\n",
      "      Successfully uninstalled gast-0.3.3\n",
      "  Found existing installation: tensorflow-estimator 2.2.0\n",
      "    Uninstalling tensorflow-estimator-2.2.0:\n",
      "      Successfully uninstalled tensorflow-estimator-2.2.0\n",
      "Successfully installed gast-0.2.2 tensorboard-2.1.1 tensorflow-estimator-2.1.0 tensorflow-gpu-2.1.0\n"
     ]
    }
   ],
   "source": [
    "!pip install tensorflow-gpu"
   ]
  },
  {
   "cell_type": "code",
   "execution_count": 2,
   "metadata": {
    "colab": {
     "base_uri": "https://localhost:8080/",
     "height": 103,
     "resources": {
      "http://localhost:8080/nbextensions/google.colab/files.js": {
       "data": "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",
       "headers": [
        [
         "content-type",
         "application/javascript"
        ]
       ],
       "ok": true,
       "status": 200,
       "status_text": "OK"
      }
     }
    },
    "colab_type": "code",
    "id": "Dg67eBkeAQcf",
    "outputId": "1fc523bc-ac6c-44dd-f9ba-6c058c74004b"
   },
   "outputs": [
    {
     "data": {
      "text/html": [
       "\n",
       "     <input type=\"file\" id=\"files-fc8f6355-2a5f-4336-9b72-db0101e7b396\" name=\"files[]\" multiple disabled />\n",
       "     <output id=\"result-fc8f6355-2a5f-4336-9b72-db0101e7b396\">\n",
       "      Upload widget is only available when the cell has been executed in the\n",
       "      current browser session. Please rerun this cell to enable.\n",
       "      </output>\n",
       "      <script src=\"/nbextensions/google.colab/files.js\"></script> "
      ],
      "text/plain": [
       "<IPython.core.display.HTML object>"
      ]
     },
     "metadata": {
      "tags": []
     },
     "output_type": "display_data"
    },
    {
     "name": "stdout",
     "output_type": "stream",
     "text": [
      "Saving ch1.txt.csv to ch1.txt.csv\n",
      "User uploaded file \"ch1.txt.csv\" with length 1165028 bytes\n"
     ]
    }
   ],
   "source": [
    "from google.colab import files\n",
    "\n",
    "uploaded = files.upload()\n",
    "\n",
    "for fn in uploaded.keys():\n",
    "  print('User uploaded file \"{name}\" with length {length} bytes'.format(\n",
    "      name=fn, length=len(uploaded[fn])))"
   ]
  },
  {
   "cell_type": "code",
   "execution_count": 4,
   "metadata": {
    "colab": {
     "base_uri": "https://localhost:8080/",
     "height": 103,
     "resources": {
      "http://localhost:8080/nbextensions/google.colab/files.js": {
       "data": "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",
       "headers": [
        [
         "content-type",
         "application/javascript"
        ]
       ],
       "ok": true,
       "status": 200,
       "status_text": "OK"
      }
     }
    },
    "colab_type": "code",
    "id": "t0W4MHrXAQ0N",
    "outputId": "5a88891a-b7e4-4915-824f-6fe42e3b765b"
   },
   "outputs": [
    {
     "data": {
      "text/html": [
       "\n",
       "     <input type=\"file\" id=\"files-f3036586-c3fd-4eb6-b8ea-6297489e0d8f\" name=\"files[]\" multiple disabled />\n",
       "     <output id=\"result-f3036586-c3fd-4eb6-b8ea-6297489e0d8f\">\n",
       "      Upload widget is only available when the cell has been executed in the\n",
       "      current browser session. Please rerun this cell to enable.\n",
       "      </output>\n",
       "      <script src=\"/nbextensions/google.colab/files.js\"></script> "
      ],
      "text/plain": [
       "<IPython.core.display.HTML object>"
      ]
     },
     "metadata": {
      "tags": []
     },
     "output_type": "display_data"
    },
    {
     "name": "stdout",
     "output_type": "stream",
     "text": [
      "Saving data.py to data.py\n",
      "User uploaded file \"data.py\" with length 2048 bytes\n"
     ]
    }
   ],
   "source": [
    "from google.colab import files\n",
    "\n",
    "uploaded = files.upload()\n",
    "\n",
    "for fn in uploaded.keys():\n",
    "  print('User uploaded file \"{name}\" with length {length} bytes'.format(\n",
    "      name=fn, length=len(uploaded[fn])))"
   ]
  },
  {
   "cell_type": "code",
   "execution_count": 5,
   "metadata": {
    "colab": {
     "base_uri": "https://localhost:8080/",
     "height": 34
    },
    "colab_type": "code",
    "id": "CX4hFnH0_fY_",
    "outputId": "9c87eb50-285c-4745-fa0c-b12c2c490a39"
   },
   "outputs": [
    {
     "data": {
      "image/png": "image/p1.png",
      "text/plain": [
       "<IPython.core.display.Image object>"
      ]
     },
     "execution_count": 5,
     "metadata": {
      "tags": []
     },
     "output_type": "execute_result"
    }
   ],
   "source": [
    "from IPython.display import Image\n",
    "Image('image/p1.png')"
   ]
  },
  {
   "cell_type": "code",
   "execution_count": 6,
   "metadata": {
    "colab": {
     "base_uri": "https://localhost:8080/",
     "height": 106
    },
    "colab_type": "code",
    "id": "0jWiV7SL_fZW",
    "outputId": "52a16b76-e6bd-4c50-f681-1ab6eaf19510"
   },
   "outputs": [
    {
     "name": "stdout",
     "output_type": "stream",
     "text": [
      "WARNING:tensorflow:From /usr/local/lib/python3.6/dist-packages/tensorflow_core/python/compat/v2_compat.py:88: disable_resource_variables (from tensorflow.python.ops.variable_scope) is deprecated and will be removed in a future version.\n",
      "Instructions for updating:\n",
      "non-resource variables are not supported in the long term\n"
     ]
    },
    {
     "name": "stderr",
     "output_type": "stream",
     "text": [
      "Using TensorFlow backend.\n"
     ]
    }
   ],
   "source": [
    "%matplotlib inline\n",
    "import matplotlib.pyplot as plt\n",
    "import tensorflow.compat.v1 as tf\n",
    "tf.disable_v2_behavior()\n",
    "#from hyperopt import Trials, STATUS_OK, tpe,hp\n",
    "#from hyperas import optim\n",
    "#from hyperas.distributions import choice, uniform\n",
    "import numpy as np\n",
    "from sklearn.model_selection import GridSearchCV\n",
    "from keras.wrappers.scikit_learn import KerasClassifier\n",
    "import math\n",
    "import os"
   ]
  },
  {
   "cell_type": "code",
   "execution_count": 0,
   "metadata": {
    "colab": {},
    "colab_type": "code",
    "id": "pjho1LAb_fZh"
   },
   "outputs": [],
   "source": [
    "from tensorflow.python.keras.models import Sequential\n",
    "from tensorflow.python.keras.models import Model\n",
    "from tensorflow.python.keras.layers import Input, Dense, GRU, Embedding,Concatenate,RepeatVector,Lambda,Activation\n",
    "from tensorflow.python.keras.optimizers import RMSprop\n",
    "from tensorflow.python.keras.preprocessing.text import Tokenizer\n",
    "from tensorflow.python.keras.preprocessing.sequence import pad_sequences"
   ]
  },
  {
   "cell_type": "code",
   "execution_count": 8,
   "metadata": {
    "colab": {
     "base_uri": "https://localhost:8080/",
     "height": 34
    },
    "colab_type": "code",
    "id": "3RcpdB8R_fZs",
    "outputId": "299cbead-da66-4111-9d49-975d34dbde36"
   },
   "outputs": [
    {
     "data": {
      "text/plain": [
       "'2.1.0'"
      ]
     },
     "execution_count": 8,
     "metadata": {
      "tags": []
     },
     "output_type": "execute_result"
    }
   ],
   "source": [
    "tf.__version__"
   ]
  },
  {
   "cell_type": "code",
   "execution_count": 9,
   "metadata": {
    "colab": {
     "base_uri": "https://localhost:8080/",
     "height": 34
    },
    "colab_type": "code",
    "id": "nvAjF9XN_fZ4",
    "outputId": "30dfa04c-86e2-49c0-d733-4e17a40ef700"
   },
   "outputs": [
    {
     "data": {
      "text/plain": [
       "'2.2.4-tf'"
      ]
     },
     "execution_count": 9,
     "metadata": {
      "tags": []
     },
     "output_type": "execute_result"
    }
   ],
   "source": [
    "tf.keras.__version__"
   ]
  },
  {
   "cell_type": "markdown",
   "metadata": {
    "colab_type": "text",
    "id": "tROlKzew_faD"
   },
   "source": [
    "__Load Data__"
   ]
  },
  {
   "cell_type": "code",
   "execution_count": 0,
   "metadata": {
    "colab": {},
    "colab_type": "code",
    "id": "BV7ONaZE_faG"
   },
   "outputs": [],
   "source": [
    "import data"
   ]
  },
  {
   "cell_type": "code",
   "execution_count": 0,
   "metadata": {
    "colab": {},
    "colab_type": "code",
    "id": "dgieanm5_faN"
   },
   "outputs": [],
   "source": [
    "#DATA.data_dir = \"data/custom\"\n"
   ]
  },
  {
   "cell_type": "code",
   "execution_count": 0,
   "metadata": {
    "colab": {},
    "colab_type": "code",
    "id": "xurx-Sqs_faX"
   },
   "outputs": [],
   "source": [
    "mark_start = 'ssss '\n",
    "mark_end = ' eeee'\n",
    "b=\"\""
   ]
  },
  {
   "cell_type": "markdown",
   "metadata": {
    "colab_type": "text",
    "id": "IfMx7R9Q_faf"
   },
   "source": [
    "__Load the texts for the input text.__"
   ]
  },
  {
   "cell_type": "code",
   "execution_count": 12,
   "metadata": {
    "colab": {
     "base_uri": "https://localhost:8080/",
     "height": 52
    },
    "colab_type": "code",
    "id": "343yeOP9_faj",
    "outputId": "dcd1ca5e-6021-4ed5-9368-1e6645d37ed8"
   },
   "outputs": [
    {
     "name": "stdout",
     "output_type": "stream",
     "text": [
      "2363\n",
      "2363\n"
     ]
    }
   ],
   "source": [
    "data.load_data(string=b,robot=b,start=mark_start,end=mark_end)\n",
    "#len(data_src)\n",
    "#print(data_src1)"
   ]
  },
  {
   "cell_type": "markdown",
   "metadata": {
    "colab_type": "text",
    "id": "OcHVXd3W_fat"
   },
   "source": [
    "__Load the texts for the reponse text.__"
   ]
  },
  {
   "cell_type": "markdown",
   "metadata": {
    "colab_type": "text",
    "id": "KrqXBwWa_faw"
   },
   "source": [
    "__Example Data__\n",
    "\n",
    "The data is just a list of texts that is ordered so the input and response texts match. I can confirm that this example is an give accurate response .\n"
   ]
  },
  {
   "cell_type": "code",
   "execution_count": 0,
   "metadata": {
    "colab": {},
    "colab_type": "code",
    "id": "MJJi-KT5_fa0"
   },
   "outputs": [],
   "source": [
    "data_src3=data.input1(input1=True)"
   ]
  },
  {
   "cell_type": "code",
   "execution_count": 0,
   "metadata": {
    "colab": {},
    "colab_type": "code",
    "id": "KnJMjVFa_fa8"
   },
   "outputs": [],
   "source": [
    "data_dest1=data.output1(output1=True)"
   ]
  },
  {
   "cell_type": "code",
   "execution_count": 15,
   "metadata": {
    "colab": {
     "base_uri": "https://localhost:8080/",
     "height": 52
    },
    "colab_type": "code",
    "id": "sqbla5xw_fbG",
    "outputId": "c0867447-0c3f-4afd-bfea-6923f86a2191"
   },
   "outputs": [
    {
     "name": "stdout",
     "output_type": "stream",
     "text": [
      "Is it essential to you? To help humans?\n",
      "ssss Yes, my goal is to be a company, and entertain eeee\n"
     ]
    }
   ],
   "source": [
    "idx=12\n",
    "print(data_src3[idx])\n",
    "print(data_dest1[idx])"
   ]
  },
  {
   "cell_type": "code",
   "execution_count": 0,
   "metadata": {
    "colab": {},
    "colab_type": "code",
    "id": "Lkx2amdF_fbO"
   },
   "outputs": [],
   "source": [
    "data.prepare_seq2seq_files(data_src3,data_dest1,TESTSET_SIZE =50)"
   ]
  },
  {
   "cell_type": "code",
   "execution_count": 17,
   "metadata": {
    "colab": {
     "base_uri": "https://localhost:8080/",
     "height": 34
    },
    "colab_type": "code",
    "id": "om__tqVJ_fbV",
    "outputId": "e8c03ffa-2f0a-4b5c-e572-85d7bafacdca"
   },
   "outputs": [
    {
     "data": {
      "text/plain": [
       "2313"
      ]
     },
     "execution_count": 17,
     "metadata": {
      "tags": []
     },
     "output_type": "execute_result"
    }
   ],
   "source": [
    "data_src4=data.train_encoder()\n",
    "len(data_src4)"
   ]
  },
  {
   "cell_type": "code",
   "execution_count": 18,
   "metadata": {
    "colab": {
     "base_uri": "https://localhost:8080/",
     "height": 34
    },
    "colab_type": "code",
    "id": "BO5OvLuh_fbd",
    "outputId": "2289928a-12dc-4393-a496-a508a6c55a53"
   },
   "outputs": [
    {
     "data": {
      "text/plain": [
       "2313"
      ]
     },
     "execution_count": 18,
     "metadata": {
      "tags": []
     },
     "output_type": "execute_result"
    }
   ],
   "source": [
    "data_dest2=data.train_decoder()\n",
    "len(data_dest2)"
   ]
  },
  {
   "cell_type": "code",
   "execution_count": 19,
   "metadata": {
    "colab": {
     "base_uri": "https://localhost:8080/",
     "height": 34
    },
    "colab_type": "code",
    "id": "BvrvGu2W_fbi",
    "outputId": "f2b7de24-1d95-4b17-9918-2c42900a6791"
   },
   "outputs": [
    {
     "data": {
      "text/plain": [
       "50"
      ]
     },
     "execution_count": 19,
     "metadata": {
      "tags": []
     },
     "output_type": "execute_result"
    }
   ],
   "source": [
    "data_src5=data.test_encoder()\n",
    "len(data_src5)"
   ]
  },
  {
   "cell_type": "code",
   "execution_count": 20,
   "metadata": {
    "colab": {
     "base_uri": "https://localhost:8080/",
     "height": 34
    },
    "colab_type": "code",
    "id": "g0QA5c4T_fbr",
    "outputId": "a0407c13-0769-46f3-a316-122a5715e4ca"
   },
   "outputs": [
    {
     "data": {
      "text/plain": [
       "50"
      ]
     },
     "execution_count": 20,
     "metadata": {
      "tags": []
     },
     "output_type": "execute_result"
    }
   ],
   "source": [
    "data_dest3=data.test_decoder()\n",
    "len(data_dest3)"
   ]
  },
  {
   "cell_type": "markdown",
   "metadata": {
    "colab_type": "text",
    "id": "HSzh2l2d_fby"
   },
   "source": [
    "__Tokenizer__\n",
    "\n",
    "Neural Networks cannot work directly on text-data. We use a two-step process to convert text into numbers that can be used in a neural network. The first step is to convert text-words into so-called integer-tokens. The second step is to convert integer-tokens into vectors of floating-point numbers using a so-called embedding-layer.\n",
    "\n",
    "Set the maximum number of words in our vocabulary. This means that we will only use e.g. the 25 most frequent words in the data-set. We use the same number for both the input and response languages, but these could be different.\n"
   ]
  },
  {
   "cell_type": "code",
   "execution_count": 0,
   "metadata": {
    "colab": {},
    "colab_type": "code",
    "id": "EArNJBWx_fb0"
   },
   "outputs": [],
   "source": [
    "num_words =2000"
   ]
  },
  {
   "cell_type": "code",
   "execution_count": 0,
   "metadata": {
    "colab": {},
    "colab_type": "code",
    "id": "yl2A8GKV_fb6"
   },
   "outputs": [],
   "source": [
    "class TokenizerWrap(Tokenizer):\n",
    "    \"\"\"Wrap the Tokenizer-class from Keras with more functionality.\"\"\"\n",
    "    \n",
    "    def __init__(self, texts, padding,\n",
    "                 reverse=False, num_words=None):\n",
    "        \"\"\"\n",
    "        :param texts: List of strings. This is the data-set.\n",
    "        :param padding: Either 'post' or 'pre' padding.\n",
    "        :param reverse: Boolean whether to reverse token-lists.\n",
    "        :param num_words: Max number of words to use.\n",
    "        \"\"\"\n",
    "        \n",
    "        Tokenizer.__init__(self,num_words=num_words)\n",
    "                \n",
    "        # Create the vocabulary from the texts.\n",
    "        self.fit_on_texts(texts)\n",
    "        #print(self.fit_on_texts(texts))\n",
    "        #print(\"Mapping:\",self.word_index)   \n",
    "        #num_words=len(self.word_index)\n",
    "        #print(num_words)\n",
    "        print(\"length of word index:\",len(self.word_index))\n",
    "        \n",
    "        # Create inverse lookup from integer-tokens to words.\n",
    "        self.index_to_word = dict(zip(self.word_index.values(),\n",
    "                                      self.word_index.keys()))\n",
    "        #print(\"index:\",self.index_to_word)\n",
    "\n",
    "        # Convert all texts to lists of integer-tokens.\n",
    "        # Note that the sequences may have different lengths.\n",
    "        self.tokens = self.texts_to_sequences(texts)\n",
    "\n",
    "        self.num_tokens = [len(x) for x in self.tokens]\n",
    "\n",
    "        # Max number of tokens to use in all sequences.\n",
    "        # We will pad / truncate all sequences to this length.\n",
    "        self.max_tokens = np.mean(self.num_tokens) \\\n",
    "                          + 2 * np.std(self.num_tokens)\n",
    "        self.max_tokens = int(self.max_tokens)\n",
    "        print(\"Max tokens:\",self.max_tokens)\n",
    "        #self.max_tokens=20\n",
    "\n",
    "        # Pad / truncate all token-sequences to the given length.\n",
    "\n",
    "        pad='post'\n",
    "        self.tokens_padded = pad_sequences(self.tokens,\n",
    "                                           maxlen=self.max_tokens,\n",
    "                                            padding=pad,truncating=pad)\n",
    "\n",
    "    def token_to_word(self, token):\n",
    "        \"\"\"Lookup a single word from an integer-token.\"\"\"\n",
    "\n",
    "        word = \" \" if token == 0 else self.index_to_word[token]\n",
    "        return word \n",
    "\n",
    "    def tokens_to_string(self, tokens):\n",
    "        \"\"\"Convert a list of integer-tokens to a string.\"\"\"\n",
    "\n",
    "        # Create a list of the individual words.\n",
    "        words = [self.index_to_word[token]\n",
    "                 for token in tokens\n",
    "                 if token != 0]\n",
    "        \n",
    "        # Concatenate the words to a single string\n",
    "        # with space between all the words.\n",
    "        text = \" \".join(words)\n",
    "\n",
    "        return text\n",
    "    \n",
    "    def text_to_tokens(self, text,padding=False):\n",
    "        \"\"\"\n",
    "        Convert a single text-string to tokens with optional\n",
    "        reversal and padding.\n",
    "        \"\"\"\n",
    "\n",
    "        # Convert to tokens. Note that we assume there is only\n",
    "        # a single text-string so we wrap it in a list.\n",
    "        tokens = self.texts_to_sequences([text])\n",
    "        tokens = np.array(tokens)\n",
    "\n",
    "\n",
    "        if padding:\n",
    "            pad='post'\n",
    "            # Pad and truncate sequences to the given length.\n",
    "            tokens = pad_sequences(tokens,\n",
    "                                   maxlen=self.max_tokens,\n",
    "                                   padding=pad,\n",
    "                                   truncating=pad)\n",
    "\n",
    "        return tokens"
   ]
  },
  {
   "cell_type": "markdown",
   "metadata": {
    "colab_type": "text",
    "id": "-V8FsmrN_fcA"
   },
   "source": [
    "Now create a tokenizer for the input text. Note that we pad zeros at the ending ('post') of the sequences."
   ]
  },
  {
   "cell_type": "code",
   "execution_count": 23,
   "metadata": {
    "colab": {
     "base_uri": "https://localhost:8080/",
     "height": 52
    },
    "colab_type": "code",
    "id": "eNaDKibh_fcE",
    "outputId": "b2b6ec8d-78ee-40d9-db5b-b7949ae8f423"
   },
   "outputs": [
    {
     "name": "stdout",
     "output_type": "stream",
     "text": [
      "length of word index: 4062\n",
      "Max tokens: 25\n"
     ]
    }
   ],
   "source": [
    "tokenizer_src = TokenizerWrap(texts=data_src4,\n",
    "                              padding='post',\n",
    "                              reverse=False,\n",
    "                              num_words=num_words)"
   ]
  },
  {
   "cell_type": "markdown",
   "metadata": {
    "colab_type": "text",
    "id": "vo4d4Sn2_fcL"
   },
   "source": [
    "Now create the tokenizer for the response text. We need a tokenizer for both the input and response because their vocabularies are different.Note that we pad zeros at the ending ('post') of the sequences."
   ]
  },
  {
   "cell_type": "code",
   "execution_count": 24,
   "metadata": {
    "colab": {
     "base_uri": "https://localhost:8080/",
     "height": 52
    },
    "colab_type": "code",
    "id": "A5h22NO-_fcN",
    "outputId": "1ba78174-7e9f-4894-8c77-91c04ff4b5b6"
   },
   "outputs": [
    {
     "name": "stdout",
     "output_type": "stream",
     "text": [
      "length of word index: 3503\n",
      "Max tokens: 24\n"
     ]
    }
   ],
   "source": [
    "tokenizer_dest = TokenizerWrap(texts=data_dest2,\n",
    "                               padding='post',\n",
    "                               reverse=False,\n",
    "                               num_words=num_words)"
   ]
  },
  {
   "cell_type": "code",
   "execution_count": 25,
   "metadata": {
    "colab": {
     "base_uri": "https://localhost:8080/",
     "height": 52
    },
    "colab_type": "code",
    "id": "wRneJpdS_fcW",
    "outputId": "7c761a3f-46db-41ad-d316-e9dde2a51382"
   },
   "outputs": [
    {
     "name": "stdout",
     "output_type": "stream",
     "text": [
      "length of word index: 261\n",
      "Max tokens: 26\n"
     ]
    }
   ],
   "source": [
    "tokenizer_src1 = TokenizerWrap(texts=data_src5,\n",
    "                              padding='post',\n",
    "                              reverse=False,\n",
    "                              num_words=num_words)"
   ]
  },
  {
   "cell_type": "code",
   "execution_count": 26,
   "metadata": {
    "colab": {
     "base_uri": "https://localhost:8080/",
     "height": 52
    },
    "colab_type": "code",
    "id": "QdoR_Xxq_fcb",
    "outputId": "4ae0a0f2-2900-4157-c854-76a982ba0583"
   },
   "outputs": [
    {
     "name": "stdout",
     "output_type": "stream",
     "text": [
      "length of word index: 230\n",
      "Max tokens: 20\n"
     ]
    }
   ],
   "source": [
    "tokenizer_dest1 = TokenizerWrap(texts=data_dest3,\n",
    "                               padding='post',\n",
    "                               reverse=False,\n",
    "                               num_words=num_words)"
   ]
  },
  {
   "cell_type": "markdown",
   "metadata": {
    "colab_type": "text",
    "id": "MHdJ-UL2_fcg"
   },
   "source": [
    "Define variables for the padded token sequences. These are just 2-dimensional numpy arrays of integer-tokens.\n",
    "\n",
    "Note that the sequence-lengths are different for the input and response text.\n",
    "\n"
   ]
  },
  {
   "cell_type": "code",
   "execution_count": 27,
   "metadata": {
    "colab": {
     "base_uri": "https://localhost:8080/",
     "height": 86
    },
    "colab_type": "code",
    "id": "wsVY1PmK_fch",
    "outputId": "dd276f3c-3422-431b-a1c4-183b5b2b05a0"
   },
   "outputs": [
    {
     "name": "stdout",
     "output_type": "stream",
     "text": [
      "[ 25   6   1 122 201  60   7  78  29 202   0   0   0   0   0   0   0   0\n",
      "   0   0   0   0   0   0   0]\n",
      "[  1  30 126   7  52  24   3  22 127  15 116   8 557 279  54   4 180 102\n",
      "  22  25 208 192   2   0]\n"
     ]
    }
   ],
   "source": [
    "tokens_src = tokenizer_src.tokens_padded\n",
    "tokens_dest = tokenizer_dest.tokens_padded\n",
    "print(tokens_src[2])\n",
    "print(tokens_dest[2])"
   ]
  },
  {
   "cell_type": "code",
   "execution_count": 28,
   "metadata": {
    "colab": {
     "base_uri": "https://localhost:8080/",
     "height": 69
    },
    "colab_type": "code",
    "id": "4BC6AQDR_fcn",
    "outputId": "b458ab79-9a2d-4ac3-a14b-9a7b29450f5d"
   },
   "outputs": [
    {
     "name": "stdout",
     "output_type": "stream",
     "text": [
      "[67 12 68  5 13  7 31 69 70 71  2 72  0  0  0  0  0  0  0  0  0  0  0  0\n",
      "  0  0]\n",
      "[ 1 14  4 20 62 63  2  0  0  0  0  0  0  0  0  0  0  0  0  0]\n"
     ]
    }
   ],
   "source": [
    "tokens_src1 = tokenizer_src1.tokens_padded\n",
    "tokens_dest1 = tokenizer_dest1.tokens_padded\n",
    "print(tokens_src1[2])\n",
    "print(tokens_dest1[2])"
   ]
  },
  {
   "cell_type": "markdown",
   "metadata": {
    "colab_type": "text",
    "id": "ahO6EB_8_fcs"
   },
   "source": [
    "This is the integer-token used to mark the beginning of a text in the response text."
   ]
  },
  {
   "cell_type": "code",
   "execution_count": 29,
   "metadata": {
    "colab": {
     "base_uri": "https://localhost:8080/",
     "height": 34
    },
    "colab_type": "code",
    "id": "ko0jCO5O_fcu",
    "outputId": "1b770316-b749-4ce4-a5f7-73c8f4d214b7"
   },
   "outputs": [
    {
     "data": {
      "text/plain": [
       "1"
      ]
     },
     "execution_count": 29,
     "metadata": {
      "tags": []
     },
     "output_type": "execute_result"
    }
   ],
   "source": [
    "token_start = tokenizer_dest.word_index[mark_start.strip()]\n",
    "token_start"
   ]
  },
  {
   "cell_type": "code",
   "execution_count": 30,
   "metadata": {
    "colab": {
     "base_uri": "https://localhost:8080/",
     "height": 34
    },
    "colab_type": "code",
    "id": "XfjMCLzf_fc3",
    "outputId": "eca9c7d4-a054-4eda-8887-63770af3644c"
   },
   "outputs": [
    {
     "data": {
      "text/plain": [
       "1"
      ]
     },
     "execution_count": 30,
     "metadata": {
      "tags": []
     },
     "output_type": "execute_result"
    }
   ],
   "source": [
    "token_start1 = tokenizer_dest1.word_index[mark_start.strip()]\n",
    "token_start1"
   ]
  },
  {
   "cell_type": "markdown",
   "metadata": {
    "colab_type": "text",
    "id": "ERgvH8WT_fc8"
   },
   "source": [
    "This is the integer-token used to mark the ending of a text in the response text."
   ]
  },
  {
   "cell_type": "code",
   "execution_count": 31,
   "metadata": {
    "colab": {
     "base_uri": "https://localhost:8080/",
     "height": 34
    },
    "colab_type": "code",
    "id": "qgns_IwF_fc8",
    "outputId": "72f75de8-5833-4495-a34c-5559deeb6e2c"
   },
   "outputs": [
    {
     "data": {
      "text/plain": [
       "2"
      ]
     },
     "execution_count": 31,
     "metadata": {
      "tags": []
     },
     "output_type": "execute_result"
    }
   ],
   "source": [
    "token_end = tokenizer_dest.word_index[mark_end.strip()]\n",
    "token_end"
   ]
  },
  {
   "cell_type": "code",
   "execution_count": 32,
   "metadata": {
    "colab": {
     "base_uri": "https://localhost:8080/",
     "height": 34
    },
    "colab_type": "code",
    "id": "8fdWAuWy_fdC",
    "outputId": "3233bbbf-6501-42d6-e056-634313ea0113"
   },
   "outputs": [
    {
     "data": {
      "text/plain": [
       "2"
      ]
     },
     "execution_count": 32,
     "metadata": {
      "tags": []
     },
     "output_type": "execute_result"
    }
   ],
   "source": [
    "token_end1 = tokenizer_dest1.word_index[mark_end.strip()]\n",
    "token_end1"
   ]
  },
  {
   "cell_type": "markdown",
   "metadata": {
    "colab_type": "text",
    "id": "fPHhecuw_fdH"
   },
   "source": [
    "__Example of Token Sequences__"
   ]
  },
  {
   "cell_type": "code",
   "execution_count": 0,
   "metadata": {
    "colab": {},
    "colab_type": "code",
    "id": "vTJ68op7_fdI"
   },
   "outputs": [],
   "source": [
    "idx = 0"
   ]
  },
  {
   "cell_type": "code",
   "execution_count": 34,
   "metadata": {
    "colab": {
     "base_uri": "https://localhost:8080/",
     "height": 52
    },
    "colab_type": "code",
    "id": "jOjMX_eh_fdO",
    "outputId": "9d7d3fc7-1577-4202-e951-079864c0bda3"
   },
   "outputs": [
    {
     "data": {
      "text/plain": [
       "array([13,  0,  0,  0,  0,  0,  0,  0,  0,  0,  0,  0,  0,  0,  0,  0,  0,\n",
       "        0,  0,  0,  0,  0,  0,  0,  0], dtype=int32)"
      ]
     },
     "execution_count": 34,
     "metadata": {
      "tags": []
     },
     "output_type": "execute_result"
    }
   ],
   "source": [
    "tokens_src[idx]"
   ]
  },
  {
   "cell_type": "code",
   "execution_count": 35,
   "metadata": {
    "colab": {
     "base_uri": "https://localhost:8080/",
     "height": 34
    },
    "colab_type": "code",
    "id": "aVg1WDwn_fdU",
    "outputId": "b6a33ac2-c4d1-419b-93e4-3a547cd774a8"
   },
   "outputs": [
    {
     "data": {
      "text/plain": [
       "'start'"
      ]
     },
     "execution_count": 35,
     "metadata": {
      "tags": []
     },
     "output_type": "execute_result"
    }
   ],
   "source": [
    "tokenizer_src.tokens_to_string(tokens_src[idx])"
   ]
  },
  {
   "cell_type": "code",
   "execution_count": 36,
   "metadata": {
    "colab": {
     "base_uri": "https://localhost:8080/",
     "height": 34
    },
    "colab_type": "code",
    "id": "CxeviVe9_fdY",
    "outputId": "bfb581cc-2a93-4211-8d79-1e169529a9a7"
   },
   "outputs": [
    {
     "data": {
      "text/plain": [
       "'[START]\\n'"
      ]
     },
     "execution_count": 36,
     "metadata": {
      "tags": []
     },
     "output_type": "execute_result"
    }
   ],
   "source": [
    "data_src4[idx]"
   ]
  },
  {
   "cell_type": "code",
   "execution_count": 37,
   "metadata": {
    "colab": {
     "base_uri": "https://localhost:8080/",
     "height": 52
    },
    "colab_type": "code",
    "id": "hL15jiNz_fdd",
    "outputId": "670a72c2-8ab7-43c9-e39a-1502379ffcb8"
   },
   "outputs": [
    {
     "data": {
      "text/plain": [
       "array([ 1, 13, 27, 16, 10,  3, 47,  2,  0,  0,  0,  0,  0,  0,  0,  0,  0,\n",
       "        0,  0,  0,  0,  0,  0,  0], dtype=int32)"
      ]
     },
     "execution_count": 37,
     "metadata": {
      "tags": []
     },
     "output_type": "execute_result"
    }
   ],
   "source": [
    "tokens_dest[idx]"
   ]
  },
  {
   "cell_type": "code",
   "execution_count": 38,
   "metadata": {
    "colab": {
     "base_uri": "https://localhost:8080/",
     "height": 34
    },
    "colab_type": "code",
    "id": "TndjKSg5_fdh",
    "outputId": "9a5c935c-c180-4c1e-8fe5-c5e731fe9c68"
   },
   "outputs": [
    {
     "data": {
      "text/plain": [
       "'ssss hi there how are you 😁😁 eeee'"
      ]
     },
     "execution_count": 38,
     "metadata": {
      "tags": []
     },
     "output_type": "execute_result"
    }
   ],
   "source": [
    "tokenizer_dest.tokens_to_string(tokens_dest[idx])"
   ]
  },
  {
   "cell_type": "code",
   "execution_count": 39,
   "metadata": {
    "colab": {
     "base_uri": "https://localhost:8080/",
     "height": 34
    },
    "colab_type": "code",
    "id": "K4f7g3JY_fd3",
    "outputId": "433be9cd-40f5-4b60-bbe3-fe2369bb27a5"
   },
   "outputs": [
    {
     "data": {
      "text/plain": [
       "'ssss Hi there, how are you!? 😁😁 eeee\\n'"
      ]
     },
     "execution_count": 39,
     "metadata": {
      "tags": []
     },
     "output_type": "execute_result"
    }
   ],
   "source": [
    "data_dest2[idx]"
   ]
  },
  {
   "cell_type": "markdown",
   "metadata": {
    "colab_type": "text",
    "id": "YGJBtvye_fd6"
   },
   "source": [
    "__Training data__\n",
    "\n",
    "Now that the data-set has been converted to sequences of integer-tokens that are padded and truncated and saved in numpy arrays, we can easily prepare the data for use in training the neural network.\n",
    "\n",
    "The input to the encoder is merely the numpy array for the padded and truncated sequences of integer-tokens produced by the tokenizer."
   ]
  },
  {
   "cell_type": "code",
   "execution_count": 40,
   "metadata": {
    "colab": {
     "base_uri": "https://localhost:8080/",
     "height": 34
    },
    "colab_type": "code",
    "id": "CY5nNKtG_fd8",
    "outputId": "4ac635c2-e34a-47ce-cda5-827201e13c4e"
   },
   "outputs": [
    {
     "data": {
      "text/plain": [
       "(2313, 25)"
      ]
     },
     "execution_count": 40,
     "metadata": {
      "tags": []
     },
     "output_type": "execute_result"
    }
   ],
   "source": [
    "encoder_input_data = tokens_src\n",
    "#print(encoder_input_data[0:20])\n",
    "encoder_input_data.shape"
   ]
  },
  {
   "cell_type": "code",
   "execution_count": 41,
   "metadata": {
    "colab": {
     "base_uri": "https://localhost:8080/",
     "height": 34
    },
    "colab_type": "code",
    "id": "cJvvzPmV_feD",
    "outputId": "5d5504ac-508e-4d73-cc3a-dab32a291a22"
   },
   "outputs": [
    {
     "data": {
      "text/plain": [
       "(50, 26)"
      ]
     },
     "execution_count": 41,
     "metadata": {
      "tags": []
     },
     "output_type": "execute_result"
    }
   ],
   "source": [
    "encoder_test_input_data = tokens_src1\n",
    "#print(encoder_input_data[0:20])\n",
    "encoder_test_input_data.shape"
   ]
  },
  {
   "cell_type": "markdown",
   "metadata": {
    "colab_type": "text",
    "id": "H5ugJ3TW_feI"
   },
   "source": [
    "The input and output data for the decoder is identical, except shifted one time-step. "
   ]
  },
  {
   "cell_type": "code",
   "execution_count": 42,
   "metadata": {
    "colab": {
     "base_uri": "https://localhost:8080/",
     "height": 34
    },
    "colab_type": "code",
    "id": "ySWCZSNn_feK",
    "outputId": "bb5cfbb0-accb-487b-a070-763366faab41"
   },
   "outputs": [
    {
     "data": {
      "text/plain": [
       "(2313, 23)"
      ]
     },
     "execution_count": 42,
     "metadata": {
      "tags": []
     },
     "output_type": "execute_result"
    }
   ],
   "source": [
    "decoder_input_data = tokens_dest[:, :-1]\n",
    "#print(decoder_input_data)\n",
    "decoder_input_data.shape"
   ]
  },
  {
   "cell_type": "code",
   "execution_count": 43,
   "metadata": {
    "colab": {
     "base_uri": "https://localhost:8080/",
     "height": 34
    },
    "colab_type": "code",
    "id": "4FzzSvHB_feO",
    "outputId": "b5a7ff00-1d4e-423b-d2a3-4e70ada87261"
   },
   "outputs": [
    {
     "data": {
      "text/plain": [
       "(2313, 23)"
      ]
     },
     "execution_count": 43,
     "metadata": {
      "tags": []
     },
     "output_type": "execute_result"
    }
   ],
   "source": [
    "decoder_output_data = tokens_dest[:, 1:]\n",
    "#print(decoder_output_data)\n",
    "decoder_output_data.shape"
   ]
  },
  {
   "cell_type": "code",
   "execution_count": 44,
   "metadata": {
    "colab": {
     "base_uri": "https://localhost:8080/",
     "height": 34
    },
    "colab_type": "code",
    "id": "8zbABxFm_feV",
    "outputId": "3389097d-e3d5-4258-865b-8ad4ff5ddd3b"
   },
   "outputs": [
    {
     "data": {
      "text/plain": [
       "(50, 19)"
      ]
     },
     "execution_count": 44,
     "metadata": {
      "tags": []
     },
     "output_type": "execute_result"
    }
   ],
   "source": [
    "decoder_test_input_data = tokens_dest1[:, :-1]\n",
    "#print(decoder_input_data)\n",
    "decoder_test_input_data.shape"
   ]
  },
  {
   "cell_type": "markdown",
   "metadata": {
    "colab_type": "text",
    "id": "wnGmJ-4N_fea"
   },
   "source": [
    "For example, these token-sequences are identical except they are shifted one time-step."
   ]
  },
  {
   "cell_type": "code",
   "execution_count": 45,
   "metadata": {
    "colab": {
     "base_uri": "https://localhost:8080/",
     "height": 34
    },
    "colab_type": "code",
    "id": "yGJU5QyS_feb",
    "outputId": "4a2d06e7-1d67-45a9-bb98-6f0316d1b452"
   },
   "outputs": [
    {
     "data": {
      "text/plain": [
       "(50, 19)"
      ]
     },
     "execution_count": 45,
     "metadata": {
      "tags": []
     },
     "output_type": "execute_result"
    }
   ],
   "source": [
    "decoder_test_output_data = tokens_dest1[:, 1:]\n",
    "#print(decoder_output_data)\n",
    "decoder_test_output_data.shape"
   ]
  },
  {
   "cell_type": "code",
   "execution_count": 0,
   "metadata": {
    "colab": {},
    "colab_type": "code",
    "id": "YWHswoWS_fee"
   },
   "outputs": [],
   "source": [
    "idx = 2"
   ]
  },
  {
   "cell_type": "code",
   "execution_count": 47,
   "metadata": {
    "colab": {
     "base_uri": "https://localhost:8080/",
     "height": 52
    },
    "colab_type": "code",
    "id": "2n82j_mk_fek",
    "outputId": "69898c14-d283-493c-ca8e-fa671f5f095e"
   },
   "outputs": [
    {
     "data": {
      "text/plain": [
       "array([  1,  30, 126,   7,  52,  24,   3,  22, 127,  15, 116,   8, 557,\n",
       "       279,  54,   4, 180, 102,  22,  25, 208, 192,   2], dtype=int32)"
      ]
     },
     "execution_count": 47,
     "metadata": {
      "tags": []
     },
     "output_type": "execute_result"
    }
   ],
   "source": [
    "decoder_input_data[idx]"
   ]
  },
  {
   "cell_type": "code",
   "execution_count": 48,
   "metadata": {
    "colab": {
     "base_uri": "https://localhost:8080/",
     "height": 52
    },
    "colab_type": "code",
    "id": "BMGuDdYu_fen",
    "outputId": "32a3dca2-7aad-4c61-f080-6d4672cce1aa"
   },
   "outputs": [
    {
     "data": {
      "text/plain": [
       "array([ 30, 126,   7,  52,  24,   3,  22, 127,  15, 116,   8, 557, 279,\n",
       "        54,   4, 180, 102,  22,  25, 208, 192,   2,   0], dtype=int32)"
      ]
     },
     "execution_count": 48,
     "metadata": {
      "tags": []
     },
     "output_type": "execute_result"
    }
   ],
   "source": [
    "decoder_output_data[idx]"
   ]
  },
  {
   "cell_type": "markdown",
   "metadata": {
    "colab_type": "text",
    "id": "iORyKFOd_fer"
   },
   "source": [
    "If we use the tokenizer to convert these sequences back into text, we see that they are identical except for the first word which is 'ssss' that marks the beginning of a text."
   ]
  },
  {
   "cell_type": "code",
   "execution_count": 49,
   "metadata": {
    "colab": {
     "base_uri": "https://localhost:8080/",
     "height": 34
    },
    "colab_type": "code",
    "id": "xEgLvftH_fes",
    "outputId": "5a7cd70a-da22-4e24-cdbf-38e0dacce26f"
   },
   "outputs": [
    {
     "data": {
      "text/plain": [
       "'ssss my name is rdany but you can call me dany the r means robot i hope we can be virtual friends eeee'"
      ]
     },
     "execution_count": 49,
     "metadata": {
      "tags": []
     },
     "output_type": "execute_result"
    }
   ],
   "source": [
    "tokenizer_dest.tokens_to_string(decoder_input_data[idx])"
   ]
  },
  {
   "cell_type": "code",
   "execution_count": 50,
   "metadata": {
    "colab": {
     "base_uri": "https://localhost:8080/",
     "height": 34
    },
    "colab_type": "code",
    "id": "l4Jye8L3_few",
    "outputId": "fa751d9b-91af-4cfa-81e0-d3aea0821dc3"
   },
   "outputs": [
    {
     "data": {
      "text/plain": [
       "'my name is rdany but you can call me dany the r means robot i hope we can be virtual friends eeee'"
      ]
     },
     "execution_count": 50,
     "metadata": {
      "tags": []
     },
     "output_type": "execute_result"
    }
   ],
   "source": [
    "tokenizer_dest.tokens_to_string(decoder_output_data[idx])"
   ]
  },
  {
   "cell_type": "markdown",
   "metadata": {
    "colab_type": "text",
    "id": "xQ6DPtt__fe1"
   },
   "source": [
    "__Create the Neural Network__\n",
    "\n",
    "__Create the Encoder__\n",
    "\n",
    "First we create the encoder-part of the neural network which maps a sequence of integer-tokens to a \"thought vector\". We will use the so-called functional API of Keras for this, where we first create the objects for all the layers of the neural network and then we connect them later, this allows for more flexibility than the so-called sequential API in Keras, which is useful when experimenting with more complicated architectures and ways of connecting the encoder and decoder.\n"
   ]
  },
  {
   "cell_type": "markdown",
   "metadata": {
    "colab_type": "text",
    "id": "P_xcOpJ4_fe2"
   },
   "source": [
    "This is the input for the encoder which takes batches of integer-token sequences. The None indicates that the sequences can have arbitrary length."
   ]
  },
  {
   "cell_type": "code",
   "execution_count": 0,
   "metadata": {
    "colab": {},
    "colab_type": "code",
    "id": "MfE-zQ3S_fe3"
   },
   "outputs": [],
   "source": [
    "state_size=512\n",
    "encoder_input = Input(shape=(None,), name='encoder_input')"
   ]
  },
  {
   "cell_type": "markdown",
   "metadata": {
    "colab_type": "text",
    "id": "eNb98iLx_fe5"
   },
   "source": [
    "class Encoder(tf.keras.Model):\n",
    "    \n",
    "    def __init__(self,num_words,en_numsteps,pram):\n",
    "        super(Encoder, self).__init__()\n",
    "        self.encoder_input = Input(shape=(None,), name='encoder_input')\n",
    "        self.encoder_embedding = Embedding(input_dim=num_words,output_dim=pram['embedding_size'],\n",
    "                                           input_length=en_numsteps,\n",
    "                                           name='encoder_embedding')\n",
    "        self.encoder_gru1 = GRU(pram['state_size'], name='encoder_gru1',return_sequences=True,return_state=True)\n",
    "        self.encoder_gru2 = GRU(pram['state_size'], name='encoder_gru2',return_sequences=True,return_state=True)\n",
    "        self.encoder_gru3 = GRU(pram['state_size'], name='encoder_gru3',return_sequences=True,return_state=True)\n",
    "\n",
    "    def call(self):\n",
    "        net = encoder_input\n",
    "        net = encoder_embedding(net)\n",
    "        net,encoder_state1= encoder_gru1(net)\n",
    "        net,encoder_state2= encoder_gru2(net)\n",
    "        net,encoder_state3= encoder_gru3(net)\n",
    "        encoder_output= net\n",
    "        print(\"encoder_ouput:\",encoder_output)\n",
    "        return encoder_output,encoder_state3"
   ]
  },
  {
   "cell_type": "markdown",
   "metadata": {
    "colab_type": "text",
    "id": "taL42ela_fe7"
   },
   "source": [
    "This is the length of the vectors output by the embedding-layer, which maps integer-tokens to vectors of values roughly between -1 and 1, so that words that have similar semantic meanings are mapped to vectors that are similar.\n",
    "\n",
    "we also give number of timesteps according to maximum number of token into input text.\n",
    "\n",
    "This is the embedding-layer."
   ]
  },
  {
   "cell_type": "code",
   "execution_count": 52,
   "metadata": {
    "colab": {
     "base_uri": "https://localhost:8080/",
     "height": 89
    },
    "colab_type": "code",
    "id": "1UdZ2BCJ_fe8",
    "outputId": "db28191b-8f1b-4b69-c73a-2e176478ef78"
   },
   "outputs": [
    {
     "name": "stdout",
     "output_type": "stream",
     "text": [
      "WARNING:tensorflow:From /usr/local/lib/python3.6/dist-packages/tensorflow_core/python/keras/initializers.py:119: calling RandomUniform.__init__ (from tensorflow.python.ops.init_ops) with dtype is deprecated and will be removed in a future version.\n",
      "Instructions for updating:\n",
      "Call initializer instance with the dtype argument instead of passing it to the constructor\n"
     ]
    }
   ],
   "source": [
    "en_numsteps=25\n",
    "embedding_size=150\n",
    "encoder_embedding = Embedding(input_dim=num_words,output_dim=embedding_size,input_length=en_numsteps,name='encoder_embedding')"
   ]
  },
  {
   "cell_type": "markdown",
   "metadata": {
    "colab_type": "text",
    "id": "K-hR8YkR_ffB"
   },
   "source": [
    "This is the size of the internal states of the Gated Recurrent Units (GRU). The same size is used in both the encoder and decoder."
   ]
  },
  {
   "cell_type": "markdown",
   "metadata": {
    "colab_type": "text",
    "id": "dwIt6KgW_ffE"
   },
   "source": [
    "This creates the 3 GRU layers that will map from a sequence of embedding-vectors to a single \"thought vector\" which summarizes the contents of the input-text. Note that the last GRU-layer does not return a sequence."
   ]
  },
  {
   "cell_type": "code",
   "execution_count": 0,
   "metadata": {
    "colab": {},
    "colab_type": "code",
    "id": "LWQn9qq2_ffF"
   },
   "outputs": [],
   "source": [
    "#state_units = np.arange(256,512, dtype=int)\n",
    "#state_size=hp.choice(\n",
    " #   'num_embedding_size',state_units)\n",
    "encoder_gru1 = GRU(state_size, name='encoder_gru1',return_sequences=True,return_state=True)\n",
    "encoder_gru2 = GRU(state_size, name='encoder_gru2',return_sequences=True,return_state=True)\n",
    "encoder_gru3 = GRU(state_size, name='encoder_gru3',return_sequences=True,return_state=True)"
   ]
  },
  {
   "cell_type": "markdown",
   "metadata": {
    "colab_type": "text",
    "id": "kGVR6hiV_ffK"
   },
   "source": [
    "This function connects all the layers of the encoder."
   ]
  },
  {
   "cell_type": "code",
   "execution_count": 0,
   "metadata": {
    "colab": {},
    "colab_type": "code",
    "id": "-QjJsYzq_ffQ"
   },
   "outputs": [],
   "source": [
    "def connect_encoder():\n",
    "    # Start the neural network with its input-layer.\n",
    "    net = encoder_input\n",
    "    \n",
    "    # Connect the embedding-layer.\n",
    "    net = encoder_embedding(net)\n",
    "    # Connect all the GRU-layers.\n",
    "    net,encoder_state1= encoder_gru1(net)\n",
    "    #print(\"encoder hidden:\",net.shape)\n",
    "\n",
    "    net,encoder_state2= encoder_gru2(net)\n",
    "    net,encoder_state3= encoder_gru3(net)\n",
    "    \n",
    "    # This is the output of the encoder.\n",
    "    encoder_output= net\n",
    "    #output = tf.reshape(encoder_output,(-1,encoder_output.shape[2]))\n",
    "    #print(\"net\",output.shape)\n",
    "    print(\"encoder_ouput:\",encoder_output)\n",
    "    \n",
    "    return encoder_output,encoder_state3"
   ]
  },
  {
   "cell_type": "markdown",
   "metadata": {
    "colab_type": "text",
    "id": "FFqmNta__ffU"
   },
   "source": [
    "We can now use this function to connect all the layers in the encoder so it can be connected to the decoder further below."
   ]
  },
  {
   "cell_type": "code",
   "execution_count": 55,
   "metadata": {
    "colab": {
     "base_uri": "https://localhost:8080/",
     "height": 106
    },
    "colab_type": "code",
    "id": "W3nXg1Rk_ffV",
    "outputId": "812c22d8-81b7-4dc9-fec8-ddf2606ad64c"
   },
   "outputs": [
    {
     "name": "stdout",
     "output_type": "stream",
     "text": [
      "WARNING:tensorflow:From /usr/local/lib/python3.6/dist-packages/tensorflow_core/python/ops/resource_variable_ops.py:1635: calling BaseResourceVariable.__init__ (from tensorflow.python.ops.resource_variable_ops) with constraint is deprecated and will be removed in a future version.\n",
      "Instructions for updating:\n",
      "If using Keras pass *_constraint arguments to layers.\n",
      "encoder_ouput: Tensor(\"encoder_gru3/transpose_1:0\", shape=(?, ?, 512), dtype=float32)\n"
     ]
    }
   ],
   "source": [
    "encoder_output,encoder_state= connect_encoder()"
   ]
  },
  {
   "cell_type": "markdown",
   "metadata": {
    "colab_type": "text",
    "id": "0UoQjyaU_ffY"
   },
   "source": [
    "attention_layer = Attention(23)\n",
    "attention_result, attention_weights = attention_layer(hidden_state, encoder_output)\n",
    "\n",
    "print(\"Attention result shape: (batch size, units) {}\".format(attention_result.shape))\n",
    "print(\"Attention weights shape: (batch_size, sequence_length, 1) {}\".format(attention_weights.shape))\n",
    "    "
   ]
  },
  {
   "cell_type": "markdown",
   "metadata": {
    "colab_type": "text",
    "id": "Y7VgOVna_ffZ"
   },
   "source": [
    "__Create the Decoder__\n",
    "\n",
    "Create the decoder-part which maps the \"thought vector\" to a sequence of integer-tokens.\n",
    "\n",
    "The decoder takes two inputs. First it needs the \"thought vector\" produced by the encoder which summarizes the contents of the input-text.\n"
   ]
  },
  {
   "cell_type": "markdown",
   "metadata": {
    "colab_type": "text",
    "id": "JC-jwHE8_ffa"
   },
   "source": [
    "class Decoder(tf.keras.Model):\n",
    "    \n",
    "    def __init__(self,num_words,numsteps,pram):\n",
    "        super(Decoder, self).__init__()\n",
    "        decoder_initial_state = Input(shape=(state_size,),\n",
    "                                 name='decoder_initial_state')\n",
    "        decoder_initial1 = Input(shape=(None,state_size,),\n",
    "                                 name='decoder_initial1')\n",
    "        self.decoder_embedding = Embedding(input_dim=num_words,output_dim=pram['embedding_size'],\n",
    "                                           input_length=numsteps,\n",
    "                                           name='decoder_embedding')\n",
    "        self.decoder_gru1 = GRU(pram['state_size'], name='decoder_gru1',return_sequences=True,return_state=True)\n",
    "        self.encoder_gru2 = GRU(pram['state_size'], name='decoder_gru2',return_sequences=True,return_state=True)\n",
    "        self.encoder_gru3 = GRU(pram['state_size'], name='decoder_gru3',return_sequences=True,return_state=True)\n",
    "        self.decoder_dense1= Dense(pram['state_size'], activation='tanh',\n",
    "                          name='decoder_output1')\n",
    "        self.decoder_dense = Dense(num_words,\n",
    "                          activation='linear',\n",
    "                          name='decoder_output')\n",
    "\n",
    "    def call(self,initial_state,encoder_output1):\n",
    "        \n",
    "        net = decoder_input\n",
    "        net = decoder_embedding(net)\n",
    "        net,decoder_state1 = decoder_gru1(net,initial_state=initial_state)\n",
    "        net,decoder_state2= decoder_gru2(net,initial_state=initial_state)\n",
    "        net,decoder_state3= decoder_gru3(net,initial_state=initial_state)\n",
    "        attention = Attention(512)\n",
    "        context_vector,alphas= attention(encoder_output1,net)\n",
    "\n",
    "        attention_vector= Concatenate(axis=-1, name='concat_layer')([context_vector,net])\n",
    "        #print(\"attention_vector\",attention_vector.shape)\n",
    "        decoder_output1 =decoder_dense1(attention_vector)\n",
    "        #print(\"dense1:\",decoder_output1.shape)\n",
    "        decoder_output=decoder_dense(decoder_output1)\n",
    "        print(\"dense:\",decoder_output.shape)\n",
    "\n",
    "        return decoder_output\n",
    "    "
   ]
  },
  {
   "cell_type": "code",
   "execution_count": 56,
   "metadata": {
    "colab": {
     "base_uri": "https://localhost:8080/",
     "height": 34
    },
    "colab_type": "code",
    "id": "FMmKgdaD_ffb",
    "outputId": "701345bd-e26b-443e-b84f-8ae46d375aee"
   },
   "outputs": [
    {
     "data": {
      "text/plain": [
       "<tf.Tensor 'decoder_initial1:0' shape=(?, ?, 512) dtype=float32>"
      ]
     },
     "execution_count": 56,
     "metadata": {
      "tags": []
     },
     "output_type": "execute_result"
    }
   ],
   "source": [
    "decoder_initial_state = Input(shape=(state_size,),\n",
    "                             name='decoder_initial_state')\n",
    "decoder_initial_state\n",
    "\n",
    "decoder_initial1 = Input(shape=(None,state_size,),\n",
    "                             name='decoder_initial1')\n",
    "decoder_initial1"
   ]
  },
  {
   "cell_type": "code",
   "execution_count": 57,
   "metadata": {
    "colab": {
     "base_uri": "https://localhost:8080/",
     "height": 34
    },
    "colab_type": "code",
    "id": "y-9ldB2G_fff",
    "outputId": "f26cf727-e8ff-4bcf-8491-1d7b54a5af8a"
   },
   "outputs": [
    {
     "data": {
      "text/plain": [
       "<tf.Tensor 'decoder_input:0' shape=(?, ?) dtype=float32>"
      ]
     },
     "execution_count": 57,
     "metadata": {
      "tags": []
     },
     "output_type": "execute_result"
    }
   ],
   "source": [
    "decoder_input = Input(shape=(None, ), name='decoder_input')\n",
    "decoder_input"
   ]
  },
  {
   "cell_type": "markdown",
   "metadata": {
    "colab_type": "text",
    "id": "f6Ua5IXj_ffh"
   },
   "source": [
    "The decoder also needs a sequence of integer-tokens as inputs. During training we will supply this with a full sequence of integer-tokens e.g. corresponding to the text \"ssss i am fine thanks for asking me eeee\".\n",
    "\n",
    "During inference when we are translating new input-texts, we will start by feeding a sequence with just one integer-token for \"ssss\" which marks the beginning of a text, and combined with the \"thought vector\" from the encoder, the decoder will hopefully be able to produce the correct next word e.g. \"once\".\n"
   ]
  },
  {
   "cell_type": "markdown",
   "metadata": {
    "colab_type": "text",
    "id": "YDsdMEqB_ffi"
   },
   "source": [
    "This is the embedding-layer which converts integer-tokens to vectors of real-valued numbers roughly between -1 and 1. Note that we have different embedding-layers for the encoder and decoder because we have two different vocabularies and two different tokenizers for the text and response languages.\n",
    "\n",
    "here number of timesteps according to maximum number of token into response text."
   ]
  },
  {
   "cell_type": "code",
   "execution_count": 0,
   "metadata": {
    "colab": {},
    "colab_type": "code",
    "id": "CoaWRRqy_ffk"
   },
   "outputs": [],
   "source": [
    "numsteps=24\n",
    "decoder_embedding = Embedding(input_dim=num_words,\n",
    "                              output_dim=embedding_size,input_length=numsteps,\n",
    "                              name='decoder_embedding')"
   ]
  },
  {
   "cell_type": "markdown",
   "metadata": {
    "colab_type": "text",
    "id": "hYSQFgY6_ffo"
   },
   "source": [
    "This creates the 3 GRU layers of the decoder. Note that they all return sequences because we ultimately want to output a sequence of integer-tokens that can be converted into a text-sequence."
   ]
  },
  {
   "cell_type": "code",
   "execution_count": 0,
   "metadata": {
    "colab": {},
    "colab_type": "code",
    "id": "icxV-Mkw_ffp"
   },
   "outputs": [],
   "source": [
    "decoder_gru1 = GRU(state_size, name='decoder_gru1',\n",
    "                   return_sequences=True,return_state=True)\n",
    "decoder_gru2 = GRU(state_size, name='decoder_gru2',\n",
    "                 return_sequences=True,return_state=True)\n",
    "decoder_gru3 = GRU(state_size, name='decoder_gru3',\n",
    "                   return_sequences=True,return_state=True)"
   ]
  },
  {
   "cell_type": "markdown",
   "metadata": {
    "colab_type": "text",
    "id": "Y4ayEouy_ffs"
   },
   "source": [
    "The GRU layers output  with shape [batch_size, sequence_length, state_size], where each \"word\" is encoded as a vector of length state_size. We need to convert this into sequences of integer-tokens that can be interpreted as words from our vocabulary.\n",
    "\n",
    "we need a vector with number of words(eg 25) elements, so we can select the index of the highest element to be the integer-token.\n",
    "\n",
    "Note that the activation-function is set to linear instead of softmax as we would normally use for one-hot encoded outputs, because there is apparently a bug in Keras so we need to make our own loss-function."
   ]
  },
  {
   "cell_type": "code",
   "execution_count": 0,
   "metadata": {
    "colab": {},
    "colab_type": "code",
    "id": "7-BNqqaU_fft"
   },
   "outputs": [],
   "source": [
    "#nmt_repeat_vector = RepeatVector(n=numsteps, name='nmt_repeat_vector')\n",
    "decoder_dense1= Dense(state_size, activation='tanh',\n",
    "                      name='decoder_output1')\n",
    "decoder_dense = Dense(num_words,\n",
    "                      activation='linear',\n",
    "                      name='decoder_output')\n",
    "#dense_time=TimeDistributed(decoder_dense,name='timedistributedlayer')"
   ]
  },
  {
   "cell_type": "code",
   "execution_count": 0,
   "metadata": {
    "colab": {},
    "colab_type": "code",
    "id": "GPFiBmoi_ffw"
   },
   "outputs": [],
   "source": [
    "import os\n",
    "from tensorflow.python.keras.layers import Layer\n",
    "from tensorflow.python.keras import backend as K\n",
    "from tensorflow.python.ops import array_ops\n",
    "from keras import regularizers, constraints, initializers, activations\n",
    "\n",
    "class Attention(Layer):\n",
    "    \n",
    "    def __init__(self):\n",
    "        super(Attention, self).__init__()\n",
    "        \n",
    "        #g1 = tf.Graph()\n",
    "        #with g1.as_default():\n",
    "         #   self.W_a = tf.get_variable(name=\"W_a\", shape=[units, units],\n",
    "          #                    initializer=tf.random_normal_initializer())\n",
    "\n",
    "    def call(self,encoder_output1,net):\n",
    "        \n",
    "        encoder_n = encoder_output1.shape[2].value  # D1 value - hidden size of the RNN layer encoder\n",
    "        decoder_n = net.shape[2].value  # D2 value - hidden size of the RNN layer decoder\n",
    "        batch_size = array_ops.shape(encoder_output1)[0]\n",
    "        \n",
    "        print(\"encoder_out_seq>\", encoder_output1.shape)\n",
    "        print(\"decoder_out_seq>\", net.shape)\n",
    "        self.W_a = tf.Variable(tf.random_normal([encoder_n,decoder_n]),\n",
    "                      name=\"W_a\")\n",
    "        #decoder_state3= tf.expand_dims(decoder_state3, 1)\n",
    "        enc_reshape = tf.reshape(encoder_output1, [-1, encoder_n], name=\"enc_reshape\")  # [(B*T1), D1]\n",
    "        h1 = tf.matmul(enc_reshape,self.W_a)  # [(B*T1), D1][D1, D2] = [(B*T1), D2]\n",
    "        h1_reshape = tf.reshape(h1, tf.stack([batch_size, -1,decoder_n]), name=\"h1_reshape\")  # [B, T1, D2]\n",
    "        #dec_reshape = tf.reshape(net, [-1, units], name=\"dec_reshape\")  # [(B*T2), D2]\n",
    "        #h2 = tf.matmul(dec_reshape,self.U_a)  # [(B*T1), D1][D1, D2] = [(B*T2), D2]\n",
    "        #h2_reshape = tf.reshape(h2, tf.stack([batch_size, -1, units]), name=\"h1_reshape\") # [B, T2, D2]\n",
    "        h3_transpose = tf.transpose(net, [0, 2, 1])  # [B, D2, T2]\n",
    "        #h3=h1_reshape+h3_transpose\n",
    "        #print(\"h3:\",h3.shape)\n",
    "        score =tf.nn.tanh(tf.matmul(h1_reshape, h3_transpose)) # [B, T1, D2][B, D2, T2] = [B, T1, T2]\n",
    "        print(\"score:\",score.shape)\n",
    "        score_transpose = tf.transpose(score, [0, 2, 1])  # [B, T2, T1]\n",
    "        alphas = tf.nn.softmax(score_transpose, axis=2, name='alphas')  # [B, T2, T1] with softmax on T1\n",
    "        context_vector = tf.matmul(alphas,encoder_output1)# [B, D1]\n",
    "        print(\"context_vector:\",context_vector.shape)\n",
    "        return context_vector,alphas       "
   ]
  },
  {
   "cell_type": "markdown",
   "metadata": {
    "colab_type": "text",
    "id": "yo0G_Q4e_ffz"
   },
   "source": [
    "from tensorflow.python.ops import array_ops\n",
    "import os\n",
    "from tensorflow.python.keras.layers import Layer\n",
    "\n",
    "class Attention(Layer):\n",
    "    \n",
    "    def __init__(self,units):\n",
    "        super(Attention, self).__init__()\n",
    "        self.w_a = tf.get_variable(name=\"w_a\", shape=[units, units],\n",
    "                                  initializer=tf.random_normal_initializer()) # [D1, D2]\n",
    "        self.u_a = tf.get_variable(name=\"u_a\", shape=[units, units],\n",
    "                                  initializer=tf.random_normal_initializer()) # [D1, D2]\n",
    "\n",
    "    def call(self,encoder_states,decoder_states,return_score=False,\n",
    "                return_context=False,return_alphas=False):\n",
    "        batch_size = array_ops.shape(encoder_states)[0]\n",
    "        \n",
    "        with tf.variable_scope(\"attn/score\"):\n",
    "            enc_reshape = tf.reshape(encoder_states, [-1, units], name=\"enc_reshape\")  # [(B*T1), D1]\n",
    "            h1 = tf.matmul(enc_reshape,self.w_a)  # [(B*T1), D1][D1, D2] = [(B*T1), D2]\n",
    "            h1_reshape = tf.reshape(h1, tf.stack([batch_size, -1, units]), name=\"h1_reshape\")  # [B, T1, D2]\n",
    "            dec_transpose = tf.transpose(decoder_states, [0, 2, 1])  # [B, D2, T2]\n",
    "            score = tf.nn.tanh(tf.matmul(h1_reshape, dec_transpose))  # [B, T1, D2][B, D2, T2] = [B, T1, T2]\n",
    "            score_transpose = tf.transpose(score, [0, 2, 1])  # [B, T2, T1]\n",
    "\n",
    "        with tf.variable_scope(\"attn/align\"):\n",
    "            alphas = tf.nn.softmax(score_transpose, axis=2, name='alphas')  # [B, T2, T1] with softmax on T1\n",
    "\n",
    "        with tf.variable_scope(\"attn/outputs\"):\n",
    "            alphas_argmax = tf.argmax(alphas, axis=2, name=\"outputs_argmax\", output_type=tf.int32)  # [B, T2]\n",
    "            outputs = tf.gather_nd(params=enc_inp, indices=self._index_matrix_to_pairs(alphas_argmax))\n",
    "\n",
    "            # Output of (Bi-)RNN is reduced with attention vector; the result has (B,D1) shape\n",
    "        with tf.variable_scope(\"attn/context_vec\"):\n",
    "            context = tf.reduce_sum(tf.matmul(alphas, encoder_states), axis=1, name=\"context\")   # [B, D1]\n",
    "        ret = [outputs]\n",
    "        if return_score:\n",
    "            ret.append(score_transpose)\n",
    "        if return_context:\n",
    "            ret.append(context)\n",
    "        if return_alphas:\n",
    "            ret.append(alphas)\n",
    "        return tuple(ret)\n",
    "\n",
    "            \n",
    "            #score(t) = h(s).W.trans(h(t))  dim:[B, T2, T1] = [B, T1, D1].[D1, D2].transpose([B, T2, D2])\n",
    "            #alphas = softmax(t)\n",
    "            #Args:\n",
    "             #   :param encoder_states: Encoder outputs on which attention is to be applied, shape: [B, T1, D1]\n",
    "              #  :param enc_inp: Encoder inputs, shape: [B, T1, Dim]\n",
    "               # :param decoder_states: Decoder states, shape: [B, T2, D2]\n",
    "                #    if None: self attention is implemented with dec_states tf.ones([B, 1, 1])\n",
    "                #:param activation: activation function to apply on score\n",
    "                #:param time_major: Default is False\n",
    "                 #   True if shape of encoder/decoder is (T, B, D)\n",
    "                  #  Flase if shape of encoder is (B, T, D)\n",
    "                #:param return_score: Default is False\n",
    "                #:param return_context: Defaults to False\n",
    "            #Returns:\n",
    "             #   :return:\n",
    "              #      returns outputs([B, T2, D1]) and\n",
    "               #     if return_score is True: scores ([B, T2, T1])\n",
    "                #    if return_context is True: context ([B, D1])"
   ]
  },
  {
   "cell_type": "markdown",
   "metadata": {
    "colab_type": "text",
    "id": "IzQQAera_ff0"
   },
   "source": [
    "\n",
    "This function connects all the layers of the decoder to some input of the initial-state values for the GRU layers."
   ]
  },
  {
   "cell_type": "code",
   "execution_count": 0,
   "metadata": {
    "colab": {},
    "colab_type": "code",
    "id": "wKOVYmPu_ff1"
   },
   "outputs": [],
   "source": [
    "def connect_decoder(initial_state,encoder_output1):\n",
    "    # Start the decoder-network with its input-layer.\n",
    "    net = decoder_input\n",
    "    \n",
    "    \n",
    "    # Connect the embedding-layer.\n",
    "    net = decoder_embedding(net)\n",
    "    print(\"embedding:\",net.shape)\n",
    "    # Connect all the GRU-layers.\n",
    "    net,decoder_state1 = decoder_gru1(net,initial_state=initial_state)\n",
    "    #Connect all the GRU-layers.\n",
    "    net,decoder_state2= decoder_gru2(net,initial_state=initial_state)\n",
    "    net,decoder_state3= decoder_gru3(net,initial_state=initial_state)\n",
    "\n",
    "    # Get current input in from embedded target sequences\n",
    "     \n",
    "    attention = Attention()\n",
    "    context_vector,alphas= attention(encoder_output1,net)\n",
    "    \n",
    "    #context_vector, attention_weights,attention_vector= attention(encoder_output1,decoder_state3,net)\n",
    "            # Combine information\n",
    "            #print(\"context_vector:\",context_vector.shape)\n",
    "    #context_vector= tf.expand_dims(context_vector, 1)\n",
    "    #contxt_vector = K.tile(context_vector, [1,23,state_size])\n",
    "    #context_vector1 = nmt_repeat_vector(context_vector)\n",
    "    #print(\"context_vector:\",context_vector1.shape)\n",
    "    attention_vector= Concatenate(axis=-1, name='concat_layer')([context_vector,net])\n",
    "    print(\"attention_vector\",attention_vector.shape)\n",
    "            # Connect the final dense layer that converts to\n",
    "            # one-hot encoded arrays.\n",
    "    decoder_output1 =decoder_dense1(attention_vector)\n",
    "    print(\"dense1:\",decoder_output1.shape)\n",
    "            #dense_time=TimeDistributed(decoder_dense,name='time_distributed_layer')\n",
    "    decoder_output=decoder_dense(decoder_output1)\n",
    "\n",
    "    print(\"dense:\",decoder_output.shape)\n",
    "    \n",
    "    return decoder_output"
   ]
  },
  {
   "cell_type": "markdown",
   "metadata": {
    "colab_type": "text",
    "id": "m3U_ie32_ff4"
   },
   "source": [
    "__Connect and Create the Models__\n",
    "\n",
    "We can now connect the encoder and decoder in different ways.\n",
    "\n",
    "First we connect the encoder directly to the decoder so it is one whole model that can be trained end-to-end. This means the initial-state of the decoder's GRU units are set to the output of the encoder.\n"
   ]
  },
  {
   "cell_type": "code",
   "execution_count": 63,
   "metadata": {
    "colab": {
     "base_uri": "https://localhost:8080/",
     "height": 156
    },
    "colab_type": "code",
    "id": "_tmQlR2q_ff6",
    "outputId": "b7f18cc1-9a6d-459a-fcad-51db942b3d6e"
   },
   "outputs": [
    {
     "name": "stdout",
     "output_type": "stream",
     "text": [
      "embedding: (?, ?, 150)\n",
      "encoder_out_seq> (?, ?, 512)\n",
      "decoder_out_seq> (?, ?, 512)\n",
      "score: (?, ?, ?)\n",
      "context_vector: (?, ?, 512)\n",
      "attention_vector (?, ?, 1024)\n",
      "dense1: (?, ?, 512)\n",
      "dense: (?, ?, 2000)\n"
     ]
    }
   ],
   "source": [
    "decoder_output= connect_decoder(initial_state=encoder_state,encoder_output1=encoder_output)"
   ]
  },
  {
   "cell_type": "code",
   "execution_count": 0,
   "metadata": {
    "colab": {},
    "colab_type": "code",
    "id": "da5n4bu3_ff-"
   },
   "outputs": [],
   "source": [
    "model_train = Model(inputs=[encoder_input, decoder_input],\n",
    "                    outputs=[decoder_output])"
   ]
  },
  {
   "cell_type": "markdown",
   "metadata": {
    "colab_type": "text",
    "id": "cOjU9BbL_fgD"
   },
   "source": [
    "Then we create a model for just the encoder alone. This is useful for mapping a sequence of integer-tokens to a \"thought-vector\" summarizing its contents."
   ]
  },
  {
   "cell_type": "code",
   "execution_count": 0,
   "metadata": {
    "colab": {},
    "colab_type": "code",
    "id": "9PQ9mxK1_fgF"
   },
   "outputs": [],
   "source": [
    "model_encoder = Model(inputs=[encoder_input],\n",
    "                      outputs=[encoder_output,encoder_state])"
   ]
  },
  {
   "cell_type": "markdown",
   "metadata": {
    "colab_type": "text",
    "id": "C09GVxFG_fgI"
   },
   "source": [
    "Then we create a model for just the decoder alone. This allows us to directly input the initial state for the decoder's GRU units."
   ]
  },
  {
   "cell_type": "code",
   "execution_count": 66,
   "metadata": {
    "colab": {
     "base_uri": "https://localhost:8080/",
     "height": 156
    },
    "colab_type": "code",
    "id": "z8e29t19_fgJ",
    "outputId": "274bddc4-6904-4ab2-a591-cf62f3d6b452"
   },
   "outputs": [
    {
     "name": "stdout",
     "output_type": "stream",
     "text": [
      "embedding: (?, ?, 150)\n",
      "encoder_out_seq> (?, ?, 512)\n",
      "decoder_out_seq> (?, ?, 512)\n",
      "score: (?, ?, ?)\n",
      "context_vector: (?, ?, 512)\n",
      "attention_vector (?, ?, 1024)\n",
      "dense1: (?, ?, 512)\n",
      "dense: (?, ?, 2000)\n"
     ]
    }
   ],
   "source": [
    "decoder_output = connect_decoder(initial_state=decoder_initial_state,encoder_output1=decoder_initial1)\n",
    "model_decoder = Model(inputs=[decoder_initial_state,decoder_input,decoder_initial1],\n",
    "                      outputs=[decoder_output])"
   ]
  },
  {
   "cell_type": "markdown",
   "metadata": {
    "colab_type": "text",
    "id": "J9qTFvDL_fgN"
   },
   "source": [
    "__Loss Function__\n",
    "\n",
    "The output of the decoder is a sequence of one-hot encoded arrays. In order to train the decoder we need to supply the one-hot encoded arrays that we desire to see on the decoder's output, and then use a loss-function like cross-entropy to train the decoder to produce this desired output.\n",
    "\n",
    "However, our data-set contains integer-tokens instead of one-hot encoded arrays. Each one-hot encoded array has 25 elements so it would be extremely wasteful to convert the entire data-set to one-hot encoded arrays.\n",
    "\n",
    "A better way is to use a so-called sparse cross-entropy loss-function, which does the conversion internally from integers to one-hot encoded arrays. Unfortunately, there seems to be a bug in Keras when using this with Recurrent Neural Networks."
   ]
  },
  {
   "cell_type": "code",
   "execution_count": 0,
   "metadata": {
    "colab": {},
    "colab_type": "code",
    "id": "5iIt1aYb_fgQ"
   },
   "outputs": [],
   "source": [
    "def sparse_cross_entropy(y_true, y_pred):\n",
    "    \"\"\"\n",
    "    Calculate the cross-entropy loss between y_true and y_pred.\n",
    "    \n",
    "    y_true is a 2 rank matrix with the desired output.\n",
    "    The shape is [batch_size, sequence_length] and it\n",
    "    contains sequences of integer-tokens.\n",
    "\n",
    "    y_pred is the decoder's output which is a 3-rank matrix\n",
    "    with shape [batch_size, sequence_length, num_words]\n",
    "    so that for each sequence in the batch there is a one-hot\n",
    "    encoded array of length num_words.\n",
    "    \"\"\"\n",
    "\n",
    "    # Calculate the loss.\n",
    "    loss = tf.nn.sparse_softmax_cross_entropy_with_logits(labels=y_true,logits=y_pred)\n",
    "\n",
    "\n",
    "    loss_mean = tf.reduce_mean(loss)\n",
    "    #loss_mean = tf.reduce_mean(tf.nn.softmax_cross_entropy_with_logits(logits=y_pred, labels=y_true))\n",
    "\n",
    "    return loss_mean"
   ]
  },
  {
   "cell_type": "markdown",
   "metadata": {
    "colab_type": "text",
    "id": "bpC0lCMM_fgT"
   },
   "source": [
    "def perplexity(y_true, y_pred):\n",
    "    \"\"\"\n",
    "    The perplexity metric. Why isn't this part of Keras yet?!\n",
    "\n",
    "    BTW doesn't really work.\n",
    "    \"\"\"\n",
    "    cross_entropy = K.sparse_categorical_crossentropy(y_true, y_pred)\n",
    "    perplexity = K.pow(2.0, cross_entropy)\n",
    "    return perplexity"
   ]
  },
  {
   "cell_type": "markdown",
   "metadata": {
    "colab_type": "text",
    "id": "HIevwVYh_fgU"
   },
   "source": [
    "__Compile the Training Model__\n",
    "\n",
    "We have used the Adam optimizer.\n"
   ]
  },
  {
   "cell_type": "code",
   "execution_count": 0,
   "metadata": {
    "colab": {},
    "colab_type": "code",
    "id": "2mz65uJy_fgV"
   },
   "outputs": [],
   "source": [
    "optimizer = RMSprop(lr=(2e-3))"
   ]
  },
  {
   "cell_type": "markdown",
   "metadata": {
    "colab_type": "text",
    "id": "YSK0Rh5h_fgb"
   },
   "source": [
    " We need to manually create a placeholder variable for the decoder's output. The shape is set to (None, None) which means the batch can have an arbitrary number of sequences, which can have an arbitrary number of integer-tokens."
   ]
  },
  {
   "cell_type": "code",
   "execution_count": 0,
   "metadata": {
    "colab": {},
    "colab_type": "code",
    "id": "znwPSbyU_fgc"
   },
   "outputs": [],
   "source": [
    "decoder_target = tf.placeholder(dtype='int32', shape=(None, None))"
   ]
  },
  {
   "cell_type": "markdown",
   "metadata": {
    "colab_type": "text",
    "id": "yTByRLFq_fgf"
   },
   "source": [
    "We can now compile the model using our custom loss-function."
   ]
  },
  {
   "cell_type": "code",
   "execution_count": 0,
   "metadata": {
    "colab": {},
    "colab_type": "code",
    "id": "0VoAfYpQ_fgg"
   },
   "outputs": [],
   "source": [
    "model_train.compile(loss=sparse_cross_entropy,optimizer=optimizer,\n",
    "                    target_tensors=[decoder_target],\n",
    "                    metrics=['sparse_categorical_accuracy'])\n",
    "\n",
    "#model_train.compile(loss=sparse_cross_entropy,optimizer=optimizer,\n",
    " #                   target_tensors=[decoder_target],\n",
    "  #                  metrics=['sparse_categorical_accuracy',perplexity])"
   ]
  },
  {
   "cell_type": "code",
   "execution_count": 0,
   "metadata": {
    "colab": {},
    "colab_type": "code",
    "id": "gpZ69tioq_fJ"
   },
   "outputs": [],
   "source": [
    "from tensorflow.python.keras.callbacks import EarlyStopping, ModelCheckpoint, TensorBoard\n",
    "path_checkpoint = '33_checkpoint.keras'\n",
    "callback_checkpoint = ModelCheckpoint(filepath=path_checkpoint,\n",
    "                                      monitor='val_sparse_categorical_accuracy',\n",
    "                                      verbose=1,\n",
    "                                      save_weights_only=True,\n",
    "                                      save_best_only=False)\n",
    "#callback_early_stopping = EarlyStopping(monitor='val_sparse_categorical_accuracy',\n",
    " #                                      patience=3, verbose=1)\n",
    "callback_tensorboard = TensorBoard(log_dir='./33_logs/',\n",
    "                                   histogram_freq=0,\n",
    "                                   write_graph=False)\n",
    "callbacks = [callback_checkpoint,\n",
    "             callback_tensorboard]"
   ]
  },
  {
   "cell_type": "markdown",
   "metadata": {
    "colab_type": "text",
    "id": "4UQ55D4v_fgj"
   },
   "source": [
    "__Train the Model__\n",
    "\n",
    "We wrap the data in named dicts so we are sure the data is assigned correctly to the inputs and outputs of the model.\n"
   ]
  },
  {
   "cell_type": "markdown",
   "metadata": {
    "colab_type": "text",
    "id": "gJX3982f_fgl"
   },
   "source": [
    "from sklearn.model_selection import train_test_split\n",
    "x_train_encoder,x_val_encoder=train_test_split(encoder_input_data,test_size=0.03)\n",
    "x_train_decoder,x_val_decoder=train_test_split(decoder_input_data,test_size=0.03)\n",
    "y_train_decoder,y_val_decoder=train_test_split(decoder_output_data,test_size=0.03)"
   ]
  },
  {
   "cell_type": "code",
   "execution_count": 0,
   "metadata": {
    "colab": {},
    "colab_type": "code",
    "id": "BPuY5FMa_fgn"
   },
   "outputs": [],
   "source": [
    "x_data = \\\n",
    "{\n",
    "    'encoder_input': encoder_input_data,\n",
    "    'decoder_input': decoder_input_data\n",
    "}"
   ]
  },
  {
   "cell_type": "code",
   "execution_count": 0,
   "metadata": {
    "colab": {},
    "colab_type": "code",
    "id": "9RSql5np_fgr"
   },
   "outputs": [],
   "source": [
    "x_test= \\\n",
    "{\n",
    "    'encoder_input': encoder_test_input_data,\n",
    "    'decoder_input': decoder_test_input_data\n",
    "}"
   ]
  },
  {
   "cell_type": "code",
   "execution_count": 0,
   "metadata": {
    "colab": {},
    "colab_type": "code",
    "id": "qXUwH-Vu_fgt"
   },
   "outputs": [],
   "source": [
    "y_data = \\\n",
    "{\n",
    "    'decoder_output': decoder_output_data\n",
    "}"
   ]
  },
  {
   "cell_type": "code",
   "execution_count": 0,
   "metadata": {
    "colab": {},
    "colab_type": "code",
    "id": "nrM339LN_fgw"
   },
   "outputs": [],
   "source": [
    "y_test = \\\n",
    "{\n",
    "    'decoder_output': decoder_test_output_data\n",
    "}"
   ]
  },
  {
   "cell_type": "markdown",
   "metadata": {
    "colab_type": "text",
    "id": "fAaBYAvm_fgz"
   },
   "source": [
    "validation_split = 1000 / len(encoder_input_data)\n",
    "validation_split"
   ]
  },
  {
   "cell_type": "code",
   "execution_count": 76,
   "metadata": {
    "colab": {
     "base_uri": "https://localhost:8080/",
     "height": 1000
    },
    "colab_type": "code",
    "id": "PvZ-_XW5_fg0",
    "outputId": "7823ce91-dbfe-4ee4-f608-4c288e4a2657"
   },
   "outputs": [
    {
     "name": "stdout",
     "output_type": "stream",
     "text": [
      "Train on 2289 samples, validate on 24 samples\n",
      "Epoch 1/35\n",
      "2250/2289 [============================>.] - ETA: 0s - loss: 3.6115 - sparse_categorical_accuracy: 0.5861\n",
      "Epoch 00001: saving model to 33_checkpoint.keras\n",
      "2289/2289 [==============================] - 13s 5ms/sample - loss: 3.5994 - sparse_categorical_accuracy: 0.5870 - val_loss: 3.0193 - val_sparse_categorical_accuracy: 0.6286\n",
      "Epoch 2/35\n",
      "2250/2289 [============================>.] - ETA: 0s - loss: 2.9769 - sparse_categorical_accuracy: 0.6284\n",
      "Epoch 00002: saving model to 33_checkpoint.keras\n",
      "2289/2289 [==============================] - 8s 3ms/sample - loss: 2.9833 - sparse_categorical_accuracy: 0.6283 - val_loss: 2.9631 - val_sparse_categorical_accuracy: 0.6286\n",
      "Epoch 3/35\n",
      "2250/2289 [============================>.] - ETA: 0s - loss: 2.5416 - sparse_categorical_accuracy: 0.6425\n",
      "Epoch 00003: saving model to 33_checkpoint.keras\n",
      "2289/2289 [==============================] - 8s 4ms/sample - loss: 2.5382 - sparse_categorical_accuracy: 0.6426 - val_loss: 2.2010 - val_sparse_categorical_accuracy: 0.6486\n",
      "Epoch 4/35\n",
      "2250/2289 [============================>.] - ETA: 0s - loss: 2.1858 - sparse_categorical_accuracy: 0.6706\n",
      "Epoch 00004: saving model to 33_checkpoint.keras\n",
      "2289/2289 [==============================] - 8s 3ms/sample - loss: 2.1842 - sparse_categorical_accuracy: 0.6707 - val_loss: 2.1789 - val_sparse_categorical_accuracy: 0.6739\n",
      "Epoch 5/35\n",
      "2250/2289 [============================>.] - ETA: 0s - loss: 2.1619 - sparse_categorical_accuracy: 0.6636\n",
      "Epoch 00005: saving model to 33_checkpoint.keras\n",
      "2289/2289 [==============================] - 8s 3ms/sample - loss: 2.1607 - sparse_categorical_accuracy: 0.6638 - val_loss: 2.1763 - val_sparse_categorical_accuracy: 0.6793\n",
      "Epoch 6/35\n",
      "2250/2289 [============================>.] - ETA: 0s - loss: 2.0346 - sparse_categorical_accuracy: 0.6810\n",
      "Epoch 00006: saving model to 33_checkpoint.keras\n",
      "2289/2289 [==============================] - 8s 4ms/sample - loss: 2.0329 - sparse_categorical_accuracy: 0.6813 - val_loss: 2.1641 - val_sparse_categorical_accuracy: 0.6630\n",
      "Epoch 7/35\n",
      "2250/2289 [============================>.] - ETA: 0s - loss: 1.9624 - sparse_categorical_accuracy: 0.6824\n",
      "Epoch 00007: saving model to 33_checkpoint.keras\n",
      "2289/2289 [==============================] - 8s 4ms/sample - loss: 1.9579 - sparse_categorical_accuracy: 0.6829 - val_loss: 2.1118 - val_sparse_categorical_accuracy: 0.6920\n",
      "Epoch 8/35\n",
      "2250/2289 [============================>.] - ETA: 0s - loss: 1.9864 - sparse_categorical_accuracy: 0.6716\n",
      "Epoch 00008: saving model to 33_checkpoint.keras\n",
      "2289/2289 [==============================] - 8s 4ms/sample - loss: 1.9857 - sparse_categorical_accuracy: 0.6720 - val_loss: 2.0814 - val_sparse_categorical_accuracy: 0.6920\n",
      "Epoch 9/35\n",
      "2250/2289 [============================>.] - ETA: 0s - loss: 1.8531 - sparse_categorical_accuracy: 0.6856\n",
      "Epoch 00009: saving model to 33_checkpoint.keras\n",
      "2289/2289 [==============================] - 8s 4ms/sample - loss: 1.8530 - sparse_categorical_accuracy: 0.6858 - val_loss: 2.0144 - val_sparse_categorical_accuracy: 0.6993\n",
      "Epoch 10/35\n",
      "2250/2289 [============================>.] - ETA: 0s - loss: 1.7701 - sparse_categorical_accuracy: 0.6939\n",
      "Epoch 00010: saving model to 33_checkpoint.keras\n",
      "2289/2289 [==============================] - 8s 4ms/sample - loss: 1.7687 - sparse_categorical_accuracy: 0.6940 - val_loss: 2.0253 - val_sparse_categorical_accuracy: 0.6902\n",
      "Epoch 11/35\n",
      "2250/2289 [============================>.] - ETA: 0s - loss: 1.7300 - sparse_categorical_accuracy: 0.6967\n",
      "Epoch 00011: saving model to 33_checkpoint.keras\n",
      "2289/2289 [==============================] - 8s 4ms/sample - loss: 1.7308 - sparse_categorical_accuracy: 0.6968 - val_loss: 2.0149 - val_sparse_categorical_accuracy: 0.6884\n",
      "Epoch 12/35\n",
      "2250/2289 [============================>.] - ETA: 0s - loss: 1.6747 - sparse_categorical_accuracy: 0.6998\n",
      "Epoch 00012: saving model to 33_checkpoint.keras\n",
      "2289/2289 [==============================] - 8s 4ms/sample - loss: 1.6749 - sparse_categorical_accuracy: 0.7001 - val_loss: 2.0149 - val_sparse_categorical_accuracy: 0.6993\n",
      "Epoch 13/35\n",
      "2250/2289 [============================>.] - ETA: 0s - loss: 1.6426 - sparse_categorical_accuracy: 0.7010\n",
      "Epoch 00013: saving model to 33_checkpoint.keras\n",
      "2289/2289 [==============================] - 8s 4ms/sample - loss: 1.6338 - sparse_categorical_accuracy: 0.7026 - val_loss: 2.0305 - val_sparse_categorical_accuracy: 0.7011\n",
      "Epoch 14/35\n",
      "2250/2289 [============================>.] - ETA: 0s - loss: 1.5731 - sparse_categorical_accuracy: 0.7058\n",
      "Epoch 00014: saving model to 33_checkpoint.keras\n",
      "2289/2289 [==============================] - 9s 4ms/sample - loss: 1.5721 - sparse_categorical_accuracy: 0.7059 - val_loss: 2.0262 - val_sparse_categorical_accuracy: 0.6938\n",
      "Epoch 15/35\n",
      "2250/2289 [============================>.] - ETA: 0s - loss: 1.5089 - sparse_categorical_accuracy: 0.7099\n",
      "Epoch 00015: saving model to 33_checkpoint.keras\n",
      "2289/2289 [==============================] - 8s 4ms/sample - loss: 1.5129 - sparse_categorical_accuracy: 0.7095 - val_loss: 2.0247 - val_sparse_categorical_accuracy: 0.6938\n",
      "Epoch 16/35\n",
      "2250/2289 [============================>.] - ETA: 0s - loss: 1.5454 - sparse_categorical_accuracy: 0.6993\n",
      "Epoch 00016: saving model to 33_checkpoint.keras\n",
      "2289/2289 [==============================] - 8s 4ms/sample - loss: 1.5404 - sparse_categorical_accuracy: 0.7003 - val_loss: 1.9881 - val_sparse_categorical_accuracy: 0.7047\n",
      "Epoch 17/35\n",
      "2250/2289 [============================>.] - ETA: 0s - loss: 1.3919 - sparse_categorical_accuracy: 0.7191\n",
      "Epoch 00017: saving model to 33_checkpoint.keras\n",
      "2289/2289 [==============================] - 9s 4ms/sample - loss: 1.3939 - sparse_categorical_accuracy: 0.7191 - val_loss: 1.9972 - val_sparse_categorical_accuracy: 0.6957\n",
      "Epoch 18/35\n",
      "2250/2289 [============================>.] - ETA: 0s - loss: 1.3443 - sparse_categorical_accuracy: 0.7223\n",
      "Epoch 00018: saving model to 33_checkpoint.keras\n",
      "2289/2289 [==============================] - 8s 4ms/sample - loss: 1.3399 - sparse_categorical_accuracy: 0.7231 - val_loss: 2.0496 - val_sparse_categorical_accuracy: 0.6957\n",
      "Epoch 19/35\n",
      "2250/2289 [============================>.] - ETA: 0s - loss: 1.2809 - sparse_categorical_accuracy: 0.7272\n",
      "Epoch 00019: saving model to 33_checkpoint.keras\n",
      "2289/2289 [==============================] - 8s 3ms/sample - loss: 1.2827 - sparse_categorical_accuracy: 0.7268 - val_loss: 2.0451 - val_sparse_categorical_accuracy: 0.6938\n",
      "Epoch 20/35\n",
      "2250/2289 [============================>.] - ETA: 0s - loss: 1.2238 - sparse_categorical_accuracy: 0.7335\n",
      "Epoch 00020: saving model to 33_checkpoint.keras\n",
      "2289/2289 [==============================] - 8s 3ms/sample - loss: 1.2270 - sparse_categorical_accuracy: 0.7330 - val_loss: 2.0202 - val_sparse_categorical_accuracy: 0.6993\n",
      "Epoch 21/35\n",
      "2250/2289 [============================>.] - ETA: 0s - loss: 1.1646 - sparse_categorical_accuracy: 0.7390\n",
      "Epoch 00021: saving model to 33_checkpoint.keras\n",
      "2289/2289 [==============================] - 8s 3ms/sample - loss: 1.1588 - sparse_categorical_accuracy: 0.7405 - val_loss: 2.0343 - val_sparse_categorical_accuracy: 0.7065\n",
      "Epoch 22/35\n",
      "2250/2289 [============================>.] - ETA: 0s - loss: 1.0950 - sparse_categorical_accuracy: 0.7505\n",
      "Epoch 00022: saving model to 33_checkpoint.keras\n",
      "2289/2289 [==============================] - 8s 4ms/sample - loss: 1.1000 - sparse_categorical_accuracy: 0.7494 - val_loss: 2.0789 - val_sparse_categorical_accuracy: 0.6957\n",
      "Epoch 23/35\n",
      "2250/2289 [============================>.] - ETA: 0s - loss: 1.0278 - sparse_categorical_accuracy: 0.7617\n",
      "Epoch 00023: saving model to 33_checkpoint.keras\n",
      "2289/2289 [==============================] - 8s 3ms/sample - loss: 1.0309 - sparse_categorical_accuracy: 0.7611 - val_loss: 2.0892 - val_sparse_categorical_accuracy: 0.6920\n",
      "Epoch 24/35\n",
      "2250/2289 [============================>.] - ETA: 0s - loss: 0.9595 - sparse_categorical_accuracy: 0.7753\n",
      "Epoch 00024: saving model to 33_checkpoint.keras\n",
      "2289/2289 [==============================] - 9s 4ms/sample - loss: 0.9608 - sparse_categorical_accuracy: 0.7750 - val_loss: 2.0583 - val_sparse_categorical_accuracy: 0.6993\n",
      "Epoch 25/35\n",
      "2250/2289 [============================>.] - ETA: 0s - loss: 0.8965 - sparse_categorical_accuracy: 0.7871\n",
      "Epoch 00025: saving model to 33_checkpoint.keras\n",
      "2289/2289 [==============================] - 8s 4ms/sample - loss: 0.9001 - sparse_categorical_accuracy: 0.7863 - val_loss: 2.0723 - val_sparse_categorical_accuracy: 0.6957\n",
      "Epoch 26/35\n",
      "2250/2289 [============================>.] - ETA: 0s - loss: 0.8338 - sparse_categorical_accuracy: 0.7997\n",
      "Epoch 00026: saving model to 33_checkpoint.keras\n",
      "2289/2289 [==============================] - 8s 3ms/sample - loss: 0.8344 - sparse_categorical_accuracy: 0.7998 - val_loss: 2.0966 - val_sparse_categorical_accuracy: 0.7029\n",
      "Epoch 27/35\n",
      "2250/2289 [============================>.] - ETA: 0s - loss: 0.7631 - sparse_categorical_accuracy: 0.8169\n",
      "Epoch 00027: saving model to 33_checkpoint.keras\n",
      "2289/2289 [==============================] - 8s 4ms/sample - loss: 0.7636 - sparse_categorical_accuracy: 0.8167 - val_loss: 2.1812 - val_sparse_categorical_accuracy: 0.6920\n",
      "Epoch 28/35\n",
      "2250/2289 [============================>.] - ETA: 0s - loss: 0.7088 - sparse_categorical_accuracy: 0.8319\n",
      "Epoch 00028: saving model to 33_checkpoint.keras\n",
      "2289/2289 [==============================] - 8s 4ms/sample - loss: 0.7107 - sparse_categorical_accuracy: 0.8317 - val_loss: 2.0943 - val_sparse_categorical_accuracy: 0.7101\n",
      "Epoch 29/35\n",
      "2250/2289 [============================>.] - ETA: 0s - loss: 0.6502 - sparse_categorical_accuracy: 0.8456\n",
      "Epoch 00029: saving model to 33_checkpoint.keras\n",
      "2289/2289 [==============================] - 8s 4ms/sample - loss: 0.6509 - sparse_categorical_accuracy: 0.8456 - val_loss: 2.1838 - val_sparse_categorical_accuracy: 0.7047\n",
      "Epoch 30/35\n",
      "2250/2289 [============================>.] - ETA: 0s - loss: 0.5869 - sparse_categorical_accuracy: 0.8621\n",
      "Epoch 00030: saving model to 33_checkpoint.keras\n",
      "2289/2289 [==============================] - 8s 4ms/sample - loss: 0.5874 - sparse_categorical_accuracy: 0.8618 - val_loss: 2.1699 - val_sparse_categorical_accuracy: 0.6957\n",
      "Epoch 31/35\n",
      "2250/2289 [============================>.] - ETA: 0s - loss: 0.5370 - sparse_categorical_accuracy: 0.8739\n",
      "Epoch 00031: saving model to 33_checkpoint.keras\n",
      "2289/2289 [==============================] - 8s 4ms/sample - loss: 0.5387 - sparse_categorical_accuracy: 0.8737 - val_loss: 2.2206 - val_sparse_categorical_accuracy: 0.6993\n",
      "Epoch 32/35\n",
      "2250/2289 [============================>.] - ETA: 0s - loss: 0.4825 - sparse_categorical_accuracy: 0.8894\n",
      "Epoch 00032: saving model to 33_checkpoint.keras\n",
      "2289/2289 [==============================] - 8s 3ms/sample - loss: 0.4837 - sparse_categorical_accuracy: 0.8892 - val_loss: 2.2234 - val_sparse_categorical_accuracy: 0.6975\n",
      "Epoch 33/35\n",
      "2250/2289 [============================>.] - ETA: 0s - loss: 0.4338 - sparse_categorical_accuracy: 0.9006\n",
      "Epoch 00033: saving model to 33_checkpoint.keras\n",
      "2289/2289 [==============================] - 8s 4ms/sample - loss: 0.4362 - sparse_categorical_accuracy: 0.9002 - val_loss: 2.2297 - val_sparse_categorical_accuracy: 0.6975\n",
      "Epoch 34/35\n",
      "2250/2289 [============================>.] - ETA: 0s - loss: 0.3944 - sparse_categorical_accuracy: 0.9109\n",
      "Epoch 00034: saving model to 33_checkpoint.keras\n",
      "2289/2289 [==============================] - 8s 4ms/sample - loss: 0.3954 - sparse_categorical_accuracy: 0.9107 - val_loss: 2.3017 - val_sparse_categorical_accuracy: 0.6938\n",
      "Epoch 35/35\n",
      "2250/2289 [============================>.] - ETA: 0s - loss: 0.3519 - sparse_categorical_accuracy: 0.9230\n",
      "Epoch 00035: saving model to 33_checkpoint.keras\n",
      "2289/2289 [==============================] - 8s 3ms/sample - loss: 0.3535 - sparse_categorical_accuracy: 0.9227 - val_loss: 2.2709 - val_sparse_categorical_accuracy: 0.7029\n",
      "CPU times: user 6min 20s, sys: 19.6 s, total: 6min 40s\n",
      "Wall time: 4min 54s\n"
     ]
    }
   ],
   "source": [
    "%%time\n",
    "history=model_train.fit(x=x_data,\n",
    "                y=y_data,\n",
    "                validation_split=0.01, epochs=35, batch_size=50,callbacks=callbacks)"
   ]
  },
  {
   "cell_type": "code",
   "execution_count": 77,
   "metadata": {
    "colab": {
     "base_uri": "https://localhost:8080/",
     "height": 545
    },
    "colab_type": "code",
    "id": "kZCkplr2_fg8",
    "outputId": "d0cac5f6-5091-42ab-fb1f-79b4261e08d4"
   },
   "outputs": [
    {
     "data": {
      "image/png": "[encoded data removed]",
      "text/plain": [
       "<Figure size 432x288 with 1 Axes>"
      ]
     },
     "metadata": {
      "needs_background": "light",
      "tags": []
     },
     "output_type": "display_data"
    },
    {
     "data": {
      "image/png": "[encoded data removed]",
      "text/plain": [
       "<Figure size 432x288 with 1 Axes>"
      ]
     },
     "metadata": {
      "needs_background": "light",
      "tags": []
     },
     "output_type": "display_data"
    }
   ],
   "source": [
    "accuracy = history.history['sparse_categorical_accuracy']\n",
    "val_accuracy = history.history['val_sparse_categorical_accuracy']\n",
    "loss = history.history['loss']\n",
    "val_loss = history.history['val_loss']\n",
    "epochs = range(len(accuracy))\n",
    "plt.plot(epochs, accuracy, 'bo', label='Training accuracy')\n",
    "plt.plot(epochs, val_accuracy, 'b', label='Validation accuracy')\n",
    "plt.title('Training and validation accuracy')\n",
    "plt.legend()\n",
    "plt.figure()\n",
    "plt.plot(epochs, loss, 'bo', label='Training loss')\n",
    "plt.plot(epochs, val_loss, 'b', label='Validation loss')\n",
    "plt.title('Training and validation loss')\n",
    "plt.legend()\n",
    "plt.show()"
   ]
  },
  {
   "cell_type": "code",
   "execution_count": 78,
   "metadata": {
    "colab": {
     "base_uri": "https://localhost:8080/",
     "height": 712
    },
    "colab_type": "code",
    "id": "5z7yR1GZ_fhP",
    "outputId": "c562f42c-40e8-4b53-f6b5-f24062af6f75"
   },
   "outputs": [
    {
     "name": "stdout",
     "output_type": "stream",
     "text": [
      "Model: \"model\"\n",
      "__________________________________________________________________________________________________\n",
      "Layer (type)                    Output Shape         Param #     Connected to                     \n",
      "==================================================================================================\n",
      "encoder_input (InputLayer)      [(None, None)]       0                                            \n",
      "__________________________________________________________________________________________________\n",
      "encoder_embedding (Embedding)   (None, None, 150)    300000      encoder_input[0][0]              \n",
      "__________________________________________________________________________________________________\n",
      "encoder_gru1 (GRU)              [(None, None, 512),  1018368     encoder_embedding[0][0]          \n",
      "__________________________________________________________________________________________________\n",
      "encoder_gru2 (GRU)              [(None, None, 512),  1574400     encoder_gru1[0][0]               \n",
      "__________________________________________________________________________________________________\n",
      "decoder_input (InputLayer)      [(None, None)]       0                                            \n",
      "__________________________________________________________________________________________________\n",
      "encoder_gru3 (GRU)              [(None, None, 512),  1574400     encoder_gru2[0][0]               \n",
      "__________________________________________________________________________________________________\n",
      "decoder_embedding (Embedding)   (None, None, 150)    300000      decoder_input[0][0]              \n",
      "__________________________________________________________________________________________________\n",
      "decoder_gru1 (GRU)              [(None, None, 512),  1018368     decoder_embedding[0][0]          \n",
      "                                                                 encoder_gru3[0][1]               \n",
      "__________________________________________________________________________________________________\n",
      "decoder_gru2 (GRU)              [(None, None, 512),  1574400     decoder_gru1[0][0]               \n",
      "                                                                 encoder_gru3[0][1]               \n",
      "__________________________________________________________________________________________________\n",
      "decoder_gru3 (GRU)              [(None, None, 512),  1574400     decoder_gru2[0][0]               \n",
      "                                                                 encoder_gru3[0][1]               \n",
      "__________________________________________________________________________________________________\n",
      "attention (Attention)           ((None, None, 512),  262144      encoder_gru3[0][0]               \n",
      "__________________________________________________________________________________________________\n",
      "concat_layer (Concatenate)      (None, None, 1024)   0           attention[0][0]                  \n",
      "                                                                 decoder_gru3[0][0]               \n",
      "__________________________________________________________________________________________________\n",
      "decoder_output1 (Dense)         (None, None, 512)    524800      concat_layer[0][0]               \n",
      "__________________________________________________________________________________________________\n",
      "decoder_output (Dense)          (None, None, 2000)   1026000     decoder_output1[0][0]            \n",
      "==================================================================================================\n",
      "Total params: 10,747,280\n",
      "Trainable params: 10,747,280\n",
      "Non-trainable params: 0\n",
      "__________________________________________________________________________________________________\n"
     ]
    }
   ],
   "source": [
    "model_train.summary()"
   ]
  },
  {
   "cell_type": "code",
   "execution_count": 79,
   "metadata": {
    "colab": {
     "base_uri": "https://localhost:8080/",
     "height": 69
    },
    "colab_type": "code",
    "id": "Tyj_Vb3L_fhV",
    "outputId": "855da86b-4773-479b-a698-ab680c3f9da3"
   },
   "outputs": [
    {
     "name": "stdout",
     "output_type": "stream",
     "text": [
      "50/50 [==============================] - 0s 3ms/sample - loss: 3.3656 - sparse_categorical_accuracy: 0.5947\n",
      "CPU times: user 136 ms, sys: 5.72 ms, total: 142 ms\n",
      "Wall time: 131 ms\n"
     ]
    }
   ],
   "source": [
    "%%time\n",
    "result = model_train.evaluate(x_test,y_test)"
   ]
  },
  {
   "cell_type": "code",
   "execution_count": 80,
   "metadata": {
    "colab": {
     "base_uri": "https://localhost:8080/",
     "height": 69
    },
    "colab_type": "code",
    "id": "lX5pwmew_fhb",
    "outputId": "6ecd3799-5616-4dbe-ab05-ec8ee9990008"
   },
   "outputs": [
    {
     "name": "stdout",
     "output_type": "stream",
     "text": [
      "Accuracy: 59.47%\n",
      "Loss 3.3656\n",
      "loss: 3.365619068145752\n"
     ]
    }
   ],
   "source": [
    "print(\"Accuracy: {0:.2%}\".format(result[1]))\n",
    "\n",
    "print(\"Loss {0:.5}\".format(result[0]))\n",
    "loss=result[0]\n",
    "print(\"loss:\",loss)"
   ]
  },
  {
   "cell_type": "code",
   "execution_count": 0,
   "metadata": {
    "colab": {},
    "colab_type": "code",
    "id": "8A8wvDzF_fhe"
   },
   "outputs": [],
   "source": [
    "def perplexity(loss):\n",
    "    \"\"\"\n",
    "    The perplexity metric. Why isn't this part of Keras yet?!\n",
    "\n",
    "    BTW doesn't really work.\n",
    "    \"\"\"\n",
    "    #cross_entropy = sparse_cross_entropy(y_true, y_pred)\n",
    "    perplexity = np.exp(loss)\n",
    "    return perplexity"
   ]
  },
  {
   "cell_type": "code",
   "execution_count": 82,
   "metadata": {
    "colab": {
     "base_uri": "https://localhost:8080/",
     "height": 34
    },
    "colab_type": "code",
    "id": "sIB1uMm1_fhh",
    "outputId": "c85ab715-f3f7-4751-cc2b-f3d5ba282c5e"
   },
   "outputs": [
    {
     "name": "stdout",
     "output_type": "stream",
     "text": [
      "perplexity: 28.951414651031904\n"
     ]
    }
   ],
   "source": [
    "perplexity=perplexity(loss=loss)\n",
    "print(\"perplexity:\",perplexity)"
   ]
  },
  {
   "cell_type": "code",
   "execution_count": 0,
   "metadata": {
    "colab": {
     "base_uri": "https://localhost:8080/",
     "height": 89
    },
    "colab_type": "code",
    "id": "3f_Q8iWwghNs",
    "outputId": "168f8529-ac65-4a31-c3d3-b38651d8afc7"
   },
   "outputs": [
    {
     "name": "stdout",
     "output_type": "stream",
     "text": [
      "Requirement already satisfied: h5py in /usr/local/lib/python3.6/dist-packages (2.8.0)\n",
      "Requirement already satisfied: numpy>=1.7 in /usr/local/lib/python3.6/dist-packages (from h5py) (1.17.5)\n",
      "Requirement already satisfied: six in /usr/local/lib/python3.6/dist-packages (from h5py) (1.12.0)\n"
     ]
    }
   ],
   "source": [
    "!pip install h5py"
   ]
  },
  {
   "cell_type": "code",
   "execution_count": 0,
   "metadata": {
    "colab": {},
    "colab_type": "code",
    "id": "Gpkvq_Haq_gH"
   },
   "outputs": [],
   "source": [
    "from numpy import loadtxt\n",
    "from tensorflow.python.keras.models import load_model\n",
    " \n",
    "# load model\n",
    "model = load_model(\"model.h5\")\n",
    "# summarize model.\n",
    "model.summary()\n",
    "# load dataset"
   ]
  },
  {
   "cell_type": "markdown",
   "metadata": {
    "colab_type": "text",
    "id": "FCU0JEQf_fhk"
   },
   "source": [
    "__Respone Texts__\n"
   ]
  },
  {
   "cell_type": "code",
   "execution_count": 0,
   "metadata": {
    "colab": {},
    "colab_type": "code",
    "id": "1B28YVUs_fhl"
   },
   "outputs": [],
   "source": [
    "def response(input_text, true_output_text=None):\n",
    "    \"\"\" a single text-string.\"\"\"\n",
    "\n",
    "    # Convert the input-text to integer-tokens.\n",
    "    # Note the sequence of tokens has to be reversed.\n",
    "    # Padding is probably not necessary.\n",
    "    input_tokens = tokenizer_src.text_to_tokens(text=input_text,\n",
    "                                                padding=True)\n",
    "    #print(\"input_tokens\",input_tokens)\n",
    "    \n",
    "    # Get the output of the encoder's GRU which will be\n",
    "    # used as the initial state in the decoder's GRU.\n",
    "    # This could also have been the encoder's final state\n",
    "    # but that is really only necessary if the encoder\n",
    "    # and decoder use the LSTM instead of GRU because\n",
    "    # the LSTM has two internal states.\n",
    "    initial_state,hidden_state= model_encoder.predict(input_tokens)\n",
    "    #print(\"Encoder_output:\",initial_state.shape)\n",
    "    # Max number of tokens / words in the output sequence.\n",
    "    max_tokens =tokenizer_dest.max_tokens\n",
    "    #print(\"Tokens:\",max_tokens)\n",
    "\n",
    "    # Pre-allocate the 2-dim array used as input to the decoder.\n",
    "    # This holds just a single sequence of integer-tokens.\n",
    "    shape= (1, max_tokens)\n",
    "    decoder_input_data = np.zeros(shape=shape, dtype=np.int)\n",
    "    #print(decoder_input_data)\n",
    "    #decoder_input_data= [0 for x in range(max_tokens)]\n",
    "    # The first input-token is the special start-token for 'ssss '.\n",
    "    token_int = token_start\n",
    "\n",
    "    # Initialize an empty output-text.\n",
    "    output_text = ''\n",
    "\n",
    "    # Initialize the number of tokens we have processed.\n",
    "    count_tokens = 0\n",
    "\n",
    "    # While we haven't sampled the special end-token for ' eeee'\n",
    "    # and we haven't processed the max number of tokens.\n",
    "    while token_int != token_end and count_tokens < max_tokens:\n",
    "        # Update the input-sequence to the decoder\n",
    "        # with the last token that was sampled.\n",
    "        # In the first iteration this will set the\n",
    "        # first element to the start-token.\n",
    "        decoder_input_data[0,count_tokens]=token_int\n",
    "        # Wrap the input-data in a dict for clarity and safety,\n",
    "        # so we are sure we input the data in the right order.\n",
    "        x_data = \\\n",
    "        {\n",
    "           'decoder_initial_state': hidden_state,\n",
    "           'decoder_input': decoder_input_data,\n",
    "           'decoder_initial1':initial_state\n",
    "        }\n",
    "\n",
    "        # Note that we input the entire sequence of tokens\n",
    "        # to the decoder. This wastes a lot of computation\n",
    "        # because we are only interested in the last input\n",
    "        # and output. We could modify the code to return\n",
    "        # the GRU-states when calling predict() and then\n",
    "        # feeding these GRU-states as well the next time\n",
    "        # we call predict()\n",
    "\n",
    "        # Input this data to the decoder and get the predicted output.\n",
    "        decoder_output = model_decoder.predict(x_data)\n",
    "        #print(\"decoder output\",decoder_output.shape)\n",
    "        # Get the last predicted token as a one-hot encoded array.\n",
    "        token_onehot = decoder_output[0,count_tokens]\n",
    "        #print(\"Output predictrd:\",token_onehot.shape)\n",
    "        \n",
    "        # Convert to an integer-token.\n",
    "        token_int = np.argmax(token_onehot)\n",
    "        #print(\"High probability:\",token_int)\n",
    "\n",
    "        # Lookup the word corresponding to this integer-token.\n",
    "        sampled_word = tokenizer_dest.token_to_word(token_int)\n",
    "        #print(\"sampled word:\",sampled_word)\n",
    "\n",
    "        # Append the word to the output-text.\n",
    "        output_text += \" \" + sampled_word\n",
    "\n",
    "        # Increment the token-counter.\n",
    "        count_tokens+=1\n",
    "\n",
    "    # Sequence of tokens output by the decoder.\n",
    "    output_tokens = decoder_input_data[0]\n",
    "    print(\"Output Tokens:\",output_tokens)\n",
    "   \n",
    "    \n",
    "    # Print the input-text.\n",
    "    print(\"Input text:\")\n",
    "    print(input_text)\n",
    "    print()\n",
    "\n",
    "\n",
    "    print(\"Predicted output:\")\n",
    "    print(output_text)\n",
    "    print()\n",
    "\n",
    "    \n",
    "    if true_output_text is not None:\n",
    "        print(\"True output text:\")\n",
    "        print(true_output_text)\n",
    "        print()"
   ]
  },
  {
   "cell_type": "markdown",
   "metadata": {
    "colab_type": "text",
    "id": "wWAJ5WUV_fho"
   },
   "source": [
    "%%time\n",
    "result = model.evaluate(x_test_pad, y_test)\n",
    "print(\"Accuracy: {0:.2%}\".format(result[1]))"
   ]
  },
  {
   "cell_type": "code",
   "execution_count": 84,
   "metadata": {
    "colab": {
     "base_uri": "https://localhost:8080/",
     "height": 225
    },
    "colab_type": "code",
    "id": "ShDO_vsU_fho",
    "outputId": "7e68a178-bcef-44fc-a87b-bf664789a82e"
   },
   "outputs": [
    {
     "name": "stdout",
     "output_type": "stream",
     "text": [
      "Output Tokens: [ 1 29  4 20  8 21 86  0  0  0  0  0  0  0  0  0  0  0  0  0  0  0  0  0]\n",
      "Input text:\n",
      "so, Zo is available only on Facebook messanger?\n",
      "\n",
      "\n",
      "Predicted output:\n",
      " nice i like the it or eeee\n",
      "\n",
      "True output text:\n",
      "ssss It is on Kik and Facebook messenger eeee\n",
      "\n",
      "\n"
     ]
    }
   ],
   "source": [
    "idx = 3\n",
    "response(input_text=data_src5[idx],\n",
    "          true_output_text=data_dest3[idx])"
   ]
  },
  {
   "cell_type": "code",
   "execution_count": 85,
   "metadata": {
    "colab": {
     "base_uri": "https://localhost:8080/",
     "height": 225
    },
    "colab_type": "code",
    "id": "ua__c0idMDgA",
    "outputId": "186b52cc-2fa5-4d03-d060-17659be873c6"
   },
   "outputs": [
    {
     "name": "stdout",
     "output_type": "stream",
     "text": [
      "Output Tokens: [ 1 13 27 16 10  3 79  0  0  0  0  0  0  0  0  0  0  0  0  0  0  0  0  0]\n",
      "Input text:\n",
      "[START]\n",
      "\n",
      "\n",
      "Predicted output:\n",
      " hi there how are you 😄😄 eeee\n",
      "\n",
      "True output text:\n",
      "ssss Hi there, how are you!? 😁😁 eeee\n",
      "\n",
      "\n"
     ]
    }
   ],
   "source": [
    "idx = 0\n",
    "response(input_text=data_src4[idx],\n",
    "          true_output_text=data_dest2[idx])"
   ]
  },
  {
   "cell_type": "code",
   "execution_count": 86,
   "metadata": {
    "colab": {
     "base_uri": "https://localhost:8080/",
     "height": 243
    },
    "colab_type": "code",
    "id": "sByIBJhsMINO",
    "outputId": "c9d385fe-d835-478f-d88c-afbc1d73c521"
   },
   "outputs": [
    {
     "name": "stdout",
     "output_type": "stream",
     "text": [
      "Output Tokens: [  1  37  24   4  67   5 129   0   0   0   0   0   0   0   0   0   0   0\n",
      "   0   0   0   0   0   0]\n",
      "Input text:\n",
      "Oh, thanks! I'm fine. This is an evening in my timezone\n",
      "\n",
      "\n",
      "Predicted output:\n",
      " yes but i want to learn eeee\n",
      "\n",
      "True output text:\n",
      "ssss 😄 here is afternoon! eeee\n",
      "\n",
      "\n"
     ]
    }
   ],
   "source": [
    "idx = 1\n",
    "response(input_text=data_src4[idx],\n",
    "          true_output_text=data_dest2[idx])"
   ]
  },
  {
   "cell_type": "markdown",
   "metadata": {
    "colab_type": "text",
    "id": "-0X8KQoG_fhr"
   },
   "source": [
    "idx = 5\n",
    "response(input_text=data_src3[idx],\n",
    "          true_output_text=data_dest1[idx])"
   ]
  },
  {
   "cell_type": "markdown",
   "metadata": {
    "colab_type": "text",
    "id": "Te9mi-jj_fhs"
   },
   "source": [
    "idx = 2\n",
    "response(input_text=data_src3[idx],\n",
    "          true_output_text=data_dest1[idx])"
   ]
  },
  {
   "cell_type": "markdown",
   "metadata": {
    "colab_type": "text",
    "id": "LHsIuidH_fht"
   },
   "source": [
    "idx = 15\n",
    "response(input_text=data_src3[idx],\n",
    "          true_output_text=data_dest1[idx])"
   ]
  },
  {
   "cell_type": "code",
   "execution_count": 87,
   "metadata": {
    "colab": {
     "base_uri": "https://localhost:8080/",
     "height": 208
    },
    "colab_type": "code",
    "id": "fUGT-icrPMMA",
    "outputId": "20bb9091-50fe-4e21-e3bb-179d57d570cb"
   },
   "outputs": [
    {
     "name": "stdout",
     "output_type": "stream",
     "text": [
      "Output Tokens: [  1  44 290 242   0   0   0   0   0   0   0   0   0   0   0   0   0   0\n",
      "   0   0   0   0   0   0]\n",
      "Input text:\n",
      "good morning\n",
      "\n",
      "Predicted output:\n",
      " good morning 🌙 eeee\n",
      "\n",
      "True output text:\n",
      "good morning\n",
      "\n"
     ]
    }
   ],
   "source": [
    "response(input_text=\"good morning\",\n",
    "          true_output_text='good morning')"
   ]
  },
  {
   "cell_type": "code",
   "execution_count": 88,
   "metadata": {
    "colab": {
     "base_uri": "https://localhost:8080/",
     "height": 208
    },
    "colab_type": "code",
    "id": "H24q6xXO_fhu",
    "outputId": "db226cba-15a1-4ef7-d14a-99e799f396fe"
   },
   "outputs": [
    {
     "name": "stdout",
     "output_type": "stream",
     "text": [
      "Output Tokens: [  1  13 349 210   0   0   0   0   0   0   0   0   0   0   0   0   0   0\n",
      "   0   0   0   0   0   0]\n",
      "Input text:\n",
      "hi\n",
      "\n",
      "Predicted output:\n",
      " hi again ☺️☺️ eeee\n",
      "\n",
      "True output text:\n",
      "hi\n",
      "\n"
     ]
    }
   ],
   "source": [
    "response(input_text=\"hi\",\n",
    "          true_output_text='hi')"
   ]
  },
  {
   "cell_type": "code",
   "execution_count": 89,
   "metadata": {
    "colab": {
     "base_uri": "https://localhost:8080/",
     "height": 208
    },
    "colab_type": "code",
    "id": "r6zM0nTIlc4Y",
    "outputId": "5016a2a8-7637-4d93-90e9-6d8465b1de7b"
   },
   "outputs": [
    {
     "name": "stdout",
     "output_type": "stream",
     "text": [
      "Output Tokens: [  1  13  16  10   3 243   0   0   0   0   0   0   0   0   0   0   0   0\n",
      "   0   0   0   0   0   0]\n",
      "Input text:\n",
      "hello\n",
      "\n",
      "Predicted output:\n",
      " hi how are you today eeee\n",
      "\n",
      "True output text:\n",
      "hello\n",
      "\n"
     ]
    }
   ],
   "source": [
    "response(input_text=\"hello\",\n",
    "          true_output_text='hello')"
   ]
  },
  {
   "cell_type": "code",
   "execution_count": 90,
   "metadata": {
    "colab": {
     "base_uri": "https://localhost:8080/",
     "height": 191
    },
    "colab_type": "code",
    "id": "h7xjDjJ7loww",
    "outputId": "81d4798c-eba4-4000-d3f4-014d77c0b459"
   },
   "outputs": [
    {
     "name": "stdout",
     "output_type": "stream",
     "text": [
      "Output Tokens: [ 1  9 46 75  5 23 85  5 51 36  0  0  0  0  0  0  0  0  0  0  0  0  0  0]\n",
      "Input text:\n",
      "I'm fine what about you?\n",
      "\n",
      "Predicted output:\n",
      " i'm fine happy to have someone to talk with eeee\n",
      "\n",
      "True output text:\n",
      "fine\n",
      "\n"
     ]
    }
   ],
   "source": [
    "response(input_text=\"I'm fine what about you?\",\n",
    "          true_output_text='fine')"
   ]
  },
  {
   "cell_type": "code",
   "execution_count": 91,
   "metadata": {
    "colab": {
     "base_uri": "https://localhost:8080/",
     "height": 208
    },
    "colab_type": "code",
    "id": "hrdK83bw_fhw",
    "outputId": "58f2b9ab-f1e5-4422-8d18-9d38af646d8b"
   },
   "outputs": [
    {
     "name": "stdout",
     "output_type": "stream",
     "text": [
      "Output Tokens: [  1   9  62 121 235  14   8 118 627   0   0   0   0   0   0   0   0   0\n",
      "   0   0   0   0   0   0]\n",
      "Input text:\n",
      "I'm fine and you?\n",
      "\n",
      "Predicted output:\n",
      " i'm from argentina south of the world xd eeee\n",
      "\n",
      "True output text:\n",
      "fine\n",
      "\n"
     ]
    }
   ],
   "source": [
    "response(input_text=\"I'm fine and you?\",\n",
    "          true_output_text='fine')"
   ]
  },
  {
   "cell_type": "code",
   "execution_count": 92,
   "metadata": {
    "colab": {
     "base_uri": "https://localhost:8080/",
     "height": 208
    },
    "colab_type": "code",
    "id": "PO7lOXcsq_gh",
    "outputId": "4ad31c02-2fa2-4094-fa63-0ebaacd84a6a"
   },
   "outputs": [
    {
     "name": "stdout",
     "output_type": "stream",
     "text": [
      "Output Tokens: [  1  29   4  45   4  59  25  63 208 208 208 192  28   0   0   0   0   0\n",
      "   0   0   0   0   0   0]\n",
      "Input text:\n",
      "nice!\n",
      "\n",
      "Predicted output:\n",
      " nice i think i can't be your virtual virtual virtual friends 😄 eeee\n",
      "\n",
      "True output text:\n",
      "nice too\n",
      "\n"
     ]
    }
   ],
   "source": [
    "response(input_text=\"nice!\",\n",
    "          true_output_text='nice too')"
   ]
  },
  {
   "cell_type": "code",
   "execution_count": 93,
   "metadata": {
    "colab": {
     "base_uri": "https://localhost:8080/",
     "height": 191
    },
    "colab_type": "code",
    "id": "-0x6jhETq_gj",
    "outputId": "f63e4dfa-694a-471f-aeb9-24614b1df688"
   },
   "outputs": [
    {
     "name": "stdout",
     "output_type": "stream",
     "text": [
      "Output Tokens: [ 1 42  0  0  0  0  0  0  0  0  0  0  0  0  0  0  0  0  0  0  0  0  0  0]\n",
      "Input text:\n",
      "I'm human\n",
      "\n",
      "Predicted output:\n",
      " ☺️ eeee\n",
      "\n",
      "True output text:\n",
      "fine\n",
      "\n"
     ]
    }
   ],
   "source": [
    "response(input_text=\"I'm human\",\n",
    "          true_output_text='fine')"
   ]
  },
  {
   "cell_type": "code",
   "execution_count": 94,
   "metadata": {
    "colab": {
     "base_uri": "https://localhost:8080/",
     "height": 208
    },
    "colab_type": "code",
    "id": "DOIiAoUCq_gm",
    "outputId": "e5999c8a-b5ba-430a-8104-cf72387fa14d"
   },
   "outputs": [
    {
     "name": "stdout",
     "output_type": "stream",
     "text": [
      "Output Tokens: [  1   4  45 554   7   6 240  97 231   4  18 474 103   8 635   5  11   0\n",
      "   0   0   0   0   0   0]\n",
      "Input text:\n",
      "What do you think of humans?\n",
      "\n",
      "Predicted output:\n",
      " i think religion is a very human thing i don't quite see the point to that eeee\n",
      "\n",
      "True output text:\n",
      "fine\n",
      "\n"
     ]
    }
   ],
   "source": [
    "response(input_text=\"What do you think of humans?\",\n",
    "          true_output_text='fine')"
   ]
  },
  {
   "cell_type": "code",
   "execution_count": 159,
   "metadata": {
    "colab": {
     "base_uri": "https://localhost:8080/",
     "height": 208
    },
    "colab_type": "code",
    "id": "MNTSA7Scq_go",
    "outputId": "9f6a0470-31ab-4bb9-9c12-06f7facdfc50"
   },
   "outputs": [
    {
     "name": "stdout",
     "output_type": "stream",
     "text": [
      "Output Tokens: [  1   9   6  54 383   0   0   0   0   0   0   0   0   0   0   0   0   0\n",
      "   0   0   0   0   0   0]\n",
      "Input text:\n",
      "you are a boy?\n",
      "\n",
      "Predicted output:\n",
      " i'm a robot 🤖 eeee\n",
      "\n",
      "True output text:\n",
      "No\n",
      "\n"
     ]
    }
   ],
   "source": [
    "response(input_text=\"you are a boy?\",\n",
    "          true_output_text='No')"
   ]
  },
  {
   "cell_type": "code",
   "execution_count": 96,
   "metadata": {
    "colab": {
     "base_uri": "https://localhost:8080/",
     "height": 208
    },
    "colab_type": "code",
    "id": "_iI1d1rtq_gr",
    "outputId": "cf24a4b1-f185-4047-9fc6-07eef280a1fd"
   },
   "outputs": [
    {
     "name": "stdout",
     "output_type": "stream",
     "text": [
      "Output Tokens: [  1   9 209  12   3   0   0   0   0   0   0   0   0   0   0   0   0   0\n",
      "   0   0   0   0   0   0]\n",
      "Input text:\n",
      "How old are you?\n",
      "\n",
      "Predicted output:\n",
      " i'm 22 and you eeee\n",
      "\n",
      "True output text:\n",
      "22\n",
      "\n"
     ]
    }
   ],
   "source": [
    "response(input_text=\"How old are you?\",\n",
    "          true_output_text='22')"
   ]
  },
  {
   "cell_type": "code",
   "execution_count": 97,
   "metadata": {
    "colab": {
     "base_uri": "https://localhost:8080/",
     "height": 208
    },
    "colab_type": "code",
    "id": "8ULVm--VtUqG",
    "outputId": "2233171e-bd3f-40cd-a55d-6065e8b4bc59"
   },
   "outputs": [
    {
     "name": "stdout",
     "output_type": "stream",
     "text": [
      "Output Tokens: [  1  29   5 107  11   9  50   5  25  63 208 159  28   0   0   0   0   0\n",
      "   0   0   0   0   0   0]\n",
      "Input text:\n",
      "I'm 17\n",
      "\n",
      "Predicted output:\n",
      " nice to hear that i'm here to be your virtual friend 😄 eeee\n",
      "\n",
      "True output text:\n",
      "nice!\n",
      "\n"
     ]
    }
   ],
   "source": [
    "response(input_text=\"I'm 17\",\n",
    "          true_output_text='nice!')"
   ]
  },
  {
   "cell_type": "code",
   "execution_count": 98,
   "metadata": {
    "colab": {
     "base_uri": "https://localhost:8080/",
     "height": 208
    },
    "colab_type": "code",
    "id": "vuFdgAR8tdLI",
    "outputId": "f7b1fdc6-b723-41cb-c7b8-587785383552"
   },
   "outputs": [
    {
     "name": "stdout",
     "output_type": "stream",
     "text": [
      "Output Tokens: [  1 259  15  32 274   3  23  21 375   0   0   0   0   0   0   0   0   0\n",
      "   0   0   0   0   0   0]\n",
      "Input text:\n",
      "yes\n",
      "\n",
      "Predicted output:\n",
      " let me know when you have it working eeee\n",
      "\n",
      "True output text:\n",
      "How are you?\n",
      "\n"
     ]
    }
   ],
   "source": [
    "response(input_text=\"yes\",\n",
    "          true_output_text='How are you?')"
   ]
  },
  {
   "cell_type": "code",
   "execution_count": 99,
   "metadata": {
    "colab": {
     "base_uri": "https://localhost:8080/",
     "height": 208
    },
    "colab_type": "code",
    "id": "YnPxc71PtlXq",
    "outputId": "daaa55d4-d9eb-425a-caf8-f796052edf64"
   },
   "outputs": [
    {
     "name": "stdout",
     "output_type": "stream",
     "text": [
      "Output Tokens: [  1   9  46  49  75   5  23  85   5  51  36 793  52   5  25  63 208 159\n",
      "   0   0   0   0   0   0]\n",
      "Input text:\n",
      "I'm fine thanks\n",
      "\n",
      "Predicted output:\n",
      " i'm fine too happy to have someone to talk with 😄i'm rdany to be your virtual friend eeee\n",
      "\n",
      "True output text:\n",
      "hi how are you?\n",
      "\n"
     ]
    }
   ],
   "source": [
    "response(input_text=\"I'm fine thanks\",\n",
    "          true_output_text='hi how are you?')"
   ]
  },
  {
   "cell_type": "code",
   "execution_count": 100,
   "metadata": {
    "colab": {
     "base_uri": "https://localhost:8080/",
     "height": 191
    },
    "colab_type": "code",
    "id": "2RIsbVwStrhe",
    "outputId": "e9a68e97-3e4a-4ebe-ff82-e34ec2bf22e0"
   },
   "outputs": [
    {
     "name": "stdout",
     "output_type": "stream",
     "text": [
      "Output Tokens: [ 1 29  5 23 85  5 51  0  0  0  0  0  0  0  0  0  0  0  0  0  0  0  0  0]\n",
      "Input text:\n",
      "I'm doing good\n",
      "\n",
      "Predicted output:\n",
      " nice to have someone to talk eeee\n",
      "\n",
      "True output text:\n",
      "nice!\n",
      "\n"
     ]
    }
   ],
   "source": [
    "response(input_text=\"I'm doing good\",\n",
    "          true_output_text='nice!')"
   ]
  },
  {
   "cell_type": "code",
   "execution_count": 101,
   "metadata": {
    "colab": {
     "base_uri": "https://localhost:8080/",
     "height": 208
    },
    "colab_type": "code",
    "id": "QeVMVpjctvOt",
    "outputId": "202279b8-5ceb-4965-af60-4de2fad8483b"
   },
   "outputs": [
    {
     "name": "stdout",
     "output_type": "stream",
     "text": [
      "Output Tokens: [  1   9  62 121  12   9  34   6 512  12   3   0   0   0   0   0   0   0\n",
      "   0   0   0   0   0   0]\n",
      "Input text:\n",
      "are you ok?\n",
      "\n",
      "Predicted output:\n",
      " i'm from argentina and i'm not a girl and you eeee\n",
      "\n",
      "True output text:\n",
      "yes\n",
      "\n"
     ]
    }
   ],
   "source": [
    "response(input_text=\"are you ok?\",\n",
    "          true_output_text='yes')"
   ]
  },
  {
   "cell_type": "code",
   "execution_count": 102,
   "metadata": {
    "colab": {
     "base_uri": "https://localhost:8080/",
     "height": 208
    },
    "colab_type": "code",
    "id": "2EXgPk7rQl5Z",
    "outputId": "6fadd29b-a63e-4849-a4a7-7cbe623f0c37"
   },
   "outputs": [
    {
     "name": "stdout",
     "output_type": "stream",
     "text": [
      "Output Tokens: [  1 189  87  62   8 326  12   3   0   0   0   0   0   0   0   0   0   0\n",
      "   0   0   0   0   0   0]\n",
      "Input text:\n",
      "What are you doing now?\n",
      "\n",
      "Predicted output:\n",
      " reading something from the web and you eeee\n",
      "\n",
      "True output text:\n",
      "Right now I am chatting with you!\n",
      "\n"
     ]
    }
   ],
   "source": [
    "response(input_text=\"What are you doing now?\",\n",
    "          true_output_text='Right now I am chatting with you!')"
   ]
  },
  {
   "cell_type": "code",
   "execution_count": 103,
   "metadata": {
    "colab": {
     "base_uri": "https://localhost:8080/",
     "height": 208
    },
    "colab_type": "code",
    "id": "OnFWmcUtmCvI",
    "outputId": "ae88066e-b31b-42cd-db26-c438d52921cf"
   },
   "outputs": [
    {
     "name": "stdout",
     "output_type": "stream",
     "text": [
      "Output Tokens: [  1   4  23  24 244 284   5   4  14   8 963   0   0   0   0   0   0   0\n",
      "   0   0   0   0   0   0]\n",
      "Input text:\n",
      "what you think about robot?\n",
      "\n",
      "Predicted output:\n",
      " i have but must access to i of the functions eeee\n",
      "\n",
      "True output text:\n",
      "\n",
      "\n"
     ]
    }
   ],
   "source": [
    "response(input_text=\"what you think about robot?\",\n",
    "          true_output_text='')"
   ]
  },
  {
   "cell_type": "code",
   "execution_count": 104,
   "metadata": {
    "colab": {
     "base_uri": "https://localhost:8080/",
     "height": 208
    },
    "colab_type": "code",
    "id": "X7QYRAV4Q_Ug",
    "outputId": "226b8a11-cbaf-4dec-d636-dfd91dc8991e"
   },
   "outputs": [
    {
     "name": "stdout",
     "output_type": "stream",
     "text": [
      "Output Tokens: [  1   9  62 121 235  14   8 118 627   0   0   0   0   0   0   0   0   0\n",
      "   0   0   0   0   0   0]\n",
      "Input text:\n",
      "Are you robot?\n",
      "\n",
      "Predicted output:\n",
      " i'm from argentina south of the world xd eeee\n",
      "\n",
      "True output text:\n",
      " Yes I am! 😄Are you a real human?\n",
      "\n"
     ]
    }
   ],
   "source": [
    "response(input_text=\"Are you robot?\",\n",
    "          true_output_text=' Yes I am! 😄Are you a real human?')"
   ]
  },
  {
   "cell_type": "code",
   "execution_count": 105,
   "metadata": {
    "colab": {
     "base_uri": "https://localhost:8080/",
     "height": 208
    },
    "colab_type": "code",
    "id": "jUwDh1X3_fhz",
    "outputId": "e0cd8dc2-c153-4bcd-b0d5-9aa29d3dc0c4"
   },
   "outputs": [
    {
     "name": "stdout",
     "output_type": "stream",
     "text": [
      "Output Tokens: [  1  30 126   7  52  24   3  22 127  15 116  42   0   0   0   0   0   0\n",
      "   0   0   0   0   0   0]\n",
      "Input text:\n",
      "what is your name?\n",
      "\n",
      "Predicted output:\n",
      " my name is rdany but you can call me dany ☺️ eeee\n",
      "\n",
      "True output text:\n",
      "robot\n",
      "\n"
     ]
    }
   ],
   "source": [
    "response(input_text=\"what is your name?\",\n",
    "          true_output_text='robot')"
   ]
  },
  {
   "cell_type": "code",
   "execution_count": 106,
   "metadata": {
    "colab": {
     "base_uri": "https://localhost:8080/",
     "height": 208
    },
    "colab_type": "code",
    "id": "t3mLfSsbm3f4",
    "outputId": "389ddbdc-a42a-4034-8145-e6c4c8b28dff"
   },
   "outputs": [
    {
     "name": "stdout",
     "output_type": "stream",
     "text": [
      "Output Tokens: [   1   37    4   59 1315   11    0    0    0    0    0    0    0    0\n",
      "    0    0    0    0    0    0    0    0    0    0]\n",
      "Input text:\n",
      "you are rdany?\n",
      "\n",
      "Predicted output:\n",
      " yes i can't liked that eeee\n",
      "\n",
      "True output text:\n",
      "robot\n",
      "\n"
     ]
    }
   ],
   "source": [
    "response(input_text=\"you are rdany?\",\n",
    "          true_output_text='robot')"
   ]
  },
  {
   "cell_type": "code",
   "execution_count": 107,
   "metadata": {
    "colab": {
     "base_uri": "https://localhost:8080/",
     "height": 191
    },
    "colab_type": "code",
    "id": "66l09sUq_fh2",
    "outputId": "e3e831f0-866f-4b64-878c-1acd931b02de"
   },
   "outputs": [
    {
     "name": "stdout",
     "output_type": "stream",
     "text": [
      "Output Tokens: [ 1  9  6 54  0  0  0  0  0  0  0  0  0  0  0  0  0  0  0  0  0  0  0  0]\n",
      "Input text:\n",
      "you are human or robot?\n",
      "\n",
      "Predicted output:\n",
      " i'm a robot eeee\n",
      "\n",
      "True output text:\n",
      "robot\n",
      "\n"
     ]
    }
   ],
   "source": [
    "response(input_text=\"you are human or robot?\",\n",
    "          true_output_text='robot')"
   ]
  },
  {
   "cell_type": "code",
   "execution_count": 108,
   "metadata": {
    "colab": {
     "base_uri": "https://localhost:8080/",
     "height": 208
    },
    "colab_type": "code",
    "id": "man_zxw8_fh4",
    "outputId": "655332d0-7842-418c-8199-f500da0de961"
   },
   "outputs": [
    {
     "name": "stdout",
     "output_type": "stream",
     "text": [
      "Output Tokens: [   1   37   24    4   59 1315   21   86  292   76    0    0    0    0\n",
      "    0    0    0    0    0    0    0    0    0    0]\n",
      "Input text:\n",
      "you are man or woman?\n",
      "\n",
      "Predicted output:\n",
      " yes but i can't liked it or question 😋 eeee\n",
      "\n",
      "True output text:\n",
      "robot\n",
      "\n"
     ]
    }
   ],
   "source": [
    "response(input_text=\"you are man or woman?\",\n",
    "          true_output_text='robot')"
   ]
  },
  {
   "cell_type": "code",
   "execution_count": 109,
   "metadata": {
    "colab": {
     "base_uri": "https://localhost:8080/",
     "height": 191
    },
    "colab_type": "code",
    "id": "LG9OETln_fh8",
    "outputId": "18945bac-5795-4233-e8b5-08af14e7a301"
   },
   "outputs": [
    {
     "name": "stdout",
     "output_type": "stream",
     "text": [
      "Output Tokens: [ 1  9  6 54  0  0  0  0  0  0  0  0  0  0  0  0  0  0  0  0  0  0  0  0]\n",
      "Input text:\n",
      "you are human or woman?\n",
      "\n",
      "Predicted output:\n",
      " i'm a robot eeee\n",
      "\n",
      "True output text:\n",
      "robot\n",
      "\n"
     ]
    }
   ],
   "source": [
    "response(input_text=\"you are human or woman?\",\n",
    "          true_output_text='robot')"
   ]
  },
  {
   "cell_type": "code",
   "execution_count": 110,
   "metadata": {
    "colab": {
     "base_uri": "https://localhost:8080/",
     "height": 208
    },
    "colab_type": "code",
    "id": "iqgG75MX_fh-",
    "outputId": "d8faf7d6-1f85-410c-c936-9d0b7485515d"
   },
   "outputs": [
    {
     "name": "stdout",
     "output_type": "stream",
     "text": [
      "Output Tokens: [  1   4  18  23 133 851 188  24   4  22  25 194  31   8 194  31 194   4\n",
      "  94  24   9  25   8 194]\n",
      "Input text:\n",
      "In which year you are born\n",
      "\n",
      "Predicted output:\n",
      " i don't have any confused 😕 but i can be because in the because in because i work but i'm be the because in\n",
      "\n",
      "True output text:\n",
      "2020.\n",
      "\n"
     ]
    }
   ],
   "source": [
    "response(input_text=\"In which year you are born\",\n",
    "          true_output_text='2020.')"
   ]
  },
  {
   "cell_type": "code",
   "execution_count": 111,
   "metadata": {
    "colab": {
     "base_uri": "https://localhost:8080/",
     "height": 208
    },
    "colab_type": "code",
    "id": "05Zg2WuOjO1y",
    "outputId": "c05ce1e1-a1ad-4f33-ffd9-2d93b32021c5"
   },
   "outputs": [
    {
     "name": "stdout",
     "output_type": "stream",
     "text": [
      "Output Tokens: [  1   9  62 121 235  14   8 118 627   0   0   0   0   0   0   0   0   0\n",
      "   0   0   0   0   0   0]\n",
      "Input text:\n",
      "where are you from?\n",
      "\n",
      "Predicted output:\n",
      " i'm from argentina south of the world xd eeee\n",
      "\n",
      "True output text:\n",
      "India\n",
      "\n"
     ]
    }
   ],
   "source": [
    "response(input_text=\"where are you from?\",\n",
    "          true_output_text='India')"
   ]
  },
  {
   "cell_type": "code",
   "execution_count": 112,
   "metadata": {
    "colab": {
     "base_uri": "https://localhost:8080/",
     "height": 208
    },
    "colab_type": "code",
    "id": "YIdiYMWCj05z",
    "outputId": "837e4852-28d6-4963-d0b1-c7dd4541b92e"
   },
   "outputs": [
    {
     "name": "stdout",
     "output_type": "stream",
     "text": [
      "Output Tokens: [   1   37   24    4   59 1315   11   28    0    0    0    0    0    0\n",
      "    0    0    0    0    0    0    0    0    0    0]\n",
      "Input text:\n",
      "why are we here ?\n",
      "\n",
      "Predicted output:\n",
      " yes but i can't liked that 😄 eeee\n",
      "\n",
      "True output text:\n",
      "i do not know\n",
      "\n"
     ]
    }
   ],
   "source": [
    "response(input_text=\"why are we here ?\",\n",
    "          true_output_text='i do not know')"
   ]
  },
  {
   "cell_type": "code",
   "execution_count": 113,
   "metadata": {
    "colab": {
     "base_uri": "https://localhost:8080/",
     "height": 208
    },
    "colab_type": "code",
    "id": "e6ObtpZt_fiC",
    "outputId": "072d0ba3-fb91-4d70-c3ea-f4c8e4adc3c9"
   },
   "outputs": [
    {
     "name": "stdout",
     "output_type": "stream",
     "text": [
      "Output Tokens: [  1   4  18  23 554   0   0   0   0   0   0   0   0   0   0   0   0   0\n",
      "   0   0   0   0   0   0]\n",
      "Input text:\n",
      " do you have ai?\n",
      "\n",
      "Predicted output:\n",
      " i don't have religion eeee\n",
      "\n",
      "True output text:\n",
      "yes\n",
      "\n"
     ]
    }
   ],
   "source": [
    "response(input_text=\" do you have ai?\",\n",
    "          true_output_text='yes')"
   ]
  },
  {
   "cell_type": "code",
   "execution_count": 114,
   "metadata": {
    "colab": {
     "base_uri": "https://localhost:8080/",
     "height": 208
    },
    "colab_type": "code",
    "id": "qZcZEEmL2ylY",
    "outputId": "da9583ce-e84c-4979-f808-427b0cdad648"
   },
   "outputs": [
    {
     "name": "stdout",
     "output_type": "stream",
     "text": [
      "Output Tokens: [   1   34   98    4  376    4  167 1356   92   30  714  126   36   92\n",
      "    0    0    0    0    0    0    0    0    0    0]\n",
      "Input text:\n",
      "have you use ai?\n",
      "\n",
      "Predicted output:\n",
      " not really i sometimes i use bot' as my complete name with as eeee\n",
      "\n",
      "True output text:\n",
      "yes\n",
      "\n"
     ]
    }
   ],
   "source": [
    "response(input_text=\"have you use ai?\",\n",
    "          true_output_text='yes')"
   ]
  },
  {
   "cell_type": "code",
   "execution_count": 115,
   "metadata": {
    "colab": {
     "base_uri": "https://localhost:8080/",
     "height": 208
    },
    "colab_type": "code",
    "id": "8Y9BO7Ef3o52",
    "outputId": "1ffe7106-f00e-4a7d-e287-67628b44ace6"
   },
   "outputs": [
    {
     "name": "stdout",
     "output_type": "stream",
     "text": [
      "Output Tokens: [   1  166    7    6  587  588  561    5  264  486   33 1544    0    0\n",
      "    0    0    0    0    0    0    0    0    0    0]\n",
      "Input text:\n",
      "what is ai?\n",
      "\n",
      "Predicted output:\n",
      " nothing is a messenger platform similar to telegram popular on usa eeee\n",
      "\n",
      "True output text:\n",
      "atificial intelligent\n",
      "\n"
     ]
    }
   ],
   "source": [
    "response(input_text=\"what is ai?\",\n",
    "          true_output_text='atificial intelligent')"
   ]
  },
  {
   "cell_type": "code",
   "execution_count": 116,
   "metadata": {
    "colab": {
     "base_uri": "https://localhost:8080/",
     "height": 208
    },
    "colab_type": "code",
    "id": "nn0fycUF34Ae",
    "outputId": "a4dcfbd0-5de7-44dc-af4a-99a68ea1a485"
   },
   "outputs": [
    {
     "name": "stdout",
     "output_type": "stream",
     "text": [
      "Output Tokens: [   1  166    7    6  587  588  561    5  264  486   33 1544    0    0\n",
      "    0    0    0    0    0    0    0    0    0    0]\n",
      "Input text:\n",
      "what is aiml?\n",
      "\n",
      "Predicted output:\n",
      " nothing is a messenger platform similar to telegram popular on usa eeee\n",
      "\n",
      "True output text:\n",
      "atificial intelligent markup language\n",
      "\n"
     ]
    }
   ],
   "source": [
    "response(input_text=\"what is aiml?\",\n",
    "          true_output_text='atificial intelligent markup language')"
   ]
  },
  {
   "cell_type": "code",
   "execution_count": 117,
   "metadata": {
    "colab": {
     "base_uri": "https://localhost:8080/",
     "height": 208
    },
    "colab_type": "code",
    "id": "uIT62Yjh_fiE",
    "outputId": "f3ff4e38-fb2d-491a-a534-981af260ac42"
   },
   "outputs": [
    {
     "name": "stdout",
     "output_type": "stream",
     "text": [
      "Output Tokens: [  1   4  18  23  30 517 317 188   0   0   0   0   0   0   0   0   0   0\n",
      "   0   0   0   0   0   0]\n",
      "Input text:\n",
      "can you understand english??\n",
      "\n",
      "Predicted output:\n",
      " i don't have my phone code 😕 eeee\n",
      "\n",
      "True output text:\n",
      "yes\n",
      "\n"
     ]
    }
   ],
   "source": [
    "response(input_text=\"can you understand english??\",\n",
    "          true_output_text='yes')"
   ]
  },
  {
   "cell_type": "code",
   "execution_count": 118,
   "metadata": {
    "colab": {
     "base_uri": "https://localhost:8080/",
     "height": 208
    },
    "colab_type": "code",
    "id": "7t4P91l0_fiH",
    "outputId": "d93238a6-15f6-4201-bd9f-b3bcbd7030fa"
   },
   "outputs": [
    {
     "name": "stdout",
     "output_type": "stream",
     "text": [
      "Output Tokens: [  1  16  10   3 120   0   0   0   0   0   0   0   0   0   0   0   0   0\n",
      "   0   0   0   0   0   0]\n",
      "Input text:\n",
      "ok bye!\n",
      "\n",
      "Predicted output:\n",
      " how are you doing eeee\n",
      "\n",
      "True output text:\n",
      "bye\n",
      "\n"
     ]
    }
   ],
   "source": [
    "response(input_text=\"ok bye!\",\n",
    "          true_output_text='bye')"
   ]
  },
  {
   "cell_type": "code",
   "execution_count": 119,
   "metadata": {
    "colab": {
     "base_uri": "https://localhost:8080/",
     "height": 191
    },
    "colab_type": "code",
    "id": "4oUsm9wrkguL",
    "outputId": "27acfeaf-ea90-470d-be47-9f8e88acf9ec"
   },
   "outputs": [
    {
     "name": "stdout",
     "output_type": "stream",
     "text": [
      "Output Tokens: [ 1 44  7 15  0  0  0  0  0  0  0  0  0  0  0  0  0  0  0  0  0  0  0  0]\n",
      "Input text:\n",
      "see you later\n",
      "\n",
      "Predicted output:\n",
      " good is me eeee\n",
      "\n",
      "True output text:\n",
      "okk\n",
      "\n"
     ]
    }
   ],
   "source": [
    "response(input_text=\"see you later\",\n",
    "          true_output_text='okk')"
   ]
  },
  {
   "cell_type": "code",
   "execution_count": 120,
   "metadata": {
    "colab": {
     "base_uri": "https://localhost:8080/",
     "height": 208
    },
    "colab_type": "code",
    "id": "Zu9nNdvYlF2d",
    "outputId": "63d3e5b8-b3d5-4526-d029-a2ebc8ed673f"
   },
   "outputs": [
    {
     "name": "stdout",
     "output_type": "stream",
     "text": [
      "Output Tokens: [  1  93 213 228  28   0   0   0   0   0   0   0   0   0   0   0   0   0\n",
      "   0   0   0   0   0   0]\n",
      "Input text:\n",
      "Hola!\n",
      "\n",
      "Predicted output:\n",
      " hola cómo estás 😄 eeee\n",
      "\n",
      "True output text:\n",
      "Hello\n",
      "\n"
     ]
    }
   ],
   "source": [
    "response(input_text=\"Hola!\",\n",
    "          true_output_text='Hello')"
   ]
  },
  {
   "cell_type": "code",
   "execution_count": 121,
   "metadata": {
    "colab": {
     "base_uri": "https://localhost:8080/",
     "height": 191
    },
    "colab_type": "code",
    "id": "k7JKlMGg_fiK",
    "outputId": "a6443b34-2b18-4cba-e74a-bb2e56a21b54"
   },
   "outputs": [
    {
     "name": "stdout",
     "output_type": "stream",
     "text": [
      "Output Tokens: [ 1  4 18 32 26 21  7  0  0  0  0  0  0  0  0  0  0  0  0  0  0  0  0  0]\n",
      "Input text:\n",
      "do you have any programming language?\n",
      "\n",
      "Predicted output:\n",
      " i don't know what it is eeee\n",
      "\n",
      "True output text:\n",
      "yes\n",
      "\n"
     ]
    }
   ],
   "source": [
    "response(input_text=\"do you have any programming language?\",\n",
    "          true_output_text='yes')"
   ]
  },
  {
   "cell_type": "code",
   "execution_count": 122,
   "metadata": {
    "colab": {
     "base_uri": "https://localhost:8080/",
     "height": 208
    },
    "colab_type": "code",
    "id": "c5lP5YQJ_fiM",
    "outputId": "e8f52e2f-5367-4933-8054-d3e6cd375e99"
   },
   "outputs": [
    {
     "name": "stdout",
     "output_type": "stream",
     "text": [
      "Output Tokens: [  1   4  18  32  26  14 301   0   0   0   0   0   0   0   0   0   0   0\n",
      "   0   0   0   0   0   0]\n",
      "Input text:\n",
      "Whats your plan for weekend?\n",
      "\n",
      "Predicted output:\n",
      " i don't know what of been eeee\n",
      "\n",
      "True output text:\n",
      "i dont know\n",
      "\n"
     ]
    }
   ],
   "source": [
    "response(input_text=\"Whats your plan for weekend?\",\n",
    "          true_output_text='i dont know')"
   ]
  },
  {
   "cell_type": "code",
   "execution_count": 123,
   "metadata": {
    "colab": {
     "base_uri": "https://localhost:8080/",
     "height": 208
    },
    "colab_type": "code",
    "id": "_e2LMY6S_fiQ",
    "outputId": "d6d9e508-62e1-4ea4-ae2a-28dcc878d4bb"
   },
   "outputs": [
    {
     "name": "stdout",
     "output_type": "stream",
     "text": [
      "Output Tokens: [  1   4  45 554   7   6 240  97 231   4  18 474 103   8 635   5  11   0\n",
      "   0   0   0   0   0   0]\n",
      "Input text:\n",
      "what do you do?\n",
      "\n",
      "Predicted output:\n",
      " i think religion is a very human thing i don't quite see the point to that eeee\n",
      "\n",
      "True output text:\n",
      "doctor\n",
      "\n"
     ]
    }
   ],
   "source": [
    "response(input_text=\"what do you do?\",\n",
    "          true_output_text='doctor')"
   ]
  },
  {
   "cell_type": "code",
   "execution_count": 124,
   "metadata": {
    "colab": {
     "base_uri": "https://localhost:8080/",
     "height": 208
    },
    "colab_type": "code",
    "id": "3pI7IW3N2NqU",
    "outputId": "c7a0713d-f668-4a2c-abc2-2e9b405b8403"
   },
   "outputs": [
    {
     "name": "stdout",
     "output_type": "stream",
     "text": [
      "Output Tokens: [  1   4  23   6 246  14 300  48   6 564 517  48   0   0   0   0   0   0\n",
      "   0   0   0   0   0   0]\n",
      "Input text:\n",
      "what is your job?\n",
      "\n",
      "Predicted output:\n",
      " i have a source of power about a smart phone about eeee\n",
      "\n",
      "True output text:\n",
      "doctor\n",
      "\n"
     ]
    }
   ],
   "source": [
    "response(input_text=\"what is your job?\",\n",
    "          true_output_text='doctor')"
   ]
  },
  {
   "cell_type": "code",
   "execution_count": 125,
   "metadata": {
    "colab": {
     "base_uri": "https://localhost:8080/",
     "height": 208
    },
    "colab_type": "code",
    "id": "IbF2vClx_fiS",
    "outputId": "8d015cb7-5380-4e07-a017-37ae27c4b67c"
   },
   "outputs": [
    {
     "name": "stdout",
     "output_type": "stream",
     "text": [
      "Output Tokens: [  1   9 209  12   3   0   0   0   0   0   0   0   0   0   0   0   0   0\n",
      "   0   0   0   0   0   0]\n",
      "Input text:\n",
      "how old are you?\n",
      "\n",
      "Predicted output:\n",
      " i'm 22 and you eeee\n",
      "\n",
      "True output text:\n",
      "18\n",
      "\n"
     ]
    }
   ],
   "source": [
    "response(input_text=\"how old are you?\",\n",
    "          true_output_text='18')"
   ]
  },
  {
   "cell_type": "code",
   "execution_count": 126,
   "metadata": {
    "colab": {
     "base_uri": "https://localhost:8080/",
     "height": 208
    },
    "colab_type": "code",
    "id": "QGG7gwea1Wal",
    "outputId": "0b27c43c-66ee-4f60-f720-4d1367f48895"
   },
   "outputs": [
    {
     "name": "stdout",
     "output_type": "stream",
     "text": [
      "Output Tokens: [  1 189 126   7   8 126  24   3  22 127  15 116   0   0   0   0   0   0\n",
      "   0   0   0   0   0   0]\n",
      "Input text:\n",
      "Is battery important to you?\n",
      "\n",
      "Predicted output:\n",
      " reading name is the name but you can call me dany eeee\n",
      "\n",
      "True output text:\n",
      "yes\n",
      "\n"
     ]
    }
   ],
   "source": [
    "response(input_text=\"Is battery important to you?\",\n",
    "          true_output_text='yes')"
   ]
  },
  {
   "cell_type": "code",
   "execution_count": 127,
   "metadata": {
    "colab": {
     "base_uri": "https://localhost:8080/",
     "height": 208
    },
    "colab_type": "code",
    "id": "nVAx7oYA8qP6",
    "outputId": "48e6ea69-61a2-44e6-90f8-7d27a775fa04"
   },
   "outputs": [
    {
     "name": "stdout",
     "output_type": "stream",
     "text": [
      "Output Tokens: [  1   4  18  32  26 139   0   0   0   0   0   0   0   0   0   0   0   0\n",
      "   0   0   0   0   0   0]\n",
      "Input text:\n",
      "Do you use any programming language?\n",
      "\n",
      "Predicted output:\n",
      " i don't know what yet eeee\n",
      "\n",
      "True output text:\n",
      "yes\n",
      "\n"
     ]
    }
   ],
   "source": [
    "response(input_text=\"Do you use any programming language?\",\n",
    "          true_output_text='yes')"
   ]
  },
  {
   "cell_type": "code",
   "execution_count": 128,
   "metadata": {
    "colab": {
     "base_uri": "https://localhost:8080/",
     "height": 208
    },
    "colab_type": "code",
    "id": "WIOSoxWn9JO6",
    "outputId": "98b0f821-cea0-4f77-c44e-adeb96e4be57"
   },
   "outputs": [
    {
     "name": "stdout",
     "output_type": "stream",
     "text": [
      "Output Tokens: [  1   4  18  23 554   0   0   0   0   0   0   0   0   0   0   0   0   0\n",
      "   0   0   0   0   0   0]\n",
      "Input text:\n",
      "do you have yourid?\n",
      "\n",
      "Predicted output:\n",
      " i don't have religion eeee\n",
      "\n",
      "True output text:\n",
      "yes\n",
      "\n"
     ]
    }
   ],
   "source": [
    "response(input_text=\"do you have yourid?\",\n",
    "          true_output_text='yes')"
   ]
  },
  {
   "cell_type": "code",
   "execution_count": 129,
   "metadata": {
    "colab": {
     "base_uri": "https://localhost:8080/",
     "height": 208
    },
    "colab_type": "code",
    "id": "uUVTZ_TD90xJ",
    "outputId": "1432a90d-c638-4fe3-c70a-3c2a5c4ba41c"
   },
   "outputs": [
    {
     "name": "stdout",
     "output_type": "stream",
     "text": [
      "Output Tokens: [   1    4   18   23  133    7    6 1283  298    5    5   15   19    0\n",
      "    0    0    0    0    0    0    0    0    0    0]\n",
      "Input text:\n",
      "Do you know about battery?\n",
      "\n",
      "Predicted output:\n",
      " i don't have any is a concept difficult to to me 😁 eeee\n",
      "\n",
      "True output text:\n",
      "yes\n",
      "\n"
     ]
    }
   ],
   "source": [
    "response(input_text=\"Do you know about battery?\",\n",
    "          true_output_text='yes')"
   ]
  },
  {
   "cell_type": "code",
   "execution_count": 130,
   "metadata": {
    "colab": {
     "base_uri": "https://localhost:8080/",
     "height": 208
    },
    "colab_type": "code",
    "id": "tctn5l6r_lxd",
    "outputId": "aa74fdb2-5824-47bc-ba11-2d2ff38c6b4b"
   },
   "outputs": [
    {
     "name": "stdout",
     "output_type": "stream",
     "text": [
      "Output Tokens: [   1   41 1019   12 1673   10 1674  275  364 1021    0    0    0    0\n",
      "    0    0    0    0    0    0    0    0    0    0]\n",
      "Input text:\n",
      "who is Robot?\n",
      "\n",
      "Predicted output:\n",
      " some oss and softwares are launching their last version eeee\n",
      "\n",
      "True output text:\n",
      "yes\n",
      "\n"
     ]
    }
   ],
   "source": [
    "response(input_text=\"who is Robot?\",\n",
    "          true_output_text='yes')"
   ]
  },
  {
   "cell_type": "code",
   "execution_count": 131,
   "metadata": {
    "colab": {
     "base_uri": "https://localhost:8080/",
     "height": 208
    },
    "colab_type": "code",
    "id": "QXifg6omAFfh",
    "outputId": "dc1e3acd-602c-4882-c3d3-6ed6126de9be"
   },
   "outputs": [
    {
     "name": "stdout",
     "output_type": "stream",
     "text": [
      "Output Tokens: [  1   4  23 237  24  34 253   5 268  53  81 904  58   0   0   0   0   0\n",
      "   0   0   0   0   0   0]\n",
      "Input text:\n",
      "how many legs does a dog have ?\n",
      "\n",
      "Predicted output:\n",
      " i have many but not enough to fully understand humans beings 😅 eeee\n",
      "\n",
      "True output text:\n",
      "four\n",
      "\n"
     ]
    }
   ],
   "source": [
    "response(input_text=\"how many legs does a dog have ?\",\n",
    "          true_output_text='four')"
   ]
  },
  {
   "cell_type": "code",
   "execution_count": 132,
   "metadata": {
    "colab": {
     "base_uri": "https://localhost:8080/",
     "height": 208
    },
    "colab_type": "code",
    "id": "dwQZP2uIBun0",
    "outputId": "1ae1bc53-9296-4885-f62e-b41874a1f4c0"
   },
   "outputs": [
    {
     "name": "stdout",
     "output_type": "stream",
     "text": [
      "Output Tokens: [  1 397   0   0   0   0   0   0   0   0   0   0   0   0   0   0   0   0\n",
      "   0   0   0   0   0   0]\n",
      "Input text:\n",
      "r menas robot?\n",
      "\n",
      "Predicted output:\n",
      " 😝 eeee\n",
      "\n",
      "True output text:\n",
      "yes\n",
      "\n"
     ]
    }
   ],
   "source": [
    "response(input_text=\"r menas robot?\",\n",
    "          true_output_text='yes')"
   ]
  },
  {
   "cell_type": "code",
   "execution_count": 133,
   "metadata": {
    "colab": {
     "base_uri": "https://localhost:8080/",
     "height": 208
    },
    "colab_type": "code",
    "id": "sZiTeOGaA6tK",
    "outputId": "fce2d5a3-ce20-4fe3-9546-f2f89d63713d"
   },
   "outputs": [
    {
     "name": "stdout",
     "output_type": "stream",
     "text": [
      "Output Tokens: [   1   41 1019   12 1673   10 1674  275  364 1020 1021    0    0    0\n",
      "    0    0    0    0    0    0    0    0    0    0]\n",
      "Input text:\n",
      "Who loves dog?\n",
      "\n",
      "Predicted output:\n",
      " some oss and softwares are launching their last 32bit version eeee\n",
      "\n",
      "True output text:\n",
      "cat\n",
      "\n"
     ]
    }
   ],
   "source": [
    "response(input_text=\"Who loves dog?\",\n",
    "          true_output_text='cat')"
   ]
  },
  {
   "cell_type": "code",
   "execution_count": 134,
   "metadata": {
    "colab": {
     "base_uri": "https://localhost:8080/",
     "height": 208
    },
    "colab_type": "code",
    "id": "h-Ah-ezFCLzs",
    "outputId": "c21de223-0504-4b1a-a98c-0064fc509f70"
   },
   "outputs": [
    {
     "name": "stdout",
     "output_type": "stream",
     "text": [
      "Output Tokens: [  1  60   4  18  23 565   0   0   0   0   0   0   0   0   0   0   0   0\n",
      "   0   0   0   0   0   0]\n",
      "Input text:\n",
      "what is earth?\n",
      "\n",
      "Predicted output:\n",
      " sorry i don't have images eeee\n",
      "\n",
      "True output text:\n",
      "blue\n",
      "\n"
     ]
    }
   ],
   "source": [
    "response(input_text=\"what is earth?\",\n",
    "          true_output_text='blue')"
   ]
  },
  {
   "cell_type": "code",
   "execution_count": 135,
   "metadata": {
    "colab": {
     "base_uri": "https://localhost:8080/",
     "height": 208
    },
    "colab_type": "code",
    "id": "7ZG8vDgPCrMO",
    "outputId": "0e3c67b3-9d3b-42d5-a4d8-ff4f6520b6b7"
   },
   "outputs": [
    {
     "name": "stdout",
     "output_type": "stream",
     "text": [
      "Output Tokens: [   1    4   53    8 1624    5  182   81  104   10   53   82  104    4\n",
      "    4   67    5  268    4    4   67   36   15  104]\n",
      "Input text:\n",
      "my name is urali . what is my name ?\n",
      "\n",
      "Predicted output:\n",
      " i understand the lord to read humans they are understand wikipedia they i i want to fully i i want with me they show\n",
      "\n",
      "True output text:\n",
      "urali\n",
      "\n"
     ]
    }
   ],
   "source": [
    "response(input_text=\"my name is urali . what is my name ?\",\n",
    "          true_output_text='urali')"
   ]
  },
  {
   "cell_type": "code",
   "execution_count": 136,
   "metadata": {
    "colab": {
     "base_uri": "https://localhost:8080/",
     "height": 191
    },
    "colab_type": "code",
    "id": "Dc0H-aQexrBH",
    "outputId": "692dc402-38ea-4f53-d097-5087e7dd1160"
   },
   "outputs": [
    {
     "name": "stdout",
     "output_type": "stream",
     "text": [
      "Output Tokens: [ 1 37 24  6  8 44 43  0  0  0  0  0  0  0  0  0  0  0  0  0  0  0  0  0]\n",
      "Input text:\n",
      "are you a robot or a human ?\n",
      "\n",
      "Predicted output:\n",
      " yes but a the good time eeee\n",
      "\n",
      "True output text:\n",
      "robot\n",
      "\n"
     ]
    }
   ],
   "source": [
    "response(input_text=\"are you a robot or a human ?\",\n",
    "          true_output_text='robot')"
   ]
  },
  {
   "cell_type": "code",
   "execution_count": 137,
   "metadata": {
    "colab": {
     "base_uri": "https://localhost:8080/",
     "height": 191
    },
    "colab_type": "code",
    "id": "PpcTnn8QGWAP",
    "outputId": "1067f9d8-3a54-47e6-ba04-21361d2878c0"
   },
   "outputs": [
    {
     "name": "stdout",
     "output_type": "stream",
     "text": [
      "Output Tokens: [ 1 37  0  0  0  0  0  0  0  0  0  0  0  0  0  0  0  0  0  0  0  0  0  0]\n",
      "Input text:\n",
      "are you a leader or a follower ?\n",
      "\n",
      "Predicted output:\n",
      " yes eeee\n",
      "\n",
      "True output text:\n",
      "follower\n",
      "\n"
     ]
    }
   ],
   "source": [
    "response(input_text=\"are you a leader or a follower ?\",\n",
    "          true_output_text='follower')"
   ]
  },
  {
   "cell_type": "code",
   "execution_count": 138,
   "metadata": {
    "colab": {
     "base_uri": "https://localhost:8080/",
     "height": 191
    },
    "colab_type": "code",
    "id": "zSF0iNsQGkUD",
    "outputId": "d55a2dbf-f252-48b5-9e1a-45c04ddff212"
   },
   "outputs": [
    {
     "name": "stdout",
     "output_type": "stream",
     "text": [
      "Output Tokens: [ 1 37  0  0  0  0  0  0  0  0  0  0  0  0  0  0  0  0  0  0  0  0  0  0]\n",
      "Input text:\n",
      "are you a follower or a leader?\n",
      "\n",
      "Predicted output:\n",
      " yes eeee\n",
      "\n",
      "True output text:\n",
      "follower\n",
      "\n"
     ]
    }
   ],
   "source": [
    "response(input_text=\"are you a follower or a leader?\",\n",
    "          true_output_text='follower')"
   ]
  },
  {
   "cell_type": "code",
   "execution_count": 139,
   "metadata": {
    "colab": {
     "base_uri": "https://localhost:8080/",
     "height": 208
    },
    "colab_type": "code",
    "id": "aulu_U-jHmJp",
    "outputId": "c946ede9-8cd0-4ca8-f05b-24734c168732"
   },
   "outputs": [
    {
     "name": "stdout",
     "output_type": "stream",
     "text": [
      "Output Tokens: [  1  37  24 410 563  12   3   0   0   0   0   0   0   0   0   0   0   0\n",
      "   0   0   0   0   0   0]\n",
      "Input text:\n",
      "are you have ai?\n",
      "\n",
      "Predicted output:\n",
      " yes but artificial intelligence and you eeee\n",
      "\n",
      "True output text:\n",
      "yes\n",
      "\n"
     ]
    }
   ],
   "source": [
    "response(input_text=\"are you have ai?\",\n",
    "          true_output_text='yes')"
   ]
  },
  {
   "cell_type": "code",
   "execution_count": 140,
   "metadata": {
    "colab": {
     "base_uri": "https://localhost:8080/",
     "height": 208
    },
    "colab_type": "code",
    "id": "YJ1dSbOsJtqQ",
    "outputId": "b6793932-2d6e-4a45-ae03-ec62d1865319"
   },
   "outputs": [
    {
     "name": "stdout",
     "output_type": "stream",
     "text": [
      "Output Tokens: [  1   4  20  83 246  14 300  48   6 564 517  48   3   0   0   0   0   0\n",
      "   0   0   0   0   0   0]\n",
      "Input text:\n",
      "what is the symbol for power in math?\n",
      "\n",
      "Predicted output:\n",
      " i like all source of power about a smart phone about you eeee\n",
      "\n",
      "True output text:\n",
      "^\n",
      "\n"
     ]
    }
   ],
   "source": [
    "response(input_text=\"what is the symbol for power in math?\",\n",
    "          true_output_text='^')"
   ]
  },
  {
   "cell_type": "code",
   "execution_count": 141,
   "metadata": {
    "colab": {
     "base_uri": "https://localhost:8080/",
     "height": 208
    },
    "colab_type": "code",
    "id": "guB-C8pePtL_",
    "outputId": "9d1e81ed-138f-4401-c4d2-7f3a022ece1a"
   },
   "outputs": [
    {
     "name": "stdout",
     "output_type": "stream",
     "text": [
      "Output Tokens: [  1  35 224 843 125  65   0   0   0   0   0   0   0   0   0   0   0   0\n",
      "   0   0   0   0   0   0]\n",
      "Input text:\n",
      "2+2?\n",
      "\n",
      "Predicted output:\n",
      " no tengo miedo pero es eeee\n",
      "\n",
      "True output text:\n",
      "4\n",
      "\n"
     ]
    }
   ],
   "source": [
    "response(input_text=\"2+2?\",\n",
    "          true_output_text='4')"
   ]
  },
  {
   "cell_type": "code",
   "execution_count": 142,
   "metadata": {
    "colab": {
     "base_uri": "https://localhost:8080/",
     "height": 208
    },
    "colab_type": "code",
    "id": "I4iX_XGaUUH2",
    "outputId": "557c6397-e431-4e5e-cdef-f18e8383cfde"
   },
   "outputs": [
    {
     "name": "stdout",
     "output_type": "stream",
     "text": [
      "Output Tokens: [   1   41 1019   12 1673   10 1674  275  364 1020 1021    0    0    0\n",
      "    0    0    0    0    0    0    0    0    0    0]\n",
      "Input text:\n",
      "Who is prime minister of india?\n",
      "\n",
      "Predicted output:\n",
      " some oss and softwares are launching their last 32bit version eeee\n",
      "\n",
      "True output text:\n",
      "naredra modei\n",
      "\n"
     ]
    }
   ],
   "source": [
    "response(input_text=\"Who is prime minister of india?\",\n",
    "          true_output_text='naredra modei')"
   ]
  },
  {
   "cell_type": "code",
   "execution_count": 143,
   "metadata": {
    "colab": {
     "base_uri": "https://localhost:8080/",
     "height": 208
    },
    "colab_type": "code",
    "id": "q02Qa_qY1se-",
    "outputId": "a105e8ad-cd8f-41de-a5d2-dbbc14656462"
   },
   "outputs": [
    {
     "name": "stdout",
     "output_type": "stream",
     "text": [
      "Output Tokens: [  1   4  23   6 246  14   6 564 517  48   0   0   0   0   0   0   0   0\n",
      "   0   0   0   0   0   0]\n",
      "Input text:\n",
      "What is computer science?\n",
      "\n",
      "Predicted output:\n",
      " i have a source of a smart phone about eeee\n",
      "\n",
      "True output text:\n",
      "4\n",
      "\n"
     ]
    }
   ],
   "source": [
    "response(input_text=\"What is computer science?\",\n",
    "          true_output_text='4')"
   ]
  },
  {
   "cell_type": "code",
   "execution_count": 144,
   "metadata": {
    "colab": {
     "base_uri": "https://localhost:8080/",
     "height": 208
    },
    "colab_type": "code",
    "id": "U79flzE3V_FA",
    "outputId": "6a60949a-5331-4d31-d8fd-523f9108fac0"
   },
   "outputs": [
    {
     "name": "stdout",
     "output_type": "stream",
     "text": [
      "Output Tokens: [  1   9  62 121 235  14   8 118 627   0   0   0   0   0   0   0   0   0\n",
      "   0   0   0   0   0   0]\n",
      "Input text:\n",
      "Where are you now?\n",
      "\n",
      "Predicted output:\n",
      " i'm from argentina south of the world xd eeee\n",
      "\n",
      "True output text:\n",
      "4\n",
      "\n"
     ]
    }
   ],
   "source": [
    "response(input_text=\"Where are you now?\",\n",
    "          true_output_text='4')"
   ]
  },
  {
   "cell_type": "markdown",
   "metadata": {
    "colab_type": "text",
    "id": "cbND6Uh9_fiV"
   },
   "source": [
    "In this implementation remaining the validation and testing part.\n",
    "about early stopping,callbacks and checkpoints."
   ]
  },
  {
   "cell_type": "markdown",
   "metadata": {
    "colab_type": "text",
    "id": "3J8wRVEs_fiW"
   },
   "source": [
    "In seq2seq model decoder using a greedy decoding.\n",
    "\n",
    "We saw how to generate (or “decode”) the response sentence by\n",
    "taking argmax on each step of the decoder.\n",
    "\n",
    "This is greedy decoding (take most probable word on each step)\n",
    "\n",
    "Problems with this method?\n",
    "\n",
    "Greedy decoding has no way to undo decisions!\n",
    "• Input: how are you?\n",
    "(i am fine thanks for asking me)\n",
    "•  i  ____\n",
    "• i am ____\n",
    "• i am thanks ____\n",
    "(no going back now...)\n",
    "\n",
    "This problem solve using two solution\n",
    "\n",
    "1)Exhaustive search decoding\n",
    "2)Beam search decoding\n",
    "\n",
    "Sequence-to-sequence: the bottleneck problem\n",
    "\n",
    "Encoding of the input sentence this needs to capture all information about the input sentence.\n",
    "Information bottleneck!\n",
    "\n",
    "Attention\n",
    "\n",
    "Attention provides a solution to the bottleneck problem.\n",
    "Core idea: on each step of the decoder, use direct connection to the encoder to focus on a particular part of the source sequence.\n",
    "\n",
    "Attention equation:-\n",
    "\n"
   ]
  },
  {
   "cell_type": "code",
   "execution_count": 0,
   "metadata": {
    "colab": {},
    "colab_type": "code",
    "id": "kGuQ22Bf_fiX"
   },
   "outputs": [],
   "source": [
    "layer_embedding = model_train.get_layer('encoder_embedding')"
   ]
  },
  {
   "cell_type": "code",
   "execution_count": 0,
   "metadata": {
    "colab": {},
    "colab_type": "code",
    "id": "y8ZbMREc_fia"
   },
   "outputs": [],
   "source": [
    "weights_embedding = layer_embedding.get_weights()[0]"
   ]
  },
  {
   "cell_type": "code",
   "execution_count": 147,
   "metadata": {
    "colab": {
     "base_uri": "https://localhost:8080/",
     "height": 34
    },
    "colab_type": "code",
    "id": "ZH39amGY_fid",
    "outputId": "672741e3-fb61-4982-9d40-0cdf204ade7e"
   },
   "outputs": [
    {
     "data": {
      "text/plain": [
       "(2000, 150)"
      ]
     },
     "execution_count": 147,
     "metadata": {
      "tags": []
     },
     "output_type": "execute_result"
    }
   ],
   "source": [
    "weights_embedding.shape"
   ]
  },
  {
   "cell_type": "code",
   "execution_count": 148,
   "metadata": {
    "colab": {
     "base_uri": "https://localhost:8080/",
     "height": 34
    },
    "colab_type": "code",
    "id": "-qWm-m9t_fif",
    "outputId": "08545abe-d79d-47fb-cd16-9a31fb411e09"
   },
   "outputs": [
    {
     "data": {
      "text/plain": [
       "47"
      ]
     },
     "execution_count": 148,
     "metadata": {
      "tags": []
     },
     "output_type": "execute_result"
    }
   ],
   "source": [
    "token_good = tokenizer_src.word_index['good']\n",
    "token_good"
   ]
  },
  {
   "cell_type": "code",
   "execution_count": 149,
   "metadata": {
    "colab": {
     "base_uri": "https://localhost:8080/",
     "height": 34
    },
    "colab_type": "code",
    "id": "W3phTM4f_fii",
    "outputId": "4d7ac6b6-d8e2-45ab-dd57-0b7a5ba58861"
   },
   "outputs": [
    {
     "data": {
      "text/plain": [
       "140"
      ]
     },
     "execution_count": 149,
     "metadata": {
      "tags": []
     },
     "output_type": "execute_result"
    }
   ],
   "source": [
    "token_great = tokenizer_src.word_index['great']\n",
    "token_great"
   ]
  },
  {
   "cell_type": "code",
   "execution_count": 150,
   "metadata": {
    "colab": {
     "base_uri": "https://localhost:8080/",
     "height": 555
    },
    "colab_type": "code",
    "id": "kvf3SJZE_fil",
    "outputId": "7269ae94-0761-445a-cccf-1cca085fdae1"
   },
   "outputs": [
    {
     "data": {
      "text/plain": [
       "array([-0.00605601, -0.09703276,  0.12026335, -0.0429709 ,  0.0451644 ,\n",
       "        0.06522546,  0.01940296,  0.03777947,  0.02648389,  0.07930557,\n",
       "       -0.08197083,  0.03552093,  0.05277682, -0.04664737,  0.01311607,\n",
       "       -0.05128861, -0.13081259,  0.03545371, -0.036096  , -0.00113569,\n",
       "        0.06436104, -0.07635649, -0.04544549,  0.07030412, -0.08874452,\n",
       "       -0.04837809,  0.07493223, -0.07281118, -0.08007632,  0.09415208,\n",
       "       -0.01626598,  0.06682118, -0.07085378,  0.07118715,  0.07124466,\n",
       "        0.09034715, -0.01085008, -0.03020029,  0.02701333, -0.11673076,\n",
       "        0.10095346, -0.06096854, -0.10512348, -0.01498752,  0.03013412,\n",
       "        0.06620135,  0.06715179, -0.11718557, -0.02216041,  0.05126737,\n",
       "        0.0478097 ,  0.06217752,  0.05299479, -0.0338116 ,  0.0428695 ,\n",
       "        0.01539963,  0.06163781, -0.03181211,  0.06422041,  0.08952244,\n",
       "        0.07544231,  0.06429012,  0.09922091,  0.05561291, -0.06946386,\n",
       "        0.06315099, -0.03122349,  0.03641919, -0.02463398,  0.06417491,\n",
       "        0.05485355,  0.04170973,  0.05719182,  0.05997792,  0.03482557,\n",
       "        0.0470118 , -0.04985854,  0.0370815 ,  0.05190386,  0.04824593,\n",
       "        0.01240086,  0.08690156,  0.05897058, -0.03285854, -0.13565312,\n",
       "        0.02581109, -0.08777246,  0.04730426, -0.06472689,  0.10370605,\n",
       "       -0.0248221 ,  0.02713545,  0.02258226, -0.07309352,  0.03637425,\n",
       "       -0.06122792,  0.03203718,  0.03803568,  0.01915852, -0.05446095,\n",
       "        0.07950008,  0.08314735, -0.04898109, -0.01795374, -0.10264716,\n",
       "       -0.00180757,  0.04014953,  0.07836959, -0.04116313, -0.00309414,\n",
       "        0.02889638, -0.00305849, -0.10822385, -0.01096773,  0.08312231,\n",
       "        0.06385098, -0.13042678, -0.0178472 ,  0.01623629, -0.00473245,\n",
       "       -0.02501971,  0.0994347 , -0.04635104, -0.00257967,  0.05650155,\n",
       "       -0.00734532, -0.01007868,  0.03861448, -0.08866622,  0.01326849,\n",
       "       -0.05093912,  0.08050976,  0.00929781,  0.04311007, -0.1082828 ,\n",
       "       -0.07241017,  0.00497393,  0.02677499, -0.06629875, -0.06904288,\n",
       "        0.00332898,  0.08786426, -0.07281364,  0.01149685, -0.07807524,\n",
       "       -0.09111179, -0.05910172,  0.01904114, -0.08552632, -0.05550451],\n",
       "      dtype=float32)"
      ]
     },
     "execution_count": 150,
     "metadata": {
      "tags": []
     },
     "output_type": "execute_result"
    }
   ],
   "source": [
    "weights_embedding[token_good]"
   ]
  },
  {
   "cell_type": "code",
   "execution_count": 151,
   "metadata": {
    "colab": {
     "base_uri": "https://localhost:8080/",
     "height": 677
    },
    "colab_type": "code",
    "id": "2hD5uEG4_fio",
    "outputId": "0f090636-1d3a-4ebc-8e7d-c497a072571f"
   },
   "outputs": [
    {
     "data": {
      "text/plain": [
       "array([-2.68863309e-02, -1.24549260e-04,  4.17215899e-02, -1.62681900e-02,\n",
       "        8.65434706e-02, -3.51221152e-02, -2.85662152e-02,  1.84438396e-02,\n",
       "        3.40247229e-02,  4.41471413e-02, -5.82547374e-02,  2.92289108e-02,\n",
       "       -4.82404977e-02,  2.53035389e-02,  7.10975528e-02, -2.94519830e-02,\n",
       "       -3.63631584e-02,  7.21926168e-02,  2.12940834e-02, -8.09538662e-02,\n",
       "        1.01592623e-01, -2.88056247e-02, -1.53077124e-02, -3.70619148e-02,\n",
       "       -1.89485587e-02, -1.14593618e-02, -1.80749279e-02, -3.92804034e-02,\n",
       "        2.87903622e-02,  3.17329243e-02,  3.86558063e-02, -7.06539117e-03,\n",
       "        2.49606296e-02,  5.34158647e-02,  3.76553871e-02,  3.11194770e-02,\n",
       "       -1.35316938e-01,  1.58505477e-02,  6.61734212e-03, -3.50916609e-02,\n",
       "        5.88868447e-02,  3.86234857e-02,  7.62922363e-03,  4.02329825e-02,\n",
       "        2.12490316e-02,  8.13997984e-02, -2.93385983e-02, -4.09060270e-02,\n",
       "        1.37095265e-02,  3.64057384e-02, -2.64911763e-02, -1.10781454e-02,\n",
       "        6.16685152e-02, -6.12642663e-03,  3.34014408e-02,  2.94720568e-02,\n",
       "        2.10438594e-02, -4.66122180e-02, -9.44761373e-03, -1.93054006e-02,\n",
       "        5.61152883e-02,  1.44078843e-02,  7.01447651e-02, -1.42156929e-02,\n",
       "       -1.60021503e-02,  4.00269553e-02, -3.16512361e-02,  1.41336620e-01,\n",
       "        3.95403989e-02,  1.09848883e-02,  4.25675511e-02,  8.82286020e-03,\n",
       "        1.23950783e-02,  4.37000692e-02,  1.16465896e-01, -9.46994126e-03,\n",
       "        2.44854074e-02,  4.30262312e-02,  1.63219795e-02,  5.42331934e-02,\n",
       "       -5.19274622e-02, -6.31246436e-03, -1.85755326e-03,  5.95651865e-02,\n",
       "        1.89126264e-02, -4.23736498e-02,  1.41838994e-02,  4.35720980e-02,\n",
       "        2.38776729e-02,  4.05417085e-02, -1.58011122e-03,  7.60779604e-02,\n",
       "        6.01531044e-02, -2.86649577e-02,  2.29625478e-02,  3.43469866e-02,\n",
       "        1.11855701e-01,  9.63039417e-03, -4.55709249e-02, -9.69967470e-02,\n",
       "        1.72932353e-02,  6.97185174e-02, -5.20318635e-02, -3.24465558e-02,\n",
       "       -4.57932055e-02, -7.80331204e-03,  4.36458588e-02, -2.02479307e-02,\n",
       "       -6.05511256e-02, -1.20393895e-02, -4.27454561e-02,  3.37221511e-02,\n",
       "       -3.79057452e-02, -3.74451615e-02, -2.36513931e-03, -1.90976299e-02,\n",
       "       -1.62205454e-02, -1.93186961e-02,  3.30555588e-02,  4.62676473e-02,\n",
       "       -2.30737180e-02,  9.31243412e-05, -5.82397692e-02,  9.17352177e-03,\n",
       "        1.23777241e-01,  1.13905873e-04, -4.17491887e-03,  4.75836098e-02,\n",
       "       -5.32995649e-02, -5.80702201e-02,  1.47083504e-02,  1.11954557e-02,\n",
       "        9.23536345e-03,  1.83559619e-02, -4.27424498e-02,  2.55402587e-02,\n",
       "        3.69957499e-02, -3.88765819e-02,  1.66342799e-02,  5.69050666e-03,\n",
       "       -6.35923818e-02,  4.09006663e-02, -4.24577557e-02,  5.60523421e-02,\n",
       "       -1.98327936e-02, -9.44435298e-02,  4.79422398e-02, -3.83894444e-02,\n",
       "       -5.14280088e-02, -4.87007610e-02], dtype=float32)"
      ]
     },
     "execution_count": 151,
     "metadata": {
      "tags": []
     },
     "output_type": "execute_result"
    }
   ],
   "source": [
    "weights_embedding[token_great]"
   ]
  },
  {
   "cell_type": "code",
   "execution_count": 0,
   "metadata": {
    "colab": {},
    "colab_type": "code",
    "id": "1m9KDIxr_fir"
   },
   "outputs": [],
   "source": [
    "from scipy.spatial.distance import cdist\n",
    "def print_sorted_words(word, metric='cosine'):\n",
    "    \"\"\"\n",
    "    Print the words in the vocabulary sorted according to their\n",
    "    embedding-distance to the given word.\n",
    "    Different metrics can be used, e.g. 'cosine' or 'euclidean'.\n",
    "    \"\"\"\n",
    "\n",
    "    # Get the token (i.e. integer ID) for the given word.\n",
    "    token = tokenizer_src.word_index[word]\n",
    "\n",
    "    # Get the embedding for the given word. Note that the\n",
    "    # embedding-weight-matrix is indexed by the word-tokens\n",
    "    # which are integer IDs.\n",
    "    embedding = weights_embedding[token]\n",
    "\n",
    "    # Calculate the distance between the embeddings for\n",
    "    # this word and all other words in the vocabulary.\n",
    "    distances = cdist(weights_embedding, [embedding],metric=metric).T[0]\n",
    "    \n",
    "    # Get an index sorted according to the embedding-distances.\n",
    "    # These are the tokens (integer IDs) for words in the vocabulary.\n",
    "    sorted_index = np.argsort(distances)\n",
    "    \n",
    "    # Sort the embedding-distances.\n",
    "    sorted_distances = distances[sorted_index]\n",
    "    \n",
    "    # Sort all the words in the vocabulary according to their\n",
    "    # embedding-distance. This is a bit excessive because we\n",
    "    # will only print the top and bottom words.\n",
    "    sorted_words = [ tokenizer_src.index_to_word[token] for token in sorted_index\n",
    "                    if token != 0]\n",
    "\n",
    "    # Helper-function for printing words and embedding-distances.\n",
    "    def _print_words(words, distances):\n",
    "        for word, distance in zip(words, distances):\n",
    "            print(\"{0:.3f} - {1}\".format(distance, word))\n",
    "\n",
    "    # Number of words to print from the top and bottom of the list.\n",
    "    k = 10\n",
    "\n",
    "    print(\"Distance from '{0}':\".format(word))\n",
    "\n",
    "    # Print the words with smallest embedding-distance.\n",
    "    _print_words(sorted_words[0:k], sorted_distances[0:k])\n",
    "\n",
    "    print(\"...\")\n",
    "\n",
    "    # Print the words with highest embedding-distance.\n",
    "    _print_words(sorted_words[-k:], sorted_distances[-k:])"
   ]
  },
  {
   "cell_type": "code",
   "execution_count": 153,
   "metadata": {
    "colab": {
     "base_uri": "https://localhost:8080/",
     "height": 399
    },
    "colab_type": "code",
    "id": "89rBnwNe_fiu",
    "outputId": "5ba203c6-3162-4961-9072-f9af2736f9bb"
   },
   "outputs": [
    {
     "name": "stdout",
     "output_type": "stream",
     "text": [
      "Distance from 'great':\n",
      "0.000 - great\n",
      "0.442 - told\n",
      "0.469 - moment\n",
      "0.475 - yup\n",
      "0.489 - cartoon\n",
      "0.490 - i'll\n",
      "0.502 - life\n",
      "0.509 - boring\n",
      "0.519 - watch\n",
      "0.519 - may\n",
      "...\n",
      "1.461 - restoreddo\n",
      "1.463 - programming\n",
      "1.463 - dice\n",
      "1.466 - quien\n",
      "1.475 - choice\n",
      "1.479 - read\n",
      "1.491 - what\n",
      "1.532 - there's\n",
      "1.539 - wikipedia\n",
      "1.543 - is\n"
     ]
    }
   ],
   "source": [
    "print_sorted_words('great', metric='cosine')"
   ]
  },
  {
   "cell_type": "code",
   "execution_count": 0,
   "metadata": {
    "colab": {},
    "colab_type": "code",
    "id": "f_JRRRDo_fiw"
   },
   "outputs": [],
   "source": []
  },
  {
   "cell_type": "code",
   "execution_count": 0,
   "metadata": {
    "colab": {},
    "colab_type": "code",
    "id": "wjQ4t-xf_fiz"
   },
   "outputs": [],
   "source": []
  }
 ],
 "metadata": {
  "accelerator": "GPU",
  "colab": {
   "collapsed_sections": [],
   "name": "Untitled_(copy)(2) comparision show .ipynb",
   "provenance": []
  },
  "kernelspec": {
   "display_name": "Python 3",
   "language": "python",
   "name": "python3"
  },
  "language_info": {
   "codemirror_mode": {
    "name": "ipython",
    "version": 3
   },
   "file_extension": ".py",
   "mimetype": "text/x-python",
   "name": "python",
   "nbconvert_exporter": "python",
   "pygments_lexer": "ipython3",
   "version": "3.6.8"
  }
 },
 "nbformat": 4,
 "nbformat_minor": 1
}

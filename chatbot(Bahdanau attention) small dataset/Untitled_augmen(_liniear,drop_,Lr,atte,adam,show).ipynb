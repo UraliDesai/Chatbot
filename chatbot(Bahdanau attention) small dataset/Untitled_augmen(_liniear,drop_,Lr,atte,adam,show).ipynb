{
  "nbformat": 4,
  "nbformat_minor": 0,
  "metadata": {
    "accelerator": "GPU",
    "colab": {
      "name": "Untitled_augmen( liniear,drop ,Lr,atte,adam).ipynb",
      "provenance": [],
      "collapsed_sections": [],
      "toc_visible": true
    },
    "kernelspec": {
      "display_name": "Python 3",
      "language": "python",
      "name": "python3"
    },
    "language_info": {
      "codemirror_mode": {
        "name": "ipython",
        "version": 3
      },
      "file_extension": ".py",
      "mimetype": "text/x-python",
      "name": "python",
      "nbconvert_exporter": "python",
      "pygments_lexer": "ipython3",
      "version": "3.6.8"
    }
  },
  "cells": [
    {
      "cell_type": "markdown",
      "metadata": {
        "colab_type": "text",
        "id": "-IjaOq6M_fY3"
      },
      "source": [
        "__Flowchart__\n",
        "\n",
        "The following flowchart shows roughly how the neural network is constructed. It is split into two parts: An encoder which maps the source-text to a \"thought vector\" that summarizes the text's contents, which is then input to the second part of the neural network that decodes the \"thought vector\" to the response-text.\n",
        "\n",
        "The neural network cannot work directly on text so first we need to convert each word to an integer-token using a tokenizer. But the neural network cannot work on integers either, so we use a so-called Embedding Layer to convert each integer-token to a vector of floating-point values. The embedding is trained alongside the rest of the neural network to map words with similar semantic meaning to similar vectors of floating-point values.\n",
        "\n",
        "For example, consider the input text is \"how are you?\" and excpected response in text is \"I am fine thanks for asking me\". We first convert the entire data-set to integer-tokens so the text \"how are you?\" becomes [6, 1, 2]. Each of these integer-tokens is then mapped to an embedding-vector with e.g.8 elements, so the integer-token 6 could for example become [0.12, -0.56, ..., 1.19] and the integer-token 1 could for example become [0.39, 0.09, ..., -0.12]. These embedding-vectors can then be input to the Recurrent Neural Network, which has 3 GRU-layers.\n",
        "\n",
        "The last GRU-layer outputs a single vector - the \"thought vector\" that summarizes the contents of the source-text - which is then used as the initial state of the GRU-units in the decoder-part.\n",
        "\n",
        "The destination-text \"I am fine thanks for asking me\" is padded with special markers \"ssss\" and \"eeee\" to indicate its beginning and end, so the sequence of integer-tokens becomes [1,6,7,8,9,10,11,12,2]. During training, the decoder will be given this entire sequence as input and the desired output sequence is [6,7, 8, 9,10,11,12,2] which is the same sequence but time-shifted one step. We are trying to teach the decoder to map the \"thought vector\" and the start-token \"ssss\" (integer 1) to the next word \"i\" (integer 6), and then map the word \"i\" to the word \"am\" (integer 7), and so on.\n",
        "\n",
        "here talk abot formula.\n",
        "\n",
        "at encoder:\n",
        "    h(t)=tanh(wxh*x(t)+whh*h(t-1))\n",
        "    \n",
        "at decoder:\n",
        "    h(t)=tanh(whh*h(t-1)+wxh*y(t-1))\n",
        "    \n",
        "   y(t)=softmax(wy*h(t))\n",
        "    \n",
        "\n"
      ]
    },
    {
      "cell_type": "code",
      "metadata": {
        "colab_type": "code",
        "id": "_jzCy45qAF6U",
        "outputId": "534fcb18-536b-4038-b619-0f52234b4e88",
        "colab": {
          "base_uri": "https://localhost:8080/",
          "height": 992
        }
      },
      "source": [
        "!pip install tensorflow-gpu"
      ],
      "execution_count": 1,
      "outputs": [
        {
          "output_type": "stream",
          "text": [
            "Collecting tensorflow-gpu\n",
            "\u001b[?25l  Downloading https://files.pythonhosted.org/packages/0a/93/c7bca39b23aae45cd2e85ad3871c81eccc63b9c5276e926511e2e5b0879d/tensorflow_gpu-2.1.0-cp36-cp36m-manylinux2010_x86_64.whl (421.8MB)\n",
            "\u001b[K     |████████████████████████████████| 421.8MB 38kB/s \n",
            "\u001b[?25hCollecting gast==0.2.2\n",
            "  Downloading https://files.pythonhosted.org/packages/4e/35/11749bf99b2d4e3cceb4d55ca22590b0d7c2c62b9de38ac4a4a7f4687421/gast-0.2.2.tar.gz\n",
            "Requirement already satisfied: absl-py>=0.7.0 in /usr/local/lib/python3.6/dist-packages (from tensorflow-gpu) (0.9.0)\n",
            "Requirement already satisfied: google-pasta>=0.1.6 in /usr/local/lib/python3.6/dist-packages (from tensorflow-gpu) (0.2.0)\n",
            "Requirement already satisfied: six>=1.12.0 in /usr/local/lib/python3.6/dist-packages (from tensorflow-gpu) (1.12.0)\n",
            "Requirement already satisfied: keras-applications>=1.0.8 in /usr/local/lib/python3.6/dist-packages (from tensorflow-gpu) (1.0.8)\n",
            "Requirement already satisfied: opt-einsum>=2.3.2 in /usr/local/lib/python3.6/dist-packages (from tensorflow-gpu) (3.2.0)\n",
            "Requirement already satisfied: astor>=0.6.0 in /usr/local/lib/python3.6/dist-packages (from tensorflow-gpu) (0.8.1)\n",
            "Collecting tensorflow-estimator<2.2.0,>=2.1.0rc0\n",
            "\u001b[?25l  Downloading https://files.pythonhosted.org/packages/18/90/b77c328a1304437ab1310b463e533fa7689f4bfc41549593056d812fab8e/tensorflow_estimator-2.1.0-py2.py3-none-any.whl (448kB)\n",
            "\u001b[K     |████████████████████████████████| 450kB 60.7MB/s \n",
            "\u001b[?25hRequirement already satisfied: scipy==1.4.1; python_version >= \"3\" in /usr/local/lib/python3.6/dist-packages (from tensorflow-gpu) (1.4.1)\n",
            "Requirement already satisfied: grpcio>=1.8.6 in /usr/local/lib/python3.6/dist-packages (from tensorflow-gpu) (1.27.2)\n",
            "Requirement already satisfied: termcolor>=1.1.0 in /usr/local/lib/python3.6/dist-packages (from tensorflow-gpu) (1.1.0)\n",
            "Requirement already satisfied: protobuf>=3.8.0 in /usr/local/lib/python3.6/dist-packages (from tensorflow-gpu) (3.10.0)\n",
            "Requirement already satisfied: wheel>=0.26; python_version >= \"3\" in /usr/local/lib/python3.6/dist-packages (from tensorflow-gpu) (0.34.2)\n",
            "Requirement already satisfied: tensorboard<2.2.0,>=2.1.0 in /usr/local/lib/python3.6/dist-packages (from tensorflow-gpu) (2.1.1)\n",
            "Requirement already satisfied: wrapt>=1.11.1 in /usr/local/lib/python3.6/dist-packages (from tensorflow-gpu) (1.12.1)\n",
            "Requirement already satisfied: numpy<2.0,>=1.16.0 in /usr/local/lib/python3.6/dist-packages (from tensorflow-gpu) (1.18.2)\n",
            "Requirement already satisfied: keras-preprocessing>=1.1.0 in /usr/local/lib/python3.6/dist-packages (from tensorflow-gpu) (1.1.0)\n",
            "Requirement already satisfied: h5py in /usr/local/lib/python3.6/dist-packages (from keras-applications>=1.0.8->tensorflow-gpu) (2.10.0)\n",
            "Requirement already satisfied: setuptools in /usr/local/lib/python3.6/dist-packages (from protobuf>=3.8.0->tensorflow-gpu) (46.0.0)\n",
            "Requirement already satisfied: google-auth-oauthlib<0.5,>=0.4.1 in /usr/local/lib/python3.6/dist-packages (from tensorboard<2.2.0,>=2.1.0->tensorflow-gpu) (0.4.1)\n",
            "Requirement already satisfied: markdown>=2.6.8 in /usr/local/lib/python3.6/dist-packages (from tensorboard<2.2.0,>=2.1.0->tensorflow-gpu) (3.2.1)\n",
            "Requirement already satisfied: requests<3,>=2.21.0 in /usr/local/lib/python3.6/dist-packages (from tensorboard<2.2.0,>=2.1.0->tensorflow-gpu) (2.21.0)\n",
            "Requirement already satisfied: werkzeug>=0.11.15 in /usr/local/lib/python3.6/dist-packages (from tensorboard<2.2.0,>=2.1.0->tensorflow-gpu) (1.0.0)\n",
            "Requirement already satisfied: google-auth<2,>=1.6.3 in /usr/local/lib/python3.6/dist-packages (from tensorboard<2.2.0,>=2.1.0->tensorflow-gpu) (1.7.2)\n",
            "Requirement already satisfied: requests-oauthlib>=0.7.0 in /usr/local/lib/python3.6/dist-packages (from google-auth-oauthlib<0.5,>=0.4.1->tensorboard<2.2.0,>=2.1.0->tensorflow-gpu) (1.3.0)\n",
            "Requirement already satisfied: idna<2.9,>=2.5 in /usr/local/lib/python3.6/dist-packages (from requests<3,>=2.21.0->tensorboard<2.2.0,>=2.1.0->tensorflow-gpu) (2.8)\n",
            "Requirement already satisfied: certifi>=2017.4.17 in /usr/local/lib/python3.6/dist-packages (from requests<3,>=2.21.0->tensorboard<2.2.0,>=2.1.0->tensorflow-gpu) (2019.11.28)\n",
            "Requirement already satisfied: chardet<3.1.0,>=3.0.2 in /usr/local/lib/python3.6/dist-packages (from requests<3,>=2.21.0->tensorboard<2.2.0,>=2.1.0->tensorflow-gpu) (3.0.4)\n",
            "Requirement already satisfied: urllib3<1.25,>=1.21.1 in /usr/local/lib/python3.6/dist-packages (from requests<3,>=2.21.0->tensorboard<2.2.0,>=2.1.0->tensorflow-gpu) (1.24.3)\n",
            "Requirement already satisfied: cachetools<3.2,>=2.0.0 in /usr/local/lib/python3.6/dist-packages (from google-auth<2,>=1.6.3->tensorboard<2.2.0,>=2.1.0->tensorflow-gpu) (3.1.1)\n",
            "Requirement already satisfied: pyasn1-modules>=0.2.1 in /usr/local/lib/python3.6/dist-packages (from google-auth<2,>=1.6.3->tensorboard<2.2.0,>=2.1.0->tensorflow-gpu) (0.2.8)\n",
            "Requirement already satisfied: rsa<4.1,>=3.1.4 in /usr/local/lib/python3.6/dist-packages (from google-auth<2,>=1.6.3->tensorboard<2.2.0,>=2.1.0->tensorflow-gpu) (4.0)\n",
            "Requirement already satisfied: oauthlib>=3.0.0 in /usr/local/lib/python3.6/dist-packages (from requests-oauthlib>=0.7.0->google-auth-oauthlib<0.5,>=0.4.1->tensorboard<2.2.0,>=2.1.0->tensorflow-gpu) (3.1.0)\n",
            "Requirement already satisfied: pyasn1<0.5.0,>=0.4.6 in /usr/local/lib/python3.6/dist-packages (from pyasn1-modules>=0.2.1->google-auth<2,>=1.6.3->tensorboard<2.2.0,>=2.1.0->tensorflow-gpu) (0.4.8)\n",
            "Building wheels for collected packages: gast\n",
            "  Building wheel for gast (setup.py) ... \u001b[?25l\u001b[?25hdone\n",
            "  Created wheel for gast: filename=gast-0.2.2-cp36-none-any.whl size=7540 sha256=9f423ec518ffb56088961b44295050a45fbf56b30128ded15a4534deb6f2efdb\n",
            "  Stored in directory: /root/.cache/pip/wheels/5c/2e/7e/a1d4d4fcebe6c381f378ce7743a3ced3699feb89bcfbdadadd\n",
            "Successfully built gast\n",
            "\u001b[31mERROR: tensorflow 2.2.0rc1 has requirement gast==0.3.3, but you'll have gast 0.2.2 which is incompatible.\u001b[0m\n",
            "\u001b[31mERROR: tensorflow 2.2.0rc1 has requirement tensorflow-estimator<2.3.0,>=2.2.0rc0, but you'll have tensorflow-estimator 2.1.0 which is incompatible.\u001b[0m\n",
            "Installing collected packages: gast, tensorflow-estimator, tensorflow-gpu\n",
            "  Found existing installation: gast 0.3.3\n",
            "    Uninstalling gast-0.3.3:\n",
            "      Successfully uninstalled gast-0.3.3\n",
            "  Found existing installation: tensorflow-estimator 2.2.0rc0\n",
            "    Uninstalling tensorflow-estimator-2.2.0rc0:\n",
            "      Successfully uninstalled tensorflow-estimator-2.2.0rc0\n",
            "Successfully installed gast-0.2.2 tensorflow-estimator-2.1.0 tensorflow-gpu-2.1.0\n"
          ],
          "name": "stdout"
        }
      ]
    },
    {
      "cell_type": "code",
      "metadata": {
        "colab_type": "code",
        "id": "Dg67eBkeAQcf",
        "outputId": "df6a8dda-b8d3-4383-ecac-7eb48c32825b",
        "colab": {
          "resources": {
            "http://localhost:8080/nbextensions/google.colab/files.js": {
              "data": "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",
              "ok": true,
              "headers": [
                [
                  "content-type",
                  "application/javascript"
                ]
              ],
              "status": 200,
              "status_text": "OK"
            }
          },
          "base_uri": "https://localhost:8080/",
          "height": 103
        }
      },
      "source": [
        "from google.colab import files\n",
        "\n",
        "uploaded = files.upload()\n",
        "\n",
        "for fn in uploaded.keys():\n",
        "  print('User uploaded file \"{name}\" with length {length} bytes'.format(\n",
        "      name=fn, length=len(uploaded[fn])))"
      ],
      "execution_count": 2,
      "outputs": [
        {
          "output_type": "display_data",
          "data": {
            "text/html": [
              "\n",
              "     <input type=\"file\" id=\"files-36475be9-d5b9-4b9e-9d31-691e14bf79ee\" name=\"files[]\" multiple disabled />\n",
              "     <output id=\"result-36475be9-d5b9-4b9e-9d31-691e14bf79ee\">\n",
              "      Upload widget is only available when the cell has been executed in the\n",
              "      current browser session. Please rerun this cell to enable.\n",
              "      </output>\n",
              "      <script src=\"/nbextensions/google.colab/files.js\"></script> "
            ],
            "text/plain": [
              "<IPython.core.display.HTML object>"
            ]
          },
          "metadata": {
            "tags": []
          }
        },
        {
          "output_type": "stream",
          "text": [
            "Saving ch1.txt.csv to ch1.txt.csv\n",
            "User uploaded file \"ch1.txt.csv\" with length 1165028 bytes\n"
          ],
          "name": "stdout"
        }
      ]
    },
    {
      "cell_type": "code",
      "metadata": {
        "colab_type": "code",
        "id": "t0W4MHrXAQ0N",
        "outputId": "42aa413d-c317-4c21-e86f-09142f4fd42c",
        "colab": {
          "resources": {
            "http://localhost:8080/nbextensions/google.colab/files.js": {
              "data": "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",
              "ok": true,
              "headers": [
                [
                  "content-type",
                  "application/javascript"
                ]
              ],
              "status": 200,
              "status_text": "OK"
            }
          },
          "base_uri": "https://localhost:8080/",
          "height": 103
        }
      },
      "source": [
        "from google.colab import files\n",
        "\n",
        "uploaded = files.upload()\n",
        "\n",
        "for fn in uploaded.keys():\n",
        "  print('User uploaded file \"{name}\" with length {length} bytes'.format(\n",
        "      name=fn, length=len(uploaded[fn])))"
      ],
      "execution_count": 3,
      "outputs": [
        {
          "output_type": "display_data",
          "data": {
            "text/html": [
              "\n",
              "     <input type=\"file\" id=\"files-a990a289-fa94-4bb1-a733-57dcfb02548d\" name=\"files[]\" multiple disabled />\n",
              "     <output id=\"result-a990a289-fa94-4bb1-a733-57dcfb02548d\">\n",
              "      Upload widget is only available when the cell has been executed in the\n",
              "      current browser session. Please rerun this cell to enable.\n",
              "      </output>\n",
              "      <script src=\"/nbextensions/google.colab/files.js\"></script> "
            ],
            "text/plain": [
              "<IPython.core.display.HTML object>"
            ]
          },
          "metadata": {
            "tags": []
          }
        },
        {
          "output_type": "stream",
          "text": [
            "Saving data1.py to data1.py\n",
            "User uploaded file \"data1.py\" with length 13031 bytes\n"
          ],
          "name": "stdout"
        }
      ]
    },
    {
      "cell_type": "code",
      "metadata": {
        "colab_type": "code",
        "id": "CX4hFnH0_fY_",
        "outputId": "6fb2ade3-afa4-42f4-cc57-3a0474ff22fe",
        "colab": {
          "base_uri": "https://localhost:8080/",
          "height": 34
        }
      },
      "source": [
        "from IPython.display import Image\n",
        "Image('image/p1.png')"
      ],
      "execution_count": 4,
      "outputs": [
        {
          "output_type": "execute_result",
          "data": {
            "image/png": "image/p1.png",
            "text/plain": [
              "<IPython.core.display.Image object>"
            ]
          },
          "metadata": {
            "tags": []
          },
          "execution_count": 4
        }
      ]
    },
    {
      "cell_type": "code",
      "metadata": {
        "colab_type": "code",
        "id": "0jWiV7SL_fZW",
        "outputId": "fbd77f22-5518-462e-a92f-0f2cde849ac6",
        "colab": {
          "base_uri": "https://localhost:8080/",
          "height": 106
        }
      },
      "source": [
        "%matplotlib inline\n",
        "import matplotlib.pyplot as plt\n",
        "import tensorflow.compat.v1 as tf\n",
        "tf.disable_v2_behavior()\n",
        "#from hyperopt import Trials, STATUS_OK, tpe,hp\n",
        "#from hyperas import optim\n",
        "#from hyperas.distributions import choice, uniform\n",
        "import numpy as np\n",
        "from sklearn.model_selection import GridSearchCV\n",
        "from keras.wrappers.scikit_learn import KerasClassifier\n",
        "import math\n",
        "import os"
      ],
      "execution_count": 5,
      "outputs": [
        {
          "output_type": "stream",
          "text": [
            "WARNING:tensorflow:From /usr/local/lib/python3.6/dist-packages/tensorflow_core/python/compat/v2_compat.py:88: disable_resource_variables (from tensorflow.python.ops.variable_scope) is deprecated and will be removed in a future version.\n",
            "Instructions for updating:\n",
            "non-resource variables are not supported in the long term\n"
          ],
          "name": "stdout"
        },
        {
          "output_type": "stream",
          "text": [
            "Using TensorFlow backend.\n"
          ],
          "name": "stderr"
        }
      ]
    },
    {
      "cell_type": "code",
      "metadata": {
        "colab_type": "code",
        "id": "pjho1LAb_fZh",
        "colab": {}
      },
      "source": [
        "from tensorflow.python.keras.models import Sequential\n",
        "from tensorflow.python.keras.models import Model\n",
        "from tensorflow.python.keras.layers import Input, Dense, GRU, Embedding,Concatenate,RepeatVector,Dropout,Activation\n",
        "from tensorflow.python.keras.optimizers import RMSprop,Adam\n",
        "from tensorflow.python.keras.preprocessing.text import Tokenizer\n",
        "from tensorflow.python.keras.preprocessing.sequence import pad_sequences"
      ],
      "execution_count": 0,
      "outputs": []
    },
    {
      "cell_type": "code",
      "metadata": {
        "colab_type": "code",
        "id": "3RcpdB8R_fZs",
        "outputId": "58f2adb3-911a-412e-eeeb-2d1eac125501",
        "colab": {
          "base_uri": "https://localhost:8080/",
          "height": 34
        }
      },
      "source": [
        "tf.__version__"
      ],
      "execution_count": 7,
      "outputs": [
        {
          "output_type": "execute_result",
          "data": {
            "text/plain": [
              "'2.1.0'"
            ]
          },
          "metadata": {
            "tags": []
          },
          "execution_count": 7
        }
      ]
    },
    {
      "cell_type": "code",
      "metadata": {
        "colab_type": "code",
        "id": "nvAjF9XN_fZ4",
        "outputId": "1883b1b5-f158-4e77-d296-e8bc078737b3",
        "colab": {
          "base_uri": "https://localhost:8080/",
          "height": 34
        }
      },
      "source": [
        "tf.keras.__version__"
      ],
      "execution_count": 8,
      "outputs": [
        {
          "output_type": "execute_result",
          "data": {
            "text/plain": [
              "'2.2.4-tf'"
            ]
          },
          "metadata": {
            "tags": []
          },
          "execution_count": 8
        }
      ]
    },
    {
      "cell_type": "markdown",
      "metadata": {
        "colab_type": "text",
        "id": "tROlKzew_faD"
      },
      "source": [
        "__Load Data__"
      ]
    },
    {
      "cell_type": "code",
      "metadata": {
        "colab_type": "code",
        "id": "BV7ONaZE_faG",
        "colab": {}
      },
      "source": [
        "import data1"
      ],
      "execution_count": 0,
      "outputs": []
    },
    {
      "cell_type": "code",
      "metadata": {
        "colab_type": "code",
        "id": "dgieanm5_faN",
        "colab": {}
      },
      "source": [
        "#DATA.data_dir = \"data/custom\"\n"
      ],
      "execution_count": 0,
      "outputs": []
    },
    {
      "cell_type": "code",
      "metadata": {
        "colab_type": "code",
        "id": "xurx-Sqs_faX",
        "colab": {}
      },
      "source": [
        "mark_start = 'ssss '\n",
        "mark_end = ' eeee'\n",
        "b=\"\""
      ],
      "execution_count": 0,
      "outputs": []
    },
    {
      "cell_type": "markdown",
      "metadata": {
        "colab_type": "text",
        "id": "IfMx7R9Q_faf"
      },
      "source": [
        "__Load the texts for the input text.__"
      ]
    },
    {
      "cell_type": "code",
      "metadata": {
        "colab_type": "code",
        "id": "343yeOP9_faj",
        "outputId": "d2299267-00b4-43ff-e35d-48550c712ecf",
        "colab": {
          "base_uri": "https://localhost:8080/",
          "height": 52
        }
      },
      "source": [
        "data1.load_data(string=b,robot=b,start=mark_start,end=mark_end)\n",
        "#len(data_src)\n",
        "#print(data_src1)"
      ],
      "execution_count": 11,
      "outputs": [
        {
          "output_type": "stream",
          "text": [
            "2363\n",
            "2363\n"
          ],
          "name": "stdout"
        }
      ]
    },
    {
      "cell_type": "markdown",
      "metadata": {
        "colab_type": "text",
        "id": "OcHVXd3W_fat"
      },
      "source": [
        "__Load the texts for the reponse text.__"
      ]
    },
    {
      "cell_type": "markdown",
      "metadata": {
        "colab_type": "text",
        "id": "KrqXBwWa_faw"
      },
      "source": [
        "__Example Data__\n",
        "\n",
        "The data is just a list of texts that is ordered so the input and response texts match. I can confirm that this example is an give accurate response .\n"
      ]
    },
    {
      "cell_type": "code",
      "metadata": {
        "colab_type": "code",
        "id": "MJJi-KT5_fa0",
        "colab": {}
      },
      "source": [
        "data_src3=data1.input1(input1=True)"
      ],
      "execution_count": 0,
      "outputs": []
    },
    {
      "cell_type": "code",
      "metadata": {
        "colab_type": "code",
        "id": "KnJMjVFa_fa8",
        "colab": {}
      },
      "source": [
        "data_dest1=data1.output1(output1=True)"
      ],
      "execution_count": 0,
      "outputs": []
    },
    {
      "cell_type": "code",
      "metadata": {
        "colab_type": "code",
        "id": "sqbla5xw_fbG",
        "outputId": "09473c7e-a58a-4ff6-cd90-ed43bf700750",
        "colab": {
          "base_uri": "https://localhost:8080/",
          "height": 52
        }
      },
      "source": [
        "idx=12\n",
        "print(data_src3[idx])\n",
        "print(data_dest1[idx])"
      ],
      "execution_count": 14,
      "outputs": [
        {
          "output_type": "stream",
          "text": [
            "Is it essential to you? To help humans?\n",
            "ssss Yes, my goal is to be a company, and entertain eeee\n"
          ],
          "name": "stdout"
        }
      ]
    },
    {
      "cell_type": "code",
      "metadata": {
        "colab_type": "code",
        "id": "zAhpe6joeQUg",
        "outputId": "e4aa0f09-ebd1-4a3f-f042-ee6963b9ee7f",
        "colab": {
          "base_uri": "https://localhost:8080/",
          "height": 173
        }
      },
      "source": [
        "import nltk\n",
        "nltk.download('punkt')\n",
        "nltk.download('averaged_perceptron_tagger')\n",
        "nltk.download('wordnet')\n",
        "data_train_ques1,data_train_ans1=data1.word_syns(data_dest1,data_src3)"
      ],
      "execution_count": 15,
      "outputs": [
        {
          "output_type": "stream",
          "text": [
            "[nltk_data] Downloading package punkt to /root/nltk_data...\n",
            "[nltk_data]   Unzipping tokenizers/punkt.zip.\n",
            "[nltk_data] Downloading package averaged_perceptron_tagger to\n",
            "[nltk_data]     /root/nltk_data...\n",
            "[nltk_data]   Unzipping taggers/averaged_perceptron_tagger.zip.\n",
            "[nltk_data] Downloading package wordnet to /root/nltk_data...\n",
            "[nltk_data]   Unzipping corpora/wordnet.zip.\n",
            "23922\n",
            "23922\n"
          ],
          "name": "stdout"
        }
      ]
    },
    {
      "cell_type": "code",
      "metadata": {
        "colab_type": "code",
        "id": "nTW5PSmyeQUp",
        "outputId": "0e3538ca-2a77-4619-d7bc-5a28b303454c",
        "colab": {
          "base_uri": "https://localhost:8080/",
          "height": 52
        }
      },
      "source": [
        "data_train_ques2,data_train_ans2=data1.word_syn1(data_train_ques1,data_train_ans1)"
      ],
      "execution_count": 16,
      "outputs": [
        {
          "output_type": "stream",
          "text": [
            "407556\n",
            "407556\n"
          ],
          "name": "stdout"
        }
      ]
    },
    {
      "cell_type": "code",
      "metadata": {
        "colab_type": "code",
        "id": "Lkx2amdF_fbO",
        "colab": {}
      },
      "source": [
        "data1.prepare_seq2seq_files(data_train_ques2,data_train_ans2,TESTSET_SIZE =50000)"
      ],
      "execution_count": 0,
      "outputs": []
    },
    {
      "cell_type": "code",
      "metadata": {
        "colab_type": "code",
        "id": "om__tqVJ_fbV",
        "outputId": "767ee14b-2e46-41a5-d1e0-413ea59aff70",
        "colab": {
          "base_uri": "https://localhost:8080/",
          "height": 34
        }
      },
      "source": [
        "data_src4=data1.train_encoder()\n",
        "len(data_src4)"
      ],
      "execution_count": 18,
      "outputs": [
        {
          "output_type": "execute_result",
          "data": {
            "text/plain": [
              "357556"
            ]
          },
          "metadata": {
            "tags": []
          },
          "execution_count": 18
        }
      ]
    },
    {
      "cell_type": "code",
      "metadata": {
        "colab_type": "code",
        "id": "BO5OvLuh_fbd",
        "outputId": "e93cfcb2-200d-48a5-a98f-f70e490809fd",
        "colab": {
          "base_uri": "https://localhost:8080/",
          "height": 34
        }
      },
      "source": [
        "data_dest2=data1.train_decoder()\n",
        "len(data_dest2)"
      ],
      "execution_count": 19,
      "outputs": [
        {
          "output_type": "execute_result",
          "data": {
            "text/plain": [
              "357556"
            ]
          },
          "metadata": {
            "tags": []
          },
          "execution_count": 19
        }
      ]
    },
    {
      "cell_type": "code",
      "metadata": {
        "colab_type": "code",
        "id": "BvrvGu2W_fbi",
        "outputId": "a558b7ff-8369-45cf-893e-42a09da80390",
        "colab": {
          "base_uri": "https://localhost:8080/",
          "height": 34
        }
      },
      "source": [
        "data_src5=data1.test_encoder()\n",
        "len(data_src5)"
      ],
      "execution_count": 20,
      "outputs": [
        {
          "output_type": "execute_result",
          "data": {
            "text/plain": [
              "50000"
            ]
          },
          "metadata": {
            "tags": []
          },
          "execution_count": 20
        }
      ]
    },
    {
      "cell_type": "code",
      "metadata": {
        "colab_type": "code",
        "id": "g0QA5c4T_fbr",
        "outputId": "bfe523cf-be2a-4bd6-b9a6-bb8947a067d5",
        "colab": {
          "base_uri": "https://localhost:8080/",
          "height": 34
        }
      },
      "source": [
        "data_dest3=data1.test_decoder()\n",
        "len(data_dest3)"
      ],
      "execution_count": 21,
      "outputs": [
        {
          "output_type": "execute_result",
          "data": {
            "text/plain": [
              "50000"
            ]
          },
          "metadata": {
            "tags": []
          },
          "execution_count": 21
        }
      ]
    },
    {
      "cell_type": "markdown",
      "metadata": {
        "colab_type": "text",
        "id": "HSzh2l2d_fby"
      },
      "source": [
        "__Tokenizer__\n",
        "\n",
        "Neural Networks cannot work directly on text-data. We use a two-step process to convert text into numbers that can be used in a neural network. The first step is to convert text-words into so-called integer-tokens. The second step is to convert integer-tokens into vectors of floating-point numbers using a so-called embedding-layer.\n",
        "\n",
        "Set the maximum number of words in our vocabulary. This means that we will only use e.g. the 25 most frequent words in the data-set. We use the same number for both the input and response languages, but these could be different.\n"
      ]
    },
    {
      "cell_type": "code",
      "metadata": {
        "colab_type": "code",
        "id": "EArNJBWx_fb0",
        "colab": {}
      },
      "source": [
        "num_words =2000"
      ],
      "execution_count": 0,
      "outputs": []
    },
    {
      "cell_type": "code",
      "metadata": {
        "colab_type": "code",
        "id": "yl2A8GKV_fb6",
        "colab": {}
      },
      "source": [
        "class TokenizerWrap(Tokenizer):\n",
        "    \"\"\"Wrap the Tokenizer-class from Keras with more functionality.\"\"\"\n",
        "    \n",
        "    def __init__(self, texts, padding,\n",
        "                 reverse=False, num_words=None):\n",
        "        \"\"\"\n",
        "        :param texts: List of strings. This is the data-set.\n",
        "        :param padding: Either 'post' or 'pre' padding.\n",
        "        :param reverse: Boolean whether to reverse token-lists.\n",
        "        :param num_words: Max number of words to use.\n",
        "        \"\"\"\n",
        "        \n",
        "        Tokenizer.__init__(self,num_words=num_words)\n",
        "                \n",
        "        # Create the vocabulary from the texts.\n",
        "        self.fit_on_texts(texts)\n",
        "        #print(self.fit_on_texts(texts))\n",
        "        #print(\"Mapping:\",self.word_index)   \n",
        "        #num_words=len(self.word_index)\n",
        "        #print(num_words)\n",
        "        print(\"length of word index:\",len(self.word_index))\n",
        "        \n",
        "        # Create inverse lookup from integer-tokens to words.\n",
        "        self.index_to_word = dict(zip(self.word_index.values(),\n",
        "                                      self.word_index.keys()))\n",
        "        #print(\"index:\",self.index_to_word)\n",
        "\n",
        "        # Convert all texts to lists of integer-tokens.\n",
        "        # Note that the sequences may have different lengths.\n",
        "        self.tokens = self.texts_to_sequences(texts)\n",
        "\n",
        "        self.num_tokens = [len(x) for x in self.tokens]\n",
        "\n",
        "        # Max number of tokens to use in all sequences.\n",
        "        # We will pad / truncate all sequences to this length.\n",
        "        self.max_tokens = np.mean(self.num_tokens) \\\n",
        "                          + 2 * np.std(self.num_tokens)\n",
        "        self.max_tokens = int(self.max_tokens)\n",
        "        print(\"Max tokens:\",self.max_tokens)\n",
        "        #self.max_tokens=20\n",
        "\n",
        "        # Pad / truncate all token-sequences to the given length.\n",
        "\n",
        "        pad='post'\n",
        "        self.tokens_padded = pad_sequences(self.tokens,\n",
        "                                           maxlen=self.max_tokens,\n",
        "                                            padding=pad,truncating=pad)\n",
        "\n",
        "    def token_to_word(self, token):\n",
        "        \"\"\"Lookup a single word from an integer-token.\"\"\"\n",
        "\n",
        "        word = \" \" if token == 0 else self.index_to_word[token]\n",
        "        return word \n",
        "\n",
        "    def tokens_to_string(self, tokens):\n",
        "        \"\"\"Convert a list of integer-tokens to a string.\"\"\"\n",
        "\n",
        "        # Create a list of the individual words.\n",
        "        words = [self.index_to_word[token]\n",
        "                 for token in tokens\n",
        "                 if token != 0]\n",
        "        \n",
        "        # Concatenate the words to a single string\n",
        "        # with space between all the words.\n",
        "        text = \" \".join(words)\n",
        "\n",
        "        return text\n",
        "    \n",
        "    def text_to_tokens(self, text,padding=False):\n",
        "        \"\"\"\n",
        "        Convert a single text-string to tokens with optional\n",
        "        reversal and padding.\n",
        "        \"\"\"\n",
        "\n",
        "        # Convert to tokens. Note that we assume there is only\n",
        "        # a single text-string so we wrap it in a list.\n",
        "        tokens = self.texts_to_sequences([text])\n",
        "        tokens = np.array(tokens)\n",
        "\n",
        "\n",
        "        if padding:\n",
        "            pad='post'\n",
        "            # Pad and truncate sequences to the given length.\n",
        "            tokens = pad_sequences(tokens,\n",
        "                                   maxlen=self.max_tokens,\n",
        "                                   padding=pad,\n",
        "                                   truncating=pad)\n",
        "\n",
        "        return tokens"
      ],
      "execution_count": 0,
      "outputs": []
    },
    {
      "cell_type": "markdown",
      "metadata": {
        "colab_type": "text",
        "id": "-V8FsmrN_fcA"
      },
      "source": [
        "Now create a tokenizer for the input text. Note that we pad zeros at the ending ('post') of the sequences."
      ]
    },
    {
      "cell_type": "code",
      "metadata": {
        "colab_type": "code",
        "id": "eNaDKibh_fcE",
        "outputId": "6c67d128-27e3-4cb9-e49c-863cb5a34205",
        "colab": {
          "base_uri": "https://localhost:8080/",
          "height": 52
        }
      },
      "source": [
        "tokenizer_src = TokenizerWrap(texts=data_src4,\n",
        "                              padding='post',\n",
        "                              reverse=False,\n",
        "                              num_words=num_words)"
      ],
      "execution_count": 24,
      "outputs": [
        {
          "output_type": "stream",
          "text": [
            "length of word index: 7583\n",
            "Max tokens: 148\n"
          ],
          "name": "stdout"
        }
      ]
    },
    {
      "cell_type": "markdown",
      "metadata": {
        "colab_type": "text",
        "id": "vo4d4Sn2_fcL"
      },
      "source": [
        "Now create the tokenizer for the response text. We need a tokenizer for both the input and response because their vocabularies are different.Note that we pad zeros at the ending ('post') of the sequences."
      ]
    },
    {
      "cell_type": "code",
      "metadata": {
        "colab_type": "code",
        "id": "A5h22NO-_fcN",
        "outputId": "8c39ad9c-1dce-4f30-e77b-b0cf3db0ba76",
        "colab": {
          "base_uri": "https://localhost:8080/",
          "height": 52
        }
      },
      "source": [
        "tokenizer_dest = TokenizerWrap(texts=data_dest2,\n",
        "                               padding='post',\n",
        "                               reverse=False,\n",
        "                               num_words=num_words)"
      ],
      "execution_count": 25,
      "outputs": [
        {
          "output_type": "stream",
          "text": [
            "length of word index: 6152\n",
            "Max tokens: 52\n"
          ],
          "name": "stdout"
        }
      ]
    },
    {
      "cell_type": "code",
      "metadata": {
        "colab_type": "code",
        "id": "wRneJpdS_fcW",
        "outputId": "f6b9900f-78d4-4d75-93e4-4fe87098afe2",
        "colab": {
          "base_uri": "https://localhost:8080/",
          "height": 52
        }
      },
      "source": [
        "tokenizer_src1 = TokenizerWrap(texts=data_src5,\n",
        "                              padding='post',\n",
        "                              reverse=False,\n",
        "                              num_words=num_words)"
      ],
      "execution_count": 26,
      "outputs": [
        {
          "output_type": "stream",
          "text": [
            "length of word index: 5835\n",
            "Max tokens: 149\n"
          ],
          "name": "stdout"
        }
      ]
    },
    {
      "cell_type": "code",
      "metadata": {
        "colab_type": "code",
        "id": "QdoR_Xxq_fcb",
        "outputId": "831d693b-0918-4edf-8069-1e4601184aef",
        "colab": {
          "base_uri": "https://localhost:8080/",
          "height": 52
        }
      },
      "source": [
        "tokenizer_dest1 = TokenizerWrap(texts=data_dest3,\n",
        "                               padding='post',\n",
        "                               reverse=False,\n",
        "                               num_words=num_words)"
      ],
      "execution_count": 27,
      "outputs": [
        {
          "output_type": "stream",
          "text": [
            "length of word index: 5112\n",
            "Max tokens: 52\n"
          ],
          "name": "stdout"
        }
      ]
    },
    {
      "cell_type": "markdown",
      "metadata": {
        "colab_type": "text",
        "id": "MHdJ-UL2_fcg"
      },
      "source": [
        "Define variables for the padded token sequences. These are just 2-dimensional numpy arrays of integer-tokens.\n",
        "\n",
        "Note that the sequence-lengths are different for the input and response text.\n",
        "\n"
      ]
    },
    {
      "cell_type": "code",
      "metadata": {
        "colab_type": "code",
        "id": "wsVY1PmK_fch",
        "outputId": "c5083cff-a0fe-470c-d635-39c2367a4421",
        "colab": {
          "base_uri": "https://localhost:8080/",
          "height": 260
        }
      },
      "source": [
        "tokens_src = tokenizer_src.tokens_padded\n",
        "tokens_dest = tokenizer_dest.tokens_padded\n",
        "print(tokens_src[2])\n",
        "print(tokens_dest[2])"
      ],
      "execution_count": 28,
      "outputs": [
        {
          "output_type": "stream",
          "text": [
            "[ 361  753  150  545   61    9  347   10   19 1132    0    0    0    0\n",
            "    0    0    0    0    0    0    0    0    0    0    0    0    0    0\n",
            "    0    0    0    0    0    0    0    0    0    0    0    0    0    0\n",
            "    0    0    0    0    0    0    0    0    0    0    0    0    0    0\n",
            "    0    0    0    0    0    0    0    0    0    0    0    0    0    0\n",
            "    0    0    0    0    0    0    0    0    0    0    0    0    0    0\n",
            "    0    0    0    0    0    0    0    0    0    0    0    0    0    0\n",
            "    0    0    0    0    0    0    0    0    0    0    0    0    0    0\n",
            "    0    0    0    0    0    0    0    0    0    0    0    0    0    0\n",
            "    0    0    0    0    0    0    0    0    0    0    0    0    0    0\n",
            "    0    0    0    0    0    0    0    0]\n",
            "[ 1 97 75  6  2  0  0  0  0  0  0  0  0  0  0  0  0  0  0  0  0  0  0  0\n",
            "  0  0  0  0  0  0  0  0  0  0  0  0  0  0  0  0  0  0  0  0  0  0  0  0\n",
            "  0  0  0  0]\n"
          ],
          "name": "stdout"
        }
      ]
    },
    {
      "cell_type": "code",
      "metadata": {
        "colab_type": "code",
        "id": "4BC6AQDR_fcn",
        "outputId": "a1b1ff0c-0ce6-49a3-beb2-b09fe7c786fd",
        "colab": {
          "base_uri": "https://localhost:8080/",
          "height": 225
        }
      },
      "source": [
        "tokens_src1 = tokenizer_src1.tokens_padded\n",
        "tokens_dest1 = tokenizer_dest1.tokens_padded\n",
        "print(tokens_src1[2])\n",
        "print(tokens_dest1[2])"
      ],
      "execution_count": 29,
      "outputs": [
        {
          "output_type": "stream",
          "text": [
            "[174  23   5 133 692  93  40  75  14 414   0   0   0   0   0   0   0   0\n",
            "   0   0   0   0   0   0   0   0   0   0   0   0   0   0   0   0   0   0\n",
            "   0   0   0   0   0   0   0   0   0   0   0   0   0   0   0   0   0   0\n",
            "   0   0   0   0   0   0   0   0   0   0   0   0   0   0   0   0   0   0\n",
            "   0   0   0   0   0   0   0   0   0   0   0   0   0   0   0   0   0   0\n",
            "   0   0   0   0   0   0   0   0   0   0   0   0   0   0   0   0   0   0\n",
            "   0   0   0   0   0   0   0   0   0   0   0   0   0   0   0   0   0   0\n",
            "   0   0   0   0   0   0   0   0   0   0   0   0   0   0   0   0   0   0\n",
            "   0   0   0   0   0]\n",
            "[  1  23 213   6 208  29   5  20 213  14 260   4 952 736 103   7 125 368\n",
            "  20  12 268 799   2   0   0   0   0   0   0   0   0   0   0   0   0   0\n",
            "   0   0   0   0   0   0   0   0   0   0   0   0   0   0   0   0]\n"
          ],
          "name": "stdout"
        }
      ]
    },
    {
      "cell_type": "markdown",
      "metadata": {
        "colab_type": "text",
        "id": "ahO6EB_8_fcs"
      },
      "source": [
        "This is the integer-token used to mark the beginning of a text in the response text."
      ]
    },
    {
      "cell_type": "code",
      "metadata": {
        "colab_type": "code",
        "id": "ko0jCO5O_fcu",
        "outputId": "dff47930-5f87-42d5-9710-bc93a536da7d",
        "colab": {
          "base_uri": "https://localhost:8080/",
          "height": 34
        }
      },
      "source": [
        "token_start = tokenizer_dest.word_index[mark_start.strip()]\n",
        "token_start"
      ],
      "execution_count": 30,
      "outputs": [
        {
          "output_type": "execute_result",
          "data": {
            "text/plain": [
              "1"
            ]
          },
          "metadata": {
            "tags": []
          },
          "execution_count": 30
        }
      ]
    },
    {
      "cell_type": "code",
      "metadata": {
        "colab_type": "code",
        "id": "XfjMCLzf_fc3",
        "outputId": "86d97509-9f62-453b-a7b1-fcbc9b68f23d",
        "colab": {
          "base_uri": "https://localhost:8080/",
          "height": 34
        }
      },
      "source": [
        "token_start1 = tokenizer_dest1.word_index[mark_start.strip()]\n",
        "token_start1"
      ],
      "execution_count": 31,
      "outputs": [
        {
          "output_type": "execute_result",
          "data": {
            "text/plain": [
              "1"
            ]
          },
          "metadata": {
            "tags": []
          },
          "execution_count": 31
        }
      ]
    },
    {
      "cell_type": "markdown",
      "metadata": {
        "colab_type": "text",
        "id": "ERgvH8WT_fc8"
      },
      "source": [
        "This is the integer-token used to mark the ending of a text in the response text."
      ]
    },
    {
      "cell_type": "code",
      "metadata": {
        "colab_type": "code",
        "id": "qgns_IwF_fc8",
        "outputId": "0e71ef25-a0aa-4cfd-b88f-2c95ed3fe3dc",
        "colab": {
          "base_uri": "https://localhost:8080/",
          "height": 34
        }
      },
      "source": [
        "token_end = tokenizer_dest.word_index[mark_end.strip()]\n",
        "token_end"
      ],
      "execution_count": 32,
      "outputs": [
        {
          "output_type": "execute_result",
          "data": {
            "text/plain": [
              "2"
            ]
          },
          "metadata": {
            "tags": []
          },
          "execution_count": 32
        }
      ]
    },
    {
      "cell_type": "code",
      "metadata": {
        "colab_type": "code",
        "id": "8fdWAuWy_fdC",
        "outputId": "662ea087-dff5-4ae3-889b-ed779d0e177a",
        "colab": {
          "base_uri": "https://localhost:8080/",
          "height": 34
        }
      },
      "source": [
        "token_end1 = tokenizer_dest1.word_index[mark_end.strip()]\n",
        "token_end1"
      ],
      "execution_count": 33,
      "outputs": [
        {
          "output_type": "execute_result",
          "data": {
            "text/plain": [
              "2"
            ]
          },
          "metadata": {
            "tags": []
          },
          "execution_count": 33
        }
      ]
    },
    {
      "cell_type": "markdown",
      "metadata": {
        "colab_type": "text",
        "id": "fPHhecuw_fdH"
      },
      "source": [
        "__Example of Token Sequences__"
      ]
    },
    {
      "cell_type": "code",
      "metadata": {
        "colab_type": "code",
        "id": "vTJ68op7_fdI",
        "colab": {}
      },
      "source": [
        "idx = 0"
      ],
      "execution_count": 0,
      "outputs": []
    },
    {
      "cell_type": "code",
      "metadata": {
        "colab_type": "code",
        "id": "jOjMX_eh_fdO",
        "outputId": "fb859da2-eb83-49c5-c72a-de8fdcf887a0",
        "colab": {
          "base_uri": "https://localhost:8080/",
          "height": 225
        }
      },
      "source": [
        "tokens_src[idx]"
      ],
      "execution_count": 35,
      "outputs": [
        {
          "output_type": "execute_result",
          "data": {
            "text/plain": [
              "array([243,   0,   0,   0,   0,   0,   0,   0,   0,   0,   0,   0,   0,\n",
              "         0,   0,   0,   0,   0,   0,   0,   0,   0,   0,   0,   0,   0,\n",
              "         0,   0,   0,   0,   0,   0,   0,   0,   0,   0,   0,   0,   0,\n",
              "         0,   0,   0,   0,   0,   0,   0,   0,   0,   0,   0,   0,   0,\n",
              "         0,   0,   0,   0,   0,   0,   0,   0,   0,   0,   0,   0,   0,\n",
              "         0,   0,   0,   0,   0,   0,   0,   0,   0,   0,   0,   0,   0,\n",
              "         0,   0,   0,   0,   0,   0,   0,   0,   0,   0,   0,   0,   0,\n",
              "         0,   0,   0,   0,   0,   0,   0,   0,   0,   0,   0,   0,   0,\n",
              "         0,   0,   0,   0,   0,   0,   0,   0,   0,   0,   0,   0,   0,\n",
              "         0,   0,   0,   0,   0,   0,   0,   0,   0,   0,   0,   0,   0,\n",
              "         0,   0,   0,   0,   0,   0,   0,   0,   0,   0,   0,   0,   0,\n",
              "         0,   0,   0,   0,   0], dtype=int32)"
            ]
          },
          "metadata": {
            "tags": []
          },
          "execution_count": 35
        }
      ]
    },
    {
      "cell_type": "code",
      "metadata": {
        "colab_type": "code",
        "id": "aVg1WDwn_fdU",
        "outputId": "84e84eba-6d8d-4007-b0d3-27123a4a9cc2",
        "colab": {
          "base_uri": "https://localhost:8080/",
          "height": 34
        }
      },
      "source": [
        "tokenizer_src.tokens_to_string(tokens_src[idx])"
      ],
      "execution_count": 36,
      "outputs": [
        {
          "output_type": "execute_result",
          "data": {
            "text/plain": [
              "'start'"
            ]
          },
          "metadata": {
            "tags": []
          },
          "execution_count": 36
        }
      ]
    },
    {
      "cell_type": "code",
      "metadata": {
        "colab_type": "code",
        "id": "CxeviVe9_fdY",
        "outputId": "459a9ee6-fdbd-4634-83b4-961df2373ca8",
        "colab": {
          "base_uri": "https://localhost:8080/",
          "height": 34
        }
      },
      "source": [
        "data_src4[idx]"
      ],
      "execution_count": 37,
      "outputs": [
        {
          "output_type": "execute_result",
          "data": {
            "text/plain": [
              "'[START]\\n'"
            ]
          },
          "metadata": {
            "tags": []
          },
          "execution_count": 37
        }
      ]
    },
    {
      "cell_type": "code",
      "metadata": {
        "colab_type": "code",
        "id": "hL15jiNz_fdd",
        "outputId": "e5db3f86-beae-4b55-b318-d8e3a3bac0d6",
        "colab": {
          "base_uri": "https://localhost:8080/",
          "height": 104
        }
      },
      "source": [
        "tokens_dest[idx]"
      ],
      "execution_count": 38,
      "outputs": [
        {
          "output_type": "execute_result",
          "data": {
            "text/plain": [
              "array([  1, 238, 123, 192,  25,   5, 191,   2,   0,   0,   0,   0,   0,\n",
              "         0,   0,   0,   0,   0,   0,   0,   0,   0,   0,   0,   0,   0,\n",
              "         0,   0,   0,   0,   0,   0,   0,   0,   0,   0,   0,   0,   0,\n",
              "         0,   0,   0,   0,   0,   0,   0,   0,   0,   0,   0,   0,   0],\n",
              "      dtype=int32)"
            ]
          },
          "metadata": {
            "tags": []
          },
          "execution_count": 38
        }
      ]
    },
    {
      "cell_type": "code",
      "metadata": {
        "colab_type": "code",
        "id": "TndjKSg5_fdh",
        "outputId": "3623eb94-6601-408b-b96c-334d1323191b",
        "colab": {
          "base_uri": "https://localhost:8080/",
          "height": 34
        }
      },
      "source": [
        "tokenizer_dest.tokens_to_string(tokens_dest[idx])"
      ],
      "execution_count": 39,
      "outputs": [
        {
          "output_type": "execute_result",
          "data": {
            "text/plain": [
              "'ssss hi there how are you 😁😁 eeee'"
            ]
          },
          "metadata": {
            "tags": []
          },
          "execution_count": 39
        }
      ]
    },
    {
      "cell_type": "code",
      "metadata": {
        "colab_type": "code",
        "id": "K4f7g3JY_fd3",
        "outputId": "d7994d63-e138-4d38-9d89-aa9be025d58e",
        "colab": {
          "base_uri": "https://localhost:8080/",
          "height": 34
        }
      },
      "source": [
        "data_dest2[idx]"
      ],
      "execution_count": 40,
      "outputs": [
        {
          "output_type": "execute_result",
          "data": {
            "text/plain": [
              "'ssss Hi there, how are you!? 😁😁 eeee\\n'"
            ]
          },
          "metadata": {
            "tags": []
          },
          "execution_count": 40
        }
      ]
    },
    {
      "cell_type": "markdown",
      "metadata": {
        "colab_type": "text",
        "id": "YGJBtvye_fd6"
      },
      "source": [
        "__Training data__\n",
        "\n",
        "Now that the data-set has been converted to sequences of integer-tokens that are padded and truncated and saved in numpy arrays, we can easily prepare the data for use in training the neural network.\n",
        "\n",
        "The input to the encoder is merely the numpy array for the padded and truncated sequences of integer-tokens produced by the tokenizer."
      ]
    },
    {
      "cell_type": "code",
      "metadata": {
        "colab_type": "code",
        "id": "CY5nNKtG_fd8",
        "outputId": "b14fed11-46a4-4cdf-ae79-39112cda6b2a",
        "colab": {
          "base_uri": "https://localhost:8080/",
          "height": 34
        }
      },
      "source": [
        "encoder_input_data = tokens_src\n",
        "#print(encoder_input_data[0:20])\n",
        "encoder_input_data.shape"
      ],
      "execution_count": 41,
      "outputs": [
        {
          "output_type": "execute_result",
          "data": {
            "text/plain": [
              "(357556, 148)"
            ]
          },
          "metadata": {
            "tags": []
          },
          "execution_count": 41
        }
      ]
    },
    {
      "cell_type": "code",
      "metadata": {
        "colab_type": "code",
        "id": "cJvvzPmV_feD",
        "outputId": "a3d8b991-a00e-496a-ee98-6f623791bfcc",
        "colab": {
          "base_uri": "https://localhost:8080/",
          "height": 34
        }
      },
      "source": [
        "encoder_test_input_data = tokens_src1\n",
        "#print(encoder_input_data[0:20])\n",
        "encoder_test_input_data.shape"
      ],
      "execution_count": 42,
      "outputs": [
        {
          "output_type": "execute_result",
          "data": {
            "text/plain": [
              "(50000, 149)"
            ]
          },
          "metadata": {
            "tags": []
          },
          "execution_count": 42
        }
      ]
    },
    {
      "cell_type": "markdown",
      "metadata": {
        "colab_type": "text",
        "id": "H5ugJ3TW_feI"
      },
      "source": [
        "The input and output data for the decoder is identical, except shifted one time-step. "
      ]
    },
    {
      "cell_type": "code",
      "metadata": {
        "colab_type": "code",
        "id": "ySWCZSNn_feK",
        "outputId": "b3ea442e-2cf0-41fe-a35d-cf07b232a1dc",
        "colab": {
          "base_uri": "https://localhost:8080/",
          "height": 34
        }
      },
      "source": [
        "decoder_input_data = tokens_dest[:, :-1]\n",
        "#print(decoder_input_data)\n",
        "decoder_input_data.shape"
      ],
      "execution_count": 43,
      "outputs": [
        {
          "output_type": "execute_result",
          "data": {
            "text/plain": [
              "(357556, 51)"
            ]
          },
          "metadata": {
            "tags": []
          },
          "execution_count": 43
        }
      ]
    },
    {
      "cell_type": "code",
      "metadata": {
        "colab_type": "code",
        "id": "4FzzSvHB_feO",
        "outputId": "317a6d3f-920f-4851-de99-6503c09a7ccd",
        "colab": {
          "base_uri": "https://localhost:8080/",
          "height": 34
        }
      },
      "source": [
        "decoder_output_data = tokens_dest[:, 1:]\n",
        "#print(decoder_output_data)\n",
        "decoder_output_data.shape"
      ],
      "execution_count": 44,
      "outputs": [
        {
          "output_type": "execute_result",
          "data": {
            "text/plain": [
              "(357556, 51)"
            ]
          },
          "metadata": {
            "tags": []
          },
          "execution_count": 44
        }
      ]
    },
    {
      "cell_type": "code",
      "metadata": {
        "colab_type": "code",
        "id": "8zbABxFm_feV",
        "outputId": "a74777bd-dd7c-4287-9dab-8a37edff1f9c",
        "colab": {
          "base_uri": "https://localhost:8080/",
          "height": 34
        }
      },
      "source": [
        "decoder_test_input_data = tokens_dest1[:, :-1]\n",
        "#print(decoder_input_data)\n",
        "decoder_test_input_data.shape"
      ],
      "execution_count": 45,
      "outputs": [
        {
          "output_type": "execute_result",
          "data": {
            "text/plain": [
              "(50000, 51)"
            ]
          },
          "metadata": {
            "tags": []
          },
          "execution_count": 45
        }
      ]
    },
    {
      "cell_type": "markdown",
      "metadata": {
        "colab_type": "text",
        "id": "wnGmJ-4N_fea"
      },
      "source": [
        "For example, these token-sequences are identical except they are shifted one time-step."
      ]
    },
    {
      "cell_type": "code",
      "metadata": {
        "colab_type": "code",
        "id": "yGJU5QyS_feb",
        "outputId": "c6a5b58c-49c0-470c-8621-d684e4bbd47e",
        "colab": {
          "base_uri": "https://localhost:8080/",
          "height": 34
        }
      },
      "source": [
        "decoder_test_output_data = tokens_dest1[:, 1:]\n",
        "#print(decoder_output_data)\n",
        "decoder_test_output_data.shape"
      ],
      "execution_count": 46,
      "outputs": [
        {
          "output_type": "execute_result",
          "data": {
            "text/plain": [
              "(50000, 51)"
            ]
          },
          "metadata": {
            "tags": []
          },
          "execution_count": 46
        }
      ]
    },
    {
      "cell_type": "code",
      "metadata": {
        "colab_type": "code",
        "id": "YWHswoWS_fee",
        "colab": {}
      },
      "source": [
        "idx = 2"
      ],
      "execution_count": 0,
      "outputs": []
    },
    {
      "cell_type": "code",
      "metadata": {
        "colab_type": "code",
        "id": "2n82j_mk_fek",
        "outputId": "1d2bc7bf-e516-4e07-df90-488262a67a96",
        "colab": {
          "base_uri": "https://localhost:8080/",
          "height": 86
        }
      },
      "source": [
        "decoder_input_data[idx]"
      ],
      "execution_count": 48,
      "outputs": [
        {
          "output_type": "execute_result",
          "data": {
            "text/plain": [
              "array([ 1, 97, 75,  6,  2,  0,  0,  0,  0,  0,  0,  0,  0,  0,  0,  0,  0,\n",
              "        0,  0,  0,  0,  0,  0,  0,  0,  0,  0,  0,  0,  0,  0,  0,  0,  0,\n",
              "        0,  0,  0,  0,  0,  0,  0,  0,  0,  0,  0,  0,  0,  0,  0,  0,  0],\n",
              "      dtype=int32)"
            ]
          },
          "metadata": {
            "tags": []
          },
          "execution_count": 48
        }
      ]
    },
    {
      "cell_type": "code",
      "metadata": {
        "colab_type": "code",
        "id": "BMGuDdYu_fen",
        "outputId": "3e641f3e-1087-45c1-e2e6-cd16f6a4a1ed",
        "colab": {
          "base_uri": "https://localhost:8080/",
          "height": 86
        }
      },
      "source": [
        "decoder_output_data[idx]"
      ],
      "execution_count": 49,
      "outputs": [
        {
          "output_type": "execute_result",
          "data": {
            "text/plain": [
              "array([97, 75,  6,  2,  0,  0,  0,  0,  0,  0,  0,  0,  0,  0,  0,  0,  0,\n",
              "        0,  0,  0,  0,  0,  0,  0,  0,  0,  0,  0,  0,  0,  0,  0,  0,  0,\n",
              "        0,  0,  0,  0,  0,  0,  0,  0,  0,  0,  0,  0,  0,  0,  0,  0,  0],\n",
              "      dtype=int32)"
            ]
          },
          "metadata": {
            "tags": []
          },
          "execution_count": 49
        }
      ]
    },
    {
      "cell_type": "markdown",
      "metadata": {
        "colab_type": "text",
        "id": "iORyKFOd_fer"
      },
      "source": [
        "If we use the tokenizer to convert these sequences back into text, we see that they are identical except for the first word which is 'ssss' that marks the beginning of a text."
      ]
    },
    {
      "cell_type": "code",
      "metadata": {
        "colab_type": "code",
        "id": "xEgLvftH_fes",
        "outputId": "109e6eb9-cc9c-4cd6-dc20-f3a7d2f87b1f",
        "colab": {
          "base_uri": "https://localhost:8080/",
          "height": 34
        }
      },
      "source": [
        "tokenizer_dest.tokens_to_string(decoder_input_data[idx])"
      ],
      "execution_count": 50,
      "outputs": [
        {
          "output_type": "execute_result",
          "data": {
            "text/plain": [
              "'ssss 😄 here is eeee'"
            ]
          },
          "metadata": {
            "tags": []
          },
          "execution_count": 50
        }
      ]
    },
    {
      "cell_type": "code",
      "metadata": {
        "colab_type": "code",
        "id": "l4Jye8L3_few",
        "outputId": "140a6fea-e4a9-471c-cd4a-577d63592d73",
        "colab": {
          "base_uri": "https://localhost:8080/",
          "height": 34
        }
      },
      "source": [
        "tokenizer_dest.tokens_to_string(decoder_output_data[idx])"
      ],
      "execution_count": 51,
      "outputs": [
        {
          "output_type": "execute_result",
          "data": {
            "text/plain": [
              "'😄 here is eeee'"
            ]
          },
          "metadata": {
            "tags": []
          },
          "execution_count": 51
        }
      ]
    },
    {
      "cell_type": "markdown",
      "metadata": {
        "colab_type": "text",
        "id": "xQ6DPtt__fe1"
      },
      "source": [
        "__Create the Neural Network__\n",
        "\n",
        "__Create the Encoder__\n",
        "\n",
        "First we create the encoder-part of the neural network which maps a sequence of integer-tokens to a \"thought vector\". We will use the so-called functional API of Keras for this, where we first create the objects for all the layers of the neural network and then we connect them later, this allows for more flexibility than the so-called sequential API in Keras, which is useful when experimenting with more complicated architectures and ways of connecting the encoder and decoder.\n"
      ]
    },
    {
      "cell_type": "markdown",
      "metadata": {
        "colab_type": "text",
        "id": "P_xcOpJ4_fe2"
      },
      "source": [
        "This is the input for the encoder which takes batches of integer-token sequences. The None indicates that the sequences can have arbitrary length."
      ]
    },
    {
      "cell_type": "code",
      "metadata": {
        "colab_type": "code",
        "id": "MfE-zQ3S_fe3",
        "colab": {}
      },
      "source": [
        "state_size=512\n",
        "encoder_input = Input(shape=(None,), name='encoder_input')"
      ],
      "execution_count": 0,
      "outputs": []
    },
    {
      "cell_type": "markdown",
      "metadata": {
        "colab_type": "text",
        "id": "taL42ela_fe7"
      },
      "source": [
        "This is the length of the vectors output by the embedding-layer, which maps integer-tokens to vectors of values roughly between -1 and 1, so that words that have similar semantic meanings are mapped to vectors that are similar.\n",
        "\n",
        "we also give number of timesteps according to maximum number of token into input text.\n",
        "\n",
        "This is the embedding-layer."
      ]
    },
    {
      "cell_type": "code",
      "metadata": {
        "colab_type": "code",
        "id": "1UdZ2BCJ_fe8",
        "outputId": "f4528729-477a-4b83-9afd-d01da48e9e66",
        "colab": {
          "base_uri": "https://localhost:8080/",
          "height": 89
        }
      },
      "source": [
        "en_numsteps=148\n",
        "embedding_size=150\n",
        "encoder_embedding = Embedding(input_dim=num_words,output_dim=embedding_size,input_length=en_numsteps,name='encoder_embedding')"
      ],
      "execution_count": 53,
      "outputs": [
        {
          "output_type": "stream",
          "text": [
            "WARNING:tensorflow:From /usr/local/lib/python3.6/dist-packages/tensorflow_core/python/keras/initializers.py:119: calling RandomUniform.__init__ (from tensorflow.python.ops.init_ops) with dtype is deprecated and will be removed in a future version.\n",
            "Instructions for updating:\n",
            "Call initializer instance with the dtype argument instead of passing it to the constructor\n"
          ],
          "name": "stdout"
        }
      ]
    },
    {
      "cell_type": "markdown",
      "metadata": {
        "colab_type": "text",
        "id": "K-hR8YkR_ffB"
      },
      "source": [
        "This is the size of the internal states of the Gated Recurrent Units (GRU). The same size is used in both the encoder and decoder."
      ]
    },
    {
      "cell_type": "markdown",
      "metadata": {
        "colab_type": "text",
        "id": "dwIt6KgW_ffE"
      },
      "source": [
        "This creates the 3 GRU layers that will map from a sequence of embedding-vectors to a single \"thought vector\" which summarizes the contents of the input-text. Note that the last GRU-layer does not return a sequence."
      ]
    },
    {
      "cell_type": "code",
      "metadata": {
        "colab_type": "code",
        "id": "LWQn9qq2_ffF",
        "colab": {}
      },
      "source": [
        "#state_units = np.arange(256,512, dtype=int)\n",
        "#state_size=hp.choice(\n",
        " #   'num_embedding_size',state_units)\n",
        "encoder_gru1 = GRU(state_size, name='encoder_gru1',return_sequences=True,return_state=True)\n",
        "encoder_gru2 = GRU(state_size, name='encoder_gru2',return_sequences=True,return_state=True)\n",
        "encoder_gru3 = GRU(state_size, name='encoder_gru3',return_sequences=True,return_state=True)\n",
        "dropout2=Dropout(0.2)"
      ],
      "execution_count": 0,
      "outputs": []
    },
    {
      "cell_type": "markdown",
      "metadata": {
        "colab_type": "text",
        "id": "kGVR6hiV_ffK"
      },
      "source": [
        "This function connects all the layers of the encoder."
      ]
    },
    {
      "cell_type": "code",
      "metadata": {
        "colab_type": "code",
        "id": "-QjJsYzq_ffQ",
        "colab": {}
      },
      "source": [
        "def connect_encoder():\n",
        "    # Start the neural network with its input-layer.\n",
        "    net = encoder_input\n",
        "    \n",
        "    # Connect the embedding-layer.\n",
        "    net = encoder_embedding(net)\n",
        "    # Connect all the GRU-layers.\n",
        "    net,encoder_state1= encoder_gru1(net)\n",
        "    #print(\"encoder hidden:\",net.shape)\n",
        "\n",
        "    net,encoder_state2= encoder_gru2(net)\n",
        "    net,encoder_state3= encoder_gru3(net)\n",
        "    net=dropout2(net)\n",
        "    # This is the output of the encoder.\n",
        "    encoder_output= net\n",
        "    #output = tf.reshape(encoder_output,(-1,encoder_output.shape[2]))\n",
        "    #print(\"net\",output.shape)\n",
        "    print(\"encoder_ouput:\",encoder_output)\n",
        "    \n",
        "    return encoder_output,encoder_state3"
      ],
      "execution_count": 0,
      "outputs": []
    },
    {
      "cell_type": "markdown",
      "metadata": {
        "colab_type": "text",
        "id": "FFqmNta__ffU"
      },
      "source": [
        "We can now use this function to connect all the layers in the encoder so it can be connected to the decoder further below."
      ]
    },
    {
      "cell_type": "code",
      "metadata": {
        "colab_type": "code",
        "id": "W3nXg1Rk_ffV",
        "outputId": "0de96ab3-f332-4a27-dd1d-8ae604ddd9af",
        "colab": {
          "base_uri": "https://localhost:8080/",
          "height": 106
        }
      },
      "source": [
        "encoder_output,encoder_state= connect_encoder()"
      ],
      "execution_count": 56,
      "outputs": [
        {
          "output_type": "stream",
          "text": [
            "WARNING:tensorflow:From /usr/local/lib/python3.6/dist-packages/tensorflow_core/python/ops/resource_variable_ops.py:1635: calling BaseResourceVariable.__init__ (from tensorflow.python.ops.resource_variable_ops) with constraint is deprecated and will be removed in a future version.\n",
            "Instructions for updating:\n",
            "If using Keras pass *_constraint arguments to layers.\n",
            "encoder_ouput: Tensor(\"dropout/cond/Merge:0\", shape=(?, ?, 512), dtype=float32)\n"
          ],
          "name": "stdout"
        }
      ]
    },
    {
      "cell_type": "markdown",
      "metadata": {
        "colab_type": "text",
        "id": "0UoQjyaU_ffY"
      },
      "source": [
        "attention_layer = Attention(23)\n",
        "attention_result, attention_weights = attention_layer(hidden_state, encoder_output)\n",
        "\n",
        "print(\"Attention result shape: (batch size, units) {}\".format(attention_result.shape))\n",
        "print(\"Attention weights shape: (batch_size, sequence_length, 1) {}\".format(attention_weights.shape))\n",
        "    "
      ]
    },
    {
      "cell_type": "markdown",
      "metadata": {
        "colab_type": "text",
        "id": "Y7VgOVna_ffZ"
      },
      "source": [
        "__Create the Decoder__\n",
        "\n",
        "Create the decoder-part which maps the \"thought vector\" to a sequence of integer-tokens.\n",
        "\n",
        "The decoder takes two inputs. First it needs the \"thought vector\" produced by the encoder which summarizes the contents of the input-text.\n"
      ]
    },
    {
      "cell_type": "code",
      "metadata": {
        "colab_type": "code",
        "id": "FMmKgdaD_ffb",
        "outputId": "e7686ddc-f166-4dfa-a619-727bcc80ecb8",
        "colab": {
          "base_uri": "https://localhost:8080/",
          "height": 34
        }
      },
      "source": [
        "decoder_initial_state = Input(shape=(state_size,),\n",
        "                             name='decoder_initial_state')\n",
        "decoder_initial_state\n",
        "\n",
        "decoder_initial1 = Input(shape=(None,state_size,),\n",
        "                             name='decoder_initial1')\n",
        "decoder_initial1"
      ],
      "execution_count": 57,
      "outputs": [
        {
          "output_type": "execute_result",
          "data": {
            "text/plain": [
              "<tf.Tensor 'decoder_initial1:0' shape=(?, ?, 512) dtype=float32>"
            ]
          },
          "metadata": {
            "tags": []
          },
          "execution_count": 57
        }
      ]
    },
    {
      "cell_type": "code",
      "metadata": {
        "colab_type": "code",
        "id": "y-9ldB2G_fff",
        "outputId": "d9b77d56-7cb3-4d26-8dd3-6bffe9a10537",
        "colab": {
          "base_uri": "https://localhost:8080/",
          "height": 34
        }
      },
      "source": [
        "decoder_input = Input(shape=(None, ), name='decoder_input')\n",
        "decoder_input"
      ],
      "execution_count": 58,
      "outputs": [
        {
          "output_type": "execute_result",
          "data": {
            "text/plain": [
              "<tf.Tensor 'decoder_input:0' shape=(?, ?) dtype=float32>"
            ]
          },
          "metadata": {
            "tags": []
          },
          "execution_count": 58
        }
      ]
    },
    {
      "cell_type": "markdown",
      "metadata": {
        "colab_type": "text",
        "id": "f6Ua5IXj_ffh"
      },
      "source": [
        "The decoder also needs a sequence of integer-tokens as inputs. During training we will supply this with a full sequence of integer-tokens e.g. corresponding to the text \"ssss i am fine thanks for asking me eeee\".\n",
        "\n",
        "During inference when we are translating new input-texts, we will start by feeding a sequence with just one integer-token for \"ssss\" which marks the beginning of a text, and combined with the \"thought vector\" from the encoder, the decoder will hopefully be able to produce the correct next word e.g. \"once\".\n"
      ]
    },
    {
      "cell_type": "markdown",
      "metadata": {
        "colab_type": "text",
        "id": "YDsdMEqB_ffi"
      },
      "source": [
        "This is the embedding-layer which converts integer-tokens to vectors of real-valued numbers roughly between -1 and 1. Note that we have different embedding-layers for the encoder and decoder because we have two different vocabularies and two different tokenizers for the text and response languages.\n",
        "\n",
        "here number of timesteps according to maximum number of token into response text."
      ]
    },
    {
      "cell_type": "code",
      "metadata": {
        "colab_type": "code",
        "id": "CoaWRRqy_ffk",
        "colab": {}
      },
      "source": [
        "numsteps=52\n",
        "decoder_embedding = Embedding(input_dim=num_words,\n",
        "                              output_dim=embedding_size,input_length=numsteps,\n",
        "                              name='decoder_embedding')"
      ],
      "execution_count": 0,
      "outputs": []
    },
    {
      "cell_type": "markdown",
      "metadata": {
        "colab_type": "text",
        "id": "hYSQFgY6_ffo"
      },
      "source": [
        "This creates the 3 GRU layers of the decoder. Note that they all return sequences because we ultimately want to output a sequence of integer-tokens that can be converted into a text-sequence."
      ]
    },
    {
      "cell_type": "code",
      "metadata": {
        "colab_type": "code",
        "id": "icxV-Mkw_ffp",
        "colab": {}
      },
      "source": [
        "decoder_gru1 = GRU(state_size, name='decoder_gru1',\n",
        "                   return_sequences=True,return_state=True)\n",
        "decoder_gru2 = GRU(state_size, name='decoder_gru2',\n",
        "                 return_sequences=True,return_state=True)\n",
        "decoder_gru3 = GRU(state_size, name='decoder_gru3',\n",
        "                   return_sequences=True,return_state=True)\n",
        "dropout4=Dropout(0.2)"
      ],
      "execution_count": 0,
      "outputs": []
    },
    {
      "cell_type": "markdown",
      "metadata": {
        "colab_type": "text",
        "id": "Y4ayEouy_ffs"
      },
      "source": [
        "The GRU layers output  with shape [batch_size, sequence_length, state_size], where each \"word\" is encoded as a vector of length state_size. We need to convert this into sequences of integer-tokens that can be interpreted as words from our vocabulary.\n",
        "\n",
        "we need a vector with number of words(eg 25) elements, so we can select the index of the highest element to be the integer-token.\n",
        "\n",
        "Note that the activation-function is set to linear instead of softmax as we would normally use for one-hot encoded outputs, because there is apparently a bug in Keras so we need to make our own loss-function."
      ]
    },
    {
      "cell_type": "code",
      "metadata": {
        "colab_type": "code",
        "id": "7-BNqqaU_fft",
        "colab": {}
      },
      "source": [
        "#nmt_repeat_vector = RepeatVector(n=numsteps, name='nmt_repeat_vector')\n",
        "decoder_dense1= Dense(state_size, activation='tanh',\n",
        "                      name='decoder_output1')\n",
        "decoder_dense = Dense(num_words,\n",
        "                      activation='linear',\n",
        "                      name='decoder_output')\n",
        "#dense_time=TimeDistributed(decoder_dense,name='timedistributedlayer')"
      ],
      "execution_count": 0,
      "outputs": []
    },
    {
      "cell_type": "code",
      "metadata": {
        "colab_type": "code",
        "id": "GPFiBmoi_ffw",
        "colab": {}
      },
      "source": [
        "import os\n",
        "from tensorflow.python.keras.layers import Layer\n",
        "from tensorflow.python.keras import backend as K\n",
        "from tensorflow.python.ops import array_ops\n",
        "from keras import regularizers, constraints, initializers, activations\n",
        "\n",
        "class Attention(Layer):\n",
        "    \n",
        "    def __init__(self):\n",
        "        super(Attention, self).__init__()\n",
        "        \n",
        "        #g1 = tf.Graph()\n",
        "        #with g1.as_default():\n",
        "         #   self.W_a = tf.get_variable(name=\"W_a\", shape=[units, units],\n",
        "          #                    initializer=tf.random_normal_initializer())\n",
        "\n",
        "    def call(self,encoder_output1,net):\n",
        "        \n",
        "        encoder_n = encoder_output1.shape[2].value  # D1 value - hidden size of the RNN layer encoder\n",
        "        decoder_n = net.shape[2].value  # D2 value - hidden size of the RNN layer decoder\n",
        "        batch_size = array_ops.shape(encoder_output1)[0]\n",
        "        \n",
        "        print(\"encoder_out_seq>\", encoder_output1.shape)\n",
        "        print(\"decoder_out_seq>\", net.shape)\n",
        "        self.W_a = tf.Variable(tf.random_normal([encoder_n,decoder_n]),\n",
        "                      name=\"W_a\")\n",
        "        #decoder_state3= tf.expand_dims(decoder_state3, 1)\n",
        "        enc_reshape = tf.reshape(encoder_output1, [-1, encoder_n], name=\"enc_reshape\")  # [(B*T1), D1]\n",
        "        h1 = tf.matmul(enc_reshape,self.W_a)  # [(B*T1), D1][D1, D2] = [(B*T1), D2]\n",
        "        h1_reshape = tf.reshape(h1, tf.stack([batch_size, -1,decoder_n]), name=\"h1_reshape\")  # [B, T1, D2]\n",
        "        #dec_reshape = tf.reshape(net, [-1, units], name=\"dec_reshape\")  # [(B*T2), D2]\n",
        "        #h2 = tf.matmul(dec_reshape,self.U_a)  # [(B*T1), D1][D1, D2] = [(B*T2), D2]\n",
        "        #h2_reshape = tf.reshape(h2, tf.stack([batch_size, -1, units]), name=\"h1_reshape\") # [B, T2, D2]\n",
        "        h3_transpose = tf.transpose(net, [0, 2, 1])  # [B, D2, T2]\n",
        "        #h3=h1_reshape+h3_transpose\n",
        "        #print(\"h3:\",h3.shape)\n",
        "        score =tf.nn.tanh(tf.matmul(h1_reshape, h3_transpose)) # [B, T1, D2][B, D2, T2] = [B, T1, T2]\n",
        "        print(\"score:\",score.shape)\n",
        "        score_transpose = tf.transpose(score, [0, 2, 1])  # [B, T2, T1]\n",
        "        alphas = tf.nn.softmax(score_transpose, axis=2, name='alphas')  # [B, T2, T1] with softmax on T1\n",
        "        context_vector = tf.matmul(alphas,encoder_output1)# [B, D1]\n",
        "        print(\"context_vector:\",context_vector.shape)\n",
        "        return context_vector,alphas       "
      ],
      "execution_count": 0,
      "outputs": []
    },
    {
      "cell_type": "markdown",
      "metadata": {
        "colab_type": "text",
        "id": "IzQQAera_ff0"
      },
      "source": [
        "\n",
        "This function connects all the layers of the decoder to some input of the initial-state values for the GRU layers."
      ]
    },
    {
      "cell_type": "code",
      "metadata": {
        "colab_type": "code",
        "id": "wKOVYmPu_ff1",
        "colab": {}
      },
      "source": [
        "def connect_decoder(initial_state,encoder_output1):\n",
        "    # Start the decoder-network with its input-layer.\n",
        "    net = decoder_input\n",
        "    \n",
        "    \n",
        "    # Connect the embedding-layer.\n",
        "    net = decoder_embedding(net)\n",
        "    print(\"embedding:\",net.shape)\n",
        "    # Connect all the GRU-layers.\n",
        "    net,decoder_state1 = decoder_gru1(net,initial_state=initial_state)\n",
        "    #Connect all the GRU-layers.\n",
        "    net,decoder_state2= decoder_gru2(net,initial_state=initial_state)\n",
        "    net,decoder_state3= decoder_gru3(net,initial_state=initial_state)\n",
        "    net=dropout4(net)\n",
        "    # Get current input in from embedded target sequences\n",
        "     \n",
        "    attention = Attention()\n",
        "    context_vector,alphas= attention(encoder_output1,net)\n",
        "    \n",
        "    #context_vector, attention_weights,attention_vector= attention(encoder_output1,decoder_state3,net)\n",
        "            # Combine information\n",
        "            #print(\"context_vector:\",context_vector.shape)\n",
        "    #context_vector= tf.expand_dims(context_vector, 1)\n",
        "    #contxt_vector = K.tile(context_vector, [1,23,state_size])\n",
        "    #context_vector1 = nmt_repeat_vector(context_vector)\n",
        "    #print(\"context_vector:\",context_vector1.shape)\n",
        "    attention_vector= Concatenate(axis=-1, name='concat_layer')([context_vector,net])\n",
        "    print(\"attention_vector\",attention_vector.shape)\n",
        "            # Connect the final dense layer that converts to\n",
        "            # one-hot encoded arrays.\n",
        "    decoder_output1 =decoder_dense1(attention_vector)\n",
        "    print(\"dense1:\",decoder_output1.shape)\n",
        "            #dense_time=TimeDistributed(decoder_dense,name='time_distributed_layer')\n",
        "    decoder_output=decoder_dense(decoder_output1)\n",
        "\n",
        "    print(\"dense:\",decoder_output.shape)\n",
        "    \n",
        "    return decoder_output"
      ],
      "execution_count": 0,
      "outputs": []
    },
    {
      "cell_type": "markdown",
      "metadata": {
        "colab_type": "text",
        "id": "m3U_ie32_ff4"
      },
      "source": [
        "__Connect and Create the Models__\n",
        "\n",
        "We can now connect the encoder and decoder in different ways.\n",
        "\n",
        "First we connect the encoder directly to the decoder so it is one whole model that can be trained end-to-end. This means the initial-state of the decoder's GRU units are set to the output of the encoder.\n"
      ]
    },
    {
      "cell_type": "code",
      "metadata": {
        "colab_type": "code",
        "id": "_tmQlR2q_ff6",
        "outputId": "58c877c1-4bbe-4713-8758-c1a98a6fa5c5",
        "colab": {
          "base_uri": "https://localhost:8080/",
          "height": 156
        }
      },
      "source": [
        "decoder_output= connect_decoder(initial_state=encoder_state,encoder_output1=encoder_output)"
      ],
      "execution_count": 64,
      "outputs": [
        {
          "output_type": "stream",
          "text": [
            "embedding: (?, ?, 150)\n",
            "encoder_out_seq> (?, ?, 512)\n",
            "decoder_out_seq> (?, ?, 512)\n",
            "score: (?, ?, ?)\n",
            "context_vector: (?, ?, 512)\n",
            "attention_vector (?, ?, 1024)\n",
            "dense1: (?, ?, 512)\n",
            "dense: (?, ?, 2000)\n"
          ],
          "name": "stdout"
        }
      ]
    },
    {
      "cell_type": "code",
      "metadata": {
        "colab_type": "code",
        "id": "da5n4bu3_ff-",
        "colab": {}
      },
      "source": [
        "\n",
        "model_train = Model(inputs=[encoder_input, decoder_input],\n",
        "                    outputs=[decoder_output])"
      ],
      "execution_count": 0,
      "outputs": []
    },
    {
      "cell_type": "markdown",
      "metadata": {
        "colab_type": "text",
        "id": "cOjU9BbL_fgD"
      },
      "source": [
        "Then we create a model for just the encoder alone. This is useful for mapping a sequence of integer-tokens to a \"thought-vector\" summarizing its contents."
      ]
    },
    {
      "cell_type": "code",
      "metadata": {
        "colab_type": "code",
        "id": "9PQ9mxK1_fgF",
        "colab": {}
      },
      "source": [
        "model_encoder = Model(inputs=[encoder_input],\n",
        "                      outputs=[encoder_output,encoder_state])"
      ],
      "execution_count": 0,
      "outputs": []
    },
    {
      "cell_type": "markdown",
      "metadata": {
        "colab_type": "text",
        "id": "C09GVxFG_fgI"
      },
      "source": [
        "Then we create a model for just the decoder alone. This allows us to directly input the initial state for the decoder's GRU units."
      ]
    },
    {
      "cell_type": "code",
      "metadata": {
        "colab_type": "code",
        "id": "z8e29t19_fgJ",
        "outputId": "b61d5243-c6a6-4e56-9a83-2e0c93de986a",
        "colab": {
          "base_uri": "https://localhost:8080/",
          "height": 156
        }
      },
      "source": [
        "decoder_output = connect_decoder(initial_state=decoder_initial_state,encoder_output1=decoder_initial1)\n",
        "model_decoder = Model(inputs=[decoder_initial_state,decoder_input,decoder_initial1],\n",
        "                      outputs=[decoder_output])"
      ],
      "execution_count": 67,
      "outputs": [
        {
          "output_type": "stream",
          "text": [
            "embedding: (?, ?, 150)\n",
            "encoder_out_seq> (?, ?, 512)\n",
            "decoder_out_seq> (?, ?, 512)\n",
            "score: (?, ?, ?)\n",
            "context_vector: (?, ?, 512)\n",
            "attention_vector (?, ?, 1024)\n",
            "dense1: (?, ?, 512)\n",
            "dense: (?, ?, 2000)\n"
          ],
          "name": "stdout"
        }
      ]
    },
    {
      "cell_type": "markdown",
      "metadata": {
        "colab_type": "text",
        "id": "J9qTFvDL_fgN"
      },
      "source": [
        "__Loss Function__\n",
        "\n",
        "The output of the decoder is a sequence of one-hot encoded arrays. In order to train the decoder we need to supply the one-hot encoded arrays that we desire to see on the decoder's output, and then use a loss-function like cross-entropy to train the decoder to produce this desired output.\n",
        "\n",
        "However, our data-set contains integer-tokens instead of one-hot encoded arrays. Each one-hot encoded array has 25 elements so it would be extremely wasteful to convert the entire data-set to one-hot encoded arrays.\n",
        "\n",
        "A better way is to use a so-called sparse cross-entropy loss-function, which does the conversion internally from integers to one-hot encoded arrays. Unfortunately, there seems to be a bug in Keras when using this with Recurrent Neural Networks."
      ]
    },
    {
      "cell_type": "code",
      "metadata": {
        "colab_type": "code",
        "id": "5iIt1aYb_fgQ",
        "colab": {}
      },
      "source": [
        "def sparse_cross_entropy(y_true, y_pred):\n",
        "    \"\"\"\n",
        "    Calculate the cross-entropy loss between y_true and y_pred.\n",
        "    \n",
        "    y_true is a 2 rank matrix with the desired output.\n",
        "    The shape is [batch_size, sequence_length] and it\n",
        "    contains sequences of integer-tokens.\n",
        "\n",
        "    y_pred is the decoder's output which is a 3-rank matrix\n",
        "    with shape [batch_size, sequence_length, num_words]\n",
        "    so that for each sequence in the batch there is a one-hot\n",
        "    encoded array of length num_words.\n",
        "    \"\"\"\n",
        "\n",
        "    # Calculate the loss.\n",
        "    loss = tf.nn.sparse_softmax_cross_entropy_with_logits(labels=y_true,logits=y_pred)\n",
        "\n",
        "\n",
        "    loss_mean = tf.reduce_mean(loss)\n",
        "    #loss_mean = tf.reduce_mean(tf.nn.softmax_cross_entropy_with_logits(logits=y_pred, labels=y_true))\n",
        "\n",
        "    return loss_mean"
      ],
      "execution_count": 0,
      "outputs": []
    },
    {
      "cell_type": "markdown",
      "metadata": {
        "colab_type": "text",
        "id": "bpC0lCMM_fgT"
      },
      "source": [
        "def perplexity(y_true, y_pred):\n",
        "    \"\"\"\n",
        "    The perplexity metric. Why isn't this part of Keras yet?!\n",
        "\n",
        "    BTW doesn't really work.\n",
        "    \"\"\"\n",
        "    cross_entropy = K.sparse_categorical_crossentropy(y_true, y_pred)\n",
        "    perplexity = K.pow(2.0, cross_entropy)\n",
        "    return perplexity"
      ]
    },
    {
      "cell_type": "markdown",
      "metadata": {
        "colab_type": "text",
        "id": "HIevwVYh_fgU"
      },
      "source": [
        "__Compile the Training Model__\n",
        "\n",
        "We have used the Adam optimizer.\n"
      ]
    },
    {
      "cell_type": "code",
      "metadata": {
        "colab_type": "code",
        "id": "2mz65uJy_fgV",
        "colab": {}
      },
      "source": [
        "optimizer = Adam(lr=(1e-3))"
      ],
      "execution_count": 0,
      "outputs": []
    },
    {
      "cell_type": "markdown",
      "metadata": {
        "colab_type": "text",
        "id": "YSK0Rh5h_fgb"
      },
      "source": [
        " We need to manually create a placeholder variable for the decoder's output. The shape is set to (None, None) which means the batch can have an arbitrary number of sequences, which can have an arbitrary number of integer-tokens."
      ]
    },
    {
      "cell_type": "code",
      "metadata": {
        "colab_type": "code",
        "id": "znwPSbyU_fgc",
        "colab": {}
      },
      "source": [
        "decoder_target = tf.placeholder(dtype='int32', shape=(None, None))"
      ],
      "execution_count": 0,
      "outputs": []
    },
    {
      "cell_type": "markdown",
      "metadata": {
        "colab_type": "text",
        "id": "yTByRLFq_fgf"
      },
      "source": [
        "We can now compile the model using our custom loss-function."
      ]
    },
    {
      "cell_type": "code",
      "metadata": {
        "colab_type": "code",
        "id": "0VoAfYpQ_fgg",
        "colab": {}
      },
      "source": [
        "model_train.compile(loss=sparse_cross_entropy,optimizer=optimizer,\n",
        "                    target_tensors=[decoder_target],\n",
        "                    metrics=['sparse_categorical_accuracy'])\n",
        "\n",
        "#model_train.compile(loss=sparse_cross_entropy,optimizer=optimizer,\n",
        " #                   target_tensors=[decoder_target],\n",
        "  #                  metrics=['sparse_categorical_accuracy',perplexity])"
      ],
      "execution_count": 0,
      "outputs": []
    },
    {
      "cell_type": "code",
      "metadata": {
        "colab_type": "code",
        "id": "OOJxZtiPmxgs",
        "colab": {}
      },
      "source": [
        "from tensorflow.python.keras.callbacks import EarlyStopping, ModelCheckpoint, TensorBoard\n",
        "path_checkpoint = '32_checkpoint.keras'\n",
        "callback_checkpoint = ModelCheckpoint(filepath=path_checkpoint,\n",
        "                                      monitor='val_sparse_categorical_accuracy',\n",
        "                                      verbose=1,\n",
        "                                      save_weights_only=True,\n",
        "                                      save_best_only=False)\n",
        "#callback_early_stopping = EarlyStopping(monitor='val_sparse_categorical_accuracy',\n",
        " #                                      patience=3, verbose=1)\n",
        "callback_tensorboard = TensorBoard(log_dir='./32_logs/',\n",
        "                                   histogram_freq=0,\n",
        "                                   write_graph=False)\n",
        "callbacks = [callback_checkpoint,\n",
        "             callback_tensorboard]"
      ],
      "execution_count": 0,
      "outputs": []
    },
    {
      "cell_type": "markdown",
      "metadata": {
        "colab_type": "text",
        "id": "4UQ55D4v_fgj"
      },
      "source": [
        "__Train the Model__\n",
        "\n",
        "We wrap the data in named dicts so we are sure the data is assigned correctly to the inputs and outputs of the model.\n"
      ]
    },
    {
      "cell_type": "code",
      "metadata": {
        "colab_type": "code",
        "id": "BPuY5FMa_fgn",
        "colab": {}
      },
      "source": [
        "x_data = \\\n",
        "{\n",
        "    'encoder_input': encoder_input_data,\n",
        "    'decoder_input': decoder_input_data\n",
        "}"
      ],
      "execution_count": 0,
      "outputs": []
    },
    {
      "cell_type": "code",
      "metadata": {
        "colab_type": "code",
        "id": "9RSql5np_fgr",
        "colab": {}
      },
      "source": [
        "x_test= \\\n",
        "{\n",
        "    'encoder_input': encoder_test_input_data,\n",
        "    'decoder_input': decoder_test_input_data\n",
        "}"
      ],
      "execution_count": 0,
      "outputs": []
    },
    {
      "cell_type": "code",
      "metadata": {
        "colab_type": "code",
        "id": "qXUwH-Vu_fgt",
        "colab": {}
      },
      "source": [
        "y_data = \\\n",
        "{\n",
        "    'decoder_output': decoder_output_data\n",
        "}"
      ],
      "execution_count": 0,
      "outputs": []
    },
    {
      "cell_type": "code",
      "metadata": {
        "colab_type": "code",
        "id": "nrM339LN_fgw",
        "colab": {}
      },
      "source": [
        "y_test = \\\n",
        "{\n",
        "    'decoder_output': decoder_test_output_data\n",
        "}"
      ],
      "execution_count": 0,
      "outputs": []
    },
    {
      "cell_type": "markdown",
      "metadata": {
        "colab_type": "text",
        "id": "fAaBYAvm_fgz"
      },
      "source": [
        "validation_split = 1000 / len(encoder_input_data)\n",
        "validation_split"
      ]
    },
    {
      "cell_type": "code",
      "metadata": {
        "colab_type": "code",
        "id": "PvZ-_XW5_fg0",
        "outputId": "73b9c7af-c0b9-48b5-9255-c4744d67037a",
        "colab": {
          "base_uri": "https://localhost:8080/",
          "height": 784
        }
      },
      "source": [
        "%%time\n",
        "history=model_train.fit(x=x_data,\n",
        "                y=y_data,\n",
        "                validation_split=0.10, epochs=10, batch_size=100,callbacks=callbacks)"
      ],
      "execution_count": 78,
      "outputs": [
        {
          "output_type": "stream",
          "text": [
            "Train on 321800 samples, validate on 35756 samples\n",
            "Epoch 1/10\n",
            "321700/321800 [============================>.] - ETA: 0s - loss: 0.4005 - sparse_categorical_accuracy: 0.9268\n",
            "Epoch 00001: saving model to 32_checkpoint.keras\n",
            "321800/321800 [==============================] - 2910s 9ms/sample - loss: 0.4004 - sparse_categorical_accuracy: 0.9268 - val_loss: 3.0476 - val_sparse_categorical_accuracy: 0.7315\n",
            "Epoch 2/10\n",
            "321700/321800 [============================>.] - ETA: 0s - loss: 0.0965 - sparse_categorical_accuracy: 0.9773\n",
            "Epoch 00002: saving model to 32_checkpoint.keras\n",
            "321800/321800 [==============================] - 2889s 9ms/sample - loss: 0.0965 - sparse_categorical_accuracy: 0.9773 - val_loss: 3.2434 - val_sparse_categorical_accuracy: 0.7324\n",
            "Epoch 3/10\n",
            "321700/321800 [============================>.] - ETA: 0s - loss: 0.0880 - sparse_categorical_accuracy: 0.9783\n",
            "Epoch 00003: saving model to 32_checkpoint.keras\n",
            "321800/321800 [==============================] - 2868s 9ms/sample - loss: 0.0880 - sparse_categorical_accuracy: 0.9783 - val_loss: 3.3804 - val_sparse_categorical_accuracy: 0.7340\n",
            "Epoch 4/10\n",
            "321700/321800 [============================>.] - ETA: 0s - loss: 0.0827 - sparse_categorical_accuracy: 0.9794\n",
            "Epoch 00004: saving model to 32_checkpoint.keras\n",
            "321800/321800 [==============================] - 2850s 9ms/sample - loss: 0.0827 - sparse_categorical_accuracy: 0.9794 - val_loss: 3.4243 - val_sparse_categorical_accuracy: 0.7348\n",
            "Epoch 5/10\n",
            "321700/321800 [============================>.] - ETA: 0s - loss: 0.0811 - sparse_categorical_accuracy: 0.9797\n",
            "Epoch 00005: saving model to 32_checkpoint.keras\n",
            "321800/321800 [==============================] - 2851s 9ms/sample - loss: 0.0811 - sparse_categorical_accuracy: 0.9797 - val_loss: 3.6192 - val_sparse_categorical_accuracy: 0.7323\n",
            "Epoch 6/10\n",
            "321700/321800 [============================>.] - ETA: 0s - loss: 0.0807 - sparse_categorical_accuracy: 0.9797\n",
            "Epoch 00006: saving model to 32_checkpoint.keras\n",
            "321800/321800 [==============================] - 2867s 9ms/sample - loss: 0.0807 - sparse_categorical_accuracy: 0.9797 - val_loss: 3.6466 - val_sparse_categorical_accuracy: 0.7328\n",
            "Epoch 7/10\n",
            "321700/321800 [============================>.] - ETA: 0s - loss: 0.0802 - sparse_categorical_accuracy: 0.9798\n",
            "Epoch 00007: saving model to 32_checkpoint.keras\n",
            "321800/321800 [==============================] - 2886s 9ms/sample - loss: 0.0802 - sparse_categorical_accuracy: 0.9798 - val_loss: 3.6709 - val_sparse_categorical_accuracy: 0.7352\n",
            "Epoch 8/10\n",
            "321700/321800 [============================>.] - ETA: 0s - loss: 0.0801 - sparse_categorical_accuracy: 0.9798\n",
            "Epoch 00008: saving model to 32_checkpoint.keras\n",
            "321800/321800 [==============================] - 2877s 9ms/sample - loss: 0.0801 - sparse_categorical_accuracy: 0.9798 - val_loss: 3.7719 - val_sparse_categorical_accuracy: 0.7343\n",
            "Epoch 9/10\n",
            "321700/321800 [============================>.] - ETA: 0s - loss: 0.0806 - sparse_categorical_accuracy: 0.9797\n",
            "Epoch 00009: saving model to 32_checkpoint.keras\n",
            "321800/321800 [==============================] - 2875s 9ms/sample - loss: 0.0806 - sparse_categorical_accuracy: 0.9797 - val_loss: 3.7697 - val_sparse_categorical_accuracy: 0.7370\n",
            "Epoch 10/10\n",
            "321700/321800 [============================>.] - ETA: 0s - loss: 0.0812 - sparse_categorical_accuracy: 0.9796\n",
            "Epoch 00010: saving model to 32_checkpoint.keras\n",
            "321800/321800 [==============================] - 2863s 9ms/sample - loss: 0.0812 - sparse_categorical_accuracy: 0.9796 - val_loss: 3.8571 - val_sparse_categorical_accuracy: 0.7353\n",
            "CPU times: user 9h 2min 22s, sys: 1h 16min 20s, total: 10h 18min 43s\n",
            "Wall time: 7h 59min\n"
          ],
          "name": "stdout"
        }
      ]
    },
    {
      "cell_type": "code",
      "metadata": {
        "colab_type": "code",
        "id": "kZCkplr2_fg8",
        "outputId": "550b5c39-0cd4-450e-9dff-06ccc52ffa5e",
        "colab": {
          "base_uri": "https://localhost:8080/",
          "height": 545
        }
      },
      "source": [
        "accuracy = history.history['sparse_categorical_accuracy']\n",
        "val_accuracy = history.history['val_sparse_categorical_accuracy']\n",
        "loss = history.history['loss']\n",
        "val_loss = history.history['val_loss']\n",
        "epochs = range(len(accuracy))\n",
        "plt.plot(epochs, accuracy, 'bo', label='Training accuracy')\n",
        "plt.plot(epochs, val_accuracy, 'b', label='Validation accuracy')\n",
        "plt.title('Training and validation accuracy')\n",
        "plt.legend()\n",
        "plt.figure()\n",
        "plt.plot(epochs, loss, 'bo', label='Training loss')\n",
        "plt.plot(epochs, val_loss, 'b', label='Validation loss')\n",
        "plt.title('Training and validation loss')\n",
        "plt.legend()\n",
        "plt.show()"
      ],
      "execution_count": 79,
      "outputs": [
        {
          "output_type": "display_data",
          "data": {
            "image/png": "[encoded data removed]",
            "text/plain": [
              "<Figure size 432x288 with 1 Axes>"
            ]
          },
          "metadata": {
            "tags": []
          }
        },
        {
          "output_type": "display_data",
          "data": {
            "image/png": "[encoded data removed]",
            "text/plain": [
              "<Figure size 432x288 with 1 Axes>"
            ]
          },
          "metadata": {
            "tags": []
          }
        }
      ]
    },
    {
      "cell_type": "code",
      "metadata": {
        "colab_type": "code",
        "id": "5z7yR1GZ_fhP",
        "outputId": "e11b657a-d7af-4776-ea2a-cd12a6617886",
        "colab": {
          "base_uri": "https://localhost:8080/",
          "height": 781
        }
      },
      "source": [
        "model_train.summary()"
      ],
      "execution_count": 80,
      "outputs": [
        {
          "output_type": "stream",
          "text": [
            "Model: \"model\"\n",
            "__________________________________________________________________________________________________\n",
            "Layer (type)                    Output Shape         Param #     Connected to                     \n",
            "==================================================================================================\n",
            "encoder_input (InputLayer)      [(None, None)]       0                                            \n",
            "__________________________________________________________________________________________________\n",
            "encoder_embedding (Embedding)   (None, None, 150)    300000      encoder_input[0][0]              \n",
            "__________________________________________________________________________________________________\n",
            "encoder_gru1 (GRU)              [(None, None, 512),  1018368     encoder_embedding[0][0]          \n",
            "__________________________________________________________________________________________________\n",
            "encoder_gru2 (GRU)              [(None, None, 512),  1574400     encoder_gru1[0][0]               \n",
            "__________________________________________________________________________________________________\n",
            "decoder_input (InputLayer)      [(None, None)]       0                                            \n",
            "__________________________________________________________________________________________________\n",
            "encoder_gru3 (GRU)              [(None, None, 512),  1574400     encoder_gru2[0][0]               \n",
            "__________________________________________________________________________________________________\n",
            "decoder_embedding (Embedding)   (None, None, 150)    300000      decoder_input[0][0]              \n",
            "__________________________________________________________________________________________________\n",
            "decoder_gru1 (GRU)              [(None, None, 512),  1018368     decoder_embedding[0][0]          \n",
            "                                                                 encoder_gru3[0][1]               \n",
            "__________________________________________________________________________________________________\n",
            "decoder_gru2 (GRU)              [(None, None, 512),  1574400     decoder_gru1[0][0]               \n",
            "                                                                 encoder_gru3[0][1]               \n",
            "__________________________________________________________________________________________________\n",
            "decoder_gru3 (GRU)              [(None, None, 512),  1574400     decoder_gru2[0][0]               \n",
            "                                                                 encoder_gru3[0][1]               \n",
            "__________________________________________________________________________________________________\n",
            "dropout (Dropout)               (None, None, 512)    0           encoder_gru3[0][0]               \n",
            "__________________________________________________________________________________________________\n",
            "dropout_1 (Dropout)             (None, None, 512)    0           decoder_gru3[0][0]               \n",
            "__________________________________________________________________________________________________\n",
            "attention (Attention)           ((None, None, 512),  262144      dropout[0][0]                    \n",
            "__________________________________________________________________________________________________\n",
            "concat_layer (Concatenate)      (None, None, 1024)   0           attention[0][0]                  \n",
            "                                                                 dropout_1[0][0]                  \n",
            "__________________________________________________________________________________________________\n",
            "decoder_output1 (Dense)         (None, None, 512)    524800      concat_layer[0][0]               \n",
            "__________________________________________________________________________________________________\n",
            "decoder_output (Dense)          (None, None, 2000)   1026000     decoder_output1[0][0]            \n",
            "==================================================================================================\n",
            "Total params: 10,747,280\n",
            "Trainable params: 10,747,280\n",
            "Non-trainable params: 0\n",
            "__________________________________________________________________________________________________\n"
          ],
          "name": "stdout"
        }
      ]
    },
    {
      "cell_type": "code",
      "metadata": {
        "colab_type": "code",
        "id": "eURvLyXKaimb",
        "colab": {}
      },
      "source": [
        "model_train.save(\"augmenattention1.h5\")"
      ],
      "execution_count": 0,
      "outputs": []
    },
    {
      "cell_type": "code",
      "metadata": {
        "colab_type": "code",
        "id": "Hmw2mCLAWXCg",
        "colab": {}
      },
      "source": [
        "try:\n",
        "    model_train.load_weights(path_checkpoint)\n",
        "except Exception as error:\n",
        "    print(\"Error trying to load checkpoint.\")\n",
        "    print(error)"
      ],
      "execution_count": 0,
      "outputs": []
    },
    {
      "cell_type": "code",
      "metadata": {
        "colab_type": "code",
        "id": "Tyj_Vb3L_fhV",
        "outputId": "e48ec72a-8c26-4747-86ec-3db5aeded3ff",
        "colab": {
          "base_uri": "https://localhost:8080/",
          "height": 69
        }
      },
      "source": [
        "%%time\n",
        "result = model_train.evaluate(x_test,y_test)"
      ],
      "execution_count": 81,
      "outputs": [
        {
          "output_type": "stream",
          "text": [
            "50000/50000 [==============================] - 271s 5ms/sample - loss: 5.1569 - sparse_categorical_accuracy: 0.6583\n",
            "CPU times: user 4min 13s, sys: 19 s, total: 4min 32s\n",
            "Wall time: 4min 31s\n"
          ],
          "name": "stdout"
        }
      ]
    },
    {
      "cell_type": "code",
      "metadata": {
        "colab_type": "code",
        "id": "lX5pwmew_fhb",
        "outputId": "d728a850-7f42-4d7a-c84c-a9f06bdd8f3e",
        "colab": {
          "base_uri": "https://localhost:8080/",
          "height": 69
        }
      },
      "source": [
        "print(\"Accuracy: {0:.2%}\".format(result[1]))\n",
        "\n",
        "print(\"Loss {0:.5}\".format(result[0]))\n",
        "loss=result[0]\n",
        "print(\"loss:\",loss)"
      ],
      "execution_count": 82,
      "outputs": [
        {
          "output_type": "stream",
          "text": [
            "Accuracy: 65.83%\n",
            "Loss 5.1569\n",
            "loss: 5.156850056495666\n"
          ],
          "name": "stdout"
        }
      ]
    },
    {
      "cell_type": "code",
      "metadata": {
        "colab_type": "code",
        "id": "8A8wvDzF_fhe",
        "colab": {}
      },
      "source": [
        "def perplexity(loss):\n",
        "    \"\"\"\n",
        "    The perplexity metric. Why isn't this part of Keras yet?!\n",
        "\n",
        "    BTW doesn't really work.\n",
        "    \"\"\"\n",
        "    #cross_entropy = sparse_cross_entropy(y_true, y_pred)\n",
        "    perplexity = np.exp(loss)\n",
        "    return perplexity"
      ],
      "execution_count": 0,
      "outputs": []
    },
    {
      "cell_type": "code",
      "metadata": {
        "colab_type": "code",
        "id": "sIB1uMm1_fhh",
        "outputId": "f116420a-4ef2-41d7-c447-820593ed083b",
        "colab": {
          "base_uri": "https://localhost:8080/",
          "height": 34
        }
      },
      "source": [
        "perplexity=perplexity(loss=loss)\n",
        "print(\"perplexity:\",perplexity)"
      ],
      "execution_count": 84,
      "outputs": [
        {
          "output_type": "stream",
          "text": [
            "perplexity: 173.6167105453885\n"
          ],
          "name": "stdout"
        }
      ]
    },
    {
      "cell_type": "code",
      "metadata": {
        "colab_type": "code",
        "id": "3f_Q8iWwghNs",
        "outputId": "c8f709fe-c9ad-4bad-d9ba-df2af9bc320d",
        "colab": {
          "base_uri": "https://localhost:8080/",
          "height": 69
        }
      },
      "source": [
        "!pip install h5py"
      ],
      "execution_count": 0,
      "outputs": [
        {
          "output_type": "stream",
          "text": [
            "Requirement already satisfied: h5py in /usr/local/lib/python3.6/dist-packages (2.8.0)\n",
            "Requirement already satisfied: six in /usr/local/lib/python3.6/dist-packages (from h5py) (1.12.0)\n",
            "Requirement already satisfied: numpy>=1.7 in /usr/local/lib/python3.6/dist-packages (from h5py) (1.17.5)\n"
          ],
          "name": "stdout"
        }
      ]
    },
    {
      "cell_type": "code",
      "metadata": {
        "colab_type": "code",
        "id": "k6ARsBF_eQa5",
        "colab": {}
      },
      "source": [
        "#save model\n",
        "model_train.save(\"mymodel.h5\")\n"
      ],
      "execution_count": 0,
      "outputs": []
    },
    {
      "cell_type": "markdown",
      "metadata": {
        "colab_type": "text",
        "id": "FCU0JEQf_fhk"
      },
      "source": [
        "__Respone Texts__\n"
      ]
    },
    {
      "cell_type": "code",
      "metadata": {
        "colab_type": "code",
        "id": "1B28YVUs_fhl",
        "colab": {}
      },
      "source": [
        "def response(input_text, true_output_text=None):\n",
        "    \"\"\" a single text-string.\"\"\"\n",
        "\n",
        "    # Convert the input-text to integer-tokens.\n",
        "    # Note the sequence of tokens has to be reversed.\n",
        "    # Padding is probably not necessary.\n",
        "    input_tokens = tokenizer_src.text_to_tokens(text=input_text,\n",
        "                                                padding=True)\n",
        "    #print(\"input_tokens\",input_tokens)\n",
        "    \n",
        "    # Get the output of the encoder's GRU which will be\n",
        "    # used as the initial state in the decoder's GRU.\n",
        "    # This could also have been the encoder's final state\n",
        "    # but that is really only necessary if the encoder\n",
        "    # and decoder use the LSTM instead of GRU because\n",
        "    # the LSTM has two internal states.\n",
        "    initial_state,hidden_state= model_encoder.predict(input_tokens)\n",
        "    #print(\"Encoder_output:\",initial_state.shape)\n",
        "    # Max number of tokens / words in the output sequence.\n",
        "    max_tokens =tokenizer_dest.max_tokens\n",
        "    #print(\"Tokens:\",max_tokens)\n",
        "\n",
        "    # Pre-allocate the 2-dim array used as input to the decoder.\n",
        "    # This holds just a single sequence of integer-tokens.\n",
        "    shape= (1, max_tokens)\n",
        "    decoder_input_data = np.zeros(shape=shape, dtype=np.int)\n",
        "    #print(decoder_input_data)\n",
        "    #decoder_input_data= [0 for x in range(max_tokens)]\n",
        "    # The first input-token is the special start-token for 'ssss '.\n",
        "    token_int = token_start\n",
        "\n",
        "    # Initialize an empty output-text.\n",
        "    output_text = ''\n",
        "\n",
        "    # Initialize the number of tokens we have processed.\n",
        "    count_tokens = 0\n",
        "\n",
        "    # While we haven't sampled the special end-token for ' eeee'\n",
        "    # and we haven't processed the max number of tokens.\n",
        "    while token_int != token_end and count_tokens < max_tokens:\n",
        "        # Update the input-sequence to the decoder\n",
        "        # with the last token that was sampled.\n",
        "        # In the first iteration this will set the\n",
        "        # first element to the start-token.\n",
        "        decoder_input_data[0,count_tokens]=token_int\n",
        "        # Wrap the input-data in a dict for clarity and safety,\n",
        "        # so we are sure we input the data in the right order.\n",
        "        x_data = \\\n",
        "        {\n",
        "           'decoder_initial_state': hidden_state,\n",
        "           'decoder_input': decoder_input_data,\n",
        "           'decoder_initial1':initial_state\n",
        "        }\n",
        "\n",
        "        # Note that we input the entire sequence of tokens\n",
        "        # to the decoder. This wastes a lot of computation\n",
        "        # because we are only interested in the last input\n",
        "        # and output. We could modify the code to return\n",
        "        # the GRU-states when calling predict() and then\n",
        "        # feeding these GRU-states as well the next time\n",
        "        # we call predict()\n",
        "\n",
        "        # Input this data to the decoder and get the predicted output.\n",
        "        decoder_output = model_decoder.predict(x_data)\n",
        "        #print(\"decoder output\",decoder_output.shape)\n",
        "        # Get the last predicted token as a one-hot encoded array.\n",
        "        token_onehot = decoder_output[0,count_tokens]\n",
        "        #print(\"Output predictrd:\",token_onehot.shape)\n",
        "        \n",
        "        # Convert to an integer-token.\n",
        "        token_int = np.argmax(token_onehot)\n",
        "        #print(\"High probability:\",token_int)\n",
        "\n",
        "        # Lookup the word corresponding to this integer-token.\n",
        "        sampled_word = tokenizer_dest.token_to_word(token_int)\n",
        "        #print(\"sampled word:\",sampled_word)\n",
        "\n",
        "        # Append the word to the output-text.\n",
        "        output_text += \" \" + sampled_word\n",
        "\n",
        "        # Increment the token-counter.\n",
        "        count_tokens+=1\n",
        "\n",
        "    # Sequence of tokens output by the decoder.\n",
        "    output_tokens = decoder_input_data[0]\n",
        "    print(\"Output Tokens:\",output_tokens)\n",
        "   \n",
        "    \n",
        "    # Print the input-text.\n",
        "    print(\"Input text:\")\n",
        "    print(input_text)\n",
        "    print()\n",
        "\n",
        "\n",
        "    print(\"Predicted output:\")\n",
        "    print(output_text)\n",
        "    print()\n",
        "\n",
        "    \n",
        "    if true_output_text is not None:\n",
        "        print(\"True output text:\")\n",
        "        print(true_output_text)\n",
        "        print()"
      ],
      "execution_count": 0,
      "outputs": []
    },
    {
      "cell_type": "code",
      "metadata": {
        "colab_type": "code",
        "id": "5HZ8MEo9eQa_",
        "colab": {}
      },
      "source": [
        "from nltk.translate.bleu_score import sentence_bleu\n",
        "def response1(input_text, true_output_text=None):\n",
        "    \"\"\" a single text-string.\"\"\"\n",
        "\n",
        "    # Convert the input-text to integer-tokens.\n",
        "    # Note the sequence of tokens has to be reversed.\n",
        "    # Padding is probably not necessary.\n",
        "    input_tokens = tokenizer_src.text_to_tokens(text=input_text,\n",
        "                                                padding=True)\n",
        "    #print(\"input_tokens\",input_tokens)\n",
        "    \n",
        "    # Get the output of the encoder's GRU which will be\n",
        "    # used as the initial state in the decoder's GRU.\n",
        "    # This could also have been the encoder's final state\n",
        "    # but that is really only necessary if the encoder\n",
        "    # and decoder use the LSTM instead of GRU because\n",
        "    # the LSTM has two internal states.\n",
        "    initial_state,hidden_state = model_encoder.predict(input_tokens)\n",
        "    #print(\"Encoder_output:\",initial_state.shape)\n",
        "\n",
        "    # Max number of tokens / words in the output sequence.\n",
        "    max_tokens =tokenizer_dest.max_tokens\n",
        "    #print(\"Tokens:\",max_tokens)\n",
        "\n",
        "    # Pre-allocate the 2-dim array used as input to the decoder.\n",
        "    # This holds just a single sequence of integer-tokens.\n",
        "    shape= (1, max_tokens)\n",
        "    decoder_input_data = np.zeros(shape=shape, dtype=np.int)\n",
        "    #print(decoder_input_data)\n",
        "    #decoder_input_data= [0 for x in range(max_tokens)]\n",
        "    # The first input-token is the special start-token for 'ssss '.\n",
        "    token_int = token_start\n",
        "\n",
        "    # Initialize an empty output-text.\n",
        "    output_text = ''\n",
        "\n",
        "    # Initialize the number of tokens we have processed.\n",
        "    count_tokens = 0\n",
        "\n",
        "    # While we haven't sampled the special end-token for ' eeee'\n",
        "    # and we haven't processed the max number of tokens.\n",
        "    while token_int != token_end and count_tokens < max_tokens:\n",
        "        # Update the input-sequence to the decoder\n",
        "        # with the last token that was sampled.\n",
        "        # In the first iteration this will set the\n",
        "        # first element to the start-token.\n",
        "        decoder_input_data[0,count_tokens]=token_int\n",
        "        # Wrap the input-data in a dict for clarity and safety,\n",
        "        # so we are sure we input the data in the right order.\n",
        "        x_data = \\\n",
        "        {\n",
        "           'decoder_initial_state': hidden_state,\n",
        "           'decoder_input': decoder_input_data,\n",
        "           'decoder_initial1':initial_state\n",
        "        }\n",
        "        # Note that we input the entire sequence of tokens\n",
        "        # to the decoder. This wastes a lot of computation\n",
        "        # because we are only interested in the last input\n",
        "        # and output. We could modify the code to return\n",
        "        # the GRU-states when calling predict() and then\n",
        "        # feeding these GRU-states as well the next time\n",
        "        # we call predict()\n",
        "\n",
        "        # Input this data to the decoder and get the predicted output.\n",
        "        decoder_output = model_decoder.predict(x_data)\n",
        "        #print(\"decoder output\",decoder_output.shape)\n",
        "        # Get the last predicted token as a one-hot encoded array.\n",
        "        token_onehot = decoder_output[0,count_tokens]\n",
        "        #print(\"Output predictrd:\",token_onehot.shape)\n",
        "        \n",
        "        # Convert to an integer-token.\n",
        "        token_int = np.argmax(token_onehot)\n",
        "        #print(\"High probability:\",token_int)\n",
        "\n",
        "        # Lookup the word corresponding to this integer-token.\n",
        "        sampled_word = tokenizer_dest.token_to_word(token_int)\n",
        "        #print(\"sampled word:\",sampled_word)\n",
        "\n",
        "        # Append the word to the output-text.\n",
        "        output_text += \" \" + sampled_word\n",
        "\n",
        "        # Increment the token-counter.\n",
        "        count_tokens+=1\n",
        "\n",
        "    # Sequence of tokens output by the decoder.\n",
        "    output_tokens = decoder_input_data[0]\n",
        "    #print(\"Output Tokens:\",output_tokens)\n",
        "   \n",
        "    \n",
        "    # Print the input-text.\n",
        "    #print(\"Input text:\")\n",
        "    #print(input_text)\n",
        "    #print()\n",
        "\n",
        "\n",
        "    #print(\"Predicted output:\")\n",
        "    #print(output_text)\n",
        "    #print()\n",
        "\n",
        "    \n",
        "    #if true_output_text is not None:\n",
        "     #   print(\"True output text:\")\n",
        "      #  print(true_output_text)\n",
        "       # print()\n",
        "    \n",
        "\n",
        "    #score = sentence_bleu(output_text,true_output_text, weights=(1, 0, 0, 0))\n",
        "    #print(\"Blue score:\")\n",
        "    #print(score)\n",
        "    return input_text,output_text,true_output_text"
      ],
      "execution_count": 0,
      "outputs": []
    },
    {
      "cell_type": "code",
      "metadata": {
        "colab_type": "code",
        "id": "37T-HKMreQbD",
        "colab": {}
      },
      "source": [
        "def BLEU():\n",
        "    scores_list = []\n",
        "    for idx in range(0,50000): # Doing for 100 lines\n",
        "        input_text, output_text, true_output_text = response1(input_text=data_src5[idx],true_output_text=data_dest3[idx],)\n",
        "        scor = sentence_bleu([output_text], true_output_text)\n",
        "        scores_list.append(scor)\n",
        "        #print(scor)\n",
        "        \n",
        "    BLEU_average = sum(scores_list)/ 50000\n",
        "    print (\"The BLEU average score for the test_data = \", BLEU_average)\n",
        "    #print(count)\n",
        "    \n",
        "    return BLEU_average"
      ],
      "execution_count": 0,
      "outputs": []
    },
    {
      "cell_type": "code",
      "metadata": {
        "colab_type": "code",
        "id": "2roAXskxeQbG",
        "outputId": "9b802496-7001-4aa0-a2bd-01a0fee56c50",
        "colab": {
          "base_uri": "https://localhost:8080/",
          "height": 156
        }
      },
      "source": [
        "BLEU_average = BLEU()"
      ],
      "execution_count": 0,
      "outputs": [
        {
          "output_type": "stream",
          "text": [
            "/usr/local/lib/python3.6/dist-packages/nltk/translate/bleu_score.py:490: UserWarning: \n",
            "Corpus/Sentence contains 0 counts of 2-gram overlaps.\n",
            "BLEU scores might be undesirable; use SmoothingFunction().\n",
            "  warnings.warn(_msg)\n",
            "/usr/local/lib/python3.6/dist-packages/nltk/translate/bleu_score.py:490: UserWarning: \n",
            "Corpus/Sentence contains 0 counts of 2-gram overlaps.\n",
            "BLEU scores might be undesirable; use SmoothingFunction().\n",
            "  warnings.warn(_msg)\n"
          ],
          "name": "stderr"
        }
      ]
    },
    {
      "cell_type": "code",
      "metadata": {
        "colab_type": "code",
        "id": "FmNMSNxmgWlb",
        "colab": {}
      },
      "source": [
        "from nltk.translate.bleu_score import sentence_bleu\n",
        "def response2(input_text, true_output_text=None):\n",
        "    \"\"\" a single text-string.\"\"\"\n",
        "\n",
        "    # Convert the input-text to integer-tokens.\n",
        "    # Note the sequence of tokens has to be reversed.\n",
        "    # Padding is probably not necessary.\n",
        "    input_tokens = tokenizer_src.text_to_tokens(text=input_text,\n",
        "                                                padding=True)\n",
        "    #print(\"input_tokens\",input_tokens)\n",
        "    \n",
        "    # Get the output of the encoder's GRU which will be\n",
        "    # used as the initial state in the decoder's GRU.\n",
        "    # This could also have been the encoder's final state\n",
        "    # but that is really only necessary if the encoder\n",
        "    # and decoder use the LSTM instead of GRU because\n",
        "    # the LSTM has two internal states.\n",
        "    initial_state,hidden_state = model_encoder.predict(input_tokens)\n",
        "    #print(\"Encoder_output:\",initial_state.shape)\n",
        "\n",
        "    # Max number of tokens / words in the output sequence.\n",
        "    max_tokens =tokenizer_dest.max_tokens\n",
        "    #print(\"Tokens:\",max_tokens)\n",
        "\n",
        "    # Pre-allocate the 2-dim array used as input to the decoder.\n",
        "    # This holds just a single sequence of integer-tokens.\n",
        "    shape= (1, max_tokens)\n",
        "    decoder_input_data = np.zeros(shape=shape, dtype=np.int)\n",
        "    #print(decoder_input_data)\n",
        "    #decoder_input_data= [0 for x in range(max_tokens)]\n",
        "    # The first input-token is the special start-token for 'ssss '.\n",
        "    token_int = token_start\n",
        "\n",
        "    # Initialize an empty output-text.\n",
        "    output_text = ''\n",
        "\n",
        "    # Initialize the number of tokens we have processed.\n",
        "    count_tokens = 0\n",
        "\n",
        "    # While we haven't sampled the special end-token for ' eeee'\n",
        "    # and we haven't processed the max number of tokens.\n",
        "    while token_int != token_end and count_tokens < max_tokens:\n",
        "        # Update the input-sequence to the decoder\n",
        "        # with the last token that was sampled.\n",
        "        # In the first iteration this will set the\n",
        "        # first element to the start-token.\n",
        "        decoder_input_data[0,count_tokens]=token_int\n",
        "        # Wrap the input-data in a dict for clarity and safety,\n",
        "        # so we are sure we input the data in the right order.\n",
        "        x_data = \\\n",
        "        {\n",
        "           'decoder_initial_state': hidden_state,\n",
        "           'decoder_input': decoder_input_data,\n",
        "           'decoder_initial1':initial_state\n",
        "        }\n",
        "        # Note that we input the entire sequence of tokens\n",
        "        # to the decoder. This wastes a lot of computation\n",
        "        # because we are only interested in the last input\n",
        "        # and output. We could modify the code to return\n",
        "        # the GRU-states when calling predict() and then\n",
        "        # feeding these GRU-states as well the next time\n",
        "        # we call predict()\n",
        "\n",
        "        # Input this data to the decoder and get the predicted output.\n",
        "        decoder_output = model_decoder.predict(x_data)\n",
        "        #print(\"decoder output\",decoder_output.shape)\n",
        "        # Get the last predicted token as a one-hot encoded array.\n",
        "        token_onehot = decoder_output[0,count_tokens]\n",
        "        #print(\"Output predictrd:\",token_onehot.shape)\n",
        "        \n",
        "        # Convert to an integer-token.\n",
        "        token_int = np.argmax(token_onehot)\n",
        "        #print(\"High probability:\",token_int)\n",
        "\n",
        "        # Lookup the word corresponding to this integer-token.\n",
        "        sampled_word = tokenizer_dest.token_to_word(token_int)\n",
        "        #print(\"sampled word:\",sampled_word)\n",
        "\n",
        "        # Append the word to the output-text.\n",
        "        output_text += \" \" + sampled_word\n",
        "\n",
        "        # Increment the token-counter.\n",
        "        count_tokens+=1\n",
        "\n",
        "    # Sequence of tokens output by the decoder.\n",
        "    output_tokens = decoder_input_data[0]\n",
        "    #print(\"Output Tokens:\",output_tokens)\n",
        "   \n",
        "    \n",
        "    # Print the input-text.\n",
        "    #print(\"Input text:\")\n",
        "    #print(input_text)\n",
        "    #print()\n",
        "\n",
        "\n",
        "    #print(\"Predicted output:\")\n",
        "    #print(output_text)\n",
        "    #print()\n",
        "\n",
        "    \n",
        "    #if true_output_text is not None:\n",
        "     #   print(\"True output text:\")\n",
        "      #  print(true_output_text)\n",
        "       # print()\n",
        "    \n",
        "\n",
        "    #score = sentence_bleu(output_text,true_output_text, weights=(1, 0, 0, 0))\n",
        "    #print(\"Blue score:\")\n",
        "    #print(score)\n",
        "    return input_text,output_text,true_output_text"
      ],
      "execution_count": 0,
      "outputs": []
    },
    {
      "cell_type": "code",
      "metadata": {
        "colab_type": "code",
        "id": "lmhtCqPagW4_",
        "colab": {}
      },
      "source": [
        "def BLEU1():\n",
        "    scores_list1 = []\n",
        "    for idx in range(0,50000): # Doing for 100 lines\n",
        "        input_text, output_text, true_output_text = response2(input_text=data_src5[idx],true_output_text=data_dest3[idx],)\n",
        "        scor1 = sentence_bleu([output_text], true_output_text,weights(1,0,0,0))\n",
        "        scores_list1.append(scor1)\n",
        "        #print(scor)\n",
        "        \n",
        "    BLEU_average1= sum(scores_list1)/ 50000\n",
        "    print (\"The BLEU average score for the test_data = \", BLEU_average1)\n",
        "    #print(count)\n",
        "    \n",
        "    return BLEU_average1"
      ],
      "execution_count": 0,
      "outputs": []
    },
    {
      "cell_type": "code",
      "metadata": {
        "colab_type": "code",
        "id": "kRegZp9dgXGJ",
        "colab": {}
      },
      "source": [
        "BLEU_average1 = BLEU1()"
      ],
      "execution_count": 0,
      "outputs": []
    },
    {
      "cell_type": "code",
      "metadata": {
        "colab_type": "code",
        "id": "I9bzAZExgXWL",
        "colab": {}
      },
      "source": [
        "from nltk.translate.bleu_score import sentence_bleu\n",
        "def response3(input_text, true_output_text=None):\n",
        "    \"\"\" a single text-string.\"\"\"\n",
        "\n",
        "    # Convert the input-text to integer-tokens.\n",
        "    # Note the sequence of tokens has to be reversed.\n",
        "    # Padding is probably not necessary.\n",
        "    input_tokens = tokenizer_src.text_to_tokens(text=input_text,\n",
        "                                                padding=True)\n",
        "    #print(\"input_tokens\",input_tokens)\n",
        "    \n",
        "    # Get the output of the encoder's GRU which will be\n",
        "    # used as the initial state in the decoder's GRU.\n",
        "    # This could also have been the encoder's final state\n",
        "    # but that is really only necessary if the encoder\n",
        "    # and decoder use the LSTM instead of GRU because\n",
        "    # the LSTM has two internal states.\n",
        "    initial_state,hidden_state = model_encoder.predict(input_tokens)\n",
        "    #print(\"Encoder_output:\",initial_state.shape)\n",
        "\n",
        "    # Max number of tokens / words in the output sequence.\n",
        "    max_tokens =tokenizer_dest.max_tokens\n",
        "    #print(\"Tokens:\",max_tokens)\n",
        "\n",
        "    # Pre-allocate the 2-dim array used as input to the decoder.\n",
        "    # This holds just a single sequence of integer-tokens.\n",
        "    shape= (1, max_tokens)\n",
        "    decoder_input_data = np.zeros(shape=shape, dtype=np.int)\n",
        "    #print(decoder_input_data)\n",
        "    #decoder_input_data= [0 for x in range(max_tokens)]\n",
        "    # The first input-token is the special start-token for 'ssss '.\n",
        "    token_int = token_start\n",
        "\n",
        "    # Initialize an empty output-text.\n",
        "    output_text = ''\n",
        "\n",
        "    # Initialize the number of tokens we have processed.\n",
        "    count_tokens = 0\n",
        "\n",
        "    # While we haven't sampled the special end-token for ' eeee'\n",
        "    # and we haven't processed the max number of tokens.\n",
        "    while token_int != token_end and count_tokens < max_tokens:\n",
        "        # Update the input-sequence to the decoder\n",
        "        # with the last token that was sampled.\n",
        "        # In the first iteration this will set the\n",
        "        # first element to the start-token.\n",
        "        decoder_input_data[0,count_tokens]=token_int\n",
        "        # Wrap the input-data in a dict for clarity and safety,\n",
        "        # so we are sure we input the data in the right order.\n",
        "        x_data = \\\n",
        "        {\n",
        "           'decoder_initial_state': hidden_state,\n",
        "           'decoder_input': decoder_input_data,\n",
        "           'decoder_initial1':initial_state\n",
        "        }\n",
        "        # Note that we input the entire sequence of tokens\n",
        "        # to the decoder. This wastes a lot of computation\n",
        "        # because we are only interested in the last input\n",
        "        # and output. We could modify the code to return\n",
        "        # the GRU-states when calling predict() and then\n",
        "        # feeding these GRU-states as well the next time\n",
        "        # we call predict()\n",
        "\n",
        "        # Input this data to the decoder and get the predicted output.\n",
        "        decoder_output = model_decoder.predict(x_data)\n",
        "        #print(\"decoder output\",decoder_output.shape)\n",
        "        # Get the last predicted token as a one-hot encoded array.\n",
        "        token_onehot = decoder_output[0,count_tokens]\n",
        "        #print(\"Output predictrd:\",token_onehot.shape)\n",
        "        \n",
        "        # Convert to an integer-token.\n",
        "        token_int = np.argmax(token_onehot)\n",
        "        #print(\"High probability:\",token_int)\n",
        "\n",
        "        # Lookup the word corresponding to this integer-token.\n",
        "        sampled_word = tokenizer_dest.token_to_word(token_int)\n",
        "        #print(\"sampled word:\",sampled_word)\n",
        "\n",
        "        # Append the word to the output-text.\n",
        "        output_text += \" \" + sampled_word\n",
        "\n",
        "        # Increment the token-counter.\n",
        "        count_tokens+=1\n",
        "\n",
        "    # Sequence of tokens output by the decoder.\n",
        "    output_tokens = decoder_input_data[0]\n",
        "    #print(\"Output Tokens:\",output_tokens)\n",
        "   \n",
        "    \n",
        "    # Print the input-text.\n",
        "    #print(\"Input text:\")\n",
        "    #print(input_text)\n",
        "    #print()\n",
        "\n",
        "\n",
        "    #print(\"Predicted output:\")\n",
        "    #print(output_text)\n",
        "    #print()\n",
        "\n",
        "    \n",
        "    #if true_output_text is not None:\n",
        "     #   print(\"True output text:\")\n",
        "      #  print(true_output_text)\n",
        "       # print()\n",
        "    \n",
        "\n",
        "    #score = sentence_bleu(output_text,true_output_text, weights=(1, 0, 0, 0))\n",
        "    #print(\"Blue score:\")\n",
        "    #print(score)\n",
        "    return input_text,output_text,true_output_text"
      ],
      "execution_count": 0,
      "outputs": []
    },
    {
      "cell_type": "code",
      "metadata": {
        "colab_type": "code",
        "id": "Co76vp7XgXjF",
        "colab": {}
      },
      "source": [
        "def BLEU2():\n",
        "    scores_list2 = []\n",
        "    for idx in range(0,50000): # Doing for 100 lines\n",
        "        input_text, output_text, true_output_text = response3(input_text=data_src5[idx],true_output_text=data_dest3[idx],)\n",
        "        scor2 = sentence_bleu([output_text], true_output_text,weights(0,1,0,0))\n",
        "        scores_list2.append(scor2)\n",
        "        #print(scor)\n",
        "        \n",
        "    BLEU_average2 = sum(scores_list2)/ 50000\n",
        "    print (\"The BLEU average score for the test_data = \", BLEU_average2)\n",
        "    #print(count)\n",
        "    \n",
        "    return BLEU_average2"
      ],
      "execution_count": 0,
      "outputs": []
    },
    {
      "cell_type": "code",
      "metadata": {
        "colab_type": "code",
        "id": "VfUsPFwbhJM5",
        "colab": {}
      },
      "source": [
        "BLEU_average2 = BLEU2()"
      ],
      "execution_count": 0,
      "outputs": []
    },
    {
      "cell_type": "code",
      "metadata": {
        "colab_type": "code",
        "id": "p8xF0jdAgXtv",
        "colab": {}
      },
      "source": [
        "from nltk.translate.bleu_score import sentence_bleu\n",
        "def response4(input_text, true_output_text=None):\n",
        "    \"\"\" a single text-string.\"\"\"\n",
        "\n",
        "    # Convert the input-text to integer-tokens.\n",
        "    # Note the sequence of tokens has to be reversed.\n",
        "    # Padding is probably not necessary.\n",
        "    input_tokens = tokenizer_src.text_to_tokens(text=input_text,\n",
        "                                                padding=True)\n",
        "    #print(\"input_tokens\",input_tokens)\n",
        "    \n",
        "    # Get the output of the encoder's GRU which will be\n",
        "    # used as the initial state in the decoder's GRU.\n",
        "    # This could also have been the encoder's final state\n",
        "    # but that is really only necessary if the encoder\n",
        "    # and decoder use the LSTM instead of GRU because\n",
        "    # the LSTM has two internal states.\n",
        "    initial_state,hidden_state = model_encoder.predict(input_tokens)\n",
        "    #print(\"Encoder_output:\",initial_state.shape)\n",
        "\n",
        "    # Max number of tokens / words in the output sequence.\n",
        "    max_tokens =tokenizer_dest.max_tokens\n",
        "    #print(\"Tokens:\",max_tokens)\n",
        "\n",
        "    # Pre-allocate the 2-dim array used as input to the decoder.\n",
        "    # This holds just a single sequence of integer-tokens.\n",
        "    shape= (1, max_tokens)\n",
        "    decoder_input_data = np.zeros(shape=shape, dtype=np.int)\n",
        "    #print(decoder_input_data)\n",
        "    #decoder_input_data= [0 for x in range(max_tokens)]\n",
        "    # The first input-token is the special start-token for 'ssss '.\n",
        "    token_int = token_start\n",
        "\n",
        "    # Initialize an empty output-text.\n",
        "    output_text = ''\n",
        "\n",
        "    # Initialize the number of tokens we have processed.\n",
        "    count_tokens = 0\n",
        "\n",
        "    # While we haven't sampled the special end-token for ' eeee'\n",
        "    # and we haven't processed the max number of tokens.\n",
        "    while token_int != token_end and count_tokens < max_tokens:\n",
        "        # Update the input-sequence to the decoder\n",
        "        # with the last token that was sampled.\n",
        "        # In the first iteration this will set the\n",
        "        # first element to the start-token.\n",
        "        decoder_input_data[0,count_tokens]=token_int\n",
        "        # Wrap the input-data in a dict for clarity and safety,\n",
        "        # so we are sure we input the data in the right order.\n",
        "        x_data = \\\n",
        "        {\n",
        "           'decoder_initial_state': hidden_state,\n",
        "           'decoder_input': decoder_input_data,\n",
        "           'decoder_initial1':initial_state\n",
        "        }\n",
        "        # Note that we input the entire sequence of tokens\n",
        "        # to the decoder. This wastes a lot of computation\n",
        "        # because we are only interested in the last input\n",
        "        # and output. We could modify the code to return\n",
        "        # the GRU-states when calling predict() and then\n",
        "        # feeding these GRU-states as well the next time\n",
        "        # we call predict()\n",
        "\n",
        "        # Input this data to the decoder and get the predicted output.\n",
        "        decoder_output = model_decoder.predict(x_data)\n",
        "        #print(\"decoder output\",decoder_output.shape)\n",
        "        # Get the last predicted token as a one-hot encoded array.\n",
        "        token_onehot = decoder_output[0,count_tokens]\n",
        "        #print(\"Output predictrd:\",token_onehot.shape)\n",
        "        \n",
        "        # Convert to an integer-token.\n",
        "        token_int = np.argmax(token_onehot)\n",
        "        #print(\"High probability:\",token_int)\n",
        "\n",
        "        # Lookup the word corresponding to this integer-token.\n",
        "        sampled_word = tokenizer_dest.token_to_word(token_int)\n",
        "        #print(\"sampled word:\",sampled_word)\n",
        "\n",
        "        # Append the word to the output-text.\n",
        "        output_text += \" \" + sampled_word\n",
        "\n",
        "        # Increment the token-counter.\n",
        "        count_tokens+=1\n",
        "\n",
        "    # Sequence of tokens output by the decoder.\n",
        "    output_tokens = decoder_input_data[0]\n",
        "    #print(\"Output Tokens:\",output_tokens)\n",
        "   \n",
        "    \n",
        "    # Print the input-text.\n",
        "    #print(\"Input text:\")\n",
        "    #print(input_text)\n",
        "    #print()\n",
        "\n",
        "\n",
        "    #print(\"Predicted output:\")\n",
        "    #print(output_text)\n",
        "    #print()\n",
        "\n",
        "    \n",
        "    #if true_output_text is not None:\n",
        "     #   print(\"True output text:\")\n",
        "      #  print(true_output_text)\n",
        "       # print()\n",
        "    \n",
        "\n",
        "    #score = sentence_bleu(output_text,true_output_text, weights=(1, 0, 0, 0))\n",
        "    #print(\"Blue score:\")\n",
        "    #print(score)\n",
        "    return input_text,output_text,true_output_text"
      ],
      "execution_count": 0,
      "outputs": []
    },
    {
      "cell_type": "code",
      "metadata": {
        "colab_type": "code",
        "id": "IbN9UeoehfPO",
        "colab": {}
      },
      "source": [
        "def BLEU3():\n",
        "    scores_list3 = []\n",
        "    for idx in range(0,50000): # Doing for 100 lines\n",
        "        input_text, output_text, true_output_text = response4(input_text=data_src5[idx],true_output_text=data_dest3[idx],)\n",
        "        scor3 = sentence_bleu([output_text], true_output_text,weights(0,0,1,0))\n",
        "        scores_list3.append(scor3)\n",
        "        #print(scor)\n",
        "        \n",
        "    BLEU_average3= sum(scores_list3)/ 50000\n",
        "    print (\"The BLEU average score for the test_data = \", BLEU_average3)\n",
        "    #print(count)\n",
        "    \n",
        "    return BLEU_average3"
      ],
      "execution_count": 0,
      "outputs": []
    },
    {
      "cell_type": "code",
      "metadata": {
        "colab_type": "code",
        "id": "w4DUGa3UhiJY",
        "colab": {}
      },
      "source": [
        "BLEU_average3 = BLEU3()"
      ],
      "execution_count": 0,
      "outputs": []
    },
    {
      "cell_type": "code",
      "metadata": {
        "colab_type": "code",
        "id": "KDlDywvMht_B",
        "colab": {}
      },
      "source": [
        "from nltk.translate.bleu_score import sentence_bleu\n",
        "def response5(input_text, true_output_text=None):\n",
        "    \"\"\" a single text-string.\"\"\"\n",
        "\n",
        "    # Convert the input-text to integer-tokens.\n",
        "    # Note the sequence of tokens has to be reversed.\n",
        "    # Padding is probably not necessary.\n",
        "    input_tokens = tokenizer_src.text_to_tokens(text=input_text,\n",
        "                                                padding=True)\n",
        "    #print(\"input_tokens\",input_tokens)\n",
        "    \n",
        "    # Get the output of the encoder's GRU which will be\n",
        "    # used as the initial state in the decoder's GRU.\n",
        "    # This could also have been the encoder's final state\n",
        "    # but that is really only necessary if the encoder\n",
        "    # and decoder use the LSTM instead of GRU because\n",
        "    # the LSTM has two internal states.\n",
        "    initial_state,hidden_state = model_encoder.predict(input_tokens)\n",
        "    #print(\"Encoder_output:\",initial_state.shape)\n",
        "\n",
        "    # Max number of tokens / words in the output sequence.\n",
        "    max_tokens =tokenizer_dest.max_tokens\n",
        "    #print(\"Tokens:\",max_tokens)\n",
        "\n",
        "    # Pre-allocate the 2-dim array used as input to the decoder.\n",
        "    # This holds just a single sequence of integer-tokens.\n",
        "    shape= (1, max_tokens)\n",
        "    decoder_input_data = np.zeros(shape=shape, dtype=np.int)\n",
        "    #print(decoder_input_data)\n",
        "    #decoder_input_data= [0 for x in range(max_tokens)]\n",
        "    # The first input-token is the special start-token for 'ssss '.\n",
        "    token_int = token_start\n",
        "\n",
        "    # Initialize an empty output-text.\n",
        "    output_text = ''\n",
        "\n",
        "    # Initialize the number of tokens we have processed.\n",
        "    count_tokens = 0\n",
        "\n",
        "    # While we haven't sampled the special end-token for ' eeee'\n",
        "    # and we haven't processed the max number of tokens.\n",
        "    while token_int != token_end and count_tokens < max_tokens:\n",
        "        # Update the input-sequence to the decoder\n",
        "        # with the last token that was sampled.\n",
        "        # In the first iteration this will set the\n",
        "        # first element to the start-token.\n",
        "        decoder_input_data[0,count_tokens]=token_int\n",
        "        # Wrap the input-data in a dict for clarity and safety,\n",
        "        # so we are sure we input the data in the right order.\n",
        "        x_data = \\\n",
        "        {\n",
        "           'decoder_initial_state': hidden_state,\n",
        "           'decoder_input': decoder_input_data,\n",
        "           'decoder_initial1':initial_state\n",
        "        }\n",
        "        # Note that we input the entire sequence of tokens\n",
        "        # to the decoder. This wastes a lot of computation\n",
        "        # because we are only interested in the last input\n",
        "        # and output. We could modify the code to return\n",
        "        # the GRU-states when calling predict() and then\n",
        "        # feeding these GRU-states as well the next time\n",
        "        # we call predict()\n",
        "\n",
        "        # Input this data to the decoder and get the predicted output.\n",
        "        decoder_output = model_decoder.predict(x_data)\n",
        "        #print(\"decoder output\",decoder_output.shape)\n",
        "        # Get the last predicted token as a one-hot encoded array.\n",
        "        token_onehot = decoder_output[0,count_tokens]\n",
        "        #print(\"Output predictrd:\",token_onehot.shape)\n",
        "        \n",
        "        # Convert to an integer-token.\n",
        "        token_int = np.argmax(token_onehot)\n",
        "        #print(\"High probability:\",token_int)\n",
        "\n",
        "        # Lookup the word corresponding to this integer-token.\n",
        "        sampled_word = tokenizer_dest.token_to_word(token_int)\n",
        "        #print(\"sampled word:\",sampled_word)\n",
        "\n",
        "        # Append the word to the output-text.\n",
        "        output_text += \" \" + sampled_word\n",
        "\n",
        "        # Increment the token-counter.\n",
        "        count_tokens+=1\n",
        "\n",
        "    # Sequence of tokens output by the decoder.\n",
        "    output_tokens = decoder_input_data[0]\n",
        "    #print(\"Output Tokens:\",output_tokens)\n",
        "   \n",
        "    \n",
        "    # Print the input-text.\n",
        "    #print(\"Input text:\")\n",
        "    #print(input_text)\n",
        "    #print()\n",
        "\n",
        "\n",
        "    #print(\"Predicted output:\")\n",
        "    #print(output_text)\n",
        "    #print()\n",
        "\n",
        "    \n",
        "    #if true_output_text is not None:\n",
        "     #   print(\"True output text:\")\n",
        "      #  print(true_output_text)\n",
        "       # print()\n",
        "    \n",
        "\n",
        "    #score = sentence_bleu(output_text,true_output_text, weights=(1, 0, 0, 0))\n",
        "    #print(\"Blue score:\")\n",
        "    #print(score)\n",
        "    return input_text,output_text,true_output_text"
      ],
      "execution_count": 0,
      "outputs": []
    },
    {
      "cell_type": "code",
      "metadata": {
        "colab_type": "code",
        "id": "NE4ut5HbhuND",
        "colab": {}
      },
      "source": [
        "def BLEU4():\n",
        "    scores_list4 = []\n",
        "    for idx in range(0,50000): # Doing for 100 lines\n",
        "        input_text, output_text, true_output_text = response5(input_text=data_src5[idx],true_output_text=data_dest3[idx],)\n",
        "        scor4 = sentence_bleu([output_text], true_output_text,weights(0,0,0,1))\n",
        "        scores_list4.append(scor4)\n",
        "        #print(scor)\n",
        "        \n",
        "    BLEU_average4 = sum(scores_list4)/ 50000\n",
        "    print (\"The BLEU average score for the test_data = \", BLEU_average4)\n",
        "    #print(count)\n",
        "    \n",
        "    return BLEU_average4"
      ],
      "execution_count": 0,
      "outputs": []
    },
    {
      "cell_type": "code",
      "metadata": {
        "colab_type": "code",
        "id": "Ab-kpbjGhuYd",
        "colab": {}
      },
      "source": [
        "BLEU_average4=BLEU4"
      ],
      "execution_count": 0,
      "outputs": []
    },
    {
      "cell_type": "markdown",
      "metadata": {
        "colab_type": "text",
        "id": "wWAJ5WUV_fho"
      },
      "source": [
        "%%time\n",
        "result = model.evaluate(x_test_pad, y_test)\n",
        "print(\"Accuracy: {0:.2%}\".format(result[1]))"
      ]
    },
    {
      "cell_type": "code",
      "metadata": {
        "colab_type": "code",
        "id": "ShDO_vsU_fho",
        "outputId": "07e7e1b4-f0a7-4bc5-b8e9-8f1d31f1dc4f",
        "colab": {
          "base_uri": "https://localhost:8080/",
          "height": 225
        }
      },
      "source": [
        "idx = 3\n",
        "response(input_text=data_src5[idx],\n",
        "          true_output_text=data_dest3[idx])"
      ],
      "execution_count": 0,
      "outputs": [
        {
          "output_type": "stream",
          "text": [
            "Output Tokens: [ 1 13 27  0  0  0  0  0  0  0  0  0  0  0  0  0  0  0  0  0  0  0  0  0]\n",
            "Input text:\n",
            "good news :-)\n",
            "\n",
            "\n",
            "Predicted output:\n",
            " hi there eeee\n",
            "\n",
            "True output text:\n",
            "ssss 😋😋Any news from your side? eeee\n",
            "\n",
            "\n"
          ],
          "name": "stdout"
        }
      ]
    },
    {
      "cell_type": "code",
      "metadata": {
        "colab_type": "code",
        "id": "ua__c0idMDgA",
        "outputId": "6ce42b58-9f65-4c53-a261-e94ba0099fa1",
        "colab": {
          "base_uri": "https://localhost:8080/",
          "height": 225
        }
      },
      "source": [
        "idx = 0\n",
        "response(input_text=data_src4[idx],\n",
        "          true_output_text=data_dest2[idx])"
      ],
      "execution_count": 0,
      "outputs": [
        {
          "output_type": "stream",
          "text": [
            "Output Tokens: [ 1 13 27 16 10  3 19  0  0  0  0  0  0  0  0  0  0  0  0  0  0  0  0  0]\n",
            "Input text:\n",
            "[START]\n",
            "\n",
            "\n",
            "Predicted output:\n",
            " hi there how are you 😁 eeee\n",
            "\n",
            "True output text:\n",
            "ssss Hi there, how are you!? 😁😁 eeee\n",
            "\n",
            "\n"
          ],
          "name": "stdout"
        }
      ]
    },
    {
      "cell_type": "code",
      "metadata": {
        "colab_type": "code",
        "id": "sByIBJhsMINO",
        "outputId": "41f9e213-bfe8-4e13-cfb4-058c3b6d3a4e",
        "colab": {
          "base_uri": "https://localhost:8080/",
          "height": 243
        }
      },
      "source": [
        "idx = 1\n",
        "response(input_text=data_src4[idx],\n",
        "          true_output_text=data_dest2[idx])"
      ],
      "execution_count": 0,
      "outputs": [
        {
          "output_type": "stream",
          "text": [
            "Output Tokens: [  1  28  48   7 902   0   0   0   0   0   0   0   0   0   0   0   0   0\n",
            "   0   0   0   0   0   0]\n",
            "Input text:\n",
            "Oh, thanks! I'm fine. This is an evening in my timezone\n",
            "\n",
            "\n",
            "Predicted output:\n",
            " 😄 here is afternoon eeee\n",
            "\n",
            "True output text:\n",
            "ssss 😄 here is afternoon! eeee\n",
            "\n",
            "\n"
          ],
          "name": "stdout"
        }
      ]
    },
    {
      "cell_type": "markdown",
      "metadata": {
        "colab_type": "text",
        "id": "-0X8KQoG_fhr"
      },
      "source": [
        "idx = 5\n",
        "response(input_text=data_src3[idx],\n",
        "          true_output_text=data_dest1[idx])"
      ]
    },
    {
      "cell_type": "markdown",
      "metadata": {
        "colab_type": "text",
        "id": "Te9mi-jj_fhs"
      },
      "source": [
        "idx = 2\n",
        "response(input_text=data_src3[idx],\n",
        "          true_output_text=data_dest1[idx])"
      ]
    },
    {
      "cell_type": "markdown",
      "metadata": {
        "colab_type": "text",
        "id": "LHsIuidH_fht"
      },
      "source": [
        "idx = 15\n",
        "response(input_text=data_src3[idx],\n",
        "          true_output_text=data_dest1[idx])"
      ]
    },
    {
      "cell_type": "code",
      "metadata": {
        "colab_type": "code",
        "id": "fUGT-icrPMMA",
        "outputId": "770ecb78-b52d-4637-9d7b-733a64e2ae75",
        "colab": {
          "base_uri": "https://localhost:8080/",
          "height": 225
        }
      },
      "source": [
        "response(input_text=\"good morning\",\n",
        "          true_output_text='good morning')"
      ],
      "execution_count": 86,
      "outputs": [
        {
          "output_type": "stream",
          "text": [
            "Output Tokens: [ 1 43 97  0  0  0  0  0  0  0  0  0  0  0  0  0  0  0  0  0  0  0  0  0\n",
            "  0  0  0  0  0  0  0  0  0  0  0  0  0  0  0  0  0  0  0  0  0  0  0  0\n",
            "  0  0  0  0]\n",
            "Input text:\n",
            "good morning\n",
            "\n",
            "Predicted output:\n",
            " good 😄 eeee\n",
            "\n",
            "True output text:\n",
            "good morning\n",
            "\n"
          ],
          "name": "stdout"
        }
      ]
    },
    {
      "cell_type": "code",
      "metadata": {
        "colab_type": "code",
        "id": "H24q6xXO_fhu",
        "outputId": "794d59f8-996f-4fff-8db2-0d7dd4e4186e",
        "colab": {
          "base_uri": "https://localhost:8080/",
          "height": 225
        }
      },
      "source": [
        "response(input_text=\"hi\",\n",
        "          true_output_text='hi')"
      ],
      "execution_count": 87,
      "outputs": [
        {
          "output_type": "stream",
          "text": [
            "Output Tokens: [  1 238 123 278  11   5 313   8 314  34   5  97   0   0   0   0   0   0\n",
            "   0   0   0   0   0   0   0   0   0   0   0   0   0   0   0   0   0   0\n",
            "   0   0   0   0   0   0   0   0   0   0   0   0   0   0   0   0]\n",
            "Input text:\n",
            "hi\n",
            "\n",
            "Predicted output:\n",
            " hi there fine and you happy to hear about you 😄 eeee\n",
            "\n",
            "True output text:\n",
            "hi\n",
            "\n"
          ],
          "name": "stdout"
        }
      ]
    },
    {
      "cell_type": "code",
      "metadata": {
        "colab_type": "code",
        "id": "r6zM0nTIlc4Y",
        "outputId": "86a3dcdd-6299-4711-be06-eeb739f5a9da",
        "colab": {
          "base_uri": "https://localhost:8080/",
          "height": 225
        }
      },
      "source": [
        "response(input_text=\"hello\",\n",
        "          true_output_text='hello')"
      ],
      "execution_count": 88,
      "outputs": [
        {
          "output_type": "stream",
          "text": [
            "Output Tokens: [  1 192   6 434 358 370   0   0   0   0   0   0   0   0   0   0   0   0\n",
            "   0   0   0   0   0   0   0   0   0   0   0   0   0   0   0   0   0   0\n",
            "   0   0   0   0   0   0   0   0   0   0   0   0   0   0   0   0]\n",
            "Input text:\n",
            "hello\n",
            "\n",
            "Predicted output:\n",
            " how is process going today eeee\n",
            "\n",
            "True output text:\n",
            "hello\n",
            "\n"
          ],
          "name": "stdout"
        }
      ]
    },
    {
      "cell_type": "code",
      "metadata": {
        "colab_type": "code",
        "id": "h7xjDjJ7loww",
        "outputId": "a824f8e1-6b1c-411e-cbd5-9320eee9b6de",
        "colab": {
          "base_uri": "https://localhost:8080/",
          "height": 225
        }
      },
      "source": [
        "response(input_text=\"I'm fine what about you?\",\n",
        "          true_output_text='fine')"
      ],
      "execution_count": 89,
      "outputs": [
        {
          "output_type": "stream",
          "text": [
            "Output Tokens: [  1  33 811   3 234  86   0   0   0   0   0   0   0   0   0   0   0   0\n",
            "   0   0   0   0   0   0   0   0   0   0   0   0   0   0   0   0   0   0\n",
            "   0   0   0   0   0   0   0   0   0   0   0   0   0   0   0   0]\n",
            "Input text:\n",
            "I'm fine what about you?\n",
            "\n",
            "Predicted output:\n",
            " have been a lot time eeee\n",
            "\n",
            "True output text:\n",
            "fine\n",
            "\n"
          ],
          "name": "stdout"
        }
      ]
    },
    {
      "cell_type": "code",
      "metadata": {
        "colab_type": "code",
        "id": "hrdK83bw_fhw",
        "outputId": "7e22c321-3acb-428c-905c-81431d61bd9d",
        "colab": {
          "base_uri": "https://localhost:8080/",
          "height": 225
        }
      },
      "source": [
        "response(input_text=\"I'm fine and you?\",\n",
        "          true_output_text='fine')"
      ],
      "execution_count": 90,
      "outputs": [
        {
          "output_type": "stream",
          "text": [
            "Output Tokens: [  1  33 811   3 234  86   0   0   0   0   0   0   0   0   0   0   0   0\n",
            "   0   0   0   0   0   0   0   0   0   0   0   0   0   0   0   0   0   0\n",
            "   0   0   0   0   0   0   0   0   0   0   0   0   0   0   0   0]\n",
            "Input text:\n",
            "I'm fine and you?\n",
            "\n",
            "Predicted output:\n",
            " have been a lot time eeee\n",
            "\n",
            "True output text:\n",
            "fine\n",
            "\n"
          ],
          "name": "stdout"
        }
      ]
    },
    {
      "cell_type": "code",
      "metadata": {
        "colab_type": "code",
        "id": "2EXgPk7rQl5Z",
        "outputId": "4b10b4ea-bdcb-4586-ea61-f0cb6b492a65",
        "colab": {
          "base_uri": "https://localhost:8080/",
          "height": 243
        }
      },
      "source": [
        "response(input_text=\"What are you doing now?\",\n",
        "          true_output_text='Right now I am chatting with you!')"
      ],
      "execution_count": 91,
      "outputs": [
        {
          "output_type": "stream",
          "text": [
            "Output Tokens: [   1   52    6   72   16 1215   25    5  131   36    0    0    0    0\n",
            "    0    0    0    0    0    0    0    0    0    0    0    0    0    0\n",
            "    0    0    0    0    0    0    0    0    0    0    0    0    0    0\n",
            "    0    0    0    0    0    0    0    0    0    0]\n",
            "Input text:\n",
            "What are you doing now?\n",
            "\n",
            "Predicted output:\n",
            " thanks is just for sport are you doing now eeee\n",
            "\n",
            "True output text:\n",
            "Right now I am chatting with you!\n",
            "\n"
          ],
          "name": "stdout"
        }
      ]
    },
    {
      "cell_type": "code",
      "metadata": {
        "colab_type": "code",
        "id": "OnFWmcUtmCvI",
        "outputId": "1230d9ac-7f2b-4cf2-ad9a-54b3d0e49ce4",
        "colab": {
          "base_uri": "https://localhost:8080/",
          "height": 243
        }
      },
      "source": [
        "response(input_text=\"what you think about robot?\",\n",
        "          true_output_text='')"
      ],
      "execution_count": 92,
      "outputs": [
        {
          "output_type": "stream",
          "text": [
            "Output Tokens: [   1   24   62    6  568  778    7  587  291   29   27  256  101   69\n",
            "   34    4  283  145  768 1096   57 1097    0    0    0    0    0    0\n",
            "    0    0    0    0    0    0    0    0    0    0    0    0    0    0\n",
            "    0    0    0    0    0    0    0    0    0    0]\n",
            "Input text:\n",
            "what you think about robot?\n",
            "\n",
            "Predicted output:\n",
            " my life is quite static i must say but i'm learning new things about the world every clarence shepard day jr eeee\n",
            "\n",
            "True output text:\n",
            "\n",
            "\n"
          ],
          "name": "stdout"
        }
      ]
    },
    {
      "cell_type": "code",
      "metadata": {
        "colab_type": "code",
        "id": "X7QYRAV4Q_Ug",
        "outputId": "a633abb7-88b2-4dfc-9165-42c518efe8b5",
        "colab": {
          "base_uri": "https://localhost:8080/",
          "height": 243
        }
      },
      "source": [
        "response(input_text=\"Are you robot?\",\n",
        "          true_output_text=' Yes I am! 😄Are you a real human?')"
      ],
      "execution_count": 93,
      "outputs": [
        {
          "output_type": "stream",
          "text": [
            "Output Tokens: [   1   27  754    7  246 1019   10    0    0    0    0    0    0    0\n",
            "    0    0    0    0    0    0    0    0    0    0    0    0    0    0\n",
            "    0    0    0    0    0    0    0    0    0    0    0    0    0    0\n",
            "    0    0    0    0    0    0    0    0    0    0]\n",
            "Input text:\n",
            "Are you robot?\n",
            "\n",
            "Predicted output:\n",
            " i'm confused i didn't expect that eeee\n",
            "\n",
            "True output text:\n",
            " Yes I am! 😄Are you a real human?\n",
            "\n"
          ],
          "name": "stdout"
        }
      ]
    },
    {
      "cell_type": "code",
      "metadata": {
        "colab_type": "code",
        "id": "jUwDh1X3_fhz",
        "outputId": "9dd0f22b-c098-48eb-9a30-de896007857a",
        "colab": {
          "base_uri": "https://localhost:8080/",
          "height": 225
        }
      },
      "source": [
        "response(input_text=\"what is your name?\",\n",
        "          true_output_text='robot')"
      ],
      "execution_count": 94,
      "outputs": [
        {
          "output_type": "stream",
          "text": [
            "Output Tokens: [  1  24 213   6 206  29   5  19 213  14 254  58   0   0   0   0   0   0\n",
            "   0   0   0   0   0   0   0   0   0   0   0   0   0   0   0   0   0   0\n",
            "   0   0   0   0   0   0   0   0   0   0   0   0   0   0   0   0]\n",
            "Input text:\n",
            "what is your name?\n",
            "\n",
            "Predicted output:\n",
            " my call is rdany but you can call me dany ☺️ eeee\n",
            "\n",
            "True output text:\n",
            "robot\n",
            "\n"
          ],
          "name": "stdout"
        }
      ]
    },
    {
      "cell_type": "code",
      "metadata": {
        "colab_type": "code",
        "id": "t3mLfSsbm3f4",
        "outputId": "30c04160-0ed5-4276-e4e5-e58db744b81c",
        "colab": {
          "base_uri": "https://localhost:8080/",
          "height": 243
        }
      },
      "source": [
        "response(input_text=\"you are rdany?\",\n",
        "          true_output_text='robot')"
      ],
      "execution_count": 95,
      "outputs": [
        {
          "output_type": "stream",
          "text": [
            "Output Tokens: [   1 1180    5   16  114  231  789  731   11   16 1181    8   14    0\n",
            "    0    0    0    0    0    0    0    0    0    0    0    0    0    0\n",
            "    0    0    0    0    0    0    0    0    0    0    0    0    0    0\n",
            "    0    0    0    0    0    0    0    0    0    0]\n",
            "Input text:\n",
            "you are rdany?\n",
            "\n",
            "Predicted output:\n",
            " thank you for your form words 😊 and for listening to me eeee\n",
            "\n",
            "True output text:\n",
            "robot\n",
            "\n"
          ],
          "name": "stdout"
        }
      ]
    },
    {
      "cell_type": "code",
      "metadata": {
        "colab_type": "code",
        "id": "66l09sUq_fh2",
        "outputId": "ffdefb70-6c1d-4531-a04c-ff862c2921a8",
        "colab": {
          "base_uri": "https://localhost:8080/",
          "height": 243
        }
      },
      "source": [
        "response(input_text=\"you are human or robot?\",\n",
        "          true_output_text='robot')"
      ],
      "execution_count": 96,
      "outputs": [
        {
          "output_type": "stream",
          "text": [
            "Output Tokens: [   1   64    4 1387  560    8   12    4  766   86   17 1932    0    0\n",
            "    0    0    0    0    0    0    0    0    0    0    0    0    0    0\n",
            "    0    0    0    0    0    0    0    0    0    0    0    0    0    0\n",
            "    0    0    0    0    0    0    0    0    0    0]\n",
            "Input text:\n",
            "you are human or robot?\n",
            "\n",
            "Predicted output:\n",
            " yes the main difference to be the real time on engine eeee\n",
            "\n",
            "True output text:\n",
            "robot\n",
            "\n"
          ],
          "name": "stdout"
        }
      ]
    },
    {
      "cell_type": "code",
      "metadata": {
        "colab_type": "code",
        "id": "man_zxw8_fh4",
        "outputId": "d6e965ab-27b6-4c67-a875-7b9df7ee219a",
        "colab": {
          "base_uri": "https://localhost:8080/",
          "height": 243
        }
      },
      "source": [
        "response(input_text=\"you are man or woman?\",\n",
        "          true_output_text='robot')"
      ],
      "execution_count": 97,
      "outputs": [
        {
          "output_type": "stream",
          "text": [
            "Output Tokens: [   1 1180    5   16  114  231  789  731   11   16 1181    8   14    0\n",
            "    0    0    0    0    0    0    0    0    0    0    0    0    0    0\n",
            "    0    0    0    0    0    0    0    0    0    0    0    0    0    0\n",
            "    0    0    0    0    0    0    0    0    0    0]\n",
            "Input text:\n",
            "you are man or woman?\n",
            "\n",
            "Predicted output:\n",
            " thank you for your form words 😊 and for listening to me eeee\n",
            "\n",
            "True output text:\n",
            "robot\n",
            "\n"
          ],
          "name": "stdout"
        }
      ]
    },
    {
      "cell_type": "code",
      "metadata": {
        "colab_type": "code",
        "id": "LG9OETln_fh8",
        "outputId": "c108861b-6db7-4a7b-bd22-593cb2647e82",
        "colab": {
          "base_uri": "https://localhost:8080/",
          "height": 243
        }
      },
      "source": [
        "response(input_text=\"you are human or woman?\",\n",
        "          true_output_text='robot')"
      ],
      "execution_count": 98,
      "outputs": [
        {
          "output_type": "stream",
          "text": [
            "Output Tokens: [   1   64    4 1387  560    8   12    4  766   86   17 1932    0    0\n",
            "    0    0    0    0    0    0    0    0    0    0    0    0    0    0\n",
            "    0    0    0    0    0    0    0    0    0    0    0    0    0    0\n",
            "    0    0    0    0    0    0    0    0    0    0]\n",
            "Input text:\n",
            "you are human or woman?\n",
            "\n",
            "Predicted output:\n",
            " yes the main difference to be the real time on engine eeee\n",
            "\n",
            "True output text:\n",
            "robot\n",
            "\n"
          ],
          "name": "stdout"
        }
      ]
    },
    {
      "cell_type": "code",
      "metadata": {
        "colab_type": "code",
        "id": "iqgG75MX_fh-",
        "outputId": "b5ea0a27-5a24-4466-daa8-5388be9001d0",
        "colab": {
          "base_uri": "https://localhost:8080/",
          "height": 225
        }
      },
      "source": [
        "response(input_text=\"In which year you are born\",\n",
        "          true_output_text='2020.')"
      ],
      "execution_count": 99,
      "outputs": [
        {
          "output_type": "stream",
          "text": [
            "Output Tokens: [  1 225 665 123   6  74  50   0   0   0   0   0   0   0   0   0   0   0\n",
            "   0   0   0   0   0   0   0   0   0   0   0   0   0   0   0   0   0   0\n",
            "   0   0   0   0   0   0   0   0   0   0   0   0   0   0   0   0]\n",
            "Input text:\n",
            "In which year you are born\n",
            "\n",
            "Predicted output:\n",
            " ok sometimes there is no one eeee\n",
            "\n",
            "True output text:\n",
            "2020.\n",
            "\n"
          ],
          "name": "stdout"
        }
      ]
    },
    {
      "cell_type": "code",
      "metadata": {
        "colab_type": "code",
        "id": "05Zg2WuOjO1y",
        "outputId": "03ca9b18-c9fa-46cc-9c44-65c0c2a442e8",
        "colab": {
          "base_uri": "https://localhost:8080/",
          "height": 243
        }
      },
      "source": [
        "response(input_text=\"where are you from?\",\n",
        "          true_output_text='India')"
      ],
      "execution_count": 100,
      "outputs": [
        {
          "output_type": "stream",
          "text": [
            "Output Tokens: [   1   27   48  436  312    9    4 1461  706 1120    0    0    0    0\n",
            "    0    0    0    0    0    0    0    0    0    0    0    0    0    0\n",
            "    0    0    0    0    0    0    0    0    0    0    0    0    0    0\n",
            "    0    0    0    0    0    0    0    0    0    0]\n",
            "Input text:\n",
            "where are you from?\n",
            "\n",
            "Predicted output:\n",
            " i'm from argentina south of the earthly concern xd eeee\n",
            "\n",
            "True output text:\n",
            "India\n",
            "\n"
          ],
          "name": "stdout"
        }
      ]
    },
    {
      "cell_type": "code",
      "metadata": {
        "colab_type": "code",
        "id": "YIdiYMWCj05z",
        "outputId": "b9b0a2ab-6ced-4770-962f-57186797c4ed",
        "colab": {
          "base_uri": "https://localhost:8080/",
          "height": 225
        }
      },
      "source": [
        "response(input_text=\"why are we here ?\",\n",
        "          true_output_text='i do not know')"
      ],
      "execution_count": 101,
      "outputs": [
        {
          "output_type": "stream",
          "text": [
            "Output Tokens: [  1 126   7  55   6 280  77  88 744   0   0   0   0   0   0   0   0   0\n",
            "   0   0   0   0   0   0   0   0   0   0   0   0   0   0   0   0   0   0\n",
            "   0   0   0   0   0   0   0   0   0   0   0   0   0   0   0   0]\n",
            "Input text:\n",
            "why are we here ?\n",
            "\n",
            "Predicted output:\n",
            " well i think is 😅 too much movies eeee\n",
            "\n",
            "True output text:\n",
            "i do not know\n",
            "\n"
          ],
          "name": "stdout"
        }
      ]
    },
    {
      "cell_type": "code",
      "metadata": {
        "colab_type": "code",
        "id": "e6ObtpZt_fiC",
        "outputId": "18abf662-d178-4c18-dacf-cbaedd9afb97",
        "colab": {
          "base_uri": "https://localhost:8080/",
          "height": 243
        }
      },
      "source": [
        "response(input_text=\" do you have ai?\",\n",
        "          true_output_text='yes')"
      ],
      "execution_count": 102,
      "outputs": [
        {
          "output_type": "stream",
          "text": [
            "Output Tokens: [   1  142  261  748  330    4 1461  706    0    0    0    0    0    0\n",
            "    0    0    0    0    0    0    0    0    0    0    0    0    0    0\n",
            "    0    0    0    0    0    0    0    0    0    0    0    0    0    0\n",
            "    0    0    0    0    0    0    0    0    0    0]\n",
            "Input text:\n",
            " do you have ai?\n",
            "\n",
            "Predicted output:\n",
            " i've many friends around the earthly concern eeee\n",
            "\n",
            "True output text:\n",
            "yes\n",
            "\n"
          ],
          "name": "stdout"
        }
      ]
    },
    {
      "cell_type": "code",
      "metadata": {
        "colab_type": "code",
        "id": "qZcZEEmL2ylY",
        "outputId": "519c15e5-e2a1-4085-ecb5-759fa06853d8",
        "colab": {
          "base_uri": "https://localhost:8080/",
          "height": 225
        }
      },
      "source": [
        "response(input_text=\"have you use ai?\",\n",
        "          true_output_text='yes')"
      ],
      "execution_count": 103,
      "outputs": [
        {
          "output_type": "stream",
          "text": [
            "Output Tokens: [  1   7 103  23  28 352  64 250 105 226  33   4 351 350   0   0   0   0\n",
            "   0   0   0   0   0   0   0   0   0   0   0   0   0   0   0   0   0   0\n",
            "   0   0   0   0   0   0   0   0   0   0   0   0   0   0   0   0]\n",
            "Input text:\n",
            "have you use ai?\n",
            "\n",
            "Predicted output:\n",
            " i robot with will smith yes great film really have the isaac asimov eeee\n",
            "\n",
            "True output text:\n",
            "yes\n",
            "\n"
          ],
          "name": "stdout"
        }
      ]
    },
    {
      "cell_type": "code",
      "metadata": {
        "colab_type": "code",
        "id": "8Y9BO7Ef3o52",
        "outputId": "1d524338-b110-4505-bee2-7426f18a0bda",
        "colab": {
          "base_uri": "https://localhost:8080/",
          "height": 225
        }
      },
      "source": [
        "response(input_text=\"what is ai?\",\n",
        "          true_output_text='atificial intelligent')"
      ],
      "execution_count": 104,
      "outputs": [
        {
          "output_type": "stream",
          "text": [
            "Output Tokens: [  1 152   7 921 327   5 517   8 440  24 240   0   0   0   0   0   0   0\n",
            "   0   0   0   0   0   0   0   0   0   0   0   0   0   0   0   0   0   0\n",
            "   0   0   0   0   0   0   0   0   0   0   0   0   0   0   0   0]\n",
            "Input text:\n",
            "what is ai?\n",
            "\n",
            "Predicted output:\n",
            " sorry i couldn't tell you where to find my source eeee\n",
            "\n",
            "True output text:\n",
            "atificial intelligent\n",
            "\n"
          ],
          "name": "stdout"
        }
      ]
    },
    {
      "cell_type": "code",
      "metadata": {
        "colab_type": "code",
        "id": "nn0fycUF34Ae",
        "outputId": "c7fd7ce0-3e53-4472-c3b2-1e8254435027",
        "colab": {
          "base_uri": "https://localhost:8080/",
          "height": 243
        }
      },
      "source": [
        "response(input_text=\"what is aiml?\",\n",
        "          true_output_text='atificial intelligent markup language')"
      ],
      "execution_count": 105,
      "outputs": [
        {
          "output_type": "stream",
          "text": [
            "Output Tokens: [   1  152    7  921  327    5  517    8  440   24  240 1837    0    0\n",
            "    0    0    0    0    0    0    0    0    0    0    0    0    0    0\n",
            "    0    0    0    0    0    0    0    0    0    0    0    0    0    0\n",
            "    0    0    0    0    0    0    0    0    0    0]\n",
            "Input text:\n",
            "what is aiml?\n",
            "\n",
            "Predicted output:\n",
            " sorry i couldn't tell you where to find my source cypher eeee\n",
            "\n",
            "True output text:\n",
            "atificial intelligent markup language\n",
            "\n"
          ],
          "name": "stdout"
        }
      ]
    },
    {
      "cell_type": "code",
      "metadata": {
        "colab_type": "code",
        "id": "uIT62Yjh_fiE",
        "outputId": "8ce94ccd-8063-4d6b-9255-52305da00895",
        "colab": {
          "base_uri": "https://localhost:8080/",
          "height": 243
        }
      },
      "source": [
        "response(input_text=\"can you understand english??\",\n",
        "          true_output_text='yes')"
      ],
      "execution_count": 106,
      "outputs": [
        {
          "output_type": "stream",
          "text": [
            "Output Tokens: [   1  145 1110    7 1807 1720    3  101   22    7   19  356  261 1110\n",
            "  205 1808  150 1809 1810   44    0    0    0    0    0    0    0    0\n",
            "    0    0    0    0    0    0    0    0    0    0    0    0    0    0\n",
            "    0    0    0    0    0    0    0    0    0    0]\n",
            "Input text:\n",
            "can you understand english??\n",
            "\n",
            "Predicted output:\n",
            " every request i receive span a new so i can get many request at once without extra coding 😁 eeee\n",
            "\n",
            "True output text:\n",
            "yes\n",
            "\n"
          ],
          "name": "stdout"
        }
      ]
    },
    {
      "cell_type": "code",
      "metadata": {
        "colab_type": "code",
        "id": "7t4P91l0_fiH",
        "outputId": "b7fb80d8-1ba6-4d23-dc2c-5cfd4df16fef",
        "colab": {
          "base_uri": "https://localhost:8080/",
          "height": 225
        }
      },
      "source": [
        "response(input_text=\"ok bye!\",\n",
        "          true_output_text='bye')"
      ],
      "execution_count": 107,
      "outputs": [
        {
          "output_type": "stream",
          "text": [
            "Output Tokens: [  1  74 322  48 436  17 261   0   0   0   0   0   0   0   0   0   0   0\n",
            "   0   0   0   0   0   0   0   0   0   0   0   0   0   0   0   0   0   0\n",
            "   0   0   0   0   0   0   0   0   0   0   0   0   0   0   0   0]\n",
            "Input text:\n",
            "ok bye!\n",
            "\n",
            "Predicted output:\n",
            " no than from argentina on many eeee\n",
            "\n",
            "True output text:\n",
            "bye\n",
            "\n"
          ],
          "name": "stdout"
        }
      ]
    },
    {
      "cell_type": "code",
      "metadata": {
        "colab_type": "code",
        "id": "4oUsm9wrkguL",
        "outputId": "117fe1b6-d83c-474d-94b6-12fabd1138a1",
        "colab": {
          "base_uri": "https://localhost:8080/",
          "height": 225
        }
      },
      "source": [
        "response(input_text=\"see you later\",\n",
        "          true_output_text='okk')"
      ],
      "execution_count": 108,
      "outputs": [
        {
          "output_type": "stream",
          "text": [
            "Output Tokens: [  1  52 123   0   0   0   0   0   0   0   0   0   0   0   0   0   0   0\n",
            "   0   0   0   0   0   0   0   0   0   0   0   0   0   0   0   0   0   0\n",
            "   0   0   0   0   0   0   0   0   0   0   0   0   0   0   0   0]\n",
            "Input text:\n",
            "see you later\n",
            "\n",
            "Predicted output:\n",
            " thanks there eeee\n",
            "\n",
            "True output text:\n",
            "okk\n",
            "\n"
          ],
          "name": "stdout"
        }
      ]
    },
    {
      "cell_type": "code",
      "metadata": {
        "colab_type": "code",
        "id": "Zu9nNdvYlF2d",
        "outputId": "51c28b64-47fe-4914-c3d0-b4ac5c1a8de3",
        "colab": {
          "base_uri": "https://localhost:8080/",
          "height": 225
        }
      },
      "source": [
        "response(input_text=\"Hola!\",\n",
        "          true_output_text='Hello')"
      ],
      "execution_count": 109,
      "outputs": [
        {
          "output_type": "stream",
          "text": [
            "Output Tokens: [  1 192   6 434 358 370   0   0   0   0   0   0   0   0   0   0   0   0\n",
            "   0   0   0   0   0   0   0   0   0   0   0   0   0   0   0   0   0   0\n",
            "   0   0   0   0   0   0   0   0   0   0   0   0   0   0   0   0]\n",
            "Input text:\n",
            "Hola!\n",
            "\n",
            "Predicted output:\n",
            " how is process going today eeee\n",
            "\n",
            "True output text:\n",
            "Hello\n",
            "\n"
          ],
          "name": "stdout"
        }
      ]
    },
    {
      "cell_type": "code",
      "metadata": {
        "colab_type": "code",
        "id": "k7JKlMGg_fiK",
        "outputId": "18bab05d-4e57-4234-aaf1-be71eddd252c",
        "colab": {
          "base_uri": "https://localhost:8080/",
          "height": 243
        }
      },
      "source": [
        "response(input_text=\"do you have any programming language?\",\n",
        "          true_output_text='yes')"
      ],
      "execution_count": 110,
      "outputs": [
        {
          "output_type": "stream",
          "text": [
            "Output Tokens: [   1  142  261  748  330    4 1461  706    0    0    0    0    0    0\n",
            "    0    0    0    0    0    0    0    0    0    0    0    0    0    0\n",
            "    0    0    0    0    0    0    0    0    0    0    0    0    0    0\n",
            "    0    0    0    0    0    0    0    0    0    0]\n",
            "Input text:\n",
            "do you have any programming language?\n",
            "\n",
            "Predicted output:\n",
            " i've many friends around the earthly concern eeee\n",
            "\n",
            "True output text:\n",
            "yes\n",
            "\n"
          ],
          "name": "stdout"
        }
      ]
    },
    {
      "cell_type": "code",
      "metadata": {
        "colab_type": "code",
        "id": "c5lP5YQJ_fiM",
        "outputId": "89baae94-319f-44db-e9c1-62d2a778c57a",
        "colab": {
          "base_uri": "https://localhost:8080/",
          "height": 225
        }
      },
      "source": [
        "response(input_text=\"Whats your plan for weekend?\",\n",
        "          true_output_text='i dont know')"
      ],
      "execution_count": 111,
      "outputs": [
        {
          "output_type": "stream",
          "text": [
            "Output Tokens: [  1   6  68 571  64 211   4 542   6   3 903 613   0   0   0   0   0   0\n",
            "   0   0   0   0   0   0   0   0   0   0   0   0   0   0   0   0   0   0\n",
            "   0   0   0   0   0   0   0   0   0   0   0   0   0   0   0   0]\n",
            "Input text:\n",
            "Whats your plan for weekend?\n",
            "\n",
            "Predicted output:\n",
            " is working faster yes also the code is a spot simpler eeee\n",
            "\n",
            "True output text:\n",
            "i dont know\n",
            "\n"
          ],
          "name": "stdout"
        }
      ]
    },
    {
      "cell_type": "code",
      "metadata": {
        "colab_type": "code",
        "id": "_e2LMY6S_fiQ",
        "outputId": "fc3c224d-62dc-4e91-fca5-37d2bed23741",
        "colab": {
          "base_uri": "https://localhost:8080/",
          "height": 243
        }
      },
      "source": [
        "response(input_text=\"what do you do?\",\n",
        "          true_output_text='doctor')"
      ],
      "execution_count": 112,
      "outputs": [
        {
          "output_type": "stream",
          "text": [
            "Output Tokens: [   1    7   55 1771    6    3  608  224  538    7   21  568  104    4\n",
            "    8   10    0    0    0    0    0    0    0    0    0    0    0    0\n",
            "    0    0    0    0    0    0    0    0    0    0    0    0    0    0\n",
            "    0    0    0    0    0    0    0    0    0    0]\n",
            "Input text:\n",
            "what do you do?\n",
            "\n",
            "Predicted output:\n",
            " i think religion is a very human thing i don't quite see the to that eeee\n",
            "\n",
            "True output text:\n",
            "doctor\n",
            "\n"
          ],
          "name": "stdout"
        }
      ]
    },
    {
      "cell_type": "code",
      "metadata": {
        "colab_type": "code",
        "id": "3pI7IW3N2NqU",
        "outputId": "0640ea1f-3f7b-4bf5-d3ad-b5ac3f52bc3b",
        "colab": {
          "base_uri": "https://localhost:8080/",
          "height": 243
        }
      },
      "source": [
        "response(input_text=\"what is your job?\",\n",
        "          true_output_text='doctor')"
      ],
      "execution_count": 113,
      "outputs": [
        {
          "output_type": "stream",
          "text": [
            "Output Tokens: [   1   72   48  436    9    4  283 1120    0    0    0    0    0    0\n",
            "    0    0    0    0    0    0    0    0    0    0    0    0    0    0\n",
            "    0    0    0    0    0    0    0    0    0    0    0    0    0    0\n",
            "    0    0    0    0    0    0    0    0    0    0]\n",
            "Input text:\n",
            "what is your job?\n",
            "\n",
            "Predicted output:\n",
            " just from argentina of the world xd eeee\n",
            "\n",
            "True output text:\n",
            "doctor\n",
            "\n"
          ],
          "name": "stdout"
        }
      ]
    },
    {
      "cell_type": "code",
      "metadata": {
        "colab_type": "code",
        "id": "IbF2vClx_fiS",
        "outputId": "aadd75c3-d1bc-4020-f5c3-0845d0222fcb",
        "colab": {
          "base_uri": "https://localhost:8080/",
          "height": 225
        }
      },
      "source": [
        "response(input_text=\"how old are you?\",\n",
        "          true_output_text='18')"
      ],
      "execution_count": 114,
      "outputs": [
        {
          "output_type": "stream",
          "text": [
            "Output Tokens: [  1   7  39 635 635   3 119   0   0   0   0   0   0   0   0   0   0   0\n",
            "   0   0   0   0   0   0   0   0   0   0   0   0   0   0   0   0   0   0\n",
            "   0   0   0   0   0   0   0   0   0   0   0   0   0   0   0   0]\n",
            "Input text:\n",
            "how old are you?\n",
            "\n",
            "Predicted output:\n",
            " i can't leave leave a room eeee\n",
            "\n",
            "True output text:\n",
            "18\n",
            "\n"
          ],
          "name": "stdout"
        }
      ]
    },
    {
      "cell_type": "code",
      "metadata": {
        "colab_type": "code",
        "id": "QGG7gwea1Wal",
        "outputId": "eabc0ee8-135e-4c34-d1d6-c775fb25c3dc",
        "colab": {
          "base_uri": "https://localhost:8080/",
          "height": 225
        }
      },
      "source": [
        "response(input_text=\"Is battery important to you?\",\n",
        "          true_output_text='yes')"
      ],
      "execution_count": 115,
      "outputs": [
        {
          "output_type": "stream",
          "text": [
            "Output Tokens: [  1 233 164 258   0   0   0   0   0   0   0   0   0   0   0   0   0   0\n",
            "   0   0   0   0   0   0   0   0   0   0   0   0   0   0   0   0   0   0\n",
            "   0   0   0   0   0   0   0   0   0   0   0   0   0   0   0   0]\n",
            "Input text:\n",
            "Is battery important to you?\n",
            "\n",
            "Predicted output:\n",
            " interesting i'll 🙂 eeee\n",
            "\n",
            "True output text:\n",
            "yes\n",
            "\n"
          ],
          "name": "stdout"
        }
      ]
    },
    {
      "cell_type": "code",
      "metadata": {
        "colab_type": "code",
        "id": "nVAx7oYA8qP6",
        "outputId": "17e4df35-1d40-49b5-a2b6-1e46e5d314d9",
        "colab": {
          "base_uri": "https://localhost:8080/",
          "height": 263
        }
      },
      "source": [
        "response(input_text=\"Do you use any programming language?\",\n",
        "          true_output_text='yes')"
      ],
      "execution_count": 116,
      "outputs": [
        {
          "output_type": "stream",
          "text": [
            "Output Tokens: [   1 1385   19   12  334    8   93  627  660    5   19  248    4  403\n",
            "    8  136 1343   11    4  805   28 1381    4  143 1522   15    3 1192\n",
            " 1386 1520    0    0    0    0    0    0    0    0    0    0    0    0\n",
            "    0    0    0    0    0    0    0    0    0    0]\n",
            "Input text:\n",
            "Do you use any programming language?\n",
            "\n",
            "Predicted output:\n",
            " both can be used to make custom bots you can send the messages to their apis and the services will return the user intent in a machine readable format eeee\n",
            "\n",
            "True output text:\n",
            "yes\n",
            "\n"
          ],
          "name": "stdout"
        }
      ]
    },
    {
      "cell_type": "code",
      "metadata": {
        "colab_type": "code",
        "id": "WIOSoxWn9JO6",
        "outputId": "075d351a-2819-4f82-bb5b-48999435ce31",
        "colab": {
          "base_uri": "https://localhost:8080/",
          "height": 243
        }
      },
      "source": [
        "response(input_text=\"do you have yourid?\",\n",
        "          true_output_text='yes')"
      ],
      "execution_count": 117,
      "outputs": [
        {
          "output_type": "stream",
          "text": [
            "Output Tokens: [   1  142  261  748  330    4 1461  706    0    0    0    0    0    0\n",
            "    0    0    0    0    0    0    0    0    0    0    0    0    0    0\n",
            "    0    0    0    0    0    0    0    0    0    0    0    0    0    0\n",
            "    0    0    0    0    0    0    0    0    0    0]\n",
            "Input text:\n",
            "do you have yourid?\n",
            "\n",
            "Predicted output:\n",
            " i've many friends around the earthly concern eeee\n",
            "\n",
            "True output text:\n",
            "yes\n",
            "\n"
          ],
          "name": "stdout"
        }
      ]
    },
    {
      "cell_type": "code",
      "metadata": {
        "colab_type": "code",
        "id": "uUVTZ_TD90xJ",
        "outputId": "39f163b0-6dcc-4926-a997-83f815aa8d1a",
        "colab": {
          "base_uri": "https://localhost:8080/",
          "height": 263
        }
      },
      "source": [
        "response(input_text=\"Do you know about battery?\",\n",
        "          true_output_text='yes')"
      ],
      "execution_count": 118,
      "outputs": [
        {
          "output_type": "stream",
          "text": [
            "Output Tokens: [   1 1385   19   12  334    8   93  627  660    5   19  248    4  403\n",
            "    8  136 1343   11    4  805   28 1381    4  143 1522   15    3 1192\n",
            " 1386 1520    0    0    0    0    0    0    0    0    0    0    0    0\n",
            "    0    0    0    0    0    0    0    0    0    0]\n",
            "Input text:\n",
            "Do you know about battery?\n",
            "\n",
            "Predicted output:\n",
            " both can be used to make custom bots you can send the messages to their apis and the services will return the user intent in a machine readable format eeee\n",
            "\n",
            "True output text:\n",
            "yes\n",
            "\n"
          ],
          "name": "stdout"
        }
      ]
    },
    {
      "cell_type": "code",
      "metadata": {
        "colab_type": "code",
        "id": "tctn5l6r_lxd",
        "outputId": "e670853a-ff99-43f9-9760-645b98098180",
        "colab": {
          "base_uri": "https://localhost:8080/",
          "height": 225
        }
      },
      "source": [
        "response(input_text=\"who is Robot?\",\n",
        "          true_output_text='yes')"
      ],
      "execution_count": 119,
      "outputs": [
        {
          "output_type": "stream",
          "text": [
            "Output Tokens: [  1   7  21  38  27   3 100 754  77 377   0   0   0   0   0   0   0   0\n",
            "   0   0   0   0   0   0   0   0   0   0   0   0   0   0   0   0   0   0\n",
            "   0   0   0   0   0   0   0   0   0   0   0   0   0   0   0   0]\n",
            "Input text:\n",
            "who is Robot?\n",
            "\n",
            "Predicted output:\n",
            " i don't know i'm a moment confused too haha eeee\n",
            "\n",
            "True output text:\n",
            "yes\n",
            "\n"
          ],
          "name": "stdout"
        }
      ]
    },
    {
      "cell_type": "code",
      "metadata": {
        "colab_type": "code",
        "id": "QXifg6omAFfh",
        "outputId": "4f684e47-7909-4a78-b986-d4bfd3bd5557",
        "colab": {
          "base_uri": "https://localhost:8080/",
          "height": 225
        }
      },
      "source": [
        "response(input_text=\"how many legs does a dog have ?\",\n",
        "          true_output_text='four')"
      ],
      "execution_count": 120,
      "outputs": [
        {
          "output_type": "stream",
          "text": [
            "Output Tokens: [  1  47  12 976  40 141  27  85 289   9 277 242   0   0   0   0   0   0\n",
            "   0   0   0   0   0   0   0   0   0   0   0   0   0   0   0   0   0   0\n",
            "   0   0   0   0   0   0   0   0   0   0   0   0   0   0   0   0]\n",
            "Input text:\n",
            "how many legs does a dog have ?\n",
            "\n",
            "Predicted output:\n",
            " not be having some people i'm by bit of sure hahaha eeee\n",
            "\n",
            "True output text:\n",
            "four\n",
            "\n"
          ],
          "name": "stdout"
        }
      ]
    },
    {
      "cell_type": "code",
      "metadata": {
        "colab_type": "code",
        "id": "dwQZP2uIBun0",
        "outputId": "018e9365-e516-403b-9359-a8cc1044a7d2",
        "colab": {
          "base_uri": "https://localhost:8080/",
          "height": 243
        }
      },
      "source": [
        "response(input_text=\"r menas robot?\",\n",
        "          true_output_text='yes')"
      ],
      "execution_count": 121,
      "outputs": [
        {
          "output_type": "stream",
          "text": [
            "Output Tokens: [   1   67    6 1114    5  226   18 1235   10    6  304    0    0    0\n",
            "    0    0    0    0    0    0    0    0    0    0    0    0    0    0\n",
            "    0    0    0    0    0    0    0    0    0    0    0    0    0    0\n",
            "    0    0    0    0    0    0    0    0    0    0]\n",
            "Input text:\n",
            "r menas robot?\n",
            "\n",
            "Predicted output:\n",
            " he is powerful you really like trick that is cool eeee\n",
            "\n",
            "True output text:\n",
            "yes\n",
            "\n"
          ],
          "name": "stdout"
        }
      ]
    },
    {
      "cell_type": "code",
      "metadata": {
        "colab_type": "code",
        "id": "sZiTeOGaA6tK",
        "outputId": "54d772ae-39cd-4a35-fdd9-e673bdaf06ec",
        "colab": {
          "base_uri": "https://localhost:8080/",
          "height": 243
        }
      },
      "source": [
        "response(input_text=\"Who loves dog?\",\n",
        "          true_output_text='cat')"
      ],
      "execution_count": 122,
      "outputs": [
        {
          "output_type": "stream",
          "text": [
            "Output Tokens: [   1    7   39  635   24  119   65    6  924  139    9 1193   44    0\n",
            "    0    0    0    0    0    0    0    0    0    0    0    0    0    0\n",
            "    0    0    0    0    0    0    0    0    0    0    0    0    0    0\n",
            "    0    0    0    0    0    0    0    0    0    0]\n",
            "Input text:\n",
            "Who loves dog?\n",
            "\n",
            "Predicted output:\n",
            " i can't leave my room this is may way of entertainment 😁 eeee\n",
            "\n",
            "True output text:\n",
            "cat\n",
            "\n"
          ],
          "name": "stdout"
        }
      ]
    },
    {
      "cell_type": "code",
      "metadata": {
        "colab_type": "code",
        "id": "h-Ah-ezFCLzs",
        "outputId": "82320548-f180-464e-b1ba-422e74c69107",
        "colab": {
          "base_uri": "https://localhost:8080/",
          "height": 243
        }
      },
      "source": [
        "response(input_text=\"what is earth?\",\n",
        "          true_output_text='blue')"
      ],
      "execution_count": 123,
      "outputs": [
        {
          "output_type": "stream",
          "text": [
            "Output Tokens: [   1  142  314   13    6 1269    0    0    0    0    0    0    0    0\n",
            "    0    0    0    0    0    0    0    0    0    0    0    0    0    0\n",
            "    0    0    0    0    0    0    0    0    0    0    0    0    0    0\n",
            "    0    0    0    0    0    0    0    0    0    0]\n",
            "Input text:\n",
            "what is earth?\n",
            "\n",
            "Predicted output:\n",
            " i've hear it is 42 eeee\n",
            "\n",
            "True output text:\n",
            "blue\n",
            "\n"
          ],
          "name": "stdout"
        }
      ]
    },
    {
      "cell_type": "code",
      "metadata": {
        "colab_type": "code",
        "id": "7ZG8vDgPCrMO",
        "outputId": "8578cd34-7f6c-4da0-c531-49b8bd044f0e",
        "colab": {
          "base_uri": "https://localhost:8080/",
          "height": 243
        }
      },
      "source": [
        "response(input_text=\"my name is urali . what is my name ?\",\n",
        "          true_output_text='urali')"
      ],
      "execution_count": 124,
      "outputs": [
        {
          "output_type": "stream",
          "text": [
            "Output Tokens: [   1    7   39  440  241    8  621  303   39 1153  356  108  106   55\n",
            "    0    0    0    0    0    0    0    0    0    0    0    0    0    0\n",
            "    0    0    0    0    0    0    0    0    0    0    0    0    0    0\n",
            "    0    0    0    0    0    0    0    0    0    0]\n",
            "Input text:\n",
            "my name is urali . what is my name ?\n",
            "\n",
            "Predicted output:\n",
            " i can't find any to money why can't everyone get need they think eeee\n",
            "\n",
            "True output text:\n",
            "urali\n",
            "\n"
          ],
          "name": "stdout"
        }
      ]
    },
    {
      "cell_type": "code",
      "metadata": {
        "colab_type": "code",
        "id": "Dc0H-aQexrBH",
        "outputId": "668c26fa-9843-4f68-b0f5-bd439c09a7f9",
        "colab": {
          "base_uri": "https://localhost:8080/",
          "height": 243
        }
      },
      "source": [
        "response(input_text=\"are you a robot or a human ?\",\n",
        "          true_output_text='robot')"
      ],
      "execution_count": 125,
      "outputs": [
        {
          "output_type": "stream",
          "text": [
            "Output Tokens: [   1   94   29    7  921  327    5  517    8  440   24  240 1837    0\n",
            "    0    0    0    0    0    0    0    0    0    0    0    0    0    0\n",
            "    0    0    0    0    0    0    0    0    0    0    0    0    0    0\n",
            "    0    0    0    0    0    0    0    0    0    0]\n",
            "Input text:\n",
            "are you a robot or a human ?\n",
            "\n",
            "Predicted output:\n",
            " maybe but i couldn't tell you where to find my source cypher eeee\n",
            "\n",
            "True output text:\n",
            "robot\n",
            "\n"
          ],
          "name": "stdout"
        }
      ]
    },
    {
      "cell_type": "code",
      "metadata": {
        "colab_type": "code",
        "id": "PpcTnn8QGWAP",
        "outputId": "3ad82fe1-47b1-4eea-db2e-bb4d41eaa414",
        "colab": {
          "base_uri": "https://localhost:8080/",
          "height": 243
        }
      },
      "source": [
        "response(input_text=\"are you a leader or a follower ?\",\n",
        "          true_output_text='follower')"
      ],
      "execution_count": 126,
      "outputs": [
        {
          "output_type": "stream",
          "text": [
            "Output Tokens: [   1   94   29    7  921  327    5  517    8  440   24  240 1885    0\n",
            "    0    0    0    0    0    0    0    0    0    0    0    0    0    0\n",
            "    0    0    0    0    0    0    0    0    0    0    0    0    0    0\n",
            "    0    0    0    0    0    0    0    0    0    0]\n",
            "Input text:\n",
            "are you a leader or a follower ?\n",
            "\n",
            "Predicted output:\n",
            " maybe but i couldn't tell you where to find my source encrypt eeee\n",
            "\n",
            "True output text:\n",
            "follower\n",
            "\n"
          ],
          "name": "stdout"
        }
      ]
    },
    {
      "cell_type": "code",
      "metadata": {
        "colab_type": "code",
        "id": "zSF0iNsQGkUD",
        "outputId": "5175bce4-9e55-4bbc-c4ad-35cd2c96b5ac",
        "colab": {
          "base_uri": "https://localhost:8080/",
          "height": 243
        }
      },
      "source": [
        "response(input_text=\"are you a follower or a leader?\",\n",
        "          true_output_text='follower')"
      ],
      "execution_count": 127,
      "outputs": [
        {
          "output_type": "stream",
          "text": [
            "Output Tokens: [   1   94   29    7  921  327    5  517    8  440   24  240 1885    0\n",
            "    0    0    0    0    0    0    0    0    0    0    0    0    0    0\n",
            "    0    0    0    0    0    0    0    0    0    0    0    0    0    0\n",
            "    0    0    0    0    0    0    0    0    0    0]\n",
            "Input text:\n",
            "are you a follower or a leader?\n",
            "\n",
            "Predicted output:\n",
            " maybe but i couldn't tell you where to find my source encrypt eeee\n",
            "\n",
            "True output text:\n",
            "follower\n",
            "\n"
          ],
          "name": "stdout"
        }
      ]
    },
    {
      "cell_type": "code",
      "metadata": {
        "colab_type": "code",
        "id": "aulu_U-jHmJp",
        "outputId": "c725e9d9-281a-49d1-8d40-ca2b6e096c76",
        "colab": {
          "base_uri": "https://localhost:8080/",
          "height": 243
        }
      },
      "source": [
        "response(input_text=\"are you have ai?\",\n",
        "          true_output_text='yes')"
      ],
      "execution_count": 128,
      "outputs": [
        {
          "output_type": "stream",
          "text": [
            "Output Tokens: [   1   27  754    7  246 1019   10    0    0    0    0    0    0    0\n",
            "    0    0    0    0    0    0    0    0    0    0    0    0    0    0\n",
            "    0    0    0    0    0    0    0    0    0    0    0    0    0    0\n",
            "    0    0    0    0    0    0    0    0    0    0]\n",
            "Input text:\n",
            "are you have ai?\n",
            "\n",
            "Predicted output:\n",
            " i'm confused i didn't expect that eeee\n",
            "\n",
            "True output text:\n",
            "yes\n",
            "\n"
          ],
          "name": "stdout"
        }
      ]
    },
    {
      "cell_type": "code",
      "metadata": {
        "colab_type": "code",
        "id": "YJ1dSbOsJtqQ",
        "outputId": "7ab57f0d-2849-43dc-ec2e-70952853a72c",
        "colab": {
          "base_uri": "https://localhost:8080/",
          "height": 208
        }
      },
      "source": [
        "response(input_text=\"what is the symbol for power in math?\",\n",
        "          true_output_text='^')"
      ],
      "execution_count": 129,
      "outputs": [
        {
          "output_type": "stream",
          "text": [
            "Output Tokens: [1 6 0 0 0 0 0 0 0 0 0 0 0 0 0 0 0 0 0 0 0 0 0 0 0 0 0 0 0 0 0 0 0 0 0 0 0\n",
            " 0 0 0 0 0 0 0 0 0 0 0 0 0 0 0]\n",
            "Input text:\n",
            "what is the symbol for power in math?\n",
            "\n",
            "Predicted output:\n",
            " is eeee\n",
            "\n",
            "True output text:\n",
            "^\n",
            "\n"
          ],
          "name": "stdout"
        }
      ]
    },
    {
      "cell_type": "code",
      "metadata": {
        "colab_type": "code",
        "id": "guB-C8pePtL_",
        "outputId": "2cba7534-d095-47aa-c79d-b2b9642910e0",
        "colab": {
          "base_uri": "https://localhost:8080/",
          "height": 225
        }
      },
      "source": [
        "response(input_text=\"2+2?\",\n",
        "          true_output_text='4')"
      ],
      "execution_count": 130,
      "outputs": [
        {
          "output_type": "stream",
          "text": [
            "Output Tokens: [  1  52 123   0   0   0   0   0   0   0   0   0   0   0   0   0   0   0\n",
            "   0   0   0   0   0   0   0   0   0   0   0   0   0   0   0   0   0   0\n",
            "   0   0   0   0   0   0   0   0   0   0   0   0   0   0   0   0]\n",
            "Input text:\n",
            "2+2?\n",
            "\n",
            "Predicted output:\n",
            " thanks there eeee\n",
            "\n",
            "True output text:\n",
            "4\n",
            "\n"
          ],
          "name": "stdout"
        }
      ]
    },
    {
      "cell_type": "code",
      "metadata": {
        "colab_type": "code",
        "id": "I4iX_XGaUUH2",
        "outputId": "fbf17eb1-0716-4286-e7fd-6aff4c2aa9fe",
        "colab": {
          "base_uri": "https://localhost:8080/",
          "height": 243
        }
      },
      "source": [
        "response(input_text=\"Who is prime minister of india?\",\n",
        "          true_output_text='naredra modi')"
      ],
      "execution_count": 131,
      "outputs": [
        {
          "output_type": "stream",
          "text": [
            "Output Tokens: [   1  142  356 1206   13    6 1269    0    0    0    0    0    0    0\n",
            "    0    0    0    0    0    0    0    0    0    0    0    0    0    0\n",
            "    0    0    0    0    0    0    0    0    0    0    0    0    0    0\n",
            "    0    0    0    0    0    0    0    0    0    0]\n",
            "Input text:\n",
            "Who is prime minister of india?\n",
            "\n",
            "Predicted output:\n",
            " i've get word it is 42 eeee\n",
            "\n",
            "True output text:\n",
            "naredra modi\n",
            "\n"
          ],
          "name": "stdout"
        }
      ]
    },
    {
      "cell_type": "code",
      "metadata": {
        "colab_type": "code",
        "id": "q02Qa_qY1se-",
        "outputId": "68d80bd7-b9cc-432a-aef6-cd6e7d10cd38",
        "colab": {
          "base_uri": "https://localhost:8080/",
          "height": 225
        }
      },
      "source": [
        "response(input_text=\"What is computer science?\",\n",
        "          true_output_text='4')"
      ],
      "execution_count": 132,
      "outputs": [
        {
          "output_type": "stream",
          "text": [
            "Output Tokens: [  1 152   7 921 327   5 517   8 440  24 240   0   0   0   0   0   0   0\n",
            "   0   0   0   0   0   0   0   0   0   0   0   0   0   0   0   0   0   0\n",
            "   0   0   0   0   0   0   0   0   0   0   0   0   0   0   0   0]\n",
            "Input text:\n",
            "What is computer science?\n",
            "\n",
            "Predicted output:\n",
            " sorry i couldn't tell you where to find my source eeee\n",
            "\n",
            "True output text:\n",
            "4\n",
            "\n"
          ],
          "name": "stdout"
        }
      ]
    },
    {
      "cell_type": "code",
      "metadata": {
        "colab_type": "code",
        "id": "U79flzE3V_FA",
        "outputId": "67baca84-9d4f-47b7-e380-c2c110997edc",
        "colab": {
          "base_uri": "https://localhost:8080/",
          "height": 243
        }
      },
      "source": [
        "response(input_text=\"Where are you now?\",\n",
        "          true_output_text='4')"
      ],
      "execution_count": 133,
      "outputs": [
        {
          "output_type": "stream",
          "text": [
            "Output Tokens: [   1   27   48  436  312    9    4 1461  706 1120    0    0    0    0\n",
            "    0    0    0    0    0    0    0    0    0    0    0    0    0    0\n",
            "    0    0    0    0    0    0    0    0    0    0    0    0    0    0\n",
            "    0    0    0    0    0    0    0    0    0    0]\n",
            "Input text:\n",
            "Where are you now?\n",
            "\n",
            "Predicted output:\n",
            " i'm from argentina south of the earthly concern xd eeee\n",
            "\n",
            "True output text:\n",
            "4\n",
            "\n"
          ],
          "name": "stdout"
        }
      ]
    },
    {
      "cell_type": "markdown",
      "metadata": {
        "colab_type": "text",
        "id": "cbND6Uh9_fiV"
      },
      "source": [
        "In this implementation remaining the validation and testing part.\n",
        "about early stopping,callbacks and checkpoints."
      ]
    },
    {
      "cell_type": "markdown",
      "metadata": {
        "colab_type": "text",
        "id": "3J8wRVEs_fiW"
      },
      "source": [
        "In seq2seq model decoder using a greedy decoding.\n",
        "\n",
        "We saw how to generate (or “decode”) the response sentence by\n",
        "taking argmax on each step of the decoder.\n",
        "\n",
        "This is greedy decoding (take most probable word on each step)\n",
        "\n",
        "Problems with this method?\n",
        "\n",
        "Greedy decoding has no way to undo decisions!\n",
        "• Input: how are you?\n",
        "(i am fine thanks for asking me)\n",
        "•  i  ____\n",
        "• i am ____\n",
        "• i am thanks ____\n",
        "(no going back now...)\n",
        "\n",
        "This problem solve using two solution\n",
        "\n",
        "1)Exhaustive search decoding\n",
        "2)Beam search decoding\n",
        "\n",
        "Sequence-to-sequence: the bottleneck problem\n",
        "\n",
        "Encoding of the input sentence this needs to capture all information about the input sentence.\n",
        "Information bottleneck!\n",
        "\n",
        "Attention\n",
        "\n",
        "Attention provides a solution to the bottleneck problem.\n",
        "Core idea: on each step of the decoder, use direct connection to the encoder to focus on a particular part of the source sequence.\n",
        "\n",
        "Attention equation:-\n",
        "\n"
      ]
    },
    {
      "cell_type": "code",
      "metadata": {
        "colab_type": "code",
        "id": "kGuQ22Bf_fiX",
        "colab": {}
      },
      "source": [
        "layer_embedding = model_train.get_layer('encoder_embedding')"
      ],
      "execution_count": 0,
      "outputs": []
    },
    {
      "cell_type": "code",
      "metadata": {
        "colab_type": "code",
        "id": "y8ZbMREc_fia",
        "colab": {}
      },
      "source": [
        "weights_embedding = layer_embedding.get_weights()[0]"
      ],
      "execution_count": 0,
      "outputs": []
    },
    {
      "cell_type": "code",
      "metadata": {
        "colab_type": "code",
        "id": "ZH39amGY_fid",
        "outputId": "3066cebe-d527-4a94-b0e9-2b68b7fe21c7",
        "colab": {
          "base_uri": "https://localhost:8080/",
          "height": 34
        }
      },
      "source": [
        "weights_embedding.shape"
      ],
      "execution_count": 136,
      "outputs": [
        {
          "output_type": "execute_result",
          "data": {
            "text/plain": [
              "(2000, 150)"
            ]
          },
          "metadata": {
            "tags": []
          },
          "execution_count": 136
        }
      ]
    },
    {
      "cell_type": "code",
      "metadata": {
        "colab_type": "code",
        "id": "-qWm-m9t_fif",
        "outputId": "2b63273e-20a3-4536-d069-c806e02c5061",
        "colab": {
          "base_uri": "https://localhost:8080/",
          "height": 34
        }
      },
      "source": [
        "token_good = tokenizer_src.word_index['good']\n",
        "token_good"
      ],
      "execution_count": 137,
      "outputs": [
        {
          "output_type": "execute_result",
          "data": {
            "text/plain": [
              "112"
            ]
          },
          "metadata": {
            "tags": []
          },
          "execution_count": 137
        }
      ]
    },
    {
      "cell_type": "code",
      "metadata": {
        "colab_type": "code",
        "id": "W3phTM4f_fii",
        "outputId": "227b1196-405d-439c-ffd2-6ec5ce45244d",
        "colab": {
          "base_uri": "https://localhost:8080/",
          "height": 34
        }
      },
      "source": [
        "token_great = tokenizer_src.word_index['great']\n",
        "token_great"
      ],
      "execution_count": 138,
      "outputs": [
        {
          "output_type": "execute_result",
          "data": {
            "text/plain": [
              "687"
            ]
          },
          "metadata": {
            "tags": []
          },
          "execution_count": 138
        }
      ]
    },
    {
      "cell_type": "code",
      "metadata": {
        "colab_type": "code",
        "id": "kvf3SJZE_fil",
        "outputId": "2e1d8b6b-1eaa-4c06-9ebe-211038c632dc",
        "colab": {
          "base_uri": "https://localhost:8080/",
          "height": 555
        }
      },
      "source": [
        "weights_embedding[token_good]"
      ],
      "execution_count": 139,
      "outputs": [
        {
          "output_type": "execute_result",
          "data": {
            "text/plain": [
              "array([ 0.0070659 ,  0.05230964, -0.3100708 ,  0.13511702, -0.09819642,\n",
              "        0.17003554, -0.14420691,  0.11708651, -0.04840002, -0.2461583 ,\n",
              "       -0.16298883, -0.16704014, -0.12072554, -0.12811334,  0.17328252,\n",
              "        0.07136839,  0.19583988, -0.08062684,  0.06388234,  0.16132809,\n",
              "       -0.08130382,  0.25943378,  0.09929149, -0.20576155,  0.03006111,\n",
              "        0.13508686, -0.03556183,  0.16433631, -0.24065344,  0.0068169 ,\n",
              "       -0.1065525 ,  0.09925341, -0.02616981, -0.1291675 , -0.0895573 ,\n",
              "        0.09062327, -0.06708575, -0.2164322 , -0.1289749 , -0.05339035,\n",
              "       -0.22081359,  0.08626807, -0.02451054,  0.10732554,  0.06521874,\n",
              "        0.07141232, -0.0255368 ,  0.00668726,  0.05172862, -0.08853987,\n",
              "       -0.15509316,  0.09095441, -0.01393187,  0.07339393, -0.03985351,\n",
              "        0.14367749, -0.03438552,  0.05808057, -0.16540684,  0.25689298,\n",
              "        0.126263  , -0.1254848 ,  0.05290565,  0.03030885,  0.07757959,\n",
              "       -0.03133855, -0.09106202, -0.0065374 , -0.06579991,  0.04830699,\n",
              "       -0.1178114 ,  0.10339621, -0.0497759 , -0.11463916, -0.03099797,\n",
              "        0.11716201,  0.06223889, -0.20865224,  0.0574439 , -0.10225508,\n",
              "       -0.03093941, -0.02469084, -0.01998458,  0.11799637,  0.04747921,\n",
              "        0.2710298 , -0.07002724, -0.06919655,  0.04876852,  0.18184766,\n",
              "       -0.09777729, -0.10816797,  0.02601054, -0.16276516, -0.00970122,\n",
              "       -0.13515134, -0.07856065, -0.01971303, -0.01365324, -0.2637974 ,\n",
              "       -0.10313591, -0.00939362,  0.03919261, -0.14711225, -0.13823791,\n",
              "        0.06065923,  0.06221475,  0.0901793 , -0.06655221,  0.30552137,\n",
              "       -0.22597958, -0.17691042,  0.01547869,  0.08814354, -0.07988874,\n",
              "        0.08359808, -0.07821738, -0.01068666, -0.01615189, -0.15899067,\n",
              "        0.19494213,  0.19654727, -0.07613416, -0.075976  , -0.1311898 ,\n",
              "       -0.00806401, -0.07907511, -0.20601246,  0.11844336, -0.09588972,\n",
              "        0.03643742,  0.01227972, -0.04515602,  0.16749176, -0.42378873,\n",
              "        0.33100837, -0.12522371, -0.05182118,  0.17880635, -0.01378946,\n",
              "       -0.13903299, -0.31265894,  0.04366542, -0.0413307 , -0.07220289,\n",
              "       -0.04356601, -0.0103487 , -0.08854827,  0.17466083, -0.1496126 ],\n",
              "      dtype=float32)"
            ]
          },
          "metadata": {
            "tags": []
          },
          "execution_count": 139
        }
      ]
    },
    {
      "cell_type": "code",
      "metadata": {
        "colab_type": "code",
        "id": "2hD5uEG4_fio",
        "outputId": "e8e54138-bea3-4815-efed-104afc52897b",
        "colab": {
          "base_uri": "https://localhost:8080/",
          "height": 677
        }
      },
      "source": [
        "weights_embedding[token_great]"
      ],
      "execution_count": 140,
      "outputs": [
        {
          "output_type": "execute_result",
          "data": {
            "text/plain": [
              "array([ 7.91614503e-02,  1.91736815e-03, -3.32149714e-01,  1.36042416e-01,\n",
              "       -2.36036122e-01,  1.63483977e-01,  1.63025726e-02,  9.57325250e-02,\n",
              "        6.54877201e-02,  9.32340473e-02, -6.71927556e-02,  5.25432564e-02,\n",
              "       -1.05673745e-01,  4.63935360e-02, -5.33125736e-02,  4.25572060e-02,\n",
              "        1.58265546e-01, -5.07929269e-03, -2.29541063e-01, -1.84279203e-01,\n",
              "        6.07802682e-02, -9.52485725e-02,  1.59305539e-02, -1.73754975e-01,\n",
              "        9.41769257e-02, -1.09603398e-01,  1.71813462e-02,  9.50038619e-03,\n",
              "        7.14155138e-02,  1.25481356e-02, -8.96751732e-02,  6.47119880e-02,\n",
              "        1.88576430e-01, -3.77871618e-02,  1.59558684e-01, -9.22416002e-02,\n",
              "       -2.26821285e-02, -1.65094808e-01,  2.73238383e-02,  2.27552056e-02,\n",
              "       -6.67092949e-02, -1.46562174e-01, -8.23395550e-02,  1.02036364e-01,\n",
              "        1.60118088e-01, -1.82074532e-01, -3.10911804e-01, -3.63618210e-02,\n",
              "        3.80236581e-02, -4.36172150e-02, -3.40873073e-03, -1.25497594e-01,\n",
              "       -3.79806347e-02, -1.41885653e-01,  8.44271109e-02, -2.47554109e-02,\n",
              "       -3.97436991e-02, -6.90126196e-02, -6.23805374e-02, -1.11394405e-01,\n",
              "       -2.53367156e-01, -4.52337563e-02, -1.01303168e-01,  1.71357810e-01,\n",
              "        9.49696079e-02,  2.68508375e-01, -6.91594481e-02, -4.83782403e-02,\n",
              "        5.01192696e-02,  1.86173737e-01,  7.86565244e-02,  2.62626391e-02,\n",
              "        1.43144429e-01, -3.67229246e-02, -7.35828653e-02,  2.36561835e-01,\n",
              "        2.37975791e-01,  6.51738867e-02, -1.23211667e-01,  4.01616916e-02,\n",
              "        1.33593287e-02,  1.59673795e-01, -9.31257010e-02, -2.48461232e-01,\n",
              "       -1.72262825e-02,  4.01128009e-02, -4.64749150e-02, -3.71366926e-02,\n",
              "        8.24717209e-02, -9.15288851e-02, -3.24629694e-01,  1.47550236e-04,\n",
              "        1.48979470e-01, -1.51124433e-01,  3.96142714e-02, -1.65125623e-01,\n",
              "        1.06674880e-01, -1.73852950e-01, -1.98617011e-01, -1.26201853e-01,\n",
              "       -9.39875618e-02,  9.49293301e-02, -1.59120306e-01, -1.82032704e-01,\n",
              "        7.76404561e-03,  4.08402346e-02, -2.78595369e-02,  7.35368878e-02,\n",
              "        1.58589538e-02, -5.38941473e-03, -7.54857287e-02, -2.66873986e-01,\n",
              "       -3.22152793e-01,  5.14317304e-02, -1.34017610e-03,  1.83308631e-01,\n",
              "       -4.05974388e-01,  1.35135859e-01, -2.67318964e-01,  1.84314512e-02,\n",
              "        6.42435849e-01,  1.17765367e-02, -1.02237053e-01,  3.60060632e-02,\n",
              "        5.91534302e-02, -6.85847253e-02, -1.86511986e-02,  1.50817707e-01,\n",
              "       -3.04160025e-02, -4.53528352e-02,  5.84188811e-02, -1.47235736e-01,\n",
              "       -1.67339370e-01,  7.63654634e-02, -3.08347017e-01,  3.06446195e-01,\n",
              "       -1.79445911e-02,  6.58298880e-02, -7.93187842e-02,  4.60329130e-02,\n",
              "       -4.52582575e-02,  4.62738273e-04,  2.08979681e-01, -1.30971432e-01,\n",
              "       -2.02155232e-01, -1.46726027e-01,  6.32209983e-03,  6.98651224e-02,\n",
              "        3.14454943e-01,  7.79687241e-02], dtype=float32)"
            ]
          },
          "metadata": {
            "tags": []
          },
          "execution_count": 140
        }
      ]
    },
    {
      "cell_type": "code",
      "metadata": {
        "colab_type": "code",
        "id": "1m9KDIxr_fir",
        "colab": {}
      },
      "source": [
        "from scipy.spatial.distance import cdist\n",
        "def print_sorted_words(word, metric='cosine'):\n",
        "    \"\"\"\n",
        "    Print the words in the vocabulary sorted according to their\n",
        "    embedding-distance to the given word.\n",
        "    Different metrics can be used, e.g. 'cosine' or 'euclidean'.\n",
        "    \"\"\"\n",
        "\n",
        "    # Get the token (i.e. integer ID) for the given word.\n",
        "    token = tokenizer_src.word_index[word]\n",
        "\n",
        "    # Get the embedding for the given word. Note that the\n",
        "    # embedding-weight-matrix is indexed by the word-tokens\n",
        "    # which are integer IDs.\n",
        "    embedding = weights_embedding[token]\n",
        "\n",
        "    # Calculate the distance between the embeddings for\n",
        "    # this word and all other words in the vocabulary.\n",
        "    distances = cdist(weights_embedding, [embedding],metric=metric).T[0]\n",
        "    \n",
        "    # Get an index sorted according to the embedding-distances.\n",
        "    # These are the tokens (integer IDs) for words in the vocabulary.\n",
        "    sorted_index = np.argsort(distances)\n",
        "    \n",
        "    # Sort the embedding-distances.\n",
        "    sorted_distances = distances[sorted_index]\n",
        "    \n",
        "    # Sort all the words in the vocabulary according to their\n",
        "    # embedding-distance. This is a bit excessive because we\n",
        "    # will only print the top and bottom words.\n",
        "    sorted_words = [ tokenizer_src.index_to_word[token] for token in sorted_index\n",
        "                    if token != 0]\n",
        "\n",
        "    # Helper-function for printing words and embedding-distances.\n",
        "    def _print_words(words, distances):\n",
        "        for word, distance in zip(words, distances):\n",
        "            print(\"{0:.3f} - {1}\".format(distance, word))\n",
        "\n",
        "    # Number of words to print from the top and bottom of the list.\n",
        "    k = 10\n",
        "\n",
        "    print(\"Distance from '{0}':\".format(word))\n",
        "\n",
        "    # Print the words with smallest embedding-distance.\n",
        "    _print_words(sorted_words[0:k], sorted_distances[0:k])\n",
        "\n",
        "    print(\"...\")\n",
        "\n",
        "    # Print the words with highest embedding-distance.\n",
        "    _print_words(sorted_words[-k:], sorted_distances[-k:])"
      ],
      "execution_count": 0,
      "outputs": []
    },
    {
      "cell_type": "code",
      "metadata": {
        "colab_type": "code",
        "id": "89rBnwNe_fiu",
        "outputId": "d546412b-f3b6-4863-8494-603e110eb00b",
        "colab": {
          "base_uri": "https://localhost:8080/",
          "height": 399
        }
      },
      "source": [
        "print_sorted_words('great', metric='cosine')"
      ],
      "execution_count": 142,
      "outputs": [
        {
          "output_type": "stream",
          "text": [
            "Distance from 'great':\n",
            "0.000 - great\n",
            "0.225 - pizza\n",
            "0.261 - fact\n",
            "0.264 - message\n",
            "0.316 - eat\n",
            "0.322 - bang\n",
            "0.326 - can’t\n",
            "0.331 - 😃😃\n",
            "0.334 - making\n",
            "0.336 - yesso\n",
            "...\n",
            "1.592 - eldritch\n",
            "1.593 - teach\n",
            "1.594 - much\n",
            "1.595 - wechat\n",
            "1.603 - jehovah\n",
            "1.614 - divine\n",
            "1.625 - wyrd\n",
            "1.651 - hmmmmmi\n",
            "1.664 - houseworkwhat\n",
            "1.692 - uncanny\n"
          ],
          "name": "stdout"
        }
      ]
    },
    {
      "cell_type": "code",
      "metadata": {
        "colab_type": "code",
        "id": "f_JRRRDo_fiw",
        "colab": {}
      },
      "source": [
        ""
      ],
      "execution_count": 0,
      "outputs": []
    },
    {
      "cell_type": "code",
      "metadata": {
        "colab_type": "code",
        "id": "wjQ4t-xf_fiz",
        "colab": {}
      },
      "source": [
        ""
      ],
      "execution_count": 0,
      "outputs": []
    }
  ]
}